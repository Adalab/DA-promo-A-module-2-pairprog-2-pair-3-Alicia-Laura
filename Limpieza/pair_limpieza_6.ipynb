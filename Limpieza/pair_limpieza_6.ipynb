{
 "cells": [
  {
   "cell_type": "code",
   "execution_count": 2,
   "metadata": {},
   "outputs": [],
   "source": [
    "import pandas as pd\n",
    "from sklearn.preprocessing import LabelEncoder \n",
    "from sklearn.preprocessing import OneHotEncoder "
   ]
  },
  {
   "cell_type": "code",
   "execution_count": 2,
   "metadata": {},
   "outputs": [
    {
     "data": {
      "text/html": [
       "<div>\n",
       "<style scoped>\n",
       "    .dataframe tbody tr th:only-of-type {\n",
       "        vertical-align: middle;\n",
       "    }\n",
       "\n",
       "    .dataframe tbody tr th {\n",
       "        vertical-align: top;\n",
       "    }\n",
       "\n",
       "    .dataframe thead th {\n",
       "        text-align: right;\n",
       "    }\n",
       "</style>\n",
       "<table border=\"1\" class=\"dataframe\">\n",
       "  <thead>\n",
       "    <tr style=\"text-align: right;\">\n",
       "      <th></th>\n",
       "      <th>case_number</th>\n",
       "      <th>year</th>\n",
       "      <th>type</th>\n",
       "      <th>country</th>\n",
       "      <th>area</th>\n",
       "      <th>location</th>\n",
       "      <th>activity</th>\n",
       "      <th>name</th>\n",
       "      <th>age</th>\n",
       "      <th>species</th>\n",
       "      <th>injury</th>\n",
       "      <th>fecha_limpia</th>\n",
       "      <th>fatal_limpio</th>\n",
       "      <th>sexo</th>\n",
       "      <th>type_sin_nulos</th>\n",
       "    </tr>\n",
       "  </thead>\n",
       "  <tbody>\n",
       "    <tr>\n",
       "      <th>0</th>\n",
       "      <td>1800.00.00</td>\n",
       "      <td>1800</td>\n",
       "      <td>Unprovoked</td>\n",
       "      <td>seychelles</td>\n",
       "      <td>St. Anne</td>\n",
       "      <td>NaN</td>\n",
       "      <td>a corsair's boat was overturned</td>\n",
       "      <td>NaN</td>\n",
       "      <td>NaN</td>\n",
       "      <td>NaN</td>\n",
       "      <td>FATAL, all onboard were killed by sharks</td>\n",
       "      <td>unspecified</td>\n",
       "      <td>Y</td>\n",
       "      <td>F</td>\n",
       "      <td>Unprovoked</td>\n",
       "    </tr>\n",
       "    <tr>\n",
       "      <th>1</th>\n",
       "      <td>1797.05.28.R</td>\n",
       "      <td>1797</td>\n",
       "      <td>Unprovoked</td>\n",
       "      <td>unknown</td>\n",
       "      <td>NaN</td>\n",
       "      <td>NaN</td>\n",
       "      <td>Dropped overboard</td>\n",
       "      <td>child</td>\n",
       "      <td>NaN</td>\n",
       "      <td>NaN</td>\n",
       "      <td>FATAL</td>\n",
       "      <td>May</td>\n",
       "      <td>Y</td>\n",
       "      <td>M</td>\n",
       "      <td>Unprovoked</td>\n",
       "    </tr>\n",
       "  </tbody>\n",
       "</table>\n",
       "</div>"
      ],
      "text/plain": [
       "    case_number  year        type     country      area location  \\\n",
       "0    1800.00.00  1800  Unprovoked  seychelles  St. Anne      NaN   \n",
       "1  1797.05.28.R  1797  Unprovoked     unknown       NaN      NaN   \n",
       "\n",
       "                          activity   name  age species  \\\n",
       "0  a corsair's boat was overturned    NaN  NaN     NaN   \n",
       "1                Dropped overboard  child  NaN     NaN   \n",
       "\n",
       "                                     injury fecha_limpia fatal_limpio sexo  \\\n",
       "0  FATAL, all onboard were killed by sharks  unspecified            Y    F   \n",
       "1                                     FATAL          May            Y    M   \n",
       "\n",
       "  type_sin_nulos  \n",
       "0     Unprovoked  \n",
       "1     Unprovoked  "
      ]
     },
     "execution_count": 2,
     "metadata": {},
     "output_type": "execute_result"
    }
   ],
   "source": [
    "df_codi = pd.read_csv('pairs_limpieza.csv', index_col=0)\n",
    "df_codi.head(2)"
   ]
  },
  {
   "cell_type": "markdown",
   "metadata": {},
   "source": [
    "# Ejercicio 1\n",
    "Lo primero que debemos hacer es identificar cuáles de nuestras columnas es categóricas. Extraed el nombre de las columnas que contienen variables categóricas."
   ]
  },
  {
   "cell_type": "code",
   "execution_count": 3,
   "metadata": {},
   "outputs": [
    {
     "data": {
      "text/plain": [
       "case_number       object\n",
       "year               int64\n",
       "type              object\n",
       "country           object\n",
       "area              object\n",
       "location          object\n",
       "activity          object\n",
       "name              object\n",
       "age               object\n",
       "species           object\n",
       "injury            object\n",
       "fecha_limpia      object\n",
       "fatal_limpio      object\n",
       "sexo              object\n",
       "type_sin_nulos    object\n",
       "dtype: object"
      ]
     },
     "execution_count": 3,
     "metadata": {},
     "output_type": "execute_result"
    }
   ],
   "source": [
    "df_codi.dtypes"
   ]
  },
  {
   "cell_type": "code",
   "execution_count": 4,
   "metadata": {},
   "outputs": [],
   "source": [
    "col_categorica  = df_codi.select_dtypes(include = 'object')"
   ]
  },
  {
   "cell_type": "code",
   "execution_count": 5,
   "metadata": {},
   "outputs": [
    {
     "data": {
      "text/plain": [
       "Index(['case_number', 'type', 'country', 'area', 'location', 'activity',\n",
       "       'name', 'age', 'species', 'injury', 'fecha_limpia', 'fatal_limpio',\n",
       "       'sexo', 'type_sin_nulos'],\n",
       "      dtype='object')"
      ]
     },
     "execution_count": 5,
     "metadata": {},
     "output_type": "execute_result"
    }
   ],
   "source": [
    "col_categorica.columns"
   ]
  },
  {
   "cell_type": "markdown",
   "metadata": {},
   "source": [
    "# Ejercicio 2\n",
    "Si nos fijamos en la columna de country es muy complicado codificar esa columna ya que hay muchísimas categorías. Para ello, vamos a usar una librería que llamada geopy que nos devuelve las coordenadas de un pais, ciudad, pueblo. El objetivo de esto es poder clasificar nuestros paises en Hemisferio Norte y Sur para poder hacer una codificación más eficaz. Os dejamos por aquí la documentación de la librería para que veais como funciona y el código:"
   ]
  },
  {
   "cell_type": "code",
   "execution_count": 5,
   "metadata": {},
   "outputs": [],
   "source": [
    "def extraer_coordenadas(x):\n",
    "    try:\n",
    "        geolocator = Nominatim(user_agent = \"ana\")\n",
    "        location = geolocator.geocode(x)\n",
    "        return location.lat, location.long\n",
    "    except:\n",
    "        return \"no hay datos\""
   ]
  },
  {
   "cell_type": "code",
   "execution_count": 6,
   "metadata": {},
   "outputs": [
    {
     "data": {
      "text/html": [
       "<div>\n",
       "<style scoped>\n",
       "    .dataframe tbody tr th:only-of-type {\n",
       "        vertical-align: middle;\n",
       "    }\n",
       "\n",
       "    .dataframe tbody tr th {\n",
       "        vertical-align: top;\n",
       "    }\n",
       "\n",
       "    .dataframe thead th {\n",
       "        text-align: right;\n",
       "    }\n",
       "</style>\n",
       "<table border=\"1\" class=\"dataframe\">\n",
       "  <thead>\n",
       "    <tr style=\"text-align: right;\">\n",
       "      <th></th>\n",
       "      <th>year</th>\n",
       "      <th>type</th>\n",
       "      <th>country</th>\n",
       "      <th>age</th>\n",
       "      <th>species_</th>\n",
       "      <th>fecha_limpia</th>\n",
       "      <th>fatal</th>\n",
       "      <th>sex</th>\n",
       "      <th>latitud</th>\n",
       "      <th>longitud</th>\n",
       "    </tr>\n",
       "  </thead>\n",
       "  <tbody>\n",
       "    <tr>\n",
       "      <th>0</th>\n",
       "      <td>2018</td>\n",
       "      <td>Boating</td>\n",
       "      <td>usa</td>\n",
       "      <td>57.0</td>\n",
       "      <td>White shark</td>\n",
       "      <td>Jun</td>\n",
       "      <td>N</td>\n",
       "      <td>F</td>\n",
       "      <td>39.7837304</td>\n",
       "      <td>-100.445882</td>\n",
       "    </tr>\n",
       "    <tr>\n",
       "      <th>1</th>\n",
       "      <td>2018</td>\n",
       "      <td>Unprovoked</td>\n",
       "      <td>usa</td>\n",
       "      <td>11.0</td>\n",
       "      <td>Unespecific</td>\n",
       "      <td>Jun</td>\n",
       "      <td>N</td>\n",
       "      <td>F</td>\n",
       "      <td>39.7837304</td>\n",
       "      <td>-100.445882</td>\n",
       "    </tr>\n",
       "    <tr>\n",
       "      <th>2</th>\n",
       "      <td>2018</td>\n",
       "      <td>Invalid</td>\n",
       "      <td>usa</td>\n",
       "      <td>48.0</td>\n",
       "      <td>Unespecific</td>\n",
       "      <td>Jun</td>\n",
       "      <td>N</td>\n",
       "      <td>M</td>\n",
       "      <td>39.7837304</td>\n",
       "      <td>-100.445882</td>\n",
       "    </tr>\n",
       "    <tr>\n",
       "      <th>3</th>\n",
       "      <td>2018</td>\n",
       "      <td>Unprovoked</td>\n",
       "      <td>australia</td>\n",
       "      <td>27.0</td>\n",
       "      <td>Unespecific</td>\n",
       "      <td>Jun</td>\n",
       "      <td>N</td>\n",
       "      <td>M</td>\n",
       "      <td>-24.7761086</td>\n",
       "      <td>134.755</td>\n",
       "    </tr>\n",
       "    <tr>\n",
       "      <th>4</th>\n",
       "      <td>2018</td>\n",
       "      <td>Provoked</td>\n",
       "      <td>mexico</td>\n",
       "      <td>27.0</td>\n",
       "      <td>Tiger shark</td>\n",
       "      <td>Jun</td>\n",
       "      <td>N</td>\n",
       "      <td>M</td>\n",
       "      <td>23.6585116</td>\n",
       "      <td>-102.0077097</td>\n",
       "    </tr>\n",
       "  </tbody>\n",
       "</table>\n",
       "</div>"
      ],
      "text/plain": [
       "   year        type    country   age     species_ fecha_limpia fatal sex  \\\n",
       "0  2018     Boating        usa  57.0  White shark          Jun     N   F   \n",
       "1  2018  Unprovoked        usa  11.0  Unespecific          Jun     N   F   \n",
       "2  2018     Invalid        usa  48.0  Unespecific          Jun     N   M   \n",
       "3  2018  Unprovoked  australia  27.0  Unespecific          Jun     N   M   \n",
       "4  2018    Provoked     mexico  27.0  Tiger shark          Jun     N   M   \n",
       "\n",
       "       latitud      longitud  \n",
       "0   39.7837304   -100.445882  \n",
       "1   39.7837304   -100.445882  \n",
       "2   39.7837304   -100.445882  \n",
       "3  -24.7761086       134.755  \n",
       "4   23.6585116  -102.0077097  "
      ]
     },
     "execution_count": 6,
     "metadata": {},
     "output_type": "execute_result"
    }
   ],
   "source": [
    "df_codi = pd.read_csv('attacks_limpiando_con_coordenadas.csv', index_col=0)\n",
    "df_codi.head()"
   ]
  },
  {
   "cell_type": "code",
   "execution_count": 7,
   "metadata": {},
   "outputs": [],
   "source": [
    "df_codi[\"species_\"] = df_codi[\"species_\"].rename(\"species\")"
   ]
  },
  {
   "cell_type": "code",
   "execution_count": 8,
   "metadata": {},
   "outputs": [
    {
     "data": {
      "text/plain": [
       "year              int64\n",
       "type             object\n",
       "country          object\n",
       "age             float64\n",
       "species_         object\n",
       "fecha_limpia     object\n",
       "fatal            object\n",
       "sex              object\n",
       "latitud          object\n",
       "longitud         object\n",
       "dtype: object"
      ]
     },
     "execution_count": 8,
     "metadata": {},
     "output_type": "execute_result"
    }
   ],
   "source": [
    "df_codi.dtypes"
   ]
  },
  {
   "cell_type": "code",
   "execution_count": 9,
   "metadata": {},
   "outputs": [],
   "source": [
    "df_categorica  = df_codi.select_dtypes(include = 'object')"
   ]
  },
  {
   "cell_type": "code",
   "execution_count": 10,
   "metadata": {},
   "outputs": [
    {
     "data": {
      "text/plain": [
       "Index(['type', 'country', 'species_', 'fecha_limpia', 'fatal', 'sex',\n",
       "       'latitud', 'longitud'],\n",
       "      dtype='object')"
      ]
     },
     "execution_count": 10,
     "metadata": {},
     "output_type": "execute_result"
    }
   ],
   "source": [
    "df_categorica.columns"
   ]
  },
  {
   "cell_type": "markdown",
   "metadata": {},
   "source": [
    "- Como ya tenemos las coordenadas, deberéis codificar la columna en función de si pertenecen al Hemisferio Norte (HN)(postivo) o Sur (HS)(negativo). Aquellas que pertencezcan al HN le pondremos un 1 y a las del HS le pondremos un 0."
   ]
  },
  {
   "cell_type": "code",
   "execution_count": 11,
   "metadata": {},
   "outputs": [],
   "source": [
    "df_categorica_copia = df_categorica.copy()"
   ]
  },
  {
   "cell_type": "code",
   "execution_count": 12,
   "metadata": {},
   "outputs": [],
   "source": [
    "latitud_nueva = []\n",
    "\n",
    "for i in df_categorica_copia['latitud']:\n",
    "    if i < '0':\n",
    "        latitud_nueva.append('HS')\n",
    "    else: \n",
    "        latitud_nueva.append('HN')"
   ]
  },
  {
   "cell_type": "code",
   "execution_count": 12,
   "metadata": {},
   "outputs": [
    {
     "ename": "NameError",
     "evalue": "name 'latitud_nueva' is not defined",
     "output_type": "error",
     "traceback": [
      "\u001b[0;31m---------------------------------------------------------------------------\u001b[0m",
      "\u001b[0;31mNameError\u001b[0m                                 Traceback (most recent call last)",
      "\u001b[0;32m/tmp/ipykernel_2479/3799131917.py\u001b[0m in \u001b[0;36m<module>\u001b[0;34m\u001b[0m\n\u001b[0;32m----> 1\u001b[0;31m \u001b[0mlatitud_nueva\u001b[0m\u001b[0;34m\u001b[0m\u001b[0;34m\u001b[0m\u001b[0m\n\u001b[0m",
      "\u001b[0;31mNameError\u001b[0m: name 'latitud_nueva' is not defined"
     ]
    }
   ],
   "source": [
    "latitud_nueva"
   ]
  },
  {
   "cell_type": "code",
   "execution_count": 14,
   "metadata": {},
   "outputs": [
    {
     "data": {
      "text/html": [
       "<div>\n",
       "<style scoped>\n",
       "    .dataframe tbody tr th:only-of-type {\n",
       "        vertical-align: middle;\n",
       "    }\n",
       "\n",
       "    .dataframe tbody tr th {\n",
       "        vertical-align: top;\n",
       "    }\n",
       "\n",
       "    .dataframe thead th {\n",
       "        text-align: right;\n",
       "    }\n",
       "</style>\n",
       "<table border=\"1\" class=\"dataframe\">\n",
       "  <thead>\n",
       "    <tr style=\"text-align: right;\">\n",
       "      <th></th>\n",
       "      <th>0</th>\n",
       "    </tr>\n",
       "  </thead>\n",
       "  <tbody>\n",
       "    <tr>\n",
       "      <th>0</th>\n",
       "      <td>HN</td>\n",
       "    </tr>\n",
       "    <tr>\n",
       "      <th>1</th>\n",
       "      <td>HN</td>\n",
       "    </tr>\n",
       "    <tr>\n",
       "      <th>2</th>\n",
       "      <td>HN</td>\n",
       "    </tr>\n",
       "  </tbody>\n",
       "</table>\n",
       "</div>"
      ],
      "text/plain": [
       "    0\n",
       "0  HN\n",
       "1  HN\n",
       "2  HN"
      ]
     },
     "execution_count": 14,
     "metadata": {},
     "output_type": "execute_result"
    }
   ],
   "source": [
    "df_latitud = pd.DataFrame(latitud_nueva)"
   ]
  },
  {
   "cell_type": "code",
   "execution_count": 16,
   "metadata": {},
   "outputs": [
    {
     "data": {
      "text/plain": [
       "HN    3495\n",
       "HS    2723\n",
       "dtype: int64"
      ]
     },
     "execution_count": 16,
     "metadata": {},
     "output_type": "execute_result"
    }
   ],
   "source": [
    "df_latitud.value_counts()"
   ]
  },
  {
   "cell_type": "code",
   "execution_count": 17,
   "metadata": {},
   "outputs": [],
   "source": [
    "df_categorica_copia['latitud'] = df_latitud"
   ]
  },
  {
   "cell_type": "markdown",
   "metadata": {},
   "source": [
    "Usamos el método ***map*** para realizar la codificación en nuestra columna"
   ]
  },
  {
   "cell_type": "code",
   "execution_count": 18,
   "metadata": {},
   "outputs": [],
   "source": [
    "mapa = {'HN': 1, 'HS': 0}"
   ]
  },
  {
   "cell_type": "code",
   "execution_count": 19,
   "metadata": {},
   "outputs": [],
   "source": [
    "df_categorica_copia[\"latitud\"] = df_categorica_copia[\"latitud\"].map(mapa)"
   ]
  },
  {
   "cell_type": "markdown",
   "metadata": {},
   "source": [
    "Comprobamos que se han realizados el mapeo y pasamos a reemplazarlo en la columna del df original"
   ]
  },
  {
   "cell_type": "code",
   "execution_count": 20,
   "metadata": {},
   "outputs": [
    {
     "data": {
      "text/plain": [
       "1    3495\n",
       "0    2723\n",
       "Name: latitud, dtype: int64"
      ]
     },
     "execution_count": 20,
     "metadata": {},
     "output_type": "execute_result"
    }
   ],
   "source": [
    "df_categorica_copia[\"latitud\"].value_counts()"
   ]
  },
  {
   "cell_type": "code",
   "execution_count": 21,
   "metadata": {},
   "outputs": [],
   "source": [
    "df_codi['latitud'] = df_categorica_copia['latitud']"
   ]
  },
  {
   "cell_type": "markdown",
   "metadata": {},
   "source": [
    "# Ejercicio 3\n",
    "Aplicad un get_dummies a las columnas de fatal y age."
   ]
  },
  {
   "cell_type": "code",
   "execution_count": 22,
   "metadata": {},
   "outputs": [
    {
     "data": {
      "text/html": [
       "<div>\n",
       "<style scoped>\n",
       "    .dataframe tbody tr th:only-of-type {\n",
       "        vertical-align: middle;\n",
       "    }\n",
       "\n",
       "    .dataframe tbody tr th {\n",
       "        vertical-align: top;\n",
       "    }\n",
       "\n",
       "    .dataframe thead th {\n",
       "        text-align: right;\n",
       "    }\n",
       "</style>\n",
       "<table border=\"1\" class=\"dataframe\">\n",
       "  <thead>\n",
       "    <tr style=\"text-align: right;\">\n",
       "      <th></th>\n",
       "      <th>fatal_N</th>\n",
       "      <th>fatal_Unknown</th>\n",
       "      <th>fatal_Y</th>\n",
       "    </tr>\n",
       "  </thead>\n",
       "  <tbody>\n",
       "    <tr>\n",
       "      <th>0</th>\n",
       "      <td>1</td>\n",
       "      <td>0</td>\n",
       "      <td>0</td>\n",
       "    </tr>\n",
       "    <tr>\n",
       "      <th>1</th>\n",
       "      <td>1</td>\n",
       "      <td>0</td>\n",
       "      <td>0</td>\n",
       "    </tr>\n",
       "  </tbody>\n",
       "</table>\n",
       "</div>"
      ],
      "text/plain": [
       "   fatal_N  fatal_Unknown  fatal_Y\n",
       "0        1              0        0\n",
       "1        1              0        0"
      ]
     },
     "execution_count": 22,
     "metadata": {},
     "output_type": "execute_result"
    }
   ],
   "source": [
    "dummies_fatal = pd.get_dummies(df_categorica[\"fatal\"], prefix_sep = \"_\", prefix = \"fatal\", dtype = int)\n",
    "dummies_fatal.head(2)"
   ]
  },
  {
   "cell_type": "code",
   "execution_count": 23,
   "metadata": {},
   "outputs": [
    {
     "data": {
      "text/html": [
       "<div>\n",
       "<style scoped>\n",
       "    .dataframe tbody tr th:only-of-type {\n",
       "        vertical-align: middle;\n",
       "    }\n",
       "\n",
       "    .dataframe tbody tr th {\n",
       "        vertical-align: top;\n",
       "    }\n",
       "\n",
       "    .dataframe thead th {\n",
       "        text-align: right;\n",
       "    }\n",
       "</style>\n",
       "<table border=\"1\" class=\"dataframe\">\n",
       "  <thead>\n",
       "    <tr style=\"text-align: right;\">\n",
       "      <th></th>\n",
       "      <th>year</th>\n",
       "      <th>type</th>\n",
       "      <th>country</th>\n",
       "      <th>age</th>\n",
       "      <th>species_</th>\n",
       "      <th>fecha_limpia</th>\n",
       "      <th>fatal</th>\n",
       "      <th>sex</th>\n",
       "      <th>latitud</th>\n",
       "      <th>longitud</th>\n",
       "      <th>fatal_N</th>\n",
       "      <th>fatal_Unknown</th>\n",
       "      <th>fatal_Y</th>\n",
       "    </tr>\n",
       "  </thead>\n",
       "  <tbody>\n",
       "    <tr>\n",
       "      <th>0</th>\n",
       "      <td>2018</td>\n",
       "      <td>Boating</td>\n",
       "      <td>usa</td>\n",
       "      <td>57.0</td>\n",
       "      <td>White shark</td>\n",
       "      <td>Jun</td>\n",
       "      <td>N</td>\n",
       "      <td>F</td>\n",
       "      <td>1</td>\n",
       "      <td>-100.445882</td>\n",
       "      <td>1</td>\n",
       "      <td>0</td>\n",
       "      <td>0</td>\n",
       "    </tr>\n",
       "    <tr>\n",
       "      <th>1</th>\n",
       "      <td>2018</td>\n",
       "      <td>Unprovoked</td>\n",
       "      <td>usa</td>\n",
       "      <td>11.0</td>\n",
       "      <td>Unespecific</td>\n",
       "      <td>Jun</td>\n",
       "      <td>N</td>\n",
       "      <td>F</td>\n",
       "      <td>1</td>\n",
       "      <td>-100.445882</td>\n",
       "      <td>1</td>\n",
       "      <td>0</td>\n",
       "      <td>0</td>\n",
       "    </tr>\n",
       "  </tbody>\n",
       "</table>\n",
       "</div>"
      ],
      "text/plain": [
       "   year        type country   age     species_ fecha_limpia fatal sex  \\\n",
       "0  2018     Boating     usa  57.0  White shark          Jun     N   F   \n",
       "1  2018  Unprovoked     usa  11.0  Unespecific          Jun     N   F   \n",
       "\n",
       "   latitud     longitud  fatal_N  fatal_Unknown  fatal_Y  \n",
       "0        1  -100.445882        1              0        0  \n",
       "1        1  -100.445882        1              0        0  "
      ]
     },
     "execution_count": 23,
     "metadata": {},
     "output_type": "execute_result"
    }
   ],
   "source": [
    "df_codi = pd.concat([df_codi, dummies_fatal], axis = 1)\n",
    "df_codi.head(2)"
   ]
  },
  {
   "cell_type": "markdown",
   "metadata": {},
   "source": [
    "Como la columna age es de tipo float, primero tendremos que convertirlo a tipo string. Usaremos el método cut para dividir las edades en rangos. A partir de ahí, ya podremos codificarlo."
   ]
  },
  {
   "cell_type": "code",
   "execution_count": 24,
   "metadata": {},
   "outputs": [
    {
     "data": {
      "text/plain": [
       "count    6218.000000\n",
       "mean       27.163397\n",
       "std        10.362343\n",
       "min         1.000000\n",
       "25%        22.000000\n",
       "50%        27.000000\n",
       "75%        27.000000\n",
       "max        87.000000\n",
       "Name: age, dtype: float64"
      ]
     },
     "execution_count": 24,
     "metadata": {},
     "output_type": "execute_result"
    }
   ],
   "source": [
    "df_codi['age'].describe()"
   ]
  },
  {
   "cell_type": "code",
   "execution_count": 25,
   "metadata": {},
   "outputs": [],
   "source": [
    "bins_age = pd.cut(df_codi['age'], bins = 3, labels=['jovenes', 'adultos', 'ancianos'])"
   ]
  },
  {
   "cell_type": "code",
   "execution_count": 26,
   "metadata": {},
   "outputs": [
    {
     "data": {
      "text/html": [
       "<div>\n",
       "<style scoped>\n",
       "    .dataframe tbody tr th:only-of-type {\n",
       "        vertical-align: middle;\n",
       "    }\n",
       "\n",
       "    .dataframe tbody tr th {\n",
       "        vertical-align: top;\n",
       "    }\n",
       "\n",
       "    .dataframe thead th {\n",
       "        text-align: right;\n",
       "    }\n",
       "</style>\n",
       "<table border=\"1\" class=\"dataframe\">\n",
       "  <thead>\n",
       "    <tr style=\"text-align: right;\">\n",
       "      <th></th>\n",
       "      <th>age_jovenes</th>\n",
       "      <th>age_adultos</th>\n",
       "      <th>age_ancianos</th>\n",
       "    </tr>\n",
       "  </thead>\n",
       "  <tbody>\n",
       "    <tr>\n",
       "      <th>0</th>\n",
       "      <td>0</td>\n",
       "      <td>1</td>\n",
       "      <td>0</td>\n",
       "    </tr>\n",
       "    <tr>\n",
       "      <th>1</th>\n",
       "      <td>1</td>\n",
       "      <td>0</td>\n",
       "      <td>0</td>\n",
       "    </tr>\n",
       "  </tbody>\n",
       "</table>\n",
       "</div>"
      ],
      "text/plain": [
       "   age_jovenes  age_adultos  age_ancianos\n",
       "0            0            1             0\n",
       "1            1            0             0"
      ]
     },
     "execution_count": 26,
     "metadata": {},
     "output_type": "execute_result"
    }
   ],
   "source": [
    "dummies_age = pd.get_dummies(bins_age, prefix_sep = \"_\", prefix = \"age\", dtype = int)\n",
    "dummies_age.head(2)"
   ]
  },
  {
   "cell_type": "code",
   "execution_count": 27,
   "metadata": {},
   "outputs": [
    {
     "data": {
      "text/html": [
       "<div>\n",
       "<style scoped>\n",
       "    .dataframe tbody tr th:only-of-type {\n",
       "        vertical-align: middle;\n",
       "    }\n",
       "\n",
       "    .dataframe tbody tr th {\n",
       "        vertical-align: top;\n",
       "    }\n",
       "\n",
       "    .dataframe thead th {\n",
       "        text-align: right;\n",
       "    }\n",
       "</style>\n",
       "<table border=\"1\" class=\"dataframe\">\n",
       "  <thead>\n",
       "    <tr style=\"text-align: right;\">\n",
       "      <th></th>\n",
       "      <th>year</th>\n",
       "      <th>type</th>\n",
       "      <th>country</th>\n",
       "      <th>age</th>\n",
       "      <th>species_</th>\n",
       "      <th>fecha_limpia</th>\n",
       "      <th>fatal</th>\n",
       "      <th>sex</th>\n",
       "      <th>latitud</th>\n",
       "      <th>longitud</th>\n",
       "      <th>fatal_N</th>\n",
       "      <th>fatal_Unknown</th>\n",
       "      <th>fatal_Y</th>\n",
       "      <th>age_jovenes</th>\n",
       "      <th>age_adultos</th>\n",
       "      <th>age_ancianos</th>\n",
       "    </tr>\n",
       "  </thead>\n",
       "  <tbody>\n",
       "    <tr>\n",
       "      <th>0</th>\n",
       "      <td>2018</td>\n",
       "      <td>Boating</td>\n",
       "      <td>usa</td>\n",
       "      <td>57.0</td>\n",
       "      <td>White shark</td>\n",
       "      <td>Jun</td>\n",
       "      <td>N</td>\n",
       "      <td>F</td>\n",
       "      <td>1</td>\n",
       "      <td>-100.445882</td>\n",
       "      <td>1</td>\n",
       "      <td>0</td>\n",
       "      <td>0</td>\n",
       "      <td>0</td>\n",
       "      <td>1</td>\n",
       "      <td>0</td>\n",
       "    </tr>\n",
       "    <tr>\n",
       "      <th>1</th>\n",
       "      <td>2018</td>\n",
       "      <td>Unprovoked</td>\n",
       "      <td>usa</td>\n",
       "      <td>11.0</td>\n",
       "      <td>Unespecific</td>\n",
       "      <td>Jun</td>\n",
       "      <td>N</td>\n",
       "      <td>F</td>\n",
       "      <td>1</td>\n",
       "      <td>-100.445882</td>\n",
       "      <td>1</td>\n",
       "      <td>0</td>\n",
       "      <td>0</td>\n",
       "      <td>1</td>\n",
       "      <td>0</td>\n",
       "      <td>0</td>\n",
       "    </tr>\n",
       "  </tbody>\n",
       "</table>\n",
       "</div>"
      ],
      "text/plain": [
       "   year        type country   age     species_ fecha_limpia fatal sex  \\\n",
       "0  2018     Boating     usa  57.0  White shark          Jun     N   F   \n",
       "1  2018  Unprovoked     usa  11.0  Unespecific          Jun     N   F   \n",
       "\n",
       "   latitud     longitud  fatal_N  fatal_Unknown  fatal_Y  age_jovenes  \\\n",
       "0        1  -100.445882        1              0        0            0   \n",
       "1        1  -100.445882        1              0        0            1   \n",
       "\n",
       "   age_adultos  age_ancianos  \n",
       "0            1             0  \n",
       "1            0             0  "
      ]
     },
     "execution_count": 27,
     "metadata": {},
     "output_type": "execute_result"
    }
   ],
   "source": [
    "df_codi = pd.concat([df_codi, dummies_age], axis = 1)\n",
    "df_codi.head(2)"
   ]
  },
  {
   "cell_type": "markdown",
   "metadata": {},
   "source": [
    "# Ejercicio 4\n",
    "Aplicad un Label Encoding a la columna species , fecha y type."
   ]
  },
  {
   "cell_type": "code",
   "execution_count": 28,
   "metadata": {},
   "outputs": [],
   "source": [
    "le = LabelEncoder()"
   ]
  },
  {
   "cell_type": "code",
   "execution_count": 30,
   "metadata": {},
   "outputs": [
    {
     "ename": "KeyError",
     "evalue": "\"['species'] not in index\"",
     "output_type": "error",
     "traceback": [
      "\u001b[0;31m---------------------------------------------------------------------------\u001b[0m",
      "\u001b[0;31mKeyError\u001b[0m                                  Traceback (most recent call last)",
      "\u001b[0;32m/tmp/ipykernel_945/2568135886.py\u001b[0m in \u001b[0;36m<module>\u001b[0;34m\u001b[0m\n\u001b[0;32m----> 1\u001b[0;31m \u001b[0mdf_col_elegidas\u001b[0m \u001b[0;34m=\u001b[0m \u001b[0mdf_categorica\u001b[0m\u001b[0;34m[\u001b[0m\u001b[0;34m[\u001b[0m\u001b[0;34m'type'\u001b[0m\u001b[0;34m,\u001b[0m\u001b[0;34m'species'\u001b[0m\u001b[0;34m,\u001b[0m\u001b[0;34m'fecha_limpia'\u001b[0m\u001b[0;34m]\u001b[0m\u001b[0;34m]\u001b[0m\u001b[0;34m\u001b[0m\u001b[0;34m\u001b[0m\u001b[0m\n\u001b[0m",
      "\u001b[0;32m~/anaconda3/lib/python3.9/site-packages/pandas/core/frame.py\u001b[0m in \u001b[0;36m__getitem__\u001b[0;34m(self, key)\u001b[0m\n\u001b[1;32m   3462\u001b[0m             \u001b[0;32mif\u001b[0m \u001b[0mis_iterator\u001b[0m\u001b[0;34m(\u001b[0m\u001b[0mkey\u001b[0m\u001b[0;34m)\u001b[0m\u001b[0;34m:\u001b[0m\u001b[0;34m\u001b[0m\u001b[0;34m\u001b[0m\u001b[0m\n\u001b[1;32m   3463\u001b[0m                 \u001b[0mkey\u001b[0m \u001b[0;34m=\u001b[0m \u001b[0mlist\u001b[0m\u001b[0;34m(\u001b[0m\u001b[0mkey\u001b[0m\u001b[0;34m)\u001b[0m\u001b[0;34m\u001b[0m\u001b[0;34m\u001b[0m\u001b[0m\n\u001b[0;32m-> 3464\u001b[0;31m             \u001b[0mindexer\u001b[0m \u001b[0;34m=\u001b[0m \u001b[0mself\u001b[0m\u001b[0;34m.\u001b[0m\u001b[0mloc\u001b[0m\u001b[0;34m.\u001b[0m\u001b[0m_get_listlike_indexer\u001b[0m\u001b[0;34m(\u001b[0m\u001b[0mkey\u001b[0m\u001b[0;34m,\u001b[0m \u001b[0maxis\u001b[0m\u001b[0;34m=\u001b[0m\u001b[0;36m1\u001b[0m\u001b[0;34m)\u001b[0m\u001b[0;34m[\u001b[0m\u001b[0;36m1\u001b[0m\u001b[0;34m]\u001b[0m\u001b[0;34m\u001b[0m\u001b[0;34m\u001b[0m\u001b[0m\n\u001b[0m\u001b[1;32m   3465\u001b[0m \u001b[0;34m\u001b[0m\u001b[0m\n\u001b[1;32m   3466\u001b[0m         \u001b[0;31m# take() does not accept boolean indexers\u001b[0m\u001b[0;34m\u001b[0m\u001b[0;34m\u001b[0m\u001b[0m\n",
      "\u001b[0;32m~/anaconda3/lib/python3.9/site-packages/pandas/core/indexing.py\u001b[0m in \u001b[0;36m_get_listlike_indexer\u001b[0;34m(self, key, axis)\u001b[0m\n\u001b[1;32m   1312\u001b[0m             \u001b[0mkeyarr\u001b[0m\u001b[0;34m,\u001b[0m \u001b[0mindexer\u001b[0m\u001b[0;34m,\u001b[0m \u001b[0mnew_indexer\u001b[0m \u001b[0;34m=\u001b[0m \u001b[0max\u001b[0m\u001b[0;34m.\u001b[0m\u001b[0m_reindex_non_unique\u001b[0m\u001b[0;34m(\u001b[0m\u001b[0mkeyarr\u001b[0m\u001b[0;34m)\u001b[0m\u001b[0;34m\u001b[0m\u001b[0;34m\u001b[0m\u001b[0m\n\u001b[1;32m   1313\u001b[0m \u001b[0;34m\u001b[0m\u001b[0m\n\u001b[0;32m-> 1314\u001b[0;31m         \u001b[0mself\u001b[0m\u001b[0;34m.\u001b[0m\u001b[0m_validate_read_indexer\u001b[0m\u001b[0;34m(\u001b[0m\u001b[0mkeyarr\u001b[0m\u001b[0;34m,\u001b[0m \u001b[0mindexer\u001b[0m\u001b[0;34m,\u001b[0m \u001b[0maxis\u001b[0m\u001b[0;34m)\u001b[0m\u001b[0;34m\u001b[0m\u001b[0;34m\u001b[0m\u001b[0m\n\u001b[0m\u001b[1;32m   1315\u001b[0m \u001b[0;34m\u001b[0m\u001b[0m\n\u001b[1;32m   1316\u001b[0m         if needs_i8_conversion(ax.dtype) or isinstance(\n",
      "\u001b[0;32m~/anaconda3/lib/python3.9/site-packages/pandas/core/indexing.py\u001b[0m in \u001b[0;36m_validate_read_indexer\u001b[0;34m(self, key, indexer, axis)\u001b[0m\n\u001b[1;32m   1375\u001b[0m \u001b[0;34m\u001b[0m\u001b[0m\n\u001b[1;32m   1376\u001b[0m             \u001b[0mnot_found\u001b[0m \u001b[0;34m=\u001b[0m \u001b[0mlist\u001b[0m\u001b[0;34m(\u001b[0m\u001b[0mensure_index\u001b[0m\u001b[0;34m(\u001b[0m\u001b[0mkey\u001b[0m\u001b[0;34m)\u001b[0m\u001b[0;34m[\u001b[0m\u001b[0mmissing_mask\u001b[0m\u001b[0;34m.\u001b[0m\u001b[0mnonzero\u001b[0m\u001b[0;34m(\u001b[0m\u001b[0;34m)\u001b[0m\u001b[0;34m[\u001b[0m\u001b[0;36m0\u001b[0m\u001b[0;34m]\u001b[0m\u001b[0;34m]\u001b[0m\u001b[0;34m.\u001b[0m\u001b[0munique\u001b[0m\u001b[0;34m(\u001b[0m\u001b[0;34m)\u001b[0m\u001b[0;34m)\u001b[0m\u001b[0;34m\u001b[0m\u001b[0;34m\u001b[0m\u001b[0m\n\u001b[0;32m-> 1377\u001b[0;31m             \u001b[0;32mraise\u001b[0m \u001b[0mKeyError\u001b[0m\u001b[0;34m(\u001b[0m\u001b[0;34mf\"{not_found} not in index\"\u001b[0m\u001b[0;34m)\u001b[0m\u001b[0;34m\u001b[0m\u001b[0;34m\u001b[0m\u001b[0m\n\u001b[0m\u001b[1;32m   1378\u001b[0m \u001b[0;34m\u001b[0m\u001b[0m\n\u001b[1;32m   1379\u001b[0m \u001b[0;34m\u001b[0m\u001b[0m\n",
      "\u001b[0;31mKeyError\u001b[0m: \"['species'] not in index\""
     ]
    }
   ],
   "source": [
    "df_col_elegidas = df_categorica[['type','species_','fecha_limpia']]"
   ]
  },
  {
   "cell_type": "code",
   "execution_count": 83,
   "metadata": {},
   "outputs": [
    {
     "name": "stderr",
     "output_type": "stream",
     "text": [
      "/tmp/ipykernel_15705/3797466698.py:2: SettingWithCopyWarning: \n",
      "A value is trying to be set on a copy of a slice from a DataFrame.\n",
      "Try using .loc[row_indexer,col_indexer] = value instead\n",
      "\n",
      "See the caveats in the documentation: https://pandas.pydata.org/pandas-docs/stable/user_guide/indexing.html#returning-a-view-versus-a-copy\n",
      "  df_col_elegidas[col]=le.fit_transform(df_col_elegidas[col])\n"
     ]
    }
   ],
   "source": [
    "\n",
    "for col in df_col_elegidas:\n",
    "    df_col_elegidas[col]=le.fit_transform(df_col_elegidas[col])"
   ]
  },
  {
   "cell_type": "code",
   "execution_count": 84,
   "metadata": {},
   "outputs": [
    {
     "data": {
      "text/html": [
       "<div>\n",
       "<style scoped>\n",
       "    .dataframe tbody tr th:only-of-type {\n",
       "        vertical-align: middle;\n",
       "    }\n",
       "\n",
       "    .dataframe tbody tr th {\n",
       "        vertical-align: top;\n",
       "    }\n",
       "\n",
       "    .dataframe thead th {\n",
       "        text-align: right;\n",
       "    }\n",
       "</style>\n",
       "<table border=\"1\" class=\"dataframe\">\n",
       "  <thead>\n",
       "    <tr style=\"text-align: right;\">\n",
       "      <th></th>\n",
       "      <th>type</th>\n",
       "      <th>species_</th>\n",
       "      <th>fecha_limpia</th>\n",
       "    </tr>\n",
       "  </thead>\n",
       "  <tbody>\n",
       "    <tr>\n",
       "      <th>0</th>\n",
       "      <td>1</td>\n",
       "      <td>4</td>\n",
       "      <td>7</td>\n",
       "    </tr>\n",
       "    <tr>\n",
       "      <th>1</th>\n",
       "      <td>7</td>\n",
       "      <td>3</td>\n",
       "      <td>7</td>\n",
       "    </tr>\n",
       "    <tr>\n",
       "      <th>2</th>\n",
       "      <td>3</td>\n",
       "      <td>3</td>\n",
       "      <td>7</td>\n",
       "    </tr>\n",
       "    <tr>\n",
       "      <th>3</th>\n",
       "      <td>7</td>\n",
       "      <td>3</td>\n",
       "      <td>7</td>\n",
       "    </tr>\n",
       "    <tr>\n",
       "      <th>4</th>\n",
       "      <td>4</td>\n",
       "      <td>2</td>\n",
       "      <td>7</td>\n",
       "    </tr>\n",
       "    <tr>\n",
       "      <th>...</th>\n",
       "      <td>...</td>\n",
       "      <td>...</td>\n",
       "      <td>...</td>\n",
       "    </tr>\n",
       "    <tr>\n",
       "      <th>6213</th>\n",
       "      <td>7</td>\n",
       "      <td>2</td>\n",
       "      <td>14</td>\n",
       "    </tr>\n",
       "    <tr>\n",
       "      <th>6214</th>\n",
       "      <td>7</td>\n",
       "      <td>2</td>\n",
       "      <td>14</td>\n",
       "    </tr>\n",
       "    <tr>\n",
       "      <th>6215</th>\n",
       "      <td>7</td>\n",
       "      <td>2</td>\n",
       "      <td>14</td>\n",
       "    </tr>\n",
       "    <tr>\n",
       "      <th>6216</th>\n",
       "      <td>7</td>\n",
       "      <td>3</td>\n",
       "      <td>14</td>\n",
       "    </tr>\n",
       "    <tr>\n",
       "      <th>6217</th>\n",
       "      <td>7</td>\n",
       "      <td>3</td>\n",
       "      <td>14</td>\n",
       "    </tr>\n",
       "  </tbody>\n",
       "</table>\n",
       "<p>6218 rows × 3 columns</p>\n",
       "</div>"
      ],
      "text/plain": [
       "      type  species_  fecha_limpia\n",
       "0        1         4             7\n",
       "1        7         3             7\n",
       "2        3         3             7\n",
       "3        7         3             7\n",
       "4        4         2             7\n",
       "...    ...       ...           ...\n",
       "6213     7         2            14\n",
       "6214     7         2            14\n",
       "6215     7         2            14\n",
       "6216     7         3            14\n",
       "6217     7         3            14\n",
       "\n",
       "[6218 rows x 3 columns]"
      ]
     },
     "execution_count": 84,
     "metadata": {},
     "output_type": "execute_result"
    }
   ],
   "source": [
    "df_col_elegidas"
   ]
  },
  {
   "cell_type": "code",
   "execution_count": 85,
   "metadata": {},
   "outputs": [
    {
     "data": {
      "text/html": [
       "<div>\n",
       "<style scoped>\n",
       "    .dataframe tbody tr th:only-of-type {\n",
       "        vertical-align: middle;\n",
       "    }\n",
       "\n",
       "    .dataframe tbody tr th {\n",
       "        vertical-align: top;\n",
       "    }\n",
       "\n",
       "    .dataframe thead th {\n",
       "        text-align: right;\n",
       "    }\n",
       "</style>\n",
       "<table border=\"1\" class=\"dataframe\">\n",
       "  <thead>\n",
       "    <tr style=\"text-align: right;\">\n",
       "      <th></th>\n",
       "      <th>year</th>\n",
       "      <th>type</th>\n",
       "      <th>country</th>\n",
       "      <th>age</th>\n",
       "      <th>species_</th>\n",
       "      <th>fecha_limpia</th>\n",
       "      <th>fatal</th>\n",
       "      <th>sex</th>\n",
       "      <th>latitud</th>\n",
       "      <th>longitud</th>\n",
       "      <th>fatal_N</th>\n",
       "      <th>fatal_Unknown</th>\n",
       "      <th>fatal_Y</th>\n",
       "      <th>age_jovenes</th>\n",
       "      <th>age_adultos</th>\n",
       "      <th>age_ancianos</th>\n",
       "      <th>type</th>\n",
       "      <th>species_</th>\n",
       "      <th>fecha_limpia</th>\n",
       "    </tr>\n",
       "  </thead>\n",
       "  <tbody>\n",
       "    <tr>\n",
       "      <th>0</th>\n",
       "      <td>2018</td>\n",
       "      <td>Boating</td>\n",
       "      <td>usa</td>\n",
       "      <td>57.0</td>\n",
       "      <td>White shark</td>\n",
       "      <td>Jun</td>\n",
       "      <td>N</td>\n",
       "      <td>F</td>\n",
       "      <td>1</td>\n",
       "      <td>-100.445882</td>\n",
       "      <td>1</td>\n",
       "      <td>0</td>\n",
       "      <td>0</td>\n",
       "      <td>0</td>\n",
       "      <td>1</td>\n",
       "      <td>0</td>\n",
       "      <td>1</td>\n",
       "      <td>4</td>\n",
       "      <td>7</td>\n",
       "    </tr>\n",
       "    <tr>\n",
       "      <th>1</th>\n",
       "      <td>2018</td>\n",
       "      <td>Unprovoked</td>\n",
       "      <td>usa</td>\n",
       "      <td>11.0</td>\n",
       "      <td>Unespecific</td>\n",
       "      <td>Jun</td>\n",
       "      <td>N</td>\n",
       "      <td>F</td>\n",
       "      <td>1</td>\n",
       "      <td>-100.445882</td>\n",
       "      <td>1</td>\n",
       "      <td>0</td>\n",
       "      <td>0</td>\n",
       "      <td>1</td>\n",
       "      <td>0</td>\n",
       "      <td>0</td>\n",
       "      <td>7</td>\n",
       "      <td>3</td>\n",
       "      <td>7</td>\n",
       "    </tr>\n",
       "  </tbody>\n",
       "</table>\n",
       "</div>"
      ],
      "text/plain": [
       "   year        type country   age     species_  fecha_limpia fatal sex  \\\n",
       "0  2018     Boating     usa  57.0  White shark           Jun     N   F   \n",
       "1  2018  Unprovoked     usa  11.0  Unespecific           Jun     N   F   \n",
       "\n",
       "   latitud     longitud  fatal_N  fatal_Unknown  fatal_Y  age_jovenes  \\\n",
       "0        1  -100.445882        1              0        0            0   \n",
       "1        1  -100.445882        1              0        0            1   \n",
       "\n",
       "   age_adultos  age_ancianos  type  species_  fecha_limpia  \n",
       "0            1             0     1         4             7  \n",
       "1            0             0     7         3             7  "
      ]
     },
     "execution_count": 85,
     "metadata": {},
     "output_type": "execute_result"
    }
   ],
   "source": [
    "df_codi = pd.concat([df_codi, df_col_elegidas], axis = 1)\n",
    "df_codi.head(2)"
   ]
  },
  {
   "cell_type": "markdown",
   "metadata": {},
   "source": [
    "BORRAR COLUMNAS ORIGINALES USANDO EL INDICE (ILOC)"
   ]
  },
  {
   "cell_type": "markdown",
   "metadata": {},
   "source": [
    "GUARDAR CSV"
   ]
  },
  {
   "cell_type": "code",
   "execution_count": 86,
   "metadata": {},
   "outputs": [],
   "source": [
    "df_codi.to_csv('pairs_limpieza.csv')"
   ]
  },
  {
   "cell_type": "code",
   "execution_count": 89,
   "metadata": {},
   "outputs": [],
   "source": [
    "df_codi['age'] = df_codi['age'].astype('int64', copy = True, errors = 'raise')"
   ]
  },
  {
   "cell_type": "code",
   "execution_count": 90,
   "metadata": {},
   "outputs": [
    {
     "data": {
      "text/plain": [
       "year              int64\n",
       "type             object\n",
       "country          object\n",
       "age               int64\n",
       "species_         object\n",
       "fecha_limpia     object\n",
       "fatal            object\n",
       "sex              object\n",
       "latitud           int64\n",
       "longitud         object\n",
       "fatal_N           int64\n",
       "fatal_Unknown     int64\n",
       "fatal_Y           int64\n",
       "age_jovenes       int64\n",
       "age_adultos       int64\n",
       "age_ancianos      int64\n",
       "type              int64\n",
       "species_          int64\n",
       "fecha_limpia      int64\n",
       "dtype: object"
      ]
     },
     "execution_count": 90,
     "metadata": {},
     "output_type": "execute_result"
    }
   ],
   "source": [
    "df_codi.dtypes"
   ]
  }
 ],
 "metadata": {
  "interpreter": {
   "hash": "a2a25da4702e7ca1aacc8a7d4e81059851e19fd1060402175b35fae4c2a518e8"
  },
  "kernelspec": {
   "display_name": "Python 3.9.7 ('base')",
   "language": "python",
   "name": "python3"
  },
  "language_info": {
   "codemirror_mode": {
    "name": "ipython",
    "version": 3
   },
   "file_extension": ".py",
   "mimetype": "text/x-python",
   "name": "python",
   "nbconvert_exporter": "python",
   "pygments_lexer": "ipython3",
   "version": "3.9.7"
  },
  "orig_nbformat": 4
 },
 "nbformat": 4,
 "nbformat_minor": 2
}
