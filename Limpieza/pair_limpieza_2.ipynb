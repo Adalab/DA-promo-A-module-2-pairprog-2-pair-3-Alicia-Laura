{
 "cells": [
  {
   "cell_type": "code",
   "execution_count": 1,
   "metadata": {},
   "outputs": [],
   "source": [
    "import pandas as pd\n",
    "import numpy as np\n",
    "import re"
   ]
  },
  {
   "cell_type": "code",
   "execution_count": 2,
   "metadata": {},
   "outputs": [
    {
     "data": {
      "text/html": [
       "<div>\n",
       "<style scoped>\n",
       "    .dataframe tbody tr th:only-of-type {\n",
       "        vertical-align: middle;\n",
       "    }\n",
       "\n",
       "    .dataframe tbody tr th {\n",
       "        vertical-align: top;\n",
       "    }\n",
       "\n",
       "    .dataframe thead th {\n",
       "        text-align: right;\n",
       "    }\n",
       "</style>\n",
       "<table border=\"1\" class=\"dataframe\">\n",
       "  <thead>\n",
       "    <tr style=\"text-align: right;\">\n",
       "      <th></th>\n",
       "      <th>case_number</th>\n",
       "      <th>year</th>\n",
       "      <th>type</th>\n",
       "      <th>country</th>\n",
       "      <th>area</th>\n",
       "      <th>location</th>\n",
       "      <th>activity</th>\n",
       "      <th>name</th>\n",
       "      <th>age</th>\n",
       "      <th>time</th>\n",
       "      <th>species_</th>\n",
       "      <th>injury</th>\n",
       "      <th>fecha_limpia</th>\n",
       "      <th>fatal_clean</th>\n",
       "      <th>sexo</th>\n",
       "    </tr>\n",
       "  </thead>\n",
       "  <tbody>\n",
       "    <tr>\n",
       "      <th>0</th>\n",
       "      <td>1800.00.00</td>\n",
       "      <td>1800</td>\n",
       "      <td>Unprovoked</td>\n",
       "      <td>seychelles</td>\n",
       "      <td>St. Anne</td>\n",
       "      <td>NaN</td>\n",
       "      <td>a corsair's boat was overturned</td>\n",
       "      <td>NaN</td>\n",
       "      <td>NaN</td>\n",
       "      <td>NaN</td>\n",
       "      <td>NaN</td>\n",
       "      <td>FATAL, all onboard were killed by sharks</td>\n",
       "      <td>NaN</td>\n",
       "      <td>Y</td>\n",
       "      <td>F</td>\n",
       "    </tr>\n",
       "    <tr>\n",
       "      <th>1</th>\n",
       "      <td>1797.05.28.R</td>\n",
       "      <td>1797</td>\n",
       "      <td>Unprovoked</td>\n",
       "      <td>NaN</td>\n",
       "      <td>NaN</td>\n",
       "      <td>NaN</td>\n",
       "      <td>Dropped overboard</td>\n",
       "      <td>child</td>\n",
       "      <td>NaN</td>\n",
       "      <td>NaN</td>\n",
       "      <td>NaN</td>\n",
       "      <td>FATAL</td>\n",
       "      <td>May</td>\n",
       "      <td>Y</td>\n",
       "      <td>NaN</td>\n",
       "    </tr>\n",
       "  </tbody>\n",
       "</table>\n",
       "</div>"
      ],
      "text/plain": [
       "    case_number  year        type     country      area location  \\\n",
       "0    1800.00.00  1800  Unprovoked  seychelles  St. Anne      NaN   \n",
       "1  1797.05.28.R  1797  Unprovoked         NaN       NaN      NaN   \n",
       "\n",
       "                          activity   name  age time species_  \\\n",
       "0  a corsair's boat was overturned    NaN  NaN  NaN      NaN   \n",
       "1                Dropped overboard  child  NaN  NaN      NaN   \n",
       "\n",
       "                                     injury fecha_limpia fatal_clean sexo  \n",
       "0  FATAL, all onboard were killed by sharks          NaN           Y    F  \n",
       "1                                     FATAL          May           Y  NaN  "
      ]
     },
     "execution_count": 2,
     "metadata": {},
     "output_type": "execute_result"
    }
   ],
   "source": [
    "df = pd.read_csv(\"utilizar_copia.csv\", index_col = 0)\n",
    "df.head(2)"
   ]
  },
  {
   "cell_type": "code",
   "execution_count": 3,
   "metadata": {},
   "outputs": [
    {
     "data": {
      "text/plain": [
       "case_number     object\n",
       "year             int64\n",
       "type            object\n",
       "country         object\n",
       "area            object\n",
       "location        object\n",
       "activity        object\n",
       "name            object\n",
       "age             object\n",
       "time            object\n",
       "species_        object\n",
       "injury          object\n",
       "fecha_limpia    object\n",
       "fatal_clean     object\n",
       "sexo            object\n",
       "dtype: object"
      ]
     },
     "execution_count": 3,
     "metadata": {},
     "output_type": "execute_result"
    }
   ],
   "source": [
    "df.dtypes"
   ]
  },
  {
   "cell_type": "markdown",
   "metadata": {},
   "source": [
    "Ejercicio 1"
   ]
  },
  {
   "cell_type": "code",
   "execution_count": 4,
   "metadata": {},
   "outputs": [
    {
     "data": {
      "text/html": [
       "<div>\n",
       "<style scoped>\n",
       "    .dataframe tbody tr th:only-of-type {\n",
       "        vertical-align: middle;\n",
       "    }\n",
       "\n",
       "    .dataframe tbody tr th {\n",
       "        vertical-align: top;\n",
       "    }\n",
       "\n",
       "    .dataframe thead th {\n",
       "        text-align: right;\n",
       "    }\n",
       "</style>\n",
       "<table border=\"1\" class=\"dataframe\">\n",
       "  <thead>\n",
       "    <tr style=\"text-align: right;\">\n",
       "      <th></th>\n",
       "      <th>case_number</th>\n",
       "      <th>year</th>\n",
       "      <th>type</th>\n",
       "      <th>country</th>\n",
       "      <th>area</th>\n",
       "      <th>location</th>\n",
       "      <th>activity</th>\n",
       "      <th>name</th>\n",
       "      <th>age</th>\n",
       "      <th>time</th>\n",
       "      <th>species_</th>\n",
       "      <th>injury</th>\n",
       "      <th>fecha_limpia</th>\n",
       "      <th>fatal_clean</th>\n",
       "      <th>sexo</th>\n",
       "    </tr>\n",
       "  </thead>\n",
       "  <tbody>\n",
       "    <tr>\n",
       "      <th>0</th>\n",
       "      <td>1800.00.00</td>\n",
       "      <td>1800</td>\n",
       "      <td>Unprovoked</td>\n",
       "      <td>seychelles</td>\n",
       "      <td>St. Anne</td>\n",
       "      <td>NaN</td>\n",
       "      <td>a corsair's boat was overturned</td>\n",
       "      <td>NaN</td>\n",
       "      <td>NaN</td>\n",
       "      <td>NaN</td>\n",
       "      <td>NaN</td>\n",
       "      <td>FATAL, all onboard were killed by sharks</td>\n",
       "      <td>NaN</td>\n",
       "      <td>Y</td>\n",
       "      <td>F</td>\n",
       "    </tr>\n",
       "    <tr>\n",
       "      <th>1</th>\n",
       "      <td>1797.05.28.R</td>\n",
       "      <td>1797</td>\n",
       "      <td>Unprovoked</td>\n",
       "      <td>NaN</td>\n",
       "      <td>NaN</td>\n",
       "      <td>NaN</td>\n",
       "      <td>Dropped overboard</td>\n",
       "      <td>child</td>\n",
       "      <td>NaN</td>\n",
       "      <td>NaN</td>\n",
       "      <td>NaN</td>\n",
       "      <td>FATAL</td>\n",
       "      <td>May</td>\n",
       "      <td>Y</td>\n",
       "      <td>NaN</td>\n",
       "    </tr>\n",
       "  </tbody>\n",
       "</table>\n",
       "</div>"
      ],
      "text/plain": [
       "    case_number  year        type     country      area location  \\\n",
       "0    1800.00.00  1800  Unprovoked  seychelles  St. Anne      NaN   \n",
       "1  1797.05.28.R  1797  Unprovoked         NaN       NaN      NaN   \n",
       "\n",
       "                          activity   name  age time species_  \\\n",
       "0  a corsair's boat was overturned    NaN  NaN  NaN      NaN   \n",
       "1                Dropped overboard  child  NaN  NaN      NaN   \n",
       "\n",
       "                                     injury fecha_limpia fatal_clean sexo  \n",
       "0  FATAL, all onboard were killed by sharks          NaN           Y    F  \n",
       "1                                     FATAL          May           Y  NaN  "
      ]
     },
     "execution_count": 4,
     "metadata": {},
     "output_type": "execute_result"
    }
   ],
   "source": [
    "df.head(2)"
   ]
  },
  {
   "cell_type": "code",
   "execution_count": 5,
   "metadata": {},
   "outputs": [
    {
     "data": {
      "text/plain": [
       "array([nan, 'Tiger shark?', 'White sharks', ...,\n",
       "       \"Said to involve a 6 m to 7.3 m [20' to 24'] shark\",\n",
       "       \"Said to be a 7.6 m [25'] shark\",\n",
       "       'Thought to involve a porbeagle or mako shark'], dtype=object)"
      ]
     },
     "execution_count": 5,
     "metadata": {},
     "output_type": "execute_result"
    }
   ],
   "source": [
    "df[\"species_\"].unique()"
   ]
  },
  {
   "cell_type": "markdown",
   "metadata": {},
   "source": [
    "Vamos a clasificar los tiburones en 5 especies: tiburón blanco (White), el tiburón tigre (Tiger ), el tiburón gris (Grey), el tiburón limón (Lemon) y el tiburón toro (Bull) y el resto en 'Unspecified'"
   ]
  },
  {
   "cell_type": "markdown",
   "metadata": {},
   "source": [
    "Pistas: regex para buscar strings (5 patrones diferentes) y crear función en la que aplicamos el patrón regex"
   ]
  },
  {
   "cell_type": "code",
   "execution_count": 6,
   "metadata": {},
   "outputs": [],
   "source": [
    "df_copia = df.copy()"
   ]
  },
  {
   "cell_type": "code",
   "execution_count": 10,
   "metadata": {},
   "outputs": [],
   "source": [
    "patron_white = '.*[Ww](hite|HITE).*'\n",
    "patron_tiger = '[TtIiGgEeRr]{5}'\n",
    "patron_grey = '[GgRrEeYy]{4}'\n",
    "patron_lemon = '[LeMmOoNn]{4}'\n",
    "patron_bull =  '[BbUuLl]{3}'\n"
   ]
  },
  {
   "cell_type": "code",
   "execution_count": null,
   "metadata": {},
   "outputs": [],
   "source": [
    "#df[\"species_\"].str.split(pat = patron_white , n= , expand= False, regex = True)"
   ]
  },
  {
   "cell_type": "code",
   "execution_count": 34,
   "metadata": {},
   "outputs": [],
   "source": [
    "# def patrones(w,t,g,l,b):\n",
    "#     for i in range(len(df_copia1['species_'])):\n",
    "\n",
    "#         try:\n",
    "#             if w in df_copia1[i]:\n",
    "#                 print(df_copia1[i])\n",
    "#                 df_copia1['species_'].replace(i, w, inplace=False)\n",
    "#             elif t in df_copia1[i]:\n",
    "#                 df_copia1['species_'].replace(i, t, inplace=False)\n",
    "#             elif g in df_copia1[i]:\n",
    "#                 df_copia1['species_'].replace(i, g, inplace=False)\n",
    "#             elif l in df_copia1[i]:\n",
    "#                 df_copia1['species_'].replace(i, l, inplace=False)\n",
    "#             elif b in df_copia1[i]:\n",
    "#                 df_copia1['species_'].replace(i, b, inplace=False)\n",
    "#         except:\n",
    "#             df_copia1['species_'][i].replace(i, 'Unspecified', inplace=False)\n",
    "#             print(df_copia1[])\n",
    "      \n",
    "# solucion_patron = patrones(patron_white,patron_tiger,patron_grey,patron_lemon,patron_bull)\n",
    "# solucion_patron\n"
   ]
  },
  {
   "cell_type": "code",
   "execution_count": 23,
   "metadata": {},
   "outputs": [],
   "source": [
    "# def patrones(df1):\n",
    "#     patron_white = '.*[Ww](hite|HITE).*'\n",
    "#     patron_tiger = '[TtIiGgEeRr]{5}'\n",
    "#     patron_grey = '[GgRrEeYy]{4}'\n",
    "#     patron_lemon = '[LeMmOoNn]{4}'\n",
    "#     patron_bull =  '[BbUuLl]{3}'\n",
    "#     for indice in range(len(df1)):\n",
    "#         try: \n",
    "\n",
    "#             if patron_white in df1[indice]:\n",
    "#                 return df1[indice].replace(patron_white, 'white', inplace=False)\n",
    "#             elif patron_tiger in df1[indice]:\n",
    "#                 return df1[indice].replace(patron_tiger, 'tiger', inplace=False)\n",
    "#             elif patron_grey in df1[indice]:\n",
    "#                 return df1[indice].replace(patron_grey, 'grey', inplace=False)\n",
    "#             elif patron_lemon in df1[indice]:\n",
    "#                 return df1[indice].replace(patron_lemon, 'lemon', inplace=False)\n",
    "#             elif patron_bull in df1[indice]:\n",
    "#                 return df1[indice].replace(patron_bull, 'bull', inplace=False)\n",
    "#         except:\n",
    "#             return df1[indice] == 'Unspecified'\n",
    "            \n",
    "      \n",
    "\n",
    "\n",
    "# sol = patrones(df_copia['species_'])\n"
   ]
  },
  {
   "cell_type": "code",
   "execution_count": null,
   "metadata": {},
   "outputs": [],
   "source": [
    "# def patrones():\n",
    "#    try:\n",
    "#       patron = re.findall('.*[Ww](hite|HITE).*',df_copia['species_'])\n",
    "#       for w in patron:\n",
    "#          limpiada = re.sub(w,'white',limpiada) \n",
    "#    except:\n",
    "#       limpiada = df_copia['species_'].replace('Unspecified', inplace=False) \n",
    "      \n",
    "#    return limpiada\n",
    "\n",
    "# patrones()"
   ]
  },
  {
   "cell_type": "code",
   "execution_count": 14,
   "metadata": {},
   "outputs": [
    {
     "ename": "TypeError",
     "evalue": "patrones() missing 1 required positional argument: 'x'",
     "output_type": "error",
     "traceback": [
      "\u001b[0;31m---------------------------------------------------------------------------\u001b[0m",
      "\u001b[0;31mTypeError\u001b[0m                                 Traceback (most recent call last)",
      "\u001b[0;32m/tmp/ipykernel_2660/2674341577.py\u001b[0m in \u001b[0;36m<module>\u001b[0;34m\u001b[0m\n\u001b[1;32m     21\u001b[0m         \u001b[0;32mreturn\u001b[0m \u001b[0;34m'Unspecified'\u001b[0m\u001b[0;34m\u001b[0m\u001b[0;34m\u001b[0m\u001b[0m\n\u001b[1;32m     22\u001b[0m \u001b[0;34m\u001b[0m\u001b[0m\n\u001b[0;32m---> 23\u001b[0;31m \u001b[0mpatrones\u001b[0m\u001b[0;34m(\u001b[0m\u001b[0;34m)\u001b[0m\u001b[0;34m\u001b[0m\u001b[0;34m\u001b[0m\u001b[0m\n\u001b[0m",
      "\u001b[0;31mTypeError\u001b[0m: patrones() missing 1 required positional argument: 'x'"
     ]
    }
   ],
   "source": [
    "# def patrones(x):\n",
    "#     patron_white = re.findall('.*[Ww](hite|HITE).*',df_copia['species_'])\n",
    "#     patron_tiger = re.findall('[TtIiGgEeRr]{5}',df_copia['species_'])\n",
    "#     patron_grey = re.findall('[GgRrEeYy]{4}',df_copia['species_'])\n",
    "#     patron_lemon = re.findall('[LeMmOoNn]{4}',df_copia['species_'])\n",
    "#     patron_bull = re.findall('[BbUuLl]{3}',df_copia['species_'])\n",
    "#     try:\n",
    "#         if patron_white:\n",
    "#             return 'white'\n",
    "#         elif patron_tiger:\n",
    "#             return 'tiger'\n",
    "#         elif patron_grey:\n",
    "#             return 'grey'\n",
    "#         elif patron_lemon:\n",
    "#             return 'lemon'\n",
    "#         elif patron_bull:\n",
    "#             return 'bull'\n",
    "#         else:\n",
    "#            return 'Unspecified' \n",
    "#     except:\n",
    "#         return 'Unspecified'\n",
    "\n",
    "# patrones()"
   ]
  },
  {
   "cell_type": "code",
   "execution_count": 37,
   "metadata": {},
   "outputs": [
    {
     "data": {
      "text/plain": [
       "'Unspecified'"
      ]
     },
     "execution_count": 37,
     "metadata": {},
     "output_type": "execute_result"
    }
   ],
   "source": [
    "def patrones(x):\n",
    "    try:\n",
    "        patron_white = re.findall('.*[Ww](hite|HITE).*',df_copia[str(x)])\n",
    "        patron_tiger = re.findall('.*[Tt](iger|IGER).*',df_copia[str(x)])\n",
    "        patron_grey = re.findall('.*[Gg(rey|REY)].*',df_copia[str(x)])\n",
    "        patron_lemon = re.findall('.*[Ll](emon|EMON).*',df_copia[str(x)])\n",
    "        patron_bull = re.findall('.*[Bb](ull|ULL).*',df_copia[str(x)])\n",
    "        if patron_white:\n",
    "            return 'white'\n",
    "        elif patron_tiger:\n",
    "            return 'tiger'\n",
    "        elif patron_grey:\n",
    "            return 'grey'\n",
    "        elif patron_lemon:\n",
    "            return 'lemon'\n",
    "        elif patron_bull:\n",
    "            return 'bull'\n",
    "        else:\n",
    "           return 'Unspecified' \n",
    "    except TypeError:\n",
    "        return 'Unspecified'\n",
    "\n",
    "patrones('species_')"
   ]
  },
  {
   "cell_type": "code",
   "execution_count": 38,
   "metadata": {},
   "outputs": [
    {
     "data": {
      "text/html": [
       "<div>\n",
       "<style scoped>\n",
       "    .dataframe tbody tr th:only-of-type {\n",
       "        vertical-align: middle;\n",
       "    }\n",
       "\n",
       "    .dataframe tbody tr th {\n",
       "        vertical-align: top;\n",
       "    }\n",
       "\n",
       "    .dataframe thead th {\n",
       "        text-align: right;\n",
       "    }\n",
       "</style>\n",
       "<table border=\"1\" class=\"dataframe\">\n",
       "  <thead>\n",
       "    <tr style=\"text-align: right;\">\n",
       "      <th></th>\n",
       "      <th>case_number</th>\n",
       "      <th>year</th>\n",
       "      <th>type</th>\n",
       "      <th>country</th>\n",
       "      <th>area</th>\n",
       "      <th>location</th>\n",
       "      <th>activity</th>\n",
       "      <th>name</th>\n",
       "      <th>age</th>\n",
       "      <th>time</th>\n",
       "      <th>species_</th>\n",
       "      <th>injury</th>\n",
       "      <th>fecha_limpia</th>\n",
       "      <th>fatal_clean</th>\n",
       "      <th>sexo</th>\n",
       "    </tr>\n",
       "  </thead>\n",
       "  <tbody>\n",
       "    <tr>\n",
       "      <th>6279</th>\n",
       "      <td>1804.02.26.R</td>\n",
       "      <td>1804</td>\n",
       "      <td>Boat</td>\n",
       "      <td>australia</td>\n",
       "      <td>New South Wales</td>\n",
       "      <td>Georges Head, off Port Jackson</td>\n",
       "      <td>NaN</td>\n",
       "      <td>boat</td>\n",
       "      <td>NaN</td>\n",
       "      <td>NaN</td>\n",
       "      <td>NaN</td>\n",
       "      <td>No injury to occupants</td>\n",
       "      <td>Feb</td>\n",
       "      <td>N</td>\n",
       "      <td>NaN</td>\n",
       "    </tr>\n",
       "    <tr>\n",
       "      <th>6280</th>\n",
       "      <td>1803.05.17</td>\n",
       "      <td>1803</td>\n",
       "      <td>Sea Disaster</td>\n",
       "      <td>usa</td>\n",
       "      <td>South Carolina</td>\n",
       "      <td>Off Charleston</td>\n",
       "      <td>NaN</td>\n",
       "      <td>Captain Jones</td>\n",
       "      <td>NaN</td>\n",
       "      <td>NaN</td>\n",
       "      <td>NaN</td>\n",
       "      <td>No injury</td>\n",
       "      <td>May</td>\n",
       "      <td>N</td>\n",
       "      <td>M</td>\n",
       "    </tr>\n",
       "    <tr>\n",
       "      <th>6281</th>\n",
       "      <td>1803.03.00</td>\n",
       "      <td>1803</td>\n",
       "      <td>Unprovoked</td>\n",
       "      <td>australia</td>\n",
       "      <td>Western Australia</td>\n",
       "      <td>Hamelin Harbour, at Faure Island</td>\n",
       "      <td>NaN</td>\n",
       "      <td>M. Lefevre &amp; a sailor (rescuer)</td>\n",
       "      <td>NaN</td>\n",
       "      <td>NaN</td>\n",
       "      <td>NaN</td>\n",
       "      <td>Shark knocked him down &amp; tore clothing of the ...</td>\n",
       "      <td>Mar</td>\n",
       "      <td>N</td>\n",
       "      <td>M</td>\n",
       "    </tr>\n",
       "    <tr>\n",
       "      <th>6282</th>\n",
       "      <td>1802.04.13.R</td>\n",
       "      <td>1802</td>\n",
       "      <td>Unprovoked</td>\n",
       "      <td>india</td>\n",
       "      <td>NaN</td>\n",
       "      <td>NaN</td>\n",
       "      <td>NaN</td>\n",
       "      <td>NaN</td>\n",
       "      <td>NaN</td>\n",
       "      <td>NaN</td>\n",
       "      <td>NaN</td>\n",
       "      <td>FATAL</td>\n",
       "      <td>Apr</td>\n",
       "      <td>Y</td>\n",
       "      <td>NaN</td>\n",
       "    </tr>\n",
       "    <tr>\n",
       "      <th>6283</th>\n",
       "      <td>1801.12.18.R</td>\n",
       "      <td>1801</td>\n",
       "      <td>Provoked</td>\n",
       "      <td>NaN</td>\n",
       "      <td>NaN</td>\n",
       "      <td>NaN</td>\n",
       "      <td>Standing on landed shark's tail</td>\n",
       "      <td>Stephen Pettigew</td>\n",
       "      <td>NaN</td>\n",
       "      <td>NaN</td>\n",
       "      <td>12' shark</td>\n",
       "      <td>FATAL, PROVOKED INCIDENT</td>\n",
       "      <td>Dec</td>\n",
       "      <td>Y</td>\n",
       "      <td>M</td>\n",
       "    </tr>\n",
       "  </tbody>\n",
       "</table>\n",
       "</div>"
      ],
      "text/plain": [
       "       case_number  year          type    country               area  \\\n",
       "6279  1804.02.26.R  1804          Boat  australia    New South Wales   \n",
       "6280    1803.05.17  1803  Sea Disaster        usa     South Carolina   \n",
       "6281    1803.03.00  1803    Unprovoked  australia  Western Australia   \n",
       "6282  1802.04.13.R  1802    Unprovoked      india                NaN   \n",
       "6283  1801.12.18.R  1801      Provoked        NaN                NaN   \n",
       "\n",
       "                              location                         activity  \\\n",
       "6279    Georges Head, off Port Jackson                              NaN   \n",
       "6280                    Off Charleston                              NaN   \n",
       "6281  Hamelin Harbour, at Faure Island                              NaN   \n",
       "6282                               NaN                              NaN   \n",
       "6283                               NaN  Standing on landed shark's tail   \n",
       "\n",
       "                                 name  age time   species_  \\\n",
       "6279                             boat  NaN  NaN        NaN   \n",
       "6280                    Captain Jones  NaN  NaN        NaN   \n",
       "6281  M. Lefevre & a sailor (rescuer)  NaN  NaN        NaN   \n",
       "6282                              NaN  NaN  NaN        NaN   \n",
       "6283                 Stephen Pettigew  NaN  NaN  12' shark   \n",
       "\n",
       "                                                 injury fecha_limpia  \\\n",
       "6279                             No injury to occupants          Feb   \n",
       "6280                                          No injury          May   \n",
       "6281  Shark knocked him down & tore clothing of the ...          Mar   \n",
       "6282                                              FATAL          Apr   \n",
       "6283                           FATAL, PROVOKED INCIDENT          Dec   \n",
       "\n",
       "     fatal_clean sexo  \n",
       "6279           N  NaN  \n",
       "6280           N    M  \n",
       "6281           N    M  \n",
       "6282           Y  NaN  \n",
       "6283           Y    M  "
      ]
     },
     "execution_count": 38,
     "metadata": {},
     "output_type": "execute_result"
    }
   ],
   "source": [
    "df_copia.tail()"
   ]
  },
  {
   "cell_type": "code",
   "execution_count": 16,
   "metadata": {},
   "outputs": [
    {
     "data": {
      "text/plain": [
       "'Unspecified'"
      ]
     },
     "execution_count": 16,
     "metadata": {},
     "output_type": "execute_result"
    }
   ],
   "source": [
    "# def patrones(x):\n",
    "#     for i in range(len(x)):\n",
    "#         try:\n",
    "#             patron_white = re.findall('.*[Ww](hite|HITE).*',x[i])\n",
    "#             patron_tiger = re.findall('.*[Tt](iger|IGER).*',x[i])\n",
    "#             patron_grey = re.findall('.*[Gg(rey|REY)].*',x[i])\n",
    "#             patron_lemon = re.findall('.*[Ll](emon|EMON).*',x[i])\n",
    "#             patron_bull = re.findall('.*[Bb](ull|ULL).*',x[i])\n",
    "#             if patron_white:\n",
    "#                 return 'white'\n",
    "#             elif patron_tiger:\n",
    "#                 return 'tiger'\n",
    "#             elif patron_grey:\n",
    "#                 return 'grey'\n",
    "#             elif patron_lemon:\n",
    "#                 return 'lemon'\n",
    "#             elif patron_bull:\n",
    "#                 return 'bull'\n",
    "#             else:\n",
    "#                 return 'Unspecified' \n",
    "#         except:\n",
    "#             return 'Unspecified'\n",
    "\n",
    "# patrones(df_copia['species_'])"
   ]
  },
  {
   "cell_type": "code",
   "execution_count": null,
   "metadata": {},
   "outputs": [],
   "source": [
    "# species_limpia = []  \n",
    "# def patrones1(x):                        \n",
    "#     for i in range(len(x)):  \n",
    "#         if x[i] ==  re.findall('White',x[i]):\n",
    "#             species_limpia.append(i)\n",
    "#         else:\n",
    "#             species_limpia.append('Unspecified')                 \n",
    "#     print(species_limpia)\n",
    "# patrones1(df_copia['species_'])\n"
   ]
  },
  {
   "cell_type": "code",
   "execution_count": 30,
   "metadata": {},
   "outputs": [],
   "source": [
    "species_limpia = []  \n",
    "\n",
    "def patrones(x): \n",
    "    columna_species = df_copia[x]                      \n",
    "    for fila in columna_species:                      \n",
    "        if re.match('.*[Ww](hite|HITE).*', str(fila)):\n",
    "            species_limpia.append('white')\n",
    "        elif re.match('.*[Tt](iger|IGER).*',str(fila)):\n",
    "            species_limpia.append('tiger')\n",
    "        elif re.match('.*[Gg(rey|REY)].*', str(fila)):\n",
    "            species_limpia.append('grey')\n",
    "        elif re.match('.*[Ll](emon|EMON).*', str(fila)):\n",
    "            species_limpia.append('lemon')\n",
    "        elif re.match('.*[Bb](ull|ULL).*', str(fila)):\n",
    "            species_limpia.append('bull')\n",
    "        else:\n",
    "            species_limpia.append('Unspecified')"
   ]
  },
  {
   "cell_type": "code",
   "execution_count": 31,
   "metadata": {},
   "outputs": [],
   "source": [
    "patrones('species_')"
   ]
  },
  {
   "cell_type": "code",
   "execution_count": 32,
   "metadata": {},
   "outputs": [
    {
     "name": "stdout",
     "output_type": "stream",
     "text": [
      "['Unspecified', 'Unspecified', 'Unspecified', 'Unspecified', 'Unspecified', 'Unspecified', 'Unspecified', 'tiger', 'Unspecified', 'Unspecified', 'Unspecified', 'Unspecified', 'Unspecified', 'white', 'Unspecified', 'grey', 'Unspecified', 'grey', 'Unspecified', 'Unspecified', 'Unspecified', 'Unspecified', 'Unspecified', 'Unspecified', 'Unspecified', 'grey', 'Unspecified', 'white', 'Unspecified', 'Unspecified', 'white', 'Unspecified', 'grey', 'Unspecified', 'Unspecified', 'Unspecified', 'Unspecified', 'Unspecified', 'Unspecified', 'Unspecified', 'white', 'Unspecified', 'Unspecified', 'Unspecified', 'Unspecified', 'Unspecified', 'Unspecified', 'Unspecified', 'Unspecified', 'Unspecified', 'Unspecified', 'Unspecified', 'Unspecified', 'Unspecified', 'Unspecified', 'Unspecified', 'Unspecified', 'Unspecified', 'Unspecified', 'grey', 'Unspecified', 'Unspecified', 'grey', 'Unspecified', 'Unspecified', 'Unspecified', 'Unspecified', 'Unspecified', 'grey', 'Unspecified', 'Unspecified', 'Unspecified', 'Unspecified', 'Unspecified', 'Unspecified', 'Unspecified', 'Unspecified', 'grey', 'Unspecified', 'Unspecified', 'grey', 'Unspecified', 'tiger', 'tiger', 'grey', 'Unspecified', 'Unspecified', 'Unspecified', 'Unspecified', 'Unspecified', 'grey', 'Unspecified', 'grey', 'grey', 'grey', 'grey', 'Unspecified', 'Unspecified', 'grey', 'Unspecified', 'Unspecified', 'Unspecified', 'Unspecified', 'grey', 'Unspecified', 'Unspecified', 'grey', 'grey', 'tiger', 'Unspecified', 'grey', 'grey', 'white', 'white', 'Unspecified', 'Unspecified', 'Unspecified', 'Unspecified', 'grey', 'Unspecified', 'Unspecified', 'grey', 'Unspecified', 'Unspecified', 'Unspecified', 'Unspecified', 'Unspecified', 'grey', 'Unspecified', 'Unspecified', 'Unspecified', 'Unspecified', 'Unspecified', 'grey', 'grey', 'grey', 'Unspecified', 'Unspecified', 'Unspecified', 'Unspecified', 'Unspecified', 'Unspecified', 'white', 'Unspecified', 'tiger', 'Unspecified', 'Unspecified', 'Unspecified', 'Unspecified', 'Unspecified', 'Unspecified', 'Unspecified', 'Unspecified', 'Unspecified', 'Unspecified', 'Unspecified', 'Unspecified', 'Unspecified', 'Unspecified', 'Unspecified', 'Unspecified', 'grey', 'grey', 'grey', 'grey', 'Unspecified', 'Unspecified', 'Unspecified', 'Unspecified', 'Unspecified', 'white', 'Unspecified', 'Unspecified', 'grey', 'tiger', 'Unspecified', 'tiger', 'grey', 'grey', 'Unspecified', 'grey', 'Unspecified', 'Unspecified', 'grey', 'grey', 'Unspecified', 'grey', 'Unspecified', 'tiger', 'Unspecified', 'grey', 'grey', 'white', 'tiger', 'white', 'grey', 'grey', 'Unspecified', 'Unspecified', 'Unspecified', 'tiger', 'grey', 'grey', 'grey', 'white', 'tiger', 'grey', 'grey', 'grey', 'grey', 'white', 'Unspecified', 'grey', 'grey', 'grey', 'grey', 'grey', 'grey', 'grey', 'grey', 'white', 'grey', 'grey', 'tiger', 'Unspecified', 'grey', 'grey', 'tiger', 'tiger', 'grey', 'white', 'Unspecified', 'Unspecified', 'grey', 'tiger', 'grey', 'grey', 'Unspecified', 'Unspecified', 'Unspecified', 'Unspecified', 'white', 'grey', 'grey', 'tiger', 'grey', 'grey', 'grey', 'white', 'grey', 'grey', 'Unspecified', 'grey', 'Unspecified', 'Unspecified', 'Unspecified', 'white', 'grey', 'Unspecified', 'white', 'Unspecified', 'Unspecified', 'Unspecified', 'grey', 'Unspecified', 'Unspecified', 'white', 'Unspecified', 'grey', 'Unspecified', 'white', 'grey', 'grey', 'white', 'grey', 'white', 'Unspecified', 'grey', 'Unspecified', 'Unspecified', 'Unspecified', 'Unspecified', 'tiger', 'grey', 'grey', 'grey', 'white', 'white', 'white', 'Unspecified', 'white', 'grey', 'tiger', 'white', 'grey', 'grey', 'Unspecified', 'Unspecified', 'grey', 'grey', 'Unspecified', 'Unspecified', 'Unspecified', 'white', 'grey', 'Unspecified', 'grey', 'grey', 'tiger', 'grey', 'tiger', 'Unspecified', 'Unspecified', 'grey', 'Unspecified', 'grey', 'Unspecified', 'Unspecified', 'Unspecified', 'Unspecified', 'Unspecified', 'grey', 'Unspecified', 'grey', 'Unspecified', 'white', 'tiger', 'Unspecified', 'Unspecified', 'grey', 'Unspecified', 'Unspecified', 'Unspecified', 'Unspecified', 'Unspecified', 'Unspecified', 'grey', 'Unspecified', 'Unspecified', 'white', 'grey', 'grey', 'grey', 'Unspecified', 'Unspecified', 'Unspecified', 'Unspecified', 'grey', 'tiger', 'white', 'grey', 'Unspecified', 'Unspecified', 'grey', 'Unspecified', 'Unspecified', 'grey', 'Unspecified', 'grey', 'Unspecified', 'grey', 'white', 'Unspecified', 'Unspecified', 'grey', 'grey', 'white', 'grey', 'tiger', 'Unspecified', 'Unspecified', 'Unspecified', 'grey', 'Unspecified', 'Unspecified', 'white', 'Unspecified', 'Unspecified', 'Unspecified', 'Unspecified', 'white', 'Unspecified', 'Unspecified', 'Unspecified', 'Unspecified', 'Unspecified', 'grey', 'Unspecified', 'grey', 'tiger', 'Unspecified', 'Unspecified', 'Unspecified', 'Unspecified', 'white', 'Unspecified', 'grey', 'Unspecified', 'grey', 'Unspecified', 'Unspecified', 'tiger', 'grey', 'grey', 'Unspecified', 'white', 'grey', 'Unspecified', 'Unspecified', 'Unspecified', 'grey', 'grey', 'tiger', 'Unspecified', 'Unspecified', 'white', 'Unspecified', 'grey', 'grey', 'white', 'grey', 'white', 'Unspecified', 'grey', 'grey', 'Unspecified', 'grey', 'white', 'grey', 'Unspecified', 'grey', 'grey', 'grey', 'grey', 'grey', 'Unspecified', 'grey', 'grey', 'grey', 'grey', 'white', 'Unspecified', 'grey', 'Unspecified', 'grey', 'Unspecified', 'grey', 'grey', 'Unspecified', 'grey', 'grey', 'Unspecified', 'white', 'grey', 'grey', 'grey', 'grey', 'tiger', 'grey', 'grey', 'Unspecified', 'Unspecified', 'Unspecified', 'grey', 'Unspecified', 'grey', 'grey', 'Unspecified', 'Unspecified', 'Unspecified', 'grey', 'tiger', 'Unspecified', 'Unspecified', 'Unspecified', 'grey', 'grey', 'Unspecified', 'Unspecified', 'tiger', 'Unspecified', 'grey', 'Unspecified', 'grey', 'grey', 'tiger', 'grey', 'grey', 'grey', 'white', 'grey', 'grey', 'grey', 'tiger', 'Unspecified', 'white', 'grey', 'Unspecified', 'grey', 'Unspecified', 'Unspecified', 'grey', 'grey', 'grey', 'Unspecified', 'grey', 'Unspecified', 'Unspecified', 'Unspecified', 'white', 'grey', 'grey', 'Unspecified', 'grey', 'tiger', 'grey', 'Unspecified', 'tiger', 'Unspecified', 'Unspecified', 'Unspecified', 'grey', 'grey', 'grey', 'Unspecified', 'white', 'grey', 'tiger', 'grey', 'Unspecified', 'grey', 'Unspecified', 'Unspecified', 'grey', 'white', 'grey', 'white', 'grey', 'grey', 'tiger', 'white', 'white', 'grey', 'Unspecified', 'grey', 'grey', 'white', 'grey', 'grey', 'white', 'Unspecified', 'Unspecified', 'grey', 'grey', 'white', 'grey', 'grey', 'grey', 'white', 'white', 'grey', 'grey', 'grey', 'Unspecified', 'white', 'white', 'grey', 'Unspecified', 'grey', 'grey', 'white', 'grey', 'white', 'grey', 'grey', 'Unspecified', 'tiger', 'white', 'grey', 'Unspecified', 'Unspecified', 'grey', 'grey', 'grey', 'grey', 'grey', 'grey', 'grey', 'Unspecified', 'Unspecified', 'grey', 'Unspecified', 'grey', 'grey', 'grey', 'Unspecified', 'white', 'white', 'Unspecified', 'grey', 'white', 'white', 'grey', 'grey', 'Unspecified', 'grey', 'grey', 'grey', 'white', 'grey', 'tiger', 'grey', 'Unspecified', 'Unspecified', 'grey', 'white', 'tiger', 'grey', 'grey', 'grey', 'grey', 'grey', 'Unspecified', 'Unspecified', 'white', 'grey', 'grey', 'grey', 'grey', 'white', 'grey', 'grey', 'grey', 'white', 'grey', 'grey', 'white', 'grey', 'grey', 'tiger', 'Unspecified', 'Unspecified', 'Unspecified', 'white', 'white', 'grey', 'grey', 'Unspecified', 'Unspecified', 'tiger', 'Unspecified', 'tiger', 'Unspecified', 'Unspecified', 'grey', 'grey', 'grey', 'Unspecified', 'Unspecified', 'grey', 'Unspecified', 'grey', 'white', 'white', 'grey', 'white', 'Unspecified', 'grey', 'grey', 'grey', 'grey', 'white', 'grey', 'Unspecified', 'grey', 'grey', 'grey', 'Unspecified', 'grey', 'grey', 'Unspecified', 'grey', 'grey', 'grey', 'grey', 'Unspecified', 'grey', 'Unspecified', 'grey', 'grey', 'Unspecified', 'Unspecified', 'white', 'grey', 'tiger', 'grey', 'Unspecified', 'grey', 'grey', 'grey', 'grey', 'Unspecified', 'Unspecified', 'white', 'Unspecified', 'grey', 'white', 'grey', 'Unspecified', 'Unspecified', 'grey', 'Unspecified', 'grey', 'grey', 'Unspecified', 'Unspecified', 'grey', 'Unspecified', 'grey', 'grey', 'grey', 'grey', 'Unspecified', 'white', 'Unspecified', 'grey', 'grey', 'grey', 'grey', 'grey', 'grey', 'Unspecified', 'Unspecified', 'white', 'grey', 'Unspecified', 'Unspecified', 'white', 'grey', 'grey', 'grey', 'Unspecified', 'Unspecified', 'Unspecified', 'grey', 'grey', 'Unspecified', 'grey', 'grey', 'Unspecified', 'Unspecified', 'Unspecified', 'grey', 'grey', 'grey', 'Unspecified', 'white', 'white', 'grey', 'white', 'Unspecified', 'tiger', 'grey', 'grey', 'Unspecified', 'tiger', 'Unspecified', 'white', 'white', 'white', 'Unspecified', 'Unspecified', 'Unspecified', 'tiger', 'grey', 'grey', 'white', 'grey', 'white', 'tiger', 'grey', 'white', 'white', 'white', 'Unspecified', 'Unspecified', 'Unspecified', 'Unspecified', 'Unspecified', 'grey', 'grey', 'Unspecified', 'grey', 'grey', 'Unspecified', 'grey', 'Unspecified', 'grey', 'grey', 'grey', 'grey', 'grey', 'Unspecified', 'Unspecified', 'Unspecified', 'white', 'tiger', 'Unspecified', 'grey', 'grey', 'grey', 'Unspecified', 'Unspecified', 'grey', 'Unspecified', 'tiger', 'grey', 'Unspecified', 'Unspecified', 'Unspecified', 'Unspecified', 'Unspecified', 'Unspecified', 'Unspecified', 'grey', 'Unspecified', 'Unspecified', 'grey', 'white', 'grey', 'grey', 'tiger', 'Unspecified', 'Unspecified', 'Unspecified', 'grey', 'grey', 'grey', 'grey', 'Unspecified', 'Unspecified', 'Unspecified', 'grey', 'Unspecified', 'grey', 'grey', 'grey', 'tiger', 'grey', 'grey', 'grey', 'grey', 'Unspecified', 'grey', 'Unspecified', 'grey', 'grey', 'grey', 'Unspecified', 'grey', 'Unspecified', 'grey', 'Unspecified', 'tiger', 'grey', 'grey', 'Unspecified', 'white', 'grey', 'grey', 'grey', 'grey', 'Unspecified', 'white', 'Unspecified', 'Unspecified', 'tiger', 'grey', 'Unspecified', 'Unspecified', 'grey', 'grey', 'tiger', 'tiger', 'grey', 'tiger', 'grey', 'tiger', 'grey', 'grey', 'grey', 'tiger', 'tiger', 'white', 'tiger', 'white', 'Unspecified', 'Unspecified', 'grey', 'grey', 'Unspecified', 'Unspecified', 'grey', 'grey', 'grey', 'Unspecified', 'grey', 'Unspecified', 'Unspecified', 'Unspecified', 'Unspecified', 'Unspecified', 'Unspecified', 'grey', 'grey', 'grey', 'Unspecified', 'Unspecified', 'Unspecified', 'grey', 'grey', 'grey', 'grey', 'Unspecified', 'white', 'Unspecified', 'white', 'grey', 'Unspecified', 'Unspecified', 'grey', 'white', 'Unspecified', 'Unspecified', 'Unspecified', 'grey', 'grey', 'grey', 'grey', 'Unspecified', 'grey', 'Unspecified', 'Unspecified', 'grey', 'grey', 'Unspecified', 'grey', 'grey', 'grey', 'grey', 'grey', 'grey', 'grey', 'white', 'Unspecified', 'Unspecified', 'grey', 'grey', 'grey', 'tiger', 'Unspecified', 'white', 'Unspecified', 'white', 'grey', 'white', 'white', 'tiger', 'grey', 'white', 'Unspecified', 'white', 'grey', 'grey', 'grey', 'grey', 'Unspecified', 'grey', 'Unspecified', 'grey', 'Unspecified', 'Unspecified', 'grey', 'grey', 'white', 'Unspecified', 'grey', 'tiger', 'tiger', 'grey', 'white', 'grey', 'white', 'grey', 'tiger', 'Unspecified', 'grey', 'Unspecified', 'Unspecified', 'grey', 'Unspecified', 'white', 'grey', 'grey', 'Unspecified', 'grey', 'Unspecified', 'Unspecified', 'grey', 'white', 'Unspecified', 'Unspecified', 'Unspecified', 'white', 'grey', 'grey', 'white', 'white', 'grey', 'grey', 'grey', 'Unspecified', 'grey', 'Unspecified', 'Unspecified', 'grey', 'Unspecified', 'white', 'grey', 'Unspecified', 'Unspecified', 'Unspecified', 'Unspecified', 'grey', 'Unspecified', 'tiger', 'Unspecified', 'white', 'grey', 'grey', 'grey', 'Unspecified', 'Unspecified', 'Unspecified', 'Unspecified', 'white', 'Unspecified', 'tiger', 'grey', 'grey', 'grey', 'Unspecified', 'grey', 'grey', 'Unspecified', 'Unspecified', 'grey', 'Unspecified', 'Unspecified', 'white', 'Unspecified', 'Unspecified', 'Unspecified', 'Unspecified', 'Unspecified', 'Unspecified', 'Unspecified', 'Unspecified', 'Unspecified', 'Unspecified', 'grey', 'grey', 'white', 'Unspecified', 'grey', 'Unspecified', 'Unspecified', 'white', 'grey', 'Unspecified', 'grey', 'grey', 'grey', 'Unspecified', 'white', 'tiger', 'tiger', 'grey', 'Unspecified', 'tiger', 'Unspecified', 'grey', 'Unspecified', 'Unspecified', 'grey', 'grey', 'grey', 'grey', 'grey', 'Unspecified', 'grey', 'grey', 'grey', 'Unspecified', 'Unspecified', 'grey', 'Unspecified', 'Unspecified', 'grey', 'grey', 'Unspecified', 'white', 'grey', 'Unspecified', 'Unspecified', 'Unspecified', 'grey', 'Unspecified', 'grey', 'grey', 'Unspecified', 'Unspecified', 'white', 'grey', 'Unspecified', 'Unspecified', 'white', 'Unspecified', 'grey', 'grey', 'white', 'white', 'Unspecified', 'grey', 'Unspecified', 'Unspecified', 'Unspecified', 'white', 'white', 'Unspecified', 'Unspecified', 'Unspecified', 'grey', 'Unspecified', 'white', 'Unspecified', 'grey', 'grey', 'grey', 'Unspecified', 'white', 'Unspecified', 'white', 'grey', 'grey', 'Unspecified', 'Unspecified', 'Unspecified', 'Unspecified', 'Unspecified', 'grey', 'Unspecified', 'white', 'white', 'Unspecified', 'Unspecified', 'Unspecified', 'Unspecified', 'grey', 'grey', 'white', 'grey', 'grey', 'Unspecified', 'grey', 'tiger', 'grey', 'grey', 'Unspecified', 'grey', 'Unspecified', 'grey', 'grey', 'grey', 'grey', 'Unspecified', 'Unspecified', 'grey', 'grey', 'Unspecified', 'Unspecified', 'grey', 'grey', 'grey', 'Unspecified', 'Unspecified', 'grey', 'grey', 'grey', 'grey', 'white', 'grey', 'grey', 'grey', 'Unspecified', 'grey', 'grey', 'grey', 'white', 'grey', 'Unspecified', 'Unspecified', 'grey', 'grey', 'Unspecified', 'Unspecified', 'Unspecified', 'white', 'white', 'Unspecified', 'Unspecified', 'Unspecified', 'Unspecified', 'Unspecified', 'Unspecified', 'Unspecified', 'grey', 'Unspecified', 'grey', 'Unspecified', 'white', 'Unspecified', 'white', 'tiger', 'grey', 'grey', 'grey', 'Unspecified', 'Unspecified', 'grey', 'grey', 'Unspecified', 'white', 'grey', 'Unspecified', 'Unspecified', 'grey', 'Unspecified', 'grey', 'grey', 'Unspecified', 'grey', 'grey', 'Unspecified', 'Unspecified', 'Unspecified', 'grey', 'Unspecified', 'Unspecified', 'Unspecified', 'grey', 'white', 'white', 'white', 'Unspecified', 'tiger', 'grey', 'grey', 'Unspecified', 'Unspecified', 'Unspecified', 'Unspecified', 'grey', 'Unspecified', 'Unspecified', 'Unspecified', 'grey', 'grey', 'Unspecified', 'Unspecified', 'grey', 'grey', 'grey', 'grey', 'white', 'white', 'white', 'white', 'grey', 'grey', 'grey', 'grey', 'grey', 'grey', 'grey', 'Unspecified', 'Unspecified', 'Unspecified', 'Unspecified', 'Unspecified', 'grey', 'grey', 'grey', 'grey', 'white', 'Unspecified', 'grey', 'Unspecified', 'grey', 'Unspecified', 'Unspecified', 'grey', 'grey', 'grey', 'grey', 'Unspecified', 'grey', 'Unspecified', 'grey', 'Unspecified', 'Unspecified', 'white', 'grey', 'Unspecified', 'white', 'Unspecified', 'Unspecified', 'grey', 'grey', 'Unspecified', 'Unspecified', 'tiger', 'Unspecified', 'white', 'Unspecified', 'white', 'grey', 'white', 'white', 'grey', 'Unspecified', 'grey', 'grey', 'grey', 'grey', 'Unspecified', 'white', 'white', 'white', 'grey', 'grey', 'white', 'grey', 'white', 'Unspecified', 'Unspecified', 'grey', 'Unspecified', 'Unspecified', 'grey', 'grey', 'grey', 'Unspecified', 'Unspecified', 'white', 'Unspecified', 'grey', 'grey', 'grey', 'tiger', 'white', 'grey', 'Unspecified', 'Unspecified', 'grey', 'Unspecified', 'Unspecified', 'grey', 'grey', 'Unspecified', 'grey', 'Unspecified', 'grey', 'Unspecified', 'grey', 'grey', 'Unspecified', 'tiger', 'white', 'white', 'grey', 'grey', 'grey', 'Unspecified', 'Unspecified', 'grey', 'grey', 'Unspecified', 'grey', 'white', 'grey', 'Unspecified', 'Unspecified', 'Unspecified', 'grey', 'grey', 'grey', 'white', 'white', 'Unspecified', 'grey', 'Unspecified', 'white', 'Unspecified', 'Unspecified', 'Unspecified', 'grey', 'grey', 'grey', 'Unspecified', 'tiger', 'grey', 'grey', 'Unspecified', 'white', 'grey', 'Unspecified', 'Unspecified', 'tiger', 'grey', 'Unspecified', 'grey', 'Unspecified', 'white', 'Unspecified', 'tiger', 'tiger', 'grey', 'grey', 'grey', 'Unspecified', 'grey', 'Unspecified', 'grey', 'Unspecified', 'Unspecified', 'grey', 'grey', 'grey', 'Unspecified', 'grey', 'white', 'grey', 'Unspecified', 'Unspecified', 'grey', 'grey', 'grey', 'grey', 'grey', 'grey', 'grey', 'grey', 'grey', 'grey', 'grey', 'Unspecified', 'grey', 'grey', 'grey', 'tiger', 'Unspecified', 'grey', 'grey', 'Unspecified', 'grey', 'grey', 'grey', 'white', 'Unspecified', 'tiger', 'white', 'grey', 'grey', 'grey', 'Unspecified', 'Unspecified', 'tiger', 'grey', 'white', 'white', 'grey', 'grey', 'grey', 'grey', 'Unspecified', 'grey', 'grey', 'Unspecified', 'Unspecified', 'Unspecified', 'grey', 'grey', 'tiger', 'white', 'grey', 'grey', 'grey', 'tiger', 'Unspecified', 'grey', 'Unspecified', 'grey', 'Unspecified', 'Unspecified', 'Unspecified', 'Unspecified', 'grey', 'Unspecified', 'Unspecified', 'white', 'white', 'Unspecified', 'grey', 'grey', 'grey', 'grey', 'grey', 'grey', 'Unspecified', 'grey', 'grey', 'grey', 'Unspecified', 'grey', 'tiger', 'grey', 'grey', 'Unspecified', 'Unspecified', 'grey', 'grey', 'grey', 'grey', 'grey', 'white', 'grey', 'tiger', 'grey', 'Unspecified', 'grey', 'grey', 'grey', 'grey', 'grey', 'tiger', 'Unspecified', 'grey', 'Unspecified', 'Unspecified', 'grey', 'grey', 'grey', 'grey', 'Unspecified', 'tiger', 'grey', 'Unspecified', 'Unspecified', 'tiger', 'grey', 'white', 'grey', 'tiger', 'grey', 'grey', 'tiger', 'grey', 'grey', 'white', 'grey', 'white', 'Unspecified', 'grey', 'grey', 'white', 'Unspecified', 'Unspecified', 'grey', 'grey', 'Unspecified', 'Unspecified', 'Unspecified', 'Unspecified', 'grey', 'Unspecified', 'grey', 'grey', 'grey', 'Unspecified', 'grey', 'Unspecified', 'Unspecified', 'grey', 'Unspecified', 'grey', 'grey', 'Unspecified', 'Unspecified', 'grey', 'white', 'Unspecified', 'grey', 'grey', 'white', 'grey', 'Unspecified', 'white', 'Unspecified', 'grey', 'grey', 'grey', 'grey', 'Unspecified', 'tiger', 'Unspecified', 'Unspecified', 'grey', 'Unspecified', 'grey', 'grey', 'Unspecified', 'Unspecified', 'Unspecified', 'grey', 'Unspecified', 'Unspecified', 'grey', 'grey', 'white', 'tiger', 'tiger', 'Unspecified', 'grey', 'Unspecified', 'tiger', 'Unspecified', 'Unspecified', 'grey', 'Unspecified', 'Unspecified', 'Unspecified', 'grey', 'grey', 'grey', 'tiger', 'Unspecified', 'grey', 'tiger', 'grey', 'tiger', 'grey', 'grey', 'Unspecified', 'Unspecified', 'Unspecified', 'white', 'grey', 'tiger', 'grey', 'grey', 'Unspecified', 'Unspecified', 'Unspecified', 'white', 'Unspecified', 'grey', 'grey', 'grey', 'white', 'tiger', 'grey', 'white', 'white', 'Unspecified', 'grey', 'white', 'grey', 'Unspecified', 'Unspecified', 'grey', 'Unspecified', 'white', 'grey', 'grey', 'Unspecified', 'white', 'grey', 'grey', 'grey', 'white', 'white', 'Unspecified', 'tiger', 'grey', 'Unspecified', 'Unspecified', 'white', 'tiger', 'white', 'grey', 'grey', 'grey', 'Unspecified', 'Unspecified', 'grey', 'white', 'Unspecified', 'grey', 'white', 'white', 'grey', 'grey', 'Unspecified', 'grey', 'grey', 'Unspecified', 'Unspecified', 'Unspecified', 'Unspecified', 'grey', 'grey', 'grey', 'grey', 'grey', 'Unspecified', 'Unspecified', 'grey', 'grey', 'grey', 'Unspecified', 'Unspecified', 'grey', 'white', 'Unspecified', 'white', 'white', 'Unspecified', 'grey', 'grey', 'grey', 'grey', 'tiger', 'grey', 'Unspecified', 'tiger', 'grey', 'Unspecified', 'grey', 'grey', 'grey', 'grey', 'Unspecified', 'grey', 'grey', 'Unspecified', 'Unspecified', 'white', 'tiger', 'Unspecified', 'grey', 'Unspecified', 'grey', 'grey', 'tiger', 'grey', 'Unspecified', 'grey', 'grey', 'grey', 'white', 'grey', 'white', 'grey', 'grey', 'grey', 'white', 'white', 'Unspecified', 'grey', 'grey', 'Unspecified', 'white', 'grey', 'white', 'tiger', 'grey', 'tiger', 'Unspecified', 'Unspecified', 'tiger', 'white', 'grey', 'Unspecified', 'grey', 'Unspecified', 'tiger', 'white', 'white', 'grey', 'Unspecified', 'white', 'Unspecified', 'white', 'Unspecified', 'grey', 'grey', 'grey', 'white', 'grey', 'grey', 'grey', 'grey', 'white', 'Unspecified', 'Unspecified', 'grey', 'grey', 'white', 'grey', 'grey', 'grey', 'Unspecified', 'grey', 'Unspecified', 'Unspecified', 'grey', 'grey', 'Unspecified', 'grey', 'white', 'grey', 'grey', 'tiger', 'white', 'grey', 'Unspecified', 'grey', 'grey', 'grey', 'grey', 'Unspecified', 'grey', 'grey', 'tiger', 'grey', 'Unspecified', 'grey', 'Unspecified', 'grey', 'Unspecified', 'grey', 'white', 'tiger', 'grey', 'grey', 'grey', 'grey', 'grey', 'grey', 'Unspecified', 'Unspecified', 'Unspecified', 'grey', 'grey', 'Unspecified', 'Unspecified', 'Unspecified', 'grey', 'grey', 'tiger', 'grey', 'tiger', 'Unspecified', 'white', 'white', 'Unspecified', 'grey', 'grey', 'grey', 'tiger', 'Unspecified', 'grey', 'grey', 'grey', 'Unspecified', 'Unspecified', 'Unspecified', 'Unspecified', 'grey', 'Unspecified', 'Unspecified', 'Unspecified', 'Unspecified', 'Unspecified', 'grey', 'grey', 'grey', 'grey', 'grey', 'white', 'Unspecified', 'grey', 'white', 'grey', 'white', 'Unspecified', 'Unspecified', 'Unspecified', 'grey', 'grey', 'grey', 'grey', 'grey', 'Unspecified', 'grey', 'grey', 'grey', 'Unspecified', 'grey', 'grey', 'grey', 'grey', 'Unspecified', 'grey', 'Unspecified', 'grey', 'grey', 'grey', 'Unspecified', 'white', 'Unspecified', 'Unspecified', 'grey', 'Unspecified', 'grey', 'grey', 'grey', 'grey', 'grey', 'grey', 'grey', 'grey', 'grey', 'Unspecified', 'grey', 'grey', 'white', 'grey', 'grey', 'grey', 'grey', 'grey', 'grey', 'grey', 'grey', 'white', 'grey', 'grey', 'grey', 'Unspecified', 'grey', 'white', 'grey', 'grey', 'grey', 'grey', 'Unspecified', 'grey', 'tiger', 'Unspecified', 'grey', 'grey', 'grey', 'grey', 'Unspecified', 'grey', 'grey', 'tiger', 'grey', 'grey', 'tiger', 'Unspecified', 'white', 'grey', 'grey', 'tiger', 'Unspecified', 'grey', 'grey', 'Unspecified', 'tiger', 'grey', 'grey', 'grey', 'Unspecified', 'grey', 'tiger', 'grey', 'Unspecified', 'Unspecified', 'grey', 'Unspecified', 'Unspecified', 'tiger', 'grey', 'Unspecified', 'Unspecified', 'grey', 'white', 'grey', 'grey', 'Unspecified', 'grey', 'Unspecified', 'grey', 'Unspecified', 'Unspecified', 'white', 'Unspecified', 'grey', 'Unspecified', 'Unspecified', 'grey', 'grey', 'grey', 'tiger', 'Unspecified', 'Unspecified', 'grey', 'grey', 'grey', 'grey', 'Unspecified', 'grey', 'Unspecified', 'grey', 'tiger', 'Unspecified', 'grey', 'Unspecified', 'grey', 'tiger', 'Unspecified', 'grey', 'Unspecified', 'Unspecified', 'grey', 'grey', 'tiger', 'white', 'grey', 'Unspecified', 'grey', 'grey', 'Unspecified', 'tiger', 'Unspecified', 'Unspecified', 'grey', 'white', 'white', 'grey', 'grey', 'grey', 'Unspecified', 'Unspecified', 'Unspecified', 'Unspecified', 'grey', 'Unspecified', 'Unspecified', 'Unspecified', 'Unspecified', 'grey', 'grey', 'grey', 'grey', 'grey', 'Unspecified', 'Unspecified', 'Unspecified', 'Unspecified', 'Unspecified', 'grey', 'grey', 'Unspecified', 'grey', 'Unspecified', 'grey', 'Unspecified', 'Unspecified', 'grey', 'white', 'grey', 'grey', 'Unspecified', 'grey', 'Unspecified', 'Unspecified', 'grey', 'white', 'Unspecified', 'grey', 'Unspecified', 'Unspecified', 'Unspecified', 'grey', 'Unspecified', 'Unspecified', 'grey', 'grey', 'grey', 'grey', 'Unspecified', 'white', 'grey', 'white', 'grey', 'grey', 'Unspecified', 'grey', 'Unspecified', 'grey', 'grey', 'Unspecified', 'tiger', 'white', 'grey', 'grey', 'grey', 'grey', 'white', 'grey', 'white', 'Unspecified', 'grey', 'white', 'grey', 'grey', 'Unspecified', 'tiger', 'grey', 'grey', 'Unspecified', 'white', 'white', 'white', 'white', 'Unspecified', 'tiger', 'Unspecified', 'grey', 'grey', 'Unspecified', 'Unspecified', 'white', 'white', 'white', 'grey', 'white', 'Unspecified', 'Unspecified', 'Unspecified', 'grey', 'Unspecified', 'white', 'grey', 'grey', 'tiger', 'grey', 'grey', 'grey', 'grey', 'Unspecified', 'tiger', 'grey', 'grey', 'grey', 'grey', 'grey', 'Unspecified', 'grey', 'Unspecified', 'grey', 'Unspecified', 'Unspecified', 'Unspecified', 'grey', 'Unspecified', 'Unspecified', 'grey', 'tiger', 'Unspecified', 'grey', 'grey', 'grey', 'grey', 'Unspecified', 'grey', 'Unspecified', 'grey', 'grey', 'grey', 'grey', 'Unspecified', 'grey', 'tiger', 'grey', 'Unspecified', 'Unspecified', 'Unspecified', 'Unspecified', 'Unspecified', 'grey', 'grey', 'grey', 'tiger', 'tiger', 'grey', 'Unspecified', 'grey', 'Unspecified', 'grey', 'Unspecified', 'white', 'grey', 'Unspecified', 'grey', 'Unspecified', 'Unspecified', 'grey', 'grey', 'grey', 'grey', 'white', 'grey', 'grey', 'Unspecified', 'Unspecified', 'tiger', 'white', 'white', 'grey', 'grey', 'grey', 'Unspecified', 'Unspecified', 'grey', 'tiger', 'Unspecified', 'white', 'white', 'grey', 'Unspecified', 'grey', 'grey', 'Unspecified', 'grey', 'Unspecified', 'grey', 'Unspecified', 'grey', 'grey', 'grey', 'white', 'grey', 'tiger', 'white', 'Unspecified', 'grey', 'white', 'grey', 'grey', 'Unspecified', 'grey', 'white', 'tiger', 'grey', 'grey', 'Unspecified', 'grey', 'Unspecified', 'Unspecified', 'grey', 'grey', 'Unspecified', 'grey', 'grey', 'tiger', 'grey', 'grey', 'white', 'Unspecified', 'grey', 'grey', 'white', 'grey', 'Unspecified', 'Unspecified', 'white', 'Unspecified', 'Unspecified', 'tiger', 'grey', 'grey', 'white', 'grey', 'white', 'Unspecified', 'Unspecified', 'Unspecified', 'Unspecified', 'Unspecified', 'Unspecified', 'Unspecified', 'Unspecified', 'Unspecified', 'grey', 'grey', 'grey', 'Unspecified', 'white', 'grey', 'grey', 'grey', 'tiger', 'white', 'white', 'Unspecified', 'Unspecified', 'grey', 'grey', 'grey', 'white', 'white', 'Unspecified', 'Unspecified', 'Unspecified', 'white', 'grey', 'grey', 'grey', 'Unspecified', 'white', 'grey', 'white', 'grey', 'Unspecified', 'Unspecified', 'Unspecified', 'white', 'grey', 'grey', 'grey', 'grey', 'Unspecified', 'Unspecified', 'Unspecified', 'grey', 'Unspecified', 'Unspecified', 'tiger', 'white', 'Unspecified', 'grey', 'Unspecified', 'white', 'Unspecified', 'grey', 'white', 'tiger', 'grey', 'grey', 'grey', 'Unspecified', 'Unspecified', 'Unspecified', 'grey', 'Unspecified', 'Unspecified', 'Unspecified', 'white', 'grey', 'tiger', 'Unspecified', 'Unspecified', 'white', 'Unspecified', 'Unspecified', 'grey', 'grey', 'grey', 'grey', 'Unspecified', 'white', 'Unspecified', 'grey', 'white', 'Unspecified', 'grey', 'tiger', 'grey', 'Unspecified', 'grey', 'grey', 'grey', 'grey', 'grey', 'Unspecified', 'white', 'grey', 'tiger', 'Unspecified', 'Unspecified', 'Unspecified', 'grey', 'tiger', 'grey', 'white', 'Unspecified', 'white', 'Unspecified', 'Unspecified', 'white', 'Unspecified', 'Unspecified', 'Unspecified', 'Unspecified', 'white', 'grey', 'white', 'Unspecified', 'Unspecified', 'white', 'grey', 'Unspecified', 'Unspecified', 'grey', 'white', 'tiger', 'white', 'grey', 'Unspecified', 'white', 'white', 'grey', 'Unspecified', 'Unspecified', 'Unspecified', 'grey', 'Unspecified', 'Unspecified', 'white', 'Unspecified', 'white', 'grey', 'grey', 'Unspecified', 'grey', 'Unspecified', 'grey', 'grey', 'Unspecified', 'tiger', 'grey', 'grey', 'grey', 'Unspecified', 'Unspecified', 'Unspecified', 'Unspecified', 'grey', 'grey', 'grey', 'tiger', 'Unspecified', 'grey', 'tiger', 'tiger', 'tiger', 'Unspecified', 'white', 'grey', 'Unspecified', 'Unspecified', 'Unspecified', 'Unspecified', 'grey', 'grey', 'grey', 'Unspecified', 'white', 'grey', 'Unspecified', 'Unspecified', 'grey', 'white', 'white', 'grey', 'grey', 'Unspecified', 'Unspecified', 'grey', 'grey', 'grey', 'grey', 'grey', 'grey', 'grey', 'grey', 'Unspecified', 'Unspecified', 'grey', 'grey', 'Unspecified', 'Unspecified', 'Unspecified', 'Unspecified', 'Unspecified', 'Unspecified', 'Unspecified', 'Unspecified', 'Unspecified', 'Unspecified', 'Unspecified', 'Unspecified', 'grey', 'Unspecified', 'white', 'white', 'grey', 'Unspecified', 'grey', 'grey', 'tiger', 'tiger', 'grey', 'Unspecified', 'grey', 'grey', 'Unspecified', 'grey', 'Unspecified', 'Unspecified', 'grey', 'white', 'Unspecified', 'grey', 'Unspecified', 'grey', 'Unspecified', 'tiger', 'Unspecified', 'grey', 'grey', 'Unspecified', 'Unspecified', 'white', 'Unspecified', 'Unspecified', 'Unspecified', 'Unspecified', 'Unspecified', 'white', 'Unspecified', 'grey', 'grey', 'Unspecified', 'Unspecified', 'Unspecified', 'grey', 'Unspecified', 'Unspecified', 'white', 'Unspecified', 'grey', 'Unspecified', 'Unspecified', 'Unspecified', 'grey', 'white', 'white', 'Unspecified', 'grey', 'grey', 'Unspecified', 'grey', 'grey', 'grey', 'Unspecified', 'grey', 'Unspecified', 'grey', 'grey', 'Unspecified', 'white', 'white', 'white', 'grey', 'grey', 'grey', 'grey', 'Unspecified', 'white', 'Unspecified', 'Unspecified', 'tiger', 'Unspecified', 'white', 'grey', 'grey', 'tiger', 'Unspecified', 'tiger', 'Unspecified', 'tiger', 'Unspecified', 'Unspecified', 'white', 'grey', 'white', 'tiger', 'Unspecified', 'white', 'white', 'Unspecified', 'grey', 'Unspecified', 'grey', 'grey', 'Unspecified', 'Unspecified', 'white', 'grey', 'white', 'white', 'Unspecified', 'white', 'white', 'grey', 'Unspecified', 'Unspecified', 'Unspecified', 'Unspecified', 'tiger', 'white', 'white', 'Unspecified', 'grey', 'Unspecified', 'Unspecified', 'Unspecified', 'Unspecified', 'Unspecified', 'white', 'tiger', 'white', 'Unspecified', 'Unspecified', 'grey', 'grey', 'Unspecified', 'grey', 'white', 'white', 'white', 'Unspecified', 'Unspecified', 'grey', 'tiger', 'tiger', 'grey', 'grey', 'grey', 'white', 'grey', 'grey', 'Unspecified', 'tiger', 'white', 'tiger', 'grey', 'Unspecified', 'white', 'Unspecified', 'white', 'Unspecified', 'Unspecified', 'Unspecified', 'grey', 'white', 'grey', 'white', 'grey', 'grey', 'Unspecified', 'grey', 'Unspecified', 'Unspecified', 'Unspecified', 'grey', 'Unspecified', 'white', 'grey', 'grey', 'tiger', 'Unspecified', 'white', 'grey', 'tiger', 'grey', 'white', 'Unspecified', 'white', 'tiger', 'grey', 'grey', 'grey', 'grey', 'grey', 'grey', 'grey', 'Unspecified', 'grey', 'Unspecified', 'white', 'tiger', 'tiger', 'tiger', 'grey', 'grey', 'grey', 'white', 'Unspecified', 'white', 'grey', 'grey', 'grey', 'grey', 'white', 'grey', 'grey', 'Unspecified', 'tiger', 'white', 'grey', 'Unspecified', 'Unspecified', 'Unspecified', 'grey', 'tiger', 'grey', 'white', 'grey', 'grey', 'grey', 'grey', 'grey', 'white', 'white', 'Unspecified', 'grey', 'grey', 'grey', 'grey', 'white', 'grey', 'grey', 'Unspecified', 'Unspecified', 'Unspecified', 'grey', 'tiger', 'grey', 'white', 'white', 'white', 'grey', 'white', 'Unspecified', 'Unspecified', 'Unspecified', 'Unspecified', 'white', 'grey', 'grey', 'grey', 'white', 'white', 'tiger', 'Unspecified', 'grey', 'grey', 'Unspecified', 'Unspecified', 'grey', 'grey', 'Unspecified', 'white', 'Unspecified', 'Unspecified', 'tiger', 'grey', 'white', 'white', 'grey', 'grey', 'Unspecified', 'white', 'grey', 'grey', 'grey', 'white', 'white', 'grey', 'white', 'white', 'grey', 'grey', 'grey', 'grey', 'white', 'grey', 'Unspecified', 'white', 'grey', 'white', 'Unspecified', 'Unspecified', 'grey', 'Unspecified', 'tiger', 'white', 'white', 'white', 'Unspecified', 'grey', 'white', 'white', 'Unspecified', 'Unspecified', 'white', 'tiger', 'grey', 'Unspecified', 'white', 'Unspecified', 'white', 'grey', 'Unspecified', 'Unspecified', 'tiger', 'grey', 'Unspecified', 'white', 'Unspecified', 'Unspecified', 'Unspecified', 'white', 'grey', 'grey', 'grey', 'grey', 'Unspecified', 'grey', 'grey', 'grey', 'grey', 'tiger', 'Unspecified', 'Unspecified', 'white', 'grey', 'grey', 'grey', 'Unspecified', 'Unspecified', 'grey', 'Unspecified', 'white', 'tiger', 'grey', 'Unspecified', 'grey', 'Unspecified', 'Unspecified', 'Unspecified', 'Unspecified', 'white', 'Unspecified', 'grey', 'Unspecified', 'Unspecified', 'grey', 'Unspecified', 'Unspecified', 'grey', 'Unspecified', 'grey', 'grey', 'grey', 'grey', 'tiger', 'grey', 'grey', 'grey', 'grey', 'grey', 'grey', 'Unspecified', 'grey', 'grey', 'Unspecified', 'grey', 'grey', 'grey', 'white', 'grey', 'white', 'white', 'grey', 'white', 'grey', 'grey', 'grey', 'grey', 'Unspecified', 'grey', 'grey', 'grey', 'Unspecified', 'Unspecified', 'grey', 'Unspecified', 'Unspecified', 'grey', 'grey', 'white', 'grey', 'Unspecified', 'white', 'Unspecified', 'grey', 'white', 'grey', 'white', 'grey', 'Unspecified', 'white', 'Unspecified', 'tiger', 'Unspecified', 'Unspecified', 'Unspecified', 'grey', 'grey', 'grey', 'Unspecified', 'grey', 'grey', 'Unspecified', 'Unspecified', 'Unspecified', 'Unspecified', 'grey', 'Unspecified', 'white', 'grey', 'grey', 'grey', 'Unspecified', 'Unspecified', 'grey', 'white', 'grey', 'grey', 'white', 'Unspecified', 'grey', 'grey', 'grey', 'grey', 'grey', 'Unspecified', 'tiger', 'grey', 'white', 'Unspecified', 'white', 'grey', 'tiger', 'grey', 'grey', 'white', 'grey', 'grey', 'Unspecified', 'Unspecified', 'grey', 'grey', 'grey', 'Unspecified', 'white', 'tiger', 'white', 'grey', 'grey', 'Unspecified', 'white', 'white', 'Unspecified', 'grey', 'grey', 'white', 'grey', 'white', 'tiger', 'grey', 'Unspecified', 'grey', 'white', 'tiger', 'grey', 'grey', 'grey', 'grey', 'grey', 'grey', 'white', 'white', 'Unspecified', 'Unspecified', 'grey', 'Unspecified', 'grey', 'white', 'white', 'Unspecified', 'Unspecified', 'Unspecified', 'grey', 'grey', 'Unspecified', 'grey', 'white', 'grey', 'Unspecified', 'Unspecified', 'grey', 'Unspecified', 'grey', 'Unspecified', 'grey', 'grey', 'grey', 'white', 'grey', 'Unspecified', 'grey', 'Unspecified', 'Unspecified', 'Unspecified', 'white', 'Unspecified', 'grey', 'Unspecified', 'grey', 'tiger', 'grey', 'grey', 'grey', 'Unspecified', 'white', 'white', 'grey', 'grey', 'grey', 'Unspecified', 'tiger', 'tiger', 'tiger', 'grey', 'grey', 'Unspecified', 'Unspecified', 'Unspecified', 'Unspecified', 'Unspecified', 'grey', 'grey', 'grey', 'Unspecified', 'Unspecified', 'Unspecified', 'grey', 'Unspecified', 'grey', 'grey', 'grey', 'Unspecified', 'grey', 'grey', 'Unspecified', 'grey', 'Unspecified', 'white', 'Unspecified', 'Unspecified', 'grey', 'Unspecified', 'grey', 'Unspecified', 'white', 'grey', 'white', 'white', 'grey', 'Unspecified', 'grey', 'Unspecified', 'grey', 'Unspecified', 'white', 'white', 'grey', 'grey', 'Unspecified', 'Unspecified', 'white', 'grey', 'grey', 'Unspecified', 'grey', 'grey', 'Unspecified', 'Unspecified', 'Unspecified', 'white', 'grey', 'Unspecified', 'Unspecified', 'Unspecified', 'Unspecified', 'white', 'Unspecified', 'grey', 'white', 'white', 'Unspecified', 'white', 'Unspecified', 'tiger', 'Unspecified', 'white', 'grey', 'grey', 'Unspecified', 'Unspecified', 'grey', 'Unspecified', 'Unspecified', 'tiger', 'Unspecified', 'Unspecified', 'grey', 'grey', 'grey', 'grey', 'Unspecified', 'grey', 'grey', 'grey', 'grey', 'grey', 'grey', 'grey', 'Unspecified', 'white', 'grey', 'Unspecified', 'grey', 'grey', 'Unspecified', 'Unspecified', 'tiger', 'grey', 'grey', 'white', 'white', 'grey', 'grey', 'Unspecified', 'grey', 'Unspecified', 'tiger', 'grey', 'tiger', 'Unspecified', 'grey', 'grey', 'white', 'Unspecified', 'grey', 'Unspecified', 'white', 'white', 'Unspecified', 'Unspecified', 'tiger', 'grey', 'Unspecified', 'grey', 'Unspecified', 'grey', 'grey', 'Unspecified', 'Unspecified', 'tiger', 'tiger', 'grey', 'Unspecified', 'grey', 'white', 'grey', 'grey', 'grey', 'grey', 'white', 'grey', 'white', 'Unspecified', 'Unspecified', 'Unspecified', 'white', 'grey', 'white', 'white', 'grey', 'grey', 'Unspecified', 'Unspecified', 'Unspecified', 'Unspecified', 'Unspecified', 'grey', 'white', 'Unspecified', 'Unspecified', 'grey', 'Unspecified', 'Unspecified', 'grey', 'white', 'Unspecified', 'Unspecified', 'grey', 'Unspecified', 'Unspecified', 'white', 'grey', 'Unspecified', 'grey', 'white', 'white', 'grey', 'grey', 'Unspecified', 'Unspecified', 'Unspecified', 'Unspecified', 'Unspecified', 'Unspecified', 'Unspecified', 'Unspecified', 'grey', 'Unspecified', 'grey', 'white', 'grey', 'grey', 'Unspecified', 'Unspecified', 'Unspecified', 'Unspecified', 'tiger', 'white', 'grey', 'white', 'white', 'Unspecified', 'white', 'white', 'grey', 'Unspecified', 'grey', 'grey', 'grey', 'Unspecified', 'Unspecified', 'grey', 'Unspecified', 'Unspecified', 'Unspecified', 'Unspecified', 'grey', 'grey', 'Unspecified', 'Unspecified', 'Unspecified', 'white', 'white', 'grey', 'grey', 'grey', 'white', 'white', 'white', 'white', 'Unspecified', 'grey', 'Unspecified', 'Unspecified', 'Unspecified', 'tiger', 'Unspecified', 'white', 'Unspecified', 'Unspecified', 'Unspecified', 'grey', 'grey', 'grey', 'grey', 'grey', 'grey', 'grey', 'Unspecified', 'grey', 'white', 'white', 'white', 'grey', 'Unspecified', 'white', 'grey', 'grey', 'Unspecified', 'grey', 'white', 'grey', 'grey', 'grey', 'Unspecified', 'grey', 'grey', 'grey', 'grey', 'grey', 'white', 'grey', 'white', 'Unspecified', 'Unspecified', 'white', 'Unspecified', 'grey', 'white', 'white', 'grey', 'grey', 'Unspecified', 'grey', 'Unspecified', 'Unspecified', 'Unspecified', 'Unspecified', 'Unspecified', 'Unspecified', 'Unspecified', 'grey', 'white', 'grey', 'Unspecified', 'grey', 'grey', 'grey', 'Unspecified', 'grey', 'grey', 'white', 'grey', 'Unspecified', 'grey', 'Unspecified', 'grey', 'Unspecified', 'Unspecified', 'Unspecified', 'white', 'white', 'grey', 'white', 'white', 'Unspecified', 'white', 'Unspecified', 'Unspecified', 'Unspecified', 'Unspecified', 'white', 'white', 'white', 'grey', 'grey', 'Unspecified', 'white', 'Unspecified', 'grey', 'Unspecified', 'Unspecified', 'grey', 'grey', 'white', 'Unspecified', 'Unspecified', 'white', 'white', 'grey', 'white', 'grey', 'Unspecified', 'Unspecified', 'grey', 'Unspecified', 'Unspecified', 'Unspecified', 'Unspecified', 'Unspecified', 'Unspecified', 'Unspecified', 'Unspecified', 'Unspecified', 'Unspecified', 'grey', 'Unspecified', 'white', 'tiger', 'Unspecified', 'grey', 'grey', 'Unspecified', 'Unspecified', 'Unspecified', 'Unspecified', 'grey', 'Unspecified', 'grey', 'grey', 'tiger', 'grey', 'Unspecified', 'Unspecified', 'grey', 'Unspecified', 'white', 'Unspecified', 'Unspecified', 'Unspecified', 'Unspecified', 'grey', 'white', 'Unspecified', 'Unspecified', 'white', 'grey', 'Unspecified', 'grey', 'white', 'grey', 'Unspecified', 'Unspecified', 'grey', 'white', 'grey', 'tiger', 'Unspecified', 'Unspecified', 'Unspecified', 'Unspecified', 'grey', 'Unspecified', 'Unspecified', 'grey', 'white', 'white', 'grey', 'Unspecified', 'white', 'Unspecified', 'Unspecified', 'Unspecified', 'grey', 'grey', 'white', 'Unspecified', 'white', 'Unspecified', 'grey', 'Unspecified', 'white', 'white', 'grey', 'grey', 'white', 'Unspecified', 'Unspecified', 'Unspecified', 'Unspecified', 'white', 'Unspecified', 'white', 'Unspecified', 'Unspecified', 'Unspecified', 'Unspecified', 'grey', 'Unspecified', 'Unspecified', 'Unspecified', 'Unspecified', 'grey', 'grey', 'Unspecified', 'Unspecified', 'grey', 'Unspecified', 'grey', 'grey', 'grey', 'grey', 'Unspecified', 'Unspecified', 'Unspecified', 'Unspecified', 'grey', 'grey', 'grey', 'Unspecified', 'grey', 'Unspecified', 'grey', 'grey', 'grey', 'Unspecified', 'Unspecified', 'grey', 'Unspecified', 'Unspecified', 'grey', 'white', 'white', 'Unspecified', 'Unspecified', 'Unspecified', 'Unspecified', 'Unspecified', 'grey', 'Unspecified', 'white', 'white', 'Unspecified', 'Unspecified', 'Unspecified', 'grey', 'Unspecified', 'Unspecified', 'grey', 'white', 'Unspecified', 'Unspecified', 'Unspecified', 'grey', 'grey', 'Unspecified', 'Unspecified', 'grey', 'grey', 'grey', 'white', 'grey', 'grey', 'Unspecified', 'grey', 'grey', 'grey', 'grey', 'white', 'white', 'grey', 'grey', 'grey', 'grey', 'Unspecified', 'Unspecified', 'grey', 'Unspecified', 'grey', 'white', 'grey', 'Unspecified', 'Unspecified', 'Unspecified', 'grey', 'white', 'Unspecified', 'grey', 'Unspecified', 'grey', 'grey', 'Unspecified', 'grey', 'grey', 'Unspecified', 'grey', 'grey', 'grey', 'Unspecified', 'grey', 'grey', 'Unspecified', 'Unspecified', 'Unspecified', 'Unspecified', 'grey', 'grey', 'Unspecified', 'Unspecified', 'Unspecified', 'Unspecified', 'grey', 'grey', 'grey', 'grey', 'Unspecified', 'Unspecified', 'Unspecified', 'grey', 'grey', 'Unspecified', 'Unspecified', 'grey', 'Unspecified', 'grey', 'Unspecified', 'grey', 'grey', 'Unspecified', 'Unspecified', 'Unspecified', 'grey', 'grey', 'Unspecified', 'Unspecified', 'white', 'Unspecified', 'Unspecified', 'grey', 'grey', 'grey', 'grey', 'Unspecified', 'Unspecified', 'grey', 'grey', 'white', 'grey', 'grey', 'Unspecified', 'Unspecified', 'white', 'grey', 'grey', 'white', 'grey', 'Unspecified', 'white', 'tiger', 'Unspecified', 'grey', 'grey', 'grey', 'grey', 'Unspecified', 'Unspecified', 'grey', 'grey', 'grey', 'grey', 'Unspecified', 'Unspecified', 'Unspecified', 'grey', 'grey', 'Unspecified', 'Unspecified', 'Unspecified', 'Unspecified', 'grey', 'grey', 'white', 'grey', 'grey', 'Unspecified', 'grey', 'tiger', 'grey', 'Unspecified', 'Unspecified', 'Unspecified', 'Unspecified', 'Unspecified', 'grey', 'grey', 'grey', 'Unspecified', 'Unspecified', 'grey', 'white', 'Unspecified', 'Unspecified', 'Unspecified', 'Unspecified', 'white', 'Unspecified', 'white', 'grey', 'Unspecified', 'white', 'grey', 'grey', 'grey', 'grey', 'grey', 'Unspecified', 'grey', 'grey', 'grey', 'grey', 'grey', 'grey', 'Unspecified', 'grey', 'grey', 'Unspecified', 'grey', 'grey', 'grey', 'Unspecified', 'grey', 'grey', 'grey', 'grey', 'Unspecified', 'grey', 'Unspecified', 'Unspecified', 'grey', 'Unspecified', 'Unspecified', 'Unspecified', 'Unspecified', 'Unspecified', 'Unspecified', 'Unspecified', 'Unspecified', 'Unspecified', 'grey', 'Unspecified', 'white', 'tiger', 'grey', 'grey', 'grey', 'grey', 'grey', 'grey', 'white', 'Unspecified', 'grey', 'grey', 'Unspecified', 'Unspecified', 'grey', 'white', 'grey', 'Unspecified', 'grey', 'grey', 'Unspecified', 'grey', 'grey', 'Unspecified', 'white', 'Unspecified', 'white', 'grey', 'Unspecified', 'Unspecified', 'grey', 'grey', 'Unspecified', 'grey', 'Unspecified', 'grey', 'Unspecified', 'grey', 'grey', 'Unspecified', 'grey', 'grey', 'grey', 'Unspecified', 'Unspecified', 'white', 'Unspecified', 'Unspecified', 'Unspecified', 'grey', 'grey', 'grey', 'Unspecified', 'grey', 'grey', 'tiger', 'grey', 'Unspecified', 'grey', 'Unspecified', 'grey', 'grey', 'tiger', 'Unspecified', 'Unspecified', 'Unspecified', 'white', 'white', 'grey', 'white', 'grey', 'grey', 'grey', 'Unspecified', 'Unspecified', 'Unspecified', 'Unspecified', 'white', 'grey', 'white', 'tiger', 'Unspecified', 'Unspecified', 'grey', 'Unspecified', 'grey', 'grey', 'grey', 'Unspecified', 'Unspecified', 'grey', 'grey', 'white', 'grey', 'white', 'tiger', 'grey', 'tiger', 'tiger', 'Unspecified', 'Unspecified', 'white', 'grey', 'grey', 'grey', 'grey', 'Unspecified', 'white', 'Unspecified', 'grey', 'grey', 'grey', 'grey', 'tiger', 'Unspecified', 'grey', 'Unspecified', 'Unspecified', 'white', 'grey', 'grey', 'Unspecified', 'grey', 'grey', 'Unspecified', 'grey', 'grey', 'grey', 'Unspecified', 'Unspecified', 'grey', 'white', 'Unspecified', 'grey', 'Unspecified', 'grey', 'grey', 'grey', 'grey', 'grey', 'grey', 'grey', 'white', 'grey', 'Unspecified', 'Unspecified', 'grey', 'white', 'grey', 'grey', 'grey', 'white', 'grey', 'Unspecified', 'Unspecified', 'grey', 'Unspecified', 'grey', 'grey', 'Unspecified', 'grey', 'Unspecified', 'Unspecified', 'white', 'grey', 'Unspecified', 'grey', 'grey', 'Unspecified', 'grey', 'Unspecified', 'grey', 'Unspecified', 'white', 'grey', 'grey', 'grey', 'grey', 'Unspecified', 'Unspecified', 'grey', 'grey', 'grey', 'grey', 'Unspecified', 'Unspecified', 'grey', 'Unspecified', 'Unspecified', 'grey', 'Unspecified', 'Unspecified', 'Unspecified', 'Unspecified', 'grey', 'Unspecified', 'grey', 'grey', 'grey', 'grey', 'grey', 'grey', 'grey', 'grey', 'Unspecified', 'white', 'grey', 'Unspecified', 'Unspecified', 'grey', 'Unspecified', 'grey', 'grey', 'grey', 'Unspecified', 'white', 'grey', 'grey', 'grey', 'white', 'grey', 'white', 'grey', 'Unspecified', 'Unspecified', 'Unspecified', 'grey', 'grey', 'Unspecified', 'Unspecified', 'Unspecified', 'grey', 'grey', 'grey', 'grey', 'grey', 'Unspecified', 'grey', 'grey', 'grey', 'Unspecified', 'grey', 'grey', 'Unspecified', 'Unspecified', 'white', 'Unspecified', 'white', 'grey', 'grey', 'grey', 'white', 'white', 'grey', 'grey', 'Unspecified', 'grey', 'Unspecified', 'white', 'white', 'Unspecified', 'Unspecified', 'Unspecified', 'grey', 'Unspecified', 'grey', 'white', 'Unspecified', 'grey', 'Unspecified', 'grey', 'grey', 'grey', 'grey', 'tiger', 'grey', 'grey', 'grey', 'Unspecified', 'grey', 'grey', 'grey', 'grey', 'Unspecified', 'white', 'grey', 'grey', 'Unspecified', 'Unspecified', 'grey', 'Unspecified', 'grey', 'grey', 'grey', 'grey', 'grey', 'white', 'grey', 'white', 'Unspecified', 'grey', 'grey', 'Unspecified', 'grey', 'Unspecified', 'Unspecified', 'grey', 'Unspecified', 'grey', 'Unspecified', 'Unspecified', 'grey', 'white', 'grey', 'grey', 'grey', 'grey', 'Unspecified', 'grey', 'white', 'grey', 'Unspecified', 'Unspecified', 'white', 'grey', 'Unspecified', 'Unspecified', 'grey', 'white', 'Unspecified', 'grey', 'Unspecified', 'grey', 'Unspecified', 'Unspecified', 'Unspecified', 'Unspecified', 'grey', 'Unspecified', 'Unspecified', 'Unspecified', 'Unspecified', 'grey', 'grey', 'grey', 'grey', 'Unspecified', 'Unspecified', 'Unspecified', 'grey', 'Unspecified', 'grey', 'white', 'grey', 'grey', 'grey', 'Unspecified', 'Unspecified', 'Unspecified', 'grey', 'white', 'grey', 'Unspecified', 'white', 'white', 'grey', 'grey', 'grey', 'white', 'tiger', 'grey', 'grey', 'white', 'Unspecified', 'Unspecified', 'white', 'grey', 'grey', 'grey', 'grey', 'grey', 'Unspecified', 'tiger', 'tiger', 'grey', 'grey', 'grey', 'Unspecified', 'grey', 'grey', 'grey', 'grey', 'Unspecified', 'grey', 'Unspecified', 'grey', 'grey', 'grey', 'Unspecified', 'Unspecified', 'Unspecified', 'Unspecified', 'grey', 'tiger', 'grey', 'Unspecified', 'Unspecified', 'Unspecified', 'grey', 'Unspecified', 'grey', 'Unspecified', 'grey', 'grey', 'grey', 'Unspecified', 'grey', 'grey', 'grey', 'grey', 'Unspecified', 'Unspecified', 'Unspecified', 'white', 'grey', 'tiger', 'Unspecified', 'grey', 'grey', 'white', 'white', 'grey', 'grey', 'Unspecified', 'white', 'Unspecified', 'grey', 'grey', 'Unspecified', 'grey', 'grey', 'Unspecified', 'grey', 'grey', 'grey', 'Unspecified', 'Unspecified', 'grey', 'white', 'grey', 'grey', 'grey', 'grey', 'grey', 'Unspecified', 'grey', 'white', 'Unspecified', 'Unspecified', 'Unspecified', 'white', 'grey', 'white', 'grey', 'white', 'tiger', 'Unspecified', 'grey', 'tiger', 'Unspecified', 'Unspecified', 'Unspecified', 'Unspecified', 'Unspecified', 'tiger', 'grey', 'Unspecified', 'grey', 'Unspecified', 'grey', 'grey', 'grey', 'Unspecified', 'grey', 'grey', 'white', 'grey', 'Unspecified', 'grey', 'white', 'grey', 'tiger', 'Unspecified', 'Unspecified', 'Unspecified', 'Unspecified', 'white', 'Unspecified', 'Unspecified', 'tiger', 'tiger', 'grey', 'grey', 'Unspecified', 'white', 'Unspecified', 'Unspecified', 'Unspecified', 'Unspecified', 'grey', 'grey', 'Unspecified', 'grey', 'grey', 'Unspecified', 'tiger', 'tiger', 'Unspecified', 'Unspecified', 'grey', 'grey', 'grey', 'Unspecified', 'tiger', 'Unspecified', 'grey', 'tiger', 'grey', 'Unspecified', 'Unspecified', 'grey', 'grey', 'grey', 'grey', 'Unspecified', 'grey', 'grey', 'Unspecified', 'grey', 'grey', 'white', 'grey', 'Unspecified', 'grey', 'Unspecified', 'Unspecified', 'grey', 'Unspecified', 'white', 'Unspecified', 'Unspecified', 'grey', 'Unspecified', 'grey', 'Unspecified', 'Unspecified', 'Unspecified', 'Unspecified', 'Unspecified', 'Unspecified', 'grey', 'grey', 'white', 'white', 'grey', 'Unspecified', 'grey', 'Unspecified', 'Unspecified', 'white', 'grey', 'grey', 'grey', 'Unspecified', 'Unspecified', 'Unspecified', 'grey', 'Unspecified', 'grey', 'Unspecified', 'grey', 'grey', 'grey', 'grey', 'Unspecified', 'grey', 'Unspecified', 'grey', 'Unspecified', 'grey', 'Unspecified', 'tiger', 'Unspecified', 'Unspecified', 'grey', 'white', 'grey', 'grey', 'Unspecified', 'grey', 'grey', 'tiger', 'white', 'grey', 'Unspecified', 'Unspecified', 'grey', 'white', 'Unspecified', 'Unspecified', 'Unspecified', 'white', 'Unspecified', 'grey', 'Unspecified', 'grey', 'white', 'Unspecified', 'Unspecified', 'grey', 'Unspecified', 'Unspecified', 'white', 'Unspecified', 'Unspecified', 'white', 'Unspecified', 'grey', 'Unspecified', 'grey', 'Unspecified', 'Unspecified', 'Unspecified', 'grey', 'Unspecified', 'Unspecified', 'white', 'grey', 'Unspecified', 'Unspecified', 'Unspecified', 'Unspecified', 'Unspecified', 'Unspecified', 'grey', 'Unspecified', 'grey', 'white', 'white', 'Unspecified', 'Unspecified', 'Unspecified', 'Unspecified', 'grey', 'white', 'grey', 'grey', 'Unspecified', 'grey', 'grey', 'grey', 'white', 'grey', 'grey', 'Unspecified', 'grey', 'grey', 'Unspecified', 'Unspecified', 'grey', 'Unspecified', 'grey', 'white', 'white', 'Unspecified', 'Unspecified', 'grey', 'grey', 'Unspecified', 'Unspecified', 'grey', 'Unspecified', 'grey', 'grey', 'Unspecified', 'Unspecified', 'Unspecified', 'Unspecified', 'Unspecified', 'grey', 'Unspecified', 'grey', 'white', 'grey', 'grey', 'Unspecified', 'grey', 'Unspecified', 'grey', 'grey', 'Unspecified', 'Unspecified', 'grey', 'Unspecified', 'grey', 'grey', 'Unspecified', 'grey', 'Unspecified', 'grey', 'Unspecified', 'Unspecified', 'Unspecified', 'grey', 'Unspecified', 'Unspecified', 'Unspecified', 'Unspecified', 'white', 'grey', 'grey', 'grey', 'Unspecified', 'grey', 'Unspecified', 'grey', 'grey', 'grey', 'Unspecified', 'Unspecified', 'grey', 'Unspecified', 'Unspecified', 'Unspecified', 'Unspecified', 'grey', 'grey', 'Unspecified', 'Unspecified', 'grey', 'Unspecified', 'Unspecified', 'Unspecified', 'white', 'Unspecified', 'Unspecified', 'grey', 'Unspecified', 'Unspecified', 'grey', 'grey', 'Unspecified', 'grey', 'Unspecified', 'tiger', 'Unspecified', 'grey', 'grey', 'Unspecified', 'grey', 'grey', 'Unspecified', 'Unspecified', 'Unspecified', 'grey', 'grey', 'grey', 'Unspecified', 'white', 'grey', 'Unspecified', 'grey', 'grey', 'grey', 'grey', 'grey', 'Unspecified', 'Unspecified', 'tiger', 'white', 'grey', 'grey', 'white', 'grey', 'grey', 'Unspecified', 'grey', 'Unspecified', 'Unspecified', 'grey', 'Unspecified', 'Unspecified', 'Unspecified', 'grey', 'Unspecified', 'grey', 'white', 'Unspecified', 'white', 'Unspecified', 'Unspecified', 'grey', 'Unspecified', 'Unspecified', 'Unspecified', 'white', 'white', 'Unspecified', 'Unspecified', 'Unspecified', 'grey', 'Unspecified', 'Unspecified', 'Unspecified', 'Unspecified', 'grey', 'grey', 'Unspecified', 'grey', 'Unspecified', 'grey', 'Unspecified', 'grey', 'Unspecified', 'grey', 'grey', 'Unspecified', 'grey', 'white', 'grey', 'white', 'grey', 'grey', 'Unspecified', 'white', 'Unspecified', 'Unspecified', 'Unspecified', 'grey', 'grey', 'grey', 'grey', 'Unspecified', 'Unspecified', 'white', 'Unspecified', 'grey', 'grey', 'Unspecified', 'Unspecified', 'grey', 'white', 'grey', 'Unspecified', 'white', 'grey', 'grey', 'Unspecified', 'tiger', 'Unspecified', 'white', 'grey', 'Unspecified', 'Unspecified', 'Unspecified', 'Unspecified', 'Unspecified', 'grey', 'grey', 'grey', 'grey', 'Unspecified', 'Unspecified', 'grey', 'Unspecified', 'Unspecified', 'Unspecified', 'Unspecified', 'Unspecified', 'grey', 'Unspecified', 'grey', 'Unspecified', 'grey', 'grey', 'Unspecified', 'Unspecified', 'white', 'Unspecified', 'Unspecified', 'grey', 'white', 'Unspecified', 'Unspecified', 'Unspecified', 'Unspecified', 'Unspecified', 'Unspecified', 'tiger', 'Unspecified', 'Unspecified', 'Unspecified', 'Unspecified', 'Unspecified', 'Unspecified', 'grey', 'Unspecified', 'Unspecified', 'Unspecified', 'Unspecified', 'Unspecified', 'Unspecified', 'Unspecified', 'grey', 'Unspecified', 'Unspecified', 'Unspecified', 'Unspecified', 'Unspecified', 'grey', 'grey', 'Unspecified', 'grey', 'grey', 'grey', 'Unspecified', 'Unspecified', 'Unspecified', 'grey', 'grey', 'tiger', 'grey', 'Unspecified', 'Unspecified', 'Unspecified', 'Unspecified', 'Unspecified', 'Unspecified', 'Unspecified', 'grey', 'grey', 'grey', 'Unspecified', 'grey', 'Unspecified', 'tiger', 'Unspecified', 'grey', 'Unspecified', 'Unspecified', 'Unspecified', 'Unspecified', 'grey', 'Unspecified', 'grey', 'Unspecified', 'grey', 'grey', 'Unspecified', 'grey', 'Unspecified', 'Unspecified', 'Unspecified', 'Unspecified', 'grey', 'Unspecified', 'grey', 'Unspecified', 'Unspecified', 'Unspecified', 'grey', 'Unspecified', 'Unspecified', 'white', 'Unspecified', 'Unspecified', 'Unspecified', 'grey', 'grey', 'Unspecified', 'Unspecified', 'Unspecified', 'Unspecified', 'Unspecified', 'Unspecified', 'Unspecified', 'Unspecified', 'Unspecified', 'Unspecified', 'Unspecified', 'Unspecified', 'Unspecified', 'Unspecified', 'Unspecified', 'grey', 'Unspecified', 'Unspecified', 'Unspecified', 'Unspecified', 'grey', 'grey', 'tiger', 'Unspecified', 'Unspecified', 'Unspecified', 'Unspecified', 'Unspecified', 'Unspecified', 'Unspecified', 'Unspecified', 'Unspecified', 'Unspecified', 'Unspecified', 'white', 'Unspecified', 'grey', 'grey', 'white', 'grey', 'Unspecified', 'Unspecified', 'Unspecified', 'grey', 'Unspecified', 'Unspecified', 'grey', 'Unspecified', 'Unspecified', 'Unspecified', 'Unspecified', 'Unspecified', 'Unspecified', 'Unspecified', 'Unspecified', 'Unspecified', 'grey', 'white', 'Unspecified', 'Unspecified', 'Unspecified', 'Unspecified', 'white', 'Unspecified', 'Unspecified', 'Unspecified', 'Unspecified', 'grey', 'grey', 'Unspecified', 'Unspecified', 'Unspecified', 'Unspecified', 'Unspecified', 'Unspecified', 'Unspecified', 'Unspecified', 'grey', 'grey', 'Unspecified', 'grey', 'white', 'Unspecified', 'Unspecified', 'Unspecified', 'Unspecified', 'Unspecified', 'Unspecified', 'white', 'Unspecified', 'Unspecified', 'Unspecified', 'Unspecified', 'Unspecified', 'tiger', 'tiger', 'Unspecified', 'Unspecified', 'grey', 'Unspecified', 'grey', 'Unspecified', 'Unspecified', 'Unspecified', 'Unspecified', 'Unspecified', 'Unspecified', 'Unspecified', 'grey', 'grey', 'Unspecified', 'Unspecified', 'Unspecified', 'Unspecified', 'grey', 'grey', 'Unspecified', 'Unspecified', 'tiger', 'Unspecified', 'Unspecified', 'white', 'Unspecified', 'tiger', 'tiger', 'Unspecified', 'Unspecified', 'Unspecified', 'Unspecified', 'grey', 'Unspecified', 'grey', 'grey', 'grey', 'Unspecified', 'Unspecified', 'grey', 'Unspecified', 'Unspecified', 'Unspecified', 'Unspecified', 'Unspecified', 'Unspecified', 'Unspecified', 'Unspecified', 'Unspecified', 'Unspecified', 'Unspecified', 'Unspecified', 'Unspecified', 'Unspecified', 'Unspecified', 'grey', 'Unspecified', 'Unspecified', 'grey', 'white', 'grey', 'white', 'Unspecified', 'Unspecified', 'grey', 'grey', 'Unspecified', 'grey', 'Unspecified', 'white', 'Unspecified', 'Unspecified', 'grey', 'grey', 'grey', 'grey', 'grey', 'grey', 'grey', 'Unspecified', 'Unspecified', 'Unspecified', 'tiger', 'grey', 'tiger', 'Unspecified', 'Unspecified', 'grey', 'grey', 'Unspecified', 'Unspecified', 'grey', 'Unspecified', 'grey', 'grey', 'Unspecified', 'tiger', 'Unspecified', 'tiger', 'Unspecified', 'Unspecified', 'tiger', 'Unspecified', 'Unspecified', 'Unspecified', 'Unspecified', 'Unspecified', 'Unspecified', 'grey', 'grey', 'Unspecified', 'grey', 'Unspecified', 'Unspecified', 'Unspecified', 'tiger', 'Unspecified', 'grey', 'Unspecified', 'Unspecified', 'grey', 'Unspecified', 'Unspecified', 'Unspecified', 'Unspecified', 'grey', 'Unspecified', 'tiger', 'tiger', 'grey', 'grey', 'Unspecified', 'grey', 'grey', 'grey', 'tiger', 'Unspecified', 'Unspecified', 'Unspecified', 'Unspecified', 'Unspecified', 'grey', 'Unspecified', 'grey', 'grey', 'grey', 'grey', 'white', 'Unspecified', 'Unspecified', 'grey', 'grey', 'grey', 'Unspecified', 'grey', 'grey', 'Unspecified', 'Unspecified', 'white', 'grey', 'Unspecified', 'Unspecified', 'tiger', 'Unspecified', 'grey', 'Unspecified', 'Unspecified', 'white', 'grey', 'Unspecified', 'Unspecified', 'tiger', 'Unspecified', 'tiger', 'Unspecified', 'grey', 'Unspecified', 'Unspecified', 'Unspecified', 'Unspecified', 'grey', 'white', 'white', 'grey', 'grey', 'Unspecified', 'grey', 'Unspecified', 'Unspecified', 'Unspecified', 'grey', 'Unspecified', 'Unspecified', 'Unspecified', 'Unspecified', 'Unspecified', 'Unspecified', 'grey', 'Unspecified', 'Unspecified', 'Unspecified', 'white', 'grey', 'Unspecified', 'Unspecified', 'Unspecified', 'Unspecified', 'Unspecified', 'tiger', 'grey', 'Unspecified', 'white', 'white', 'Unspecified', 'tiger', 'grey', 'grey', 'Unspecified', 'tiger', 'Unspecified', 'Unspecified', 'Unspecified', 'Unspecified', 'Unspecified', 'Unspecified', 'grey', 'white', 'Unspecified', 'Unspecified', 'white', 'Unspecified', 'grey', 'grey', 'Unspecified', 'Unspecified', 'Unspecified', 'Unspecified', 'grey', 'grey', 'grey', 'tiger', 'Unspecified', 'Unspecified', 'Unspecified', 'grey', 'tiger', 'tiger', 'Unspecified', 'grey', 'grey', 'Unspecified', 'Unspecified', 'tiger', 'Unspecified', 'grey', 'Unspecified', 'Unspecified', 'Unspecified', 'grey', 'Unspecified', 'Unspecified', 'tiger', 'grey', 'grey', 'Unspecified', 'grey', 'Unspecified', 'Unspecified', 'Unspecified', 'Unspecified', 'grey', 'Unspecified', 'Unspecified', 'Unspecified', 'Unspecified', 'grey', 'Unspecified', 'Unspecified', 'grey', 'white', 'grey', 'Unspecified', 'Unspecified', 'Unspecified', 'Unspecified', 'Unspecified', 'Unspecified', 'Unspecified', 'Unspecified', 'Unspecified', 'grey', 'grey', 'Unspecified', 'grey', 'grey', 'Unspecified', 'Unspecified', 'grey', 'grey', 'Unspecified', 'grey', 'Unspecified', 'Unspecified', 'Unspecified', 'Unspecified', 'Unspecified', 'Unspecified', 'grey', 'Unspecified', 'Unspecified', 'tiger', 'grey', 'grey', 'Unspecified', 'Unspecified', 'Unspecified', 'grey', 'grey', 'Unspecified', 'Unspecified', 'grey', 'Unspecified', 'Unspecified', 'Unspecified', 'Unspecified', 'grey', 'Unspecified', 'Unspecified', 'Unspecified', 'Unspecified', 'Unspecified', 'Unspecified', 'Unspecified', 'Unspecified', 'tiger', 'Unspecified', 'Unspecified', 'Unspecified', 'grey', 'grey', 'Unspecified', 'Unspecified', 'white', 'Unspecified', 'Unspecified', 'white', 'Unspecified', 'Unspecified', 'Unspecified', 'tiger', 'Unspecified', 'grey', 'Unspecified', 'Unspecified', 'Unspecified', 'Unspecified', 'Unspecified', 'Unspecified', 'Unspecified', 'Unspecified', 'Unspecified', 'Unspecified', 'grey', 'grey', 'Unspecified', 'Unspecified', 'Unspecified', 'grey', 'Unspecified', 'Unspecified', 'Unspecified', 'Unspecified', 'grey', 'grey', 'Unspecified', 'grey', 'grey', 'Unspecified', 'Unspecified', 'grey', 'Unspecified', 'Unspecified', 'Unspecified', 'grey', 'grey', 'Unspecified', 'Unspecified', 'Unspecified', 'grey', 'Unspecified', 'Unspecified', 'grey', 'Unspecified', 'grey', 'Unspecified', 'white', 'Unspecified', 'grey', 'tiger', 'Unspecified', 'Unspecified', 'grey', 'Unspecified', 'Unspecified', 'Unspecified', 'Unspecified', 'Unspecified', 'Unspecified', 'grey', 'grey', 'Unspecified', 'grey', 'Unspecified', 'white', 'Unspecified', 'Unspecified', 'Unspecified', 'Unspecified', 'Unspecified', 'Unspecified', 'Unspecified', 'Unspecified', 'Unspecified', 'grey', 'Unspecified', 'Unspecified', 'grey', 'grey', 'Unspecified', 'grey', 'Unspecified', 'Unspecified', 'Unspecified', 'Unspecified', 'Unspecified', 'grey', 'Unspecified', 'Unspecified', 'Unspecified', 'white', 'grey', 'white', 'grey', 'white', 'Unspecified', 'grey', 'white', 'grey', 'Unspecified', 'Unspecified', 'Unspecified', 'Unspecified', 'Unspecified', 'tiger', 'Unspecified', 'Unspecified', 'Unspecified', 'Unspecified', 'Unspecified', 'grey', 'Unspecified', 'grey', 'Unspecified', 'Unspecified', 'Unspecified', 'grey', 'Unspecified', 'grey', 'Unspecified', 'Unspecified', 'Unspecified', 'grey', 'grey', 'grey', 'Unspecified', 'Unspecified', 'Unspecified', 'Unspecified', 'grey', 'Unspecified', 'grey', 'Unspecified', 'grey', 'Unspecified', 'Unspecified', 'grey', 'Unspecified', 'Unspecified', 'Unspecified', 'grey', 'grey', 'grey', 'Unspecified', 'Unspecified', 'Unspecified', 'Unspecified', 'Unspecified', 'Unspecified', 'Unspecified', 'Unspecified', 'Unspecified', 'grey', 'Unspecified', 'grey', 'Unspecified', 'Unspecified', 'Unspecified', 'Unspecified', 'grey', 'Unspecified', 'grey', 'Unspecified', 'Unspecified', 'grey', 'Unspecified', 'grey', 'grey', 'white', 'Unspecified', 'Unspecified', 'grey', 'white', 'grey', 'white', 'Unspecified', 'Unspecified', 'grey', 'Unspecified', 'Unspecified', 'Unspecified', 'Unspecified', 'Unspecified', 'Unspecified', 'Unspecified', 'grey', 'Unspecified', 'Unspecified', 'Unspecified', 'grey', 'grey', 'grey', 'grey', 'Unspecified', 'grey', 'Unspecified', 'Unspecified', 'Unspecified', 'Unspecified', 'Unspecified', 'Unspecified', 'Unspecified', 'Unspecified', 'Unspecified', 'Unspecified', 'Unspecified', 'Unspecified', 'Unspecified', 'Unspecified', 'Unspecified', 'Unspecified', 'grey', 'grey', 'grey', 'Unspecified', 'grey', 'Unspecified', 'grey', 'Unspecified', 'Unspecified', 'tiger', 'Unspecified', 'grey', 'Unspecified', 'Unspecified', 'Unspecified', 'Unspecified', 'grey', 'Unspecified', 'Unspecified', 'Unspecified', 'Unspecified', 'Unspecified', 'Unspecified', 'Unspecified', 'Unspecified', 'Unspecified', 'Unspecified', 'Unspecified', 'Unspecified', 'Unspecified', 'Unspecified', 'Unspecified', 'Unspecified', 'Unspecified', 'Unspecified', 'grey', 'grey', 'Unspecified', 'Unspecified', 'Unspecified', 'Unspecified', 'white', 'white', 'Unspecified', 'Unspecified', 'Unspecified', 'Unspecified', 'Unspecified', 'Unspecified', 'Unspecified', 'Unspecified', 'Unspecified', 'Unspecified', 'Unspecified', 'grey', 'grey', 'Unspecified', 'grey', 'Unspecified', 'white', 'Unspecified', 'Unspecified', 'grey', 'Unspecified', 'grey', 'Unspecified', 'grey', 'Unspecified', 'Unspecified', 'Unspecified', 'grey', 'grey', 'Unspecified', 'Unspecified', 'tiger', 'Unspecified', 'Unspecified', 'Unspecified', 'grey', 'Unspecified', 'Unspecified', 'Unspecified', 'grey', 'grey', 'grey', 'grey', 'Unspecified', 'Unspecified', 'Unspecified', 'Unspecified', 'Unspecified', 'tiger', 'Unspecified', 'Unspecified', 'Unspecified', 'Unspecified', 'Unspecified', 'grey', 'Unspecified', 'grey', 'Unspecified', 'Unspecified', 'Unspecified', 'Unspecified', 'grey', 'Unspecified', 'grey', 'Unspecified', 'white', 'grey', 'Unspecified', 'Unspecified', 'Unspecified', 'Unspecified', 'Unspecified', 'Unspecified', 'Unspecified', 'Unspecified', 'grey', 'Unspecified', 'Unspecified', 'Unspecified', 'Unspecified', 'Unspecified', 'Unspecified', 'grey', 'Unspecified', 'grey', 'grey', 'Unspecified', 'Unspecified', 'grey', 'Unspecified', 'grey', 'Unspecified', 'grey', 'Unspecified', 'grey', 'grey', 'Unspecified', 'Unspecified', 'grey', 'Unspecified', 'grey', 'Unspecified', 'Unspecified', 'Unspecified', 'Unspecified', 'grey', 'Unspecified', 'Unspecified', 'grey', 'Unspecified', 'Unspecified', 'grey', 'grey', 'Unspecified', 'Unspecified', 'Unspecified', 'grey', 'Unspecified', 'Unspecified', 'grey', 'white', 'Unspecified', 'Unspecified', 'grey', 'Unspecified', 'grey', 'Unspecified', 'grey', 'Unspecified', 'grey', 'Unspecified', 'Unspecified', 'Unspecified', 'grey', 'Unspecified', 'Unspecified', 'Unspecified', 'Unspecified', 'Unspecified', 'grey', 'grey', 'Unspecified', 'Unspecified', 'white', 'Unspecified', 'Unspecified', 'Unspecified', 'Unspecified', 'Unspecified', 'Unspecified', 'Unspecified', 'Unspecified', 'Unspecified', 'Unspecified', 'Unspecified', 'Unspecified', 'Unspecified', 'grey', 'Unspecified', 'grey', 'grey', 'grey', 'Unspecified', 'grey', 'Unspecified', 'Unspecified', 'grey', 'grey', 'Unspecified', 'grey', 'grey', 'grey', 'Unspecified', 'Unspecified', 'tiger', 'Unspecified', 'Unspecified', 'Unspecified', 'grey', 'Unspecified', 'Unspecified', 'Unspecified', 'Unspecified', 'grey', 'grey', 'grey', 'Unspecified', 'grey', 'Unspecified', 'Unspecified', 'Unspecified', 'Unspecified', 'Unspecified', 'Unspecified', 'Unspecified', 'Unspecified', 'Unspecified', 'Unspecified', 'Unspecified', 'grey', 'Unspecified', 'Unspecified', 'Unspecified', 'grey', 'Unspecified', 'Unspecified', 'Unspecified', 'Unspecified', 'Unspecified', 'grey', 'Unspecified', 'Unspecified', 'Unspecified', 'Unspecified', 'Unspecified', 'Unspecified', 'Unspecified', 'Unspecified', 'Unspecified', 'Unspecified', 'Unspecified', 'Unspecified', 'grey', 'Unspecified', 'Unspecified', 'grey', 'Unspecified', 'Unspecified', 'Unspecified', 'grey', 'white', 'grey', 'grey', 'Unspecified', 'Unspecified', 'Unspecified', 'Unspecified', 'Unspecified', 'grey', 'Unspecified', 'Unspecified', 'Unspecified', 'Unspecified', 'Unspecified', 'grey', 'Unspecified', 'Unspecified', 'Unspecified', 'Unspecified', 'Unspecified', 'Unspecified', 'grey', 'Unspecified', 'Unspecified', 'Unspecified', 'grey', 'grey', 'Unspecified', 'Unspecified', 'Unspecified', 'Unspecified', 'grey', 'grey', 'grey', 'Unspecified', 'grey', 'Unspecified', 'Unspecified', 'grey', 'Unspecified', 'Unspecified', 'Unspecified', 'Unspecified', 'Unspecified', 'Unspecified', 'grey', 'Unspecified', 'Unspecified', 'Unspecified', 'Unspecified', 'Unspecified', 'Unspecified', 'grey', 'white', 'Unspecified', 'Unspecified', 'Unspecified', 'Unspecified', 'Unspecified', 'Unspecified', 'Unspecified', 'grey', 'grey', 'grey', 'Unspecified', 'Unspecified', 'Unspecified', 'Unspecified', 'Unspecified', 'Unspecified', 'Unspecified', 'grey', 'Unspecified', 'Unspecified', 'Unspecified', 'Unspecified', 'Unspecified', 'Unspecified', 'Unspecified', 'Unspecified', 'Unspecified', 'Unspecified', 'Unspecified', 'Unspecified', 'Unspecified', 'grey', 'Unspecified', 'grey', 'Unspecified', 'Unspecified', 'Unspecified', 'Unspecified', 'Unspecified', 'Unspecified', 'Unspecified', 'Unspecified', 'Unspecified', 'Unspecified', 'Unspecified', 'Unspecified', 'Unspecified', 'Unspecified', 'grey', 'grey', 'Unspecified', 'Unspecified', 'Unspecified', 'Unspecified', 'grey', 'Unspecified', 'grey', 'Unspecified', 'Unspecified', 'Unspecified', 'grey', 'Unspecified', 'Unspecified', 'Unspecified', 'Unspecified', 'Unspecified', 'Unspecified', 'Unspecified', 'Unspecified', 'Unspecified', 'Unspecified', 'Unspecified', 'grey', 'Unspecified', 'Unspecified', 'Unspecified', 'Unspecified', 'Unspecified', 'Unspecified', 'Unspecified', 'Unspecified', 'Unspecified', 'Unspecified', 'grey', 'Unspecified', 'grey', 'Unspecified', 'Unspecified', 'Unspecified', 'Unspecified', 'Unspecified', 'Unspecified', 'Unspecified', 'grey', 'Unspecified', 'Unspecified', 'grey', 'Unspecified', 'Unspecified', 'grey', 'Unspecified', 'Unspecified', 'Unspecified', 'Unspecified', 'Unspecified', 'Unspecified', 'Unspecified', 'Unspecified', 'grey', 'Unspecified', 'Unspecified', 'Unspecified', 'Unspecified', 'grey', 'Unspecified', 'grey', 'Unspecified', 'Unspecified', 'grey', 'Unspecified', 'Unspecified', 'Unspecified', 'Unspecified', 'Unspecified', 'Unspecified', 'grey', 'Unspecified', 'Unspecified', 'grey', 'Unspecified', 'grey', 'Unspecified', 'grey', 'grey', 'Unspecified', 'Unspecified', 'Unspecified', 'Unspecified', 'grey', 'Unspecified', 'Unspecified', 'Unspecified', 'grey', 'Unspecified', 'grey', 'Unspecified', 'grey', 'Unspecified', 'Unspecified', 'Unspecified', 'grey', 'Unspecified', 'grey', 'Unspecified', 'grey', 'Unspecified', 'Unspecified', 'grey', 'grey', 'grey', 'Unspecified', 'Unspecified', 'Unspecified', 'Unspecified', 'Unspecified', 'grey', 'Unspecified', 'Unspecified', 'Unspecified', 'Unspecified', 'Unspecified', 'Unspecified', 'Unspecified', 'grey', 'grey', 'grey', 'Unspecified', 'grey', 'Unspecified', 'Unspecified', 'grey', 'Unspecified', 'Unspecified', 'Unspecified', 'Unspecified', 'Unspecified', 'grey', 'Unspecified', 'Unspecified', 'Unspecified', 'grey', 'Unspecified', 'grey', 'grey', 'grey', 'Unspecified', 'Unspecified', 'Unspecified', 'Unspecified', 'Unspecified', 'Unspecified', 'Unspecified', 'Unspecified', 'Unspecified', 'Unspecified', 'Unspecified', 'grey', 'grey', 'Unspecified', 'Unspecified', 'Unspecified', 'Unspecified', 'Unspecified', 'Unspecified', 'white', 'grey', 'Unspecified', 'Unspecified', 'grey', 'Unspecified', 'Unspecified', 'grey', 'Unspecified', 'Unspecified', 'grey', 'Unspecified', 'grey', 'Unspecified', 'Unspecified', 'Unspecified', 'grey', 'Unspecified', 'grey', 'Unspecified', 'Unspecified', 'Unspecified', 'grey', 'tiger', 'grey', 'grey', 'Unspecified', 'Unspecified', 'Unspecified', 'Unspecified', 'grey', 'Unspecified', 'Unspecified', 'Unspecified', 'Unspecified', 'Unspecified', 'Unspecified', 'Unspecified', 'Unspecified', 'Unspecified', 'grey', 'grey', 'grey', 'Unspecified', 'Unspecified', 'Unspecified', 'Unspecified', 'Unspecified', 'grey', 'grey', 'Unspecified', 'Unspecified', 'Unspecified', 'Unspecified', 'Unspecified', 'Unspecified', 'Unspecified', 'grey', 'Unspecified', 'Unspecified', 'Unspecified', 'Unspecified', 'Unspecified', 'grey', 'grey', 'Unspecified', 'Unspecified', 'Unspecified', 'Unspecified', 'grey', 'Unspecified', 'Unspecified', 'Unspecified', 'Unspecified', 'white', 'Unspecified', 'Unspecified', 'Unspecified', 'grey', 'grey', 'Unspecified', 'Unspecified', 'Unspecified', 'Unspecified', 'Unspecified', 'Unspecified', 'Unspecified', 'grey', 'Unspecified', 'grey', 'Unspecified', 'Unspecified', 'Unspecified', 'Unspecified', 'Unspecified', 'Unspecified', 'Unspecified', 'grey', 'Unspecified', 'Unspecified', 'Unspecified', 'Unspecified', 'Unspecified', 'Unspecified', 'Unspecified', 'Unspecified', 'tiger', 'grey', 'white', 'grey', 'Unspecified', 'Unspecified', 'Unspecified', 'grey', 'Unspecified', 'Unspecified', 'Unspecified', 'Unspecified', 'Unspecified', 'Unspecified', 'grey', 'Unspecified', 'Unspecified', 'Unspecified', 'Unspecified', 'Unspecified', 'grey', 'grey', 'Unspecified', 'Unspecified', 'Unspecified', 'Unspecified', 'Unspecified', 'Unspecified', 'Unspecified', 'Unspecified', 'Unspecified', 'Unspecified', 'grey', 'Unspecified', 'Unspecified', 'Unspecified', 'grey', 'Unspecified', 'grey', 'Unspecified', 'Unspecified', 'Unspecified', 'Unspecified', 'Unspecified', 'Unspecified', 'Unspecified', 'grey', 'Unspecified', 'grey', 'Unspecified', 'grey', 'grey', 'Unspecified', 'Unspecified', 'Unspecified', 'Unspecified', 'Unspecified', 'Unspecified', 'Unspecified', 'Unspecified', 'Unspecified', 'Unspecified', 'Unspecified', 'Unspecified', 'Unspecified', 'grey', 'Unspecified', 'grey', 'Unspecified', 'grey', 'grey', 'Unspecified', 'Unspecified', 'Unspecified', 'Unspecified', 'Unspecified', 'Unspecified', 'Unspecified', 'Unspecified', 'Unspecified', 'Unspecified', 'Unspecified', 'Unspecified', 'Unspecified', 'Unspecified', 'Unspecified', 'Unspecified', 'Unspecified', 'white', 'tiger', 'grey', 'Unspecified', 'white', 'grey', 'Unspecified', 'grey', 'Unspecified', 'Unspecified', 'Unspecified', 'Unspecified', 'Unspecified', 'Unspecified', 'white', 'grey', 'Unspecified', 'Unspecified', 'Unspecified', 'grey', 'Unspecified', 'Unspecified', 'Unspecified', 'Unspecified', 'Unspecified', 'Unspecified', 'Unspecified', 'Unspecified', 'grey', 'Unspecified', 'grey', 'Unspecified', 'Unspecified', 'Unspecified', 'Unspecified', 'Unspecified', 'Unspecified', 'Unspecified', 'Unspecified', 'grey', 'Unspecified', 'Unspecified', 'Unspecified', 'Unspecified', 'Unspecified', 'Unspecified', 'Unspecified', 'Unspecified', 'Unspecified', 'Unspecified', 'Unspecified', 'Unspecified', 'Unspecified', 'Unspecified', 'Unspecified', 'Unspecified', 'Unspecified', 'Unspecified', 'Unspecified', 'Unspecified', 'Unspecified', 'grey', 'Unspecified', 'Unspecified', 'Unspecified', 'grey', 'Unspecified', 'Unspecified', 'Unspecified', 'Unspecified', 'Unspecified', 'grey', 'grey', 'Unspecified', 'Unspecified', 'Unspecified', 'grey', 'Unspecified', 'Unspecified', 'Unspecified', 'Unspecified', 'Unspecified', 'Unspecified', 'Unspecified', 'Unspecified', 'Unspecified', 'Unspecified', 'Unspecified', 'Unspecified', 'Unspecified', 'Unspecified', 'Unspecified', 'Unspecified', 'Unspecified', 'Unspecified', 'Unspecified', 'Unspecified', 'Unspecified', 'Unspecified', 'Unspecified', 'grey', 'Unspecified', 'Unspecified', 'grey', 'Unspecified', 'Unspecified', 'Unspecified', 'Unspecified', 'Unspecified', 'Unspecified', 'grey', 'Unspecified', 'Unspecified', 'Unspecified', 'Unspecified', 'Unspecified', 'Unspecified', 'Unspecified', 'grey', 'Unspecified', 'Unspecified', 'Unspecified', 'Unspecified', 'grey']\n"
     ]
    }
   ],
   "source": [
    "print(species_limpia)"
   ]
  },
  {
   "cell_type": "code",
   "execution_count": null,
   "metadata": {},
   "outputs": [],
   "source": [
    "df_copia.head()"
   ]
  },
  {
   "cell_type": "code",
   "execution_count": null,
   "metadata": {},
   "outputs": [],
   "source": [
    "patron_white = '.*[Ww](hite|HITE).*'\n",
    "patron_tiger = '.*[Tt](iger|IGER).*'\n",
    "patron_grey = '.*[Gg(rey|REY)].*'\n",
    "patron_lemon = '.*[Ll](emon|EMON).*'\n",
    "patron_bull = '.*[Bb](ull|ULL).*'"
   ]
  },
  {
   "cell_type": "code",
   "execution_count": null,
   "metadata": {},
   "outputs": [],
   "source": []
  },
  {
   "cell_type": "code",
   "execution_count": 12,
   "metadata": {},
   "outputs": [
    {
     "ename": "TypeError",
     "evalue": "expected string or bytes-like object",
     "output_type": "error",
     "traceback": [
      "\u001b[0;31m---------------------------------------------------------------------------\u001b[0m",
      "\u001b[0;31mTypeError\u001b[0m                                 Traceback (most recent call last)",
      "\u001b[0;32m/tmp/ipykernel_3856/2458545229.py\u001b[0m in \u001b[0;36m<module>\u001b[0;34m\u001b[0m\n\u001b[0;32m----> 1\u001b[0;31m \u001b[0mre\u001b[0m\u001b[0;34m.\u001b[0m\u001b[0mfindall\u001b[0m\u001b[0;34m(\u001b[0m\u001b[0;34m'White'\u001b[0m\u001b[0;34m,\u001b[0m\u001b[0mdf_copia\u001b[0m\u001b[0;34m[\u001b[0m\u001b[0;34m'species_'\u001b[0m\u001b[0;34m]\u001b[0m\u001b[0;34m)\u001b[0m\u001b[0;34m\u001b[0m\u001b[0;34m\u001b[0m\u001b[0m\n\u001b[0m",
      "\u001b[0;32m~/anaconda3/lib/python3.9/re.py\u001b[0m in \u001b[0;36mfindall\u001b[0;34m(pattern, string, flags)\u001b[0m\n\u001b[1;32m    239\u001b[0m \u001b[0;34m\u001b[0m\u001b[0m\n\u001b[1;32m    240\u001b[0m     Empty matches are included in the result.\"\"\"\n\u001b[0;32m--> 241\u001b[0;31m     \u001b[0;32mreturn\u001b[0m \u001b[0m_compile\u001b[0m\u001b[0;34m(\u001b[0m\u001b[0mpattern\u001b[0m\u001b[0;34m,\u001b[0m \u001b[0mflags\u001b[0m\u001b[0;34m)\u001b[0m\u001b[0;34m.\u001b[0m\u001b[0mfindall\u001b[0m\u001b[0;34m(\u001b[0m\u001b[0mstring\u001b[0m\u001b[0;34m)\u001b[0m\u001b[0;34m\u001b[0m\u001b[0;34m\u001b[0m\u001b[0m\n\u001b[0m\u001b[1;32m    242\u001b[0m \u001b[0;34m\u001b[0m\u001b[0m\n\u001b[1;32m    243\u001b[0m \u001b[0;32mdef\u001b[0m \u001b[0mfinditer\u001b[0m\u001b[0;34m(\u001b[0m\u001b[0mpattern\u001b[0m\u001b[0;34m,\u001b[0m \u001b[0mstring\u001b[0m\u001b[0;34m,\u001b[0m \u001b[0mflags\u001b[0m\u001b[0;34m=\u001b[0m\u001b[0;36m0\u001b[0m\u001b[0;34m)\u001b[0m\u001b[0;34m:\u001b[0m\u001b[0;34m\u001b[0m\u001b[0;34m\u001b[0m\u001b[0m\n",
      "\u001b[0;31mTypeError\u001b[0m: expected string or bytes-like object"
     ]
    }
   ],
   "source": [
    "re.findall('White',df_copia['species_'])"
   ]
  },
  {
   "cell_type": "code",
   "execution_count": 15,
   "metadata": {},
   "outputs": [
    {
     "data": {
      "text/plain": [
       "0             NaN\n",
       "1             NaN\n",
       "2             NaN\n",
       "3             NaN\n",
       "4             NaN\n",
       "          ...    \n",
       "6279          NaN\n",
       "6280          NaN\n",
       "6281          NaN\n",
       "6282          NaN\n",
       "6283    12' shark\n",
       "Name: species_, Length: 6284, dtype: object"
      ]
     },
     "execution_count": 15,
     "metadata": {},
     "output_type": "execute_result"
    }
   ],
   "source": [
    "df_copia['species_'][:]"
   ]
  },
  {
   "cell_type": "code",
   "execution_count": 26,
   "metadata": {},
   "outputs": [
    {
     "data": {
      "text/plain": [
       "0             NaN\n",
       "1             NaN\n",
       "2             NaN\n",
       "3             NaN\n",
       "4             NaN\n",
       "          ...    \n",
       "6279          NaN\n",
       "6280          NaN\n",
       "6281          NaN\n",
       "6282          NaN\n",
       "6283    12' shark\n",
       "Name: species_, Length: 6284, dtype: object"
      ]
     },
     "execution_count": 26,
     "metadata": {},
     "output_type": "execute_result"
    }
   ],
   "source": [
    "df_copia2['species_']"
   ]
  },
  {
   "cell_type": "code",
   "execution_count": null,
   "metadata": {},
   "outputs": [],
   "source": [
    "df['species_clean'] = df['species_'].apply(patrones)"
   ]
  },
  {
   "cell_type": "code",
   "execution_count": 15,
   "metadata": {},
   "outputs": [],
   "source": [
    "df_copia1['species_clean'] = df_copia1['species_'].str.split(sol, expand=False, n=1)"
   ]
  },
  {
   "cell_type": "code",
   "execution_count": null,
   "metadata": {},
   "outputs": [],
   "source": [
    "df_copia1.head(15)"
   ]
  },
  {
   "cell_type": "markdown",
   "metadata": {},
   "source": [
    "Ejercicio 2"
   ]
  },
  {
   "cell_type": "code",
   "execution_count": 16,
   "metadata": {},
   "outputs": [
    {
     "data": {
      "text/plain": [
       "array([nan, 'young', '14', '19', '20', '15', '21', '27', '36', '25', '6',\n",
       "       '16', '50', '13 or 14', '57', '11', '48', '18', '52', '12', '32',\n",
       "       '10', '34', '30', '60', '33', '29', '54', '41', '37', '56', '69',\n",
       "       '38', '55', '35', '46', '45', '40s', '28', '24', '26', '49', '22',\n",
       "       '7', '31', '17', '40', '13', '42', '3', '8', '82', '73', '20s',\n",
       "       '68', '51', '39', '58', 'Teen', '47', '61', '65', '66', '43',\n",
       "       '60s', '9', '72', '59', '64', '23', '71', '44', '62', '63', '70',\n",
       "       '18 months', '53', '30s', '50s', 'teen', '77', '74', '28 & 26',\n",
       "       '5', '86', '18 or 20', '12 or 13', '46 & 34', '28, 23 & 30',\n",
       "       'Teens', '36 & 26', '8 or 10', '84', '\\xa0 ', ' ', '30 or 36',\n",
       "       '6½', '21 & ?', '75', '33 or 37', 'mid-30s', '23 & 20', ' 30',\n",
       "       '7      &    31', ' 28', '20?', \"60's\", '32 & 30', '16 to 18',\n",
       "       '87', '67', 'Elderly', 'mid-20s', 'Ca. 33', '74 ', '45 ',\n",
       "       '21 or 26', '20 ', '>50', '18 to 22', 'adult', '9 & 12', '? & 19',\n",
       "       '9 months', '25 to 35', '23 & 26', '1', '(adult)', '33 & 37',\n",
       "       '25 or 28', '37, 67, 35, 27,  ? & 27', '21, 34,24 & 35', '30 & 32',\n",
       "       '50 & 30', '17 & 35', 'X', '\"middle-age\"', '13 or 18', '34 & 19',\n",
       "       '33 & 26', '2 to 3 months', 'MAKE LINE GREEN', ' 43', '81',\n",
       "       '\"young\"', '7 or 8', '78', '17 & 16', 'F', 'Both 11', '9 or 10',\n",
       "       '36 & 23', '  ', 'A.M.', '?    &   14', '10 or 12', '31 or 33',\n",
       "       '2½'], dtype=object)"
      ]
     },
     "execution_count": 16,
     "metadata": {},
     "output_type": "execute_result"
    }
   ],
   "source": [
    "df_copia1['age'].unique()"
   ]
  },
  {
   "cell_type": "code",
   "execution_count": null,
   "metadata": {},
   "outputs": [],
   "source": [
    "patron_año = '\\d+'"
   ]
  },
  {
   "cell_type": "markdown",
   "metadata": {},
   "source": [
    "Ejercicio 2"
   ]
  },
  {
   "cell_type": "code",
   "execution_count": 1,
   "metadata": {},
   "outputs": [
    {
     "ename": "SyntaxError",
     "evalue": "invalid syntax (3346572982.py, line 1)",
     "output_type": "error",
     "traceback": [
      "\u001b[0;36m  File \u001b[0;32m\"/tmp/ipykernel_1018/3346572982.py\"\u001b[0;36m, line \u001b[0;32m1\u001b[0m\n\u001b[0;31m    Ejercicio 2\u001b[0m\n\u001b[0m              ^\u001b[0m\n\u001b[0;31mSyntaxError\u001b[0m\u001b[0;31m:\u001b[0m invalid syntax\n"
     ]
    }
   ],
   "source": [
    "import re"
   ]
  },
  {
   "cell_type": "code",
   "execution_count": null,
   "metadata": {},
   "outputs": [],
   "source": [
    "def sacar_edades(col):\n",
    "    patron_edades = r'\\d+'\n",
    "    x = re.findall(patron_edades, col)\n",
    "    try:\n",
    "        return int(x[0])\n",
    "    except:\n",
    "        return np.nan"
   ]
  },
  {
   "cell_type": "markdown",
   "metadata": {},
   "source": [
    "Aplicamos la función"
   ]
  },
  {
   "cell_type": "code",
   "execution_count": 2,
   "metadata": {},
   "outputs": [
    {
     "ename": "NameError",
     "evalue": "name 'sacar_edades' is not defined",
     "output_type": "error",
     "traceback": [
      "\u001b[0;31m---------------------------------------------------------------------------\u001b[0m",
      "\u001b[0;31mNameError\u001b[0m                                 Traceback (most recent call last)",
      "\u001b[0;32m/tmp/ipykernel_1018/1503244633.py\u001b[0m in \u001b[0;36m<module>\u001b[0;34m\u001b[0m\n\u001b[0;32m----> 1\u001b[0;31m \u001b[0msacar_edades\u001b[0m\u001b[0;34m(\u001b[0m\u001b[0;34m)\u001b[0m\u001b[0;34m\u001b[0m\u001b[0;34m\u001b[0m\u001b[0m\n\u001b[0m",
      "\u001b[0;31mNameError\u001b[0m: name 'sacar_edades' is not defined"
     ]
    }
   ],
   "source": [
    "sacar_edades()"
   ]
  },
  {
   "cell_type": "code",
   "execution_count": 3,
   "metadata": {},
   "outputs": [
    {
     "ename": "NameError",
     "evalue": "name 'df' is not defined",
     "output_type": "error",
     "traceback": [
      "\u001b[0;31m---------------------------------------------------------------------------\u001b[0m",
      "\u001b[0;31mNameError\u001b[0m                                 Traceback (most recent call last)",
      "\u001b[0;32m/tmp/ipykernel_1018/1897697056.py\u001b[0m in \u001b[0;36m<module>\u001b[0;34m\u001b[0m\n\u001b[0;32m----> 1\u001b[0;31m \u001b[0mdf\u001b[0m\u001b[0;34m[\u001b[0m\u001b[0;34m\"age_new\"\u001b[0m\u001b[0;34m]\u001b[0m \u001b[0;34m=\u001b[0m \u001b[0mdf\u001b[0m\u001b[0;34m[\u001b[0m\u001b[0;34m\"age\"\u001b[0m\u001b[0;34m]\u001b[0m\u001b[0;34m.\u001b[0m\u001b[0mapply\u001b[0m\u001b[0;34m(\u001b[0m\u001b[0msacar_edades\u001b[0m\u001b[0;34m(\u001b[0m\u001b[0mdf\u001b[0m\u001b[0;34m[\u001b[0m\u001b[0;34m\"age\"\u001b[0m\u001b[0;34m]\u001b[0m\u001b[0;34m)\u001b[0m\u001b[0;34m)\u001b[0m\u001b[0;34m\u001b[0m\u001b[0;34m\u001b[0m\u001b[0m\n\u001b[0m",
      "\u001b[0;31mNameError\u001b[0m: name 'df' is not defined"
     ]
    }
   ],
   "source": [
    "df[\"age_new\"] = df[\"age\"].apply(sacar_edades(df[\"age\"]))"
   ]
  },
  {
   "cell_type": "code",
   "execution_count": null,
   "metadata": {},
   "outputs": [],
   "source": [
    "df[\"age_new\"].unique()"
   ]
  },
  {
   "cell_type": "code",
   "execution_count": null,
   "metadata": {},
   "outputs": [],
   "source": [
    "df['nombre_columna'] = df['nombre_columna'].astype(str)"
   ]
  },
  {
   "cell_type": "code",
   "execution_count": null,
   "metadata": {},
   "outputs": [],
   "source": [
    "df = df.explode('age_new')\n",
    "df[\"age_new\"].sample(10)"
   ]
  },
  {
   "cell_type": "markdown",
   "metadata": {},
   "source": [
    "Falta comprobar que ha funcionado"
   ]
  },
  {
   "cell_type": "code",
   "execution_count": 4,
   "metadata": {},
   "outputs": [
    {
     "ename": "SyntaxError",
     "evalue": "invalid syntax (1840420176.py, line 1)",
     "output_type": "error",
     "traceback": [
      "\u001b[0;36m  File \u001b[0;32m\"/tmp/ipykernel_1018/1840420176.py\"\u001b[0;36m, line \u001b[0;32m1\u001b[0m\n\u001b[0;31m    Falta comprobar que ha funcionado\u001b[0m\n\u001b[0m          ^\u001b[0m\n\u001b[0;31mSyntaxError\u001b[0m\u001b[0;31m:\u001b[0m invalid syntax\n"
     ]
    }
   ],
   "source": [
    "Falta comprobar que ha funcionado"
   ]
  },
  {
   "cell_type": "code",
   "execution_count": null,
   "metadata": {},
   "outputs": [],
   "source": [
    "df"
   ]
  }
 ],
 "metadata": {
  "interpreter": {
   "hash": "0620710c65b0f5ccc651a2aa8870ae0eb4c70492424a8d7866846658189426a3"
  },
  "kernelspec": {
   "display_name": "Python 3.9.7 ('base')",
   "language": "python",
   "name": "python3"
  },
  "language_info": {
   "codemirror_mode": {
    "name": "ipython",
    "version": 3
   },
   "file_extension": ".py",
   "mimetype": "text/x-python",
   "name": "python",
   "nbconvert_exporter": "python",
   "pygments_lexer": "ipython3",
   "version": "3.9.7"
  },
  "orig_nbformat": 4
 },
 "nbformat": 4,
 "nbformat_minor": 2
}
