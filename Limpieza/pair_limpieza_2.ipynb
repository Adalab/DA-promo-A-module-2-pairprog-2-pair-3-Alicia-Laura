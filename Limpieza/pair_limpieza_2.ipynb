{
 "cells": [
  {
   "cell_type": "code",
   "execution_count": 1,
   "metadata": {},
   "outputs": [],
   "source": [
    "import pandas as pd\n",
    "import numpy as np\n",
    "import re"
   ]
  },
  {
   "cell_type": "code",
   "execution_count": 27,
   "metadata": {},
   "outputs": [
    {
     "data": {
      "text/html": [
       "<div>\n",
       "<style scoped>\n",
       "    .dataframe tbody tr th:only-of-type {\n",
       "        vertical-align: middle;\n",
       "    }\n",
       "\n",
       "    .dataframe tbody tr th {\n",
       "        vertical-align: top;\n",
       "    }\n",
       "\n",
       "    .dataframe thead th {\n",
       "        text-align: right;\n",
       "    }\n",
       "</style>\n",
       "<table border=\"1\" class=\"dataframe\">\n",
       "  <thead>\n",
       "    <tr style=\"text-align: right;\">\n",
       "      <th></th>\n",
       "      <th>case_number</th>\n",
       "      <th>year</th>\n",
       "      <th>type</th>\n",
       "      <th>country</th>\n",
       "      <th>area</th>\n",
       "      <th>location</th>\n",
       "      <th>activity</th>\n",
       "      <th>name</th>\n",
       "      <th>age</th>\n",
       "      <th>time</th>\n",
       "      <th>species</th>\n",
       "      <th>injury</th>\n",
       "      <th>fecha_limpia</th>\n",
       "      <th>fatal_limpio</th>\n",
       "      <th>sexo</th>\n",
       "    </tr>\n",
       "  </thead>\n",
       "  <tbody>\n",
       "    <tr>\n",
       "      <th>0</th>\n",
       "      <td>1800.00.00</td>\n",
       "      <td>1800</td>\n",
       "      <td>Unprovoked</td>\n",
       "      <td>seychelles</td>\n",
       "      <td>St. Anne</td>\n",
       "      <td>NaN</td>\n",
       "      <td>a corsair's boat was overturned</td>\n",
       "      <td>NaN</td>\n",
       "      <td>NaN</td>\n",
       "      <td>NaN</td>\n",
       "      <td>NaN</td>\n",
       "      <td>FATAL, all onboard were killed by sharks</td>\n",
       "      <td>unspecified</td>\n",
       "      <td>Y</td>\n",
       "      <td>F</td>\n",
       "    </tr>\n",
       "    <tr>\n",
       "      <th>1</th>\n",
       "      <td>1797.05.28.R</td>\n",
       "      <td>1797</td>\n",
       "      <td>Unprovoked</td>\n",
       "      <td>NaN</td>\n",
       "      <td>NaN</td>\n",
       "      <td>NaN</td>\n",
       "      <td>Dropped overboard</td>\n",
       "      <td>child</td>\n",
       "      <td>NaN</td>\n",
       "      <td>NaN</td>\n",
       "      <td>NaN</td>\n",
       "      <td>FATAL</td>\n",
       "      <td>May</td>\n",
       "      <td>Y</td>\n",
       "      <td>NaN</td>\n",
       "    </tr>\n",
       "  </tbody>\n",
       "</table>\n",
       "</div>"
      ],
      "text/plain": [
       "    case_number  year        type     country      area location  \\\n",
       "0    1800.00.00  1800  Unprovoked  seychelles  St. Anne      NaN   \n",
       "1  1797.05.28.R  1797  Unprovoked         NaN       NaN      NaN   \n",
       "\n",
       "                          activity   name  age time species  \\\n",
       "0  a corsair's boat was overturned    NaN  NaN  NaN     NaN   \n",
       "1                Dropped overboard  child  NaN  NaN     NaN   \n",
       "\n",
       "                                     injury fecha_limpia fatal_limpio sexo  \n",
       "0  FATAL, all onboard were killed by sharks  unspecified            Y    F  \n",
       "1                                     FATAL          May            Y  NaN  "
      ]
     },
     "execution_count": 27,
     "metadata": {},
     "output_type": "execute_result"
    }
   ],
   "source": [
    "df = pd.read_csv(\"./pairs_limpieza.csv\", index_col = 0)\n",
    "df.head(2)"
   ]
  },
  {
   "cell_type": "code",
   "execution_count": 19,
   "metadata": {},
   "outputs": [
    {
     "data": {
      "text/plain": [
       "case_number     object\n",
       "year             int64\n",
       "type            object\n",
       "country         object\n",
       "area            object\n",
       "location        object\n",
       "activity        object\n",
       "name            object\n",
       "age             object\n",
       "time            object\n",
       "species_        object\n",
       "injury          object\n",
       "fecha_limpia    object\n",
       "fatal_clean     object\n",
       "sexo            object\n",
       "dtype: object"
      ]
     },
     "execution_count": 19,
     "metadata": {},
     "output_type": "execute_result"
    }
   ],
   "source": [
    "df.dtypes"
   ]
  },
  {
   "cell_type": "markdown",
   "metadata": {},
   "source": [
    "Ejercicio 1"
   ]
  },
  {
   "cell_type": "code",
   "execution_count": 20,
   "metadata": {},
   "outputs": [
    {
     "data": {
      "text/html": [
       "<div>\n",
       "<style scoped>\n",
       "    .dataframe tbody tr th:only-of-type {\n",
       "        vertical-align: middle;\n",
       "    }\n",
       "\n",
       "    .dataframe tbody tr th {\n",
       "        vertical-align: top;\n",
       "    }\n",
       "\n",
       "    .dataframe thead th {\n",
       "        text-align: right;\n",
       "    }\n",
       "</style>\n",
       "<table border=\"1\" class=\"dataframe\">\n",
       "  <thead>\n",
       "    <tr style=\"text-align: right;\">\n",
       "      <th></th>\n",
       "      <th>case_number</th>\n",
       "      <th>year</th>\n",
       "      <th>type</th>\n",
       "      <th>country</th>\n",
       "      <th>area</th>\n",
       "      <th>location</th>\n",
       "      <th>activity</th>\n",
       "      <th>name</th>\n",
       "      <th>age</th>\n",
       "      <th>time</th>\n",
       "      <th>species_</th>\n",
       "      <th>injury</th>\n",
       "      <th>fecha_limpia</th>\n",
       "      <th>fatal_clean</th>\n",
       "      <th>sexo</th>\n",
       "    </tr>\n",
       "  </thead>\n",
       "  <tbody>\n",
       "    <tr>\n",
       "      <th>0</th>\n",
       "      <td>1800.00.00</td>\n",
       "      <td>1800</td>\n",
       "      <td>Unprovoked</td>\n",
       "      <td>seychelles</td>\n",
       "      <td>St. Anne</td>\n",
       "      <td>NaN</td>\n",
       "      <td>a corsair's boat was overturned</td>\n",
       "      <td>NaN</td>\n",
       "      <td>NaN</td>\n",
       "      <td>NaN</td>\n",
       "      <td>NaN</td>\n",
       "      <td>FATAL, all onboard were killed by sharks</td>\n",
       "      <td>NaN</td>\n",
       "      <td>Y</td>\n",
       "      <td>F</td>\n",
       "    </tr>\n",
       "    <tr>\n",
       "      <th>1</th>\n",
       "      <td>1797.05.28.R</td>\n",
       "      <td>1797</td>\n",
       "      <td>Unprovoked</td>\n",
       "      <td>NaN</td>\n",
       "      <td>NaN</td>\n",
       "      <td>NaN</td>\n",
       "      <td>Dropped overboard</td>\n",
       "      <td>child</td>\n",
       "      <td>NaN</td>\n",
       "      <td>NaN</td>\n",
       "      <td>NaN</td>\n",
       "      <td>FATAL</td>\n",
       "      <td>May</td>\n",
       "      <td>Y</td>\n",
       "      <td>NaN</td>\n",
       "    </tr>\n",
       "  </tbody>\n",
       "</table>\n",
       "</div>"
      ],
      "text/plain": [
       "    case_number  year        type     country      area location  \\\n",
       "0    1800.00.00  1800  Unprovoked  seychelles  St. Anne      NaN   \n",
       "1  1797.05.28.R  1797  Unprovoked         NaN       NaN      NaN   \n",
       "\n",
       "                          activity   name  age time species_  \\\n",
       "0  a corsair's boat was overturned    NaN  NaN  NaN      NaN   \n",
       "1                Dropped overboard  child  NaN  NaN      NaN   \n",
       "\n",
       "                                     injury fecha_limpia fatal_clean sexo  \n",
       "0  FATAL, all onboard were killed by sharks          NaN           Y    F  \n",
       "1                                     FATAL          May           Y  NaN  "
      ]
     },
     "execution_count": 20,
     "metadata": {},
     "output_type": "execute_result"
    }
   ],
   "source": [
    "df.head(2)"
   ]
  },
  {
   "cell_type": "code",
   "execution_count": 28,
   "metadata": {},
   "outputs": [
    {
     "data": {
      "text/plain": [
       "array([nan, 'Tiger shark?', 'White sharks', ...,\n",
       "       \"Said to involve a 6 m to 7.3 m [20' to 24'] shark\",\n",
       "       \"Said to be a 7.6 m [25'] shark\",\n",
       "       'Thought to involve a porbeagle or mako shark'], dtype=object)"
      ]
     },
     "execution_count": 28,
     "metadata": {},
     "output_type": "execute_result"
    }
   ],
   "source": [
    "df[\"species\"].unique()"
   ]
  },
  {
   "cell_type": "markdown",
   "metadata": {},
   "source": [
    "Vamos a clasificar los tiburones en 5 especies: tiburón blanco (White), el tiburón tigre (Tiger ), el tiburón gris (Grey), el tiburón limón (Lemon) y el tiburón toro (Bull) y el resto en 'Unspecified'"
   ]
  },
  {
   "cell_type": "markdown",
   "metadata": {},
   "source": [
    "Pistas: regex para buscar strings (5 patrones diferentes) y crear función en la que aplicamos el patrón regex"
   ]
  },
  {
   "cell_type": "code",
   "execution_count": 29,
   "metadata": {},
   "outputs": [],
   "source": [
    "df_copia = df.copy()"
   ]
  },
  {
   "cell_type": "code",
   "execution_count": 23,
   "metadata": {},
   "outputs": [],
   "source": [
    "patron_white = '.*[Ww](hite|HITE).*'\n",
    "patron_tiger = '.*[Tt](iger|IGER).*'\n",
    "patron_grey = '.*[Gg(rey|REY)].*'\n",
    "patron_lemon = '.*[Ll](emon|EMON).*'\n",
    "patron_bull = '.*[Bb](ull|ULL).*'\n"
   ]
  },
  {
   "cell_type": "code",
   "execution_count": null,
   "metadata": {},
   "outputs": [],
   "source": [
    "#df[\"species_\"].str.split(pat = patron_white , n= , expand= False, regex = True)"
   ]
  },
  {
   "cell_type": "code",
   "execution_count": 34,
   "metadata": {},
   "outputs": [],
   "source": [
    "# def patrones(w,t,g,l,b):\n",
    "#     for i in range(len(df_copia1['species_'])):\n",
    "\n",
    "#         try:\n",
    "#             if w in df_copia1[i]:\n",
    "#                 print(df_copia1[i])\n",
    "#                 df_copia1['species_'].replace(i, w, inplace=False)\n",
    "#             elif t in df_copia1[i]:\n",
    "#                 df_copia1['species_'].replace(i, t, inplace=False)\n",
    "#             elif g in df_copia1[i]:\n",
    "#                 df_copia1['species_'].replace(i, g, inplace=False)\n",
    "#             elif l in df_copia1[i]:\n",
    "#                 df_copia1['species_'].replace(i, l, inplace=False)\n",
    "#             elif b in df_copia1[i]:\n",
    "#                 df_copia1['species_'].replace(i, b, inplace=False)\n",
    "#         except:\n",
    "#             df_copia1['species_'][i].replace(i, 'Unspecified', inplace=False)\n",
    "#             print(df_copia1[])\n",
    "      \n",
    "# solucion_patron = patrones(patron_white,patron_tiger,patron_grey,patron_lemon,patron_bull)\n",
    "# solucion_patron\n"
   ]
  },
  {
   "cell_type": "code",
   "execution_count": 23,
   "metadata": {},
   "outputs": [],
   "source": [
    "# def patrones(df1):\n",
    "#     patron_white = '.*[Ww](hite|HITE).*'\n",
    "#     patron_tiger = '[TtIiGgEeRr]{5}'\n",
    "#     patron_grey = '[GgRrEeYy]{4}'\n",
    "#     patron_lemon = '[LeMmOoNn]{4}'\n",
    "#     patron_bull =  '[BbUuLl]{3}'\n",
    "#     for indice in range(len(df1)):\n",
    "#         try: \n",
    "\n",
    "#             if patron_white in df1[indice]:\n",
    "#                 return df1[indice].replace(patron_white, 'white', inplace=False)\n",
    "#             elif patron_tiger in df1[indice]:\n",
    "#                 return df1[indice].replace(patron_tiger, 'tiger', inplace=False)\n",
    "#             elif patron_grey in df1[indice]:\n",
    "#                 return df1[indice].replace(patron_grey, 'grey', inplace=False)\n",
    "#             elif patron_lemon in df1[indice]:\n",
    "#                 return df1[indice].replace(patron_lemon, 'lemon', inplace=False)\n",
    "#             elif patron_bull in df1[indice]:\n",
    "#                 return df1[indice].replace(patron_bull, 'bull', inplace=False)\n",
    "#         except:\n",
    "#             return df1[indice] == 'Unspecified'\n",
    "            \n",
    "      \n",
    "\n",
    "\n",
    "# sol = patrones(df_copia['species_'])\n"
   ]
  },
  {
   "cell_type": "code",
   "execution_count": null,
   "metadata": {},
   "outputs": [],
   "source": [
    "# def patrones():\n",
    "#    try:\n",
    "#       patron = re.findall('.*[Ww](hite|HITE).*',df_copia['species_'])\n",
    "#       for w in patron:\n",
    "#          limpiada = re.sub(w,'white',limpiada) \n",
    "#    except:\n",
    "#       limpiada = df_copia['species_'].replace('Unspecified', inplace=False) \n",
    "      \n",
    "#    return limpiada\n",
    "\n",
    "# patrones()"
   ]
  },
  {
   "cell_type": "code",
   "execution_count": null,
   "metadata": {},
   "outputs": [],
   "source": [
    "# def patrones(x):\n",
    "#     patron_white = re.findall('.*[Ww](hite|HITE).*',df_copia['species_'])\n",
    "#     patron_tiger = re.findall('[TtIiGgEeRr]{5}',df_copia['species_'])\n",
    "#     patron_grey = re.findall('[GgRrEeYy]{4}',df_copia['species_'])\n",
    "#     patron_lemon = re.findall('[LeMmOoNn]{4}',df_copia['species_'])\n",
    "#     patron_bull = re.findall('[BbUuLl]{3}',df_copia['species_'])\n",
    "#     try:\n",
    "#         if patron_white:\n",
    "#             return 'white'\n",
    "#         elif patron_tiger:\n",
    "#             return 'tiger'\n",
    "#         elif patron_grey:\n",
    "#             return 'grey'\n",
    "#         elif patron_lemon:\n",
    "#             return 'lemon'\n",
    "#         elif patron_bull:\n",
    "#             return 'bull'\n",
    "#         else:\n",
    "#            return 'Unspecified' \n",
    "#     except:\n",
    "#         return 'Unspecified'\n",
    "\n",
    "# patrones()"
   ]
  },
  {
   "cell_type": "code",
   "execution_count": null,
   "metadata": {},
   "outputs": [],
   "source": [
    "# def patrones(x):\n",
    "#     try:\n",
    "#         patron_white = re.findall('.*[Ww](hite|HITE).*',df_copia[str(x)])\n",
    "#         patron_tiger = re.findall('.*[Tt](iger|IGER).*',df_copia[str(x)])\n",
    "#         patron_grey = re.findall('.*[Gg(rey|REY)].*',df_copia[str(x)])\n",
    "#         patron_lemon = re.findall('.*[Ll](emon|EMON).*',df_copia[str(x)])\n",
    "#         patron_bull = re.findall('.*[Bb](ull|ULL).*',df_copia[str(x)])\n",
    "#         if patron_white:\n",
    "#             return 'white'\n",
    "#         elif patron_tiger:\n",
    "#             return 'tiger'\n",
    "#         elif patron_grey:\n",
    "#             return 'grey'\n",
    "#         elif patron_lemon:\n",
    "#             return 'lemon'\n",
    "#         elif patron_bull:\n",
    "#             return 'bull'\n",
    "#         else:\n",
    "#            return 'Unspecified' \n",
    "#     except TypeError:\n",
    "#         return 'Unspecified'\n",
    "\n",
    "# patrones('species_')"
   ]
  },
  {
   "cell_type": "code",
   "execution_count": null,
   "metadata": {},
   "outputs": [],
   "source": [
    "# def patrones(x):\n",
    "#     for i in range(len(x)):\n",
    "#         try:\n",
    "#             patron_white = re.findall('.*[Ww](hite|HITE).*',x[i])\n",
    "#             patron_tiger = re.findall('.*[Tt](iger|IGER).*',x[i])\n",
    "#             patron_grey = re.findall('.*[Gg(rey|REY)].*',x[i])\n",
    "#             patron_lemon = re.findall('.*[Ll](emon|EMON).*',x[i])\n",
    "#             patron_bull = re.findall('.*[Bb](ull|ULL).*',x[i])\n",
    "#             if patron_white:\n",
    "#                 return 'white'\n",
    "#             elif patron_tiger:\n",
    "#                 return 'tiger'\n",
    "#             elif patron_grey:\n",
    "#                 return 'grey'\n",
    "#             elif patron_lemon:\n",
    "#                 return 'lemon'\n",
    "#             elif patron_bull:\n",
    "#                 return 'bull'\n",
    "#             else:\n",
    "#                 return 'Unspecified' \n",
    "#         except:\n",
    "#             return 'Unspecified'\n",
    "\n",
    "# patrones(df_copia['species_'])"
   ]
  },
  {
   "cell_type": "code",
   "execution_count": null,
   "metadata": {},
   "outputs": [],
   "source": [
    "# species_limpia = []  \n",
    "# def patrones1(x):                        \n",
    "#     for i in range(len(x)):  \n",
    "#         if x[i] ==  re.findall('White',x[i]):\n",
    "#             species_limpia.append(i)\n",
    "#         else:\n",
    "#             species_limpia.append('Unspecified')                 \n",
    "#     print(species_limpia)\n",
    "# patrones1(df_copia['species_'])\n"
   ]
  },
  {
   "cell_type": "code",
   "execution_count": 43,
   "metadata": {},
   "outputs": [],
   "source": [
    "species_limpia = []  \n",
    "\n",
    "def patrones(x): \n",
    "    columna_species = df_copia[x]                      \n",
    "    for fila in columna_species:                      \n",
    "        if re.match('.*[Ww](hite|HITE).*', str(fila)):\n",
    "            species_limpia.append('white')\n",
    "        elif re.match('.*[Tt](iger|IGER).*',str(fila)):\n",
    "            species_limpia.append('tiger')\n",
    "        elif re.match('.*[Gg(rey|REY)].*', str(fila)):\n",
    "            species_limpia.append('grey')\n",
    "        elif re.match('.*[Ll](emon|EMON).*', str(fila)):\n",
    "            species_limpia.append('lemon')\n",
    "        elif re.match('.*[Bb](ull|ULL).*', str(fila)):\n",
    "            species_limpia.append('bull')\n",
    "        else:\n",
    "            species_limpia.append('unspecified')"
   ]
  },
  {
   "cell_type": "code",
   "execution_count": 44,
   "metadata": {},
   "outputs": [],
   "source": [
    "patrones('species')"
   ]
  },
  {
   "cell_type": "markdown",
   "metadata": {},
   "source": [
    "Comprobamos que nuestra columna `species` está limpia"
   ]
  },
  {
   "cell_type": "code",
   "execution_count": 46,
   "metadata": {},
   "outputs": [
    {
     "data": {
      "text/plain": [
       "unspecified    2944\n",
       "grey           2392\n",
       "white           666\n",
       "tiger           282\n",
       "dtype: int64"
      ]
     },
     "execution_count": 46,
     "metadata": {},
     "output_type": "execute_result"
    }
   ],
   "source": [
    "df_species_limpia = pd.DataFrame(species_limpia)\n",
    "df_species_limpia.value_counts()"
   ]
  },
  {
   "cell_type": "code",
   "execution_count": 47,
   "metadata": {},
   "outputs": [
    {
     "data": {
      "text/html": [
       "<div>\n",
       "<style scoped>\n",
       "    .dataframe tbody tr th:only-of-type {\n",
       "        vertical-align: middle;\n",
       "    }\n",
       "\n",
       "    .dataframe tbody tr th {\n",
       "        vertical-align: top;\n",
       "    }\n",
       "\n",
       "    .dataframe thead th {\n",
       "        text-align: right;\n",
       "    }\n",
       "</style>\n",
       "<table border=\"1\" class=\"dataframe\">\n",
       "  <thead>\n",
       "    <tr style=\"text-align: right;\">\n",
       "      <th></th>\n",
       "      <th>case_number</th>\n",
       "      <th>year</th>\n",
       "      <th>type</th>\n",
       "      <th>country</th>\n",
       "      <th>area</th>\n",
       "      <th>location</th>\n",
       "      <th>activity</th>\n",
       "      <th>name</th>\n",
       "      <th>age</th>\n",
       "      <th>time</th>\n",
       "      <th>species</th>\n",
       "      <th>injury</th>\n",
       "      <th>fecha_limpia</th>\n",
       "      <th>fatal_limpio</th>\n",
       "      <th>sexo</th>\n",
       "    </tr>\n",
       "  </thead>\n",
       "  <tbody>\n",
       "    <tr>\n",
       "      <th>0</th>\n",
       "      <td>1800.00.00</td>\n",
       "      <td>1800</td>\n",
       "      <td>Unprovoked</td>\n",
       "      <td>seychelles</td>\n",
       "      <td>St. Anne</td>\n",
       "      <td>NaN</td>\n",
       "      <td>a corsair's boat was overturned</td>\n",
       "      <td>NaN</td>\n",
       "      <td>NaN</td>\n",
       "      <td>NaN</td>\n",
       "      <td>unspecified</td>\n",
       "      <td>FATAL, all onboard were killed by sharks</td>\n",
       "      <td>unspecified</td>\n",
       "      <td>Y</td>\n",
       "      <td>F</td>\n",
       "    </tr>\n",
       "    <tr>\n",
       "      <th>1</th>\n",
       "      <td>1797.05.28.R</td>\n",
       "      <td>1797</td>\n",
       "      <td>Unprovoked</td>\n",
       "      <td>NaN</td>\n",
       "      <td>NaN</td>\n",
       "      <td>NaN</td>\n",
       "      <td>Dropped overboard</td>\n",
       "      <td>child</td>\n",
       "      <td>NaN</td>\n",
       "      <td>NaN</td>\n",
       "      <td>unspecified</td>\n",
       "      <td>FATAL</td>\n",
       "      <td>May</td>\n",
       "      <td>Y</td>\n",
       "      <td>NaN</td>\n",
       "    </tr>\n",
       "    <tr>\n",
       "      <th>2</th>\n",
       "      <td>1792.09.12</td>\n",
       "      <td>1792</td>\n",
       "      <td>Provoked</td>\n",
       "      <td>england</td>\n",
       "      <td>NaN</td>\n",
       "      <td>On the Thames River</td>\n",
       "      <td>Fishing</td>\n",
       "      <td>male</td>\n",
       "      <td>NaN</td>\n",
       "      <td>NaN</td>\n",
       "      <td>unspecified</td>\n",
       "      <td>FATAL, PROVOKED INCIDENT</td>\n",
       "      <td>Sep</td>\n",
       "      <td>Y</td>\n",
       "      <td>M</td>\n",
       "    </tr>\n",
       "    <tr>\n",
       "      <th>3</th>\n",
       "      <td>1791.00.00</td>\n",
       "      <td>1791</td>\n",
       "      <td>Unprovoked</td>\n",
       "      <td>australia</td>\n",
       "      <td>New South Wales</td>\n",
       "      <td>Port Jackson</td>\n",
       "      <td>NaN</td>\n",
       "      <td>female, an Australian aboriginal</td>\n",
       "      <td>NaN</td>\n",
       "      <td>NaN</td>\n",
       "      <td>unspecified</td>\n",
       "      <td>FATAL, \"bitten in two\"</td>\n",
       "      <td>unspecified</td>\n",
       "      <td>Y</td>\n",
       "      <td>F</td>\n",
       "    </tr>\n",
       "    <tr>\n",
       "      <th>4</th>\n",
       "      <td>1788.05.10</td>\n",
       "      <td>1788</td>\n",
       "      <td>Boat</td>\n",
       "      <td>australia</td>\n",
       "      <td>New South Wales</td>\n",
       "      <td>Sydney Harbor</td>\n",
       "      <td>Fishing</td>\n",
       "      <td>boat</td>\n",
       "      <td>NaN</td>\n",
       "      <td>NaN</td>\n",
       "      <td>unspecified</td>\n",
       "      <td>No injury to occupants, shark bit oar and rudder</td>\n",
       "      <td>May</td>\n",
       "      <td>N</td>\n",
       "      <td>NaN</td>\n",
       "    </tr>\n",
       "  </tbody>\n",
       "</table>\n",
       "</div>"
      ],
      "text/plain": [
       "    case_number  year        type     country             area  \\\n",
       "0    1800.00.00  1800  Unprovoked  seychelles         St. Anne   \n",
       "1  1797.05.28.R  1797  Unprovoked         NaN              NaN   \n",
       "2    1792.09.12  1792    Provoked     england              NaN   \n",
       "3    1791.00.00  1791  Unprovoked   australia  New South Wales   \n",
       "4    1788.05.10  1788        Boat   australia  New South Wales   \n",
       "\n",
       "              location                         activity  \\\n",
       "0                  NaN  a corsair's boat was overturned   \n",
       "1                  NaN                Dropped overboard   \n",
       "2  On the Thames River                          Fishing   \n",
       "3         Port Jackson                              NaN   \n",
       "4        Sydney Harbor                          Fishing   \n",
       "\n",
       "                               name  age time      species  \\\n",
       "0                               NaN  NaN  NaN  unspecified   \n",
       "1                             child  NaN  NaN  unspecified   \n",
       "2                              male  NaN  NaN  unspecified   \n",
       "3  female, an Australian aboriginal  NaN  NaN  unspecified   \n",
       "4                              boat  NaN  NaN  unspecified   \n",
       "\n",
       "                                             injury fecha_limpia fatal_limpio  \\\n",
       "0          FATAL, all onboard were killed by sharks  unspecified            Y   \n",
       "1                                             FATAL          May            Y   \n",
       "2                          FATAL, PROVOKED INCIDENT          Sep            Y   \n",
       "3                            FATAL, \"bitten in two\"  unspecified            Y   \n",
       "4  No injury to occupants, shark bit oar and rudder          May            N   \n",
       "\n",
       "  sexo  \n",
       "0    F  \n",
       "1  NaN  \n",
       "2    M  \n",
       "3    F  \n",
       "4  NaN  "
      ]
     },
     "execution_count": 47,
     "metadata": {},
     "output_type": "execute_result"
    }
   ],
   "source": [
    "df['species'] = df_species_limpia\n",
    "df.head()"
   ]
  },
  {
   "cell_type": "markdown",
   "metadata": {},
   "source": [
    "Ejercicio 2"
   ]
  },
  {
   "cell_type": "code",
   "execution_count": 48,
   "metadata": {},
   "outputs": [
    {
     "data": {
      "text/plain": [
       "array([nan, 'young', '14', '19', '20', '15', '21', '27', '36', '25', '6',\n",
       "       '16', '50', '13 or 14', '57', '11', '48', '18', '52', '12', '32',\n",
       "       '10', '34', '30', '60', '33', '29', '54', '41', '37', '56', '69',\n",
       "       '38', '55', '35', '46', '45', '40s', '28', '24', '26', '49', '22',\n",
       "       '7', '31', '17', '40', '13', '42', '3', '8', '82', '73', '20s',\n",
       "       '68', '51', '39', '58', 'Teen', '47', '61', '65', '66', '43',\n",
       "       '60s', '9', '72', '59', '64', '23', '71', '44', '62', '63', '70',\n",
       "       '18 months', '53', '30s', '50s', 'teen', '77', '74', '28 & 26',\n",
       "       '5', '86', '18 or 20', '12 or 13', '46 & 34', '28, 23 & 30',\n",
       "       'Teens', '36 & 26', '8 or 10', '84', '\\xa0 ', ' ', '30 or 36',\n",
       "       '6½', '21 & ?', '75', '33 or 37', 'mid-30s', '23 & 20', ' 30',\n",
       "       '7      &    31', ' 28', '20?', \"60's\", '32 & 30', '16 to 18',\n",
       "       '87', '67', 'Elderly', 'mid-20s', 'Ca. 33', '74 ', '45 ',\n",
       "       '21 or 26', '20 ', '>50', '18 to 22', 'adult', '9 & 12', '? & 19',\n",
       "       '9 months', '25 to 35', '23 & 26', '1', '(adult)', '33 & 37',\n",
       "       '25 or 28', '37, 67, 35, 27,  ? & 27', '21, 34,24 & 35', '30 & 32',\n",
       "       '50 & 30', '17 & 35', 'X', '\"middle-age\"', '13 or 18', '34 & 19',\n",
       "       '33 & 26', '2 to 3 months', 'MAKE LINE GREEN', ' 43', '81',\n",
       "       '\"young\"', '7 or 8', '78', '17 & 16', 'F', 'Both 11', '9 or 10',\n",
       "       '36 & 23', '  ', 'A.M.', '?    &   14', '10 or 12', '31 or 33',\n",
       "       '2½'], dtype=object)"
      ]
     },
     "execution_count": 48,
     "metadata": {},
     "output_type": "execute_result"
    }
   ],
   "source": [
    "df_copia['age'].unique()"
   ]
  },
  {
   "cell_type": "code",
   "execution_count": null,
   "metadata": {},
   "outputs": [],
   "source": [
    "#child, young adult, adult, senior, unnespecify"
   ]
  },
  {
   "cell_type": "markdown",
   "metadata": {},
   "source": [
    "Ejercicio 2"
   ]
  },
  {
   "cell_type": "code",
   "execution_count": 33,
   "metadata": {},
   "outputs": [],
   "source": [
    "# def sacar_edades(col):\n",
    "#     patron_años = r'\\d+'\n",
    "#     x = re.findall(patron_años, str(col))\n",
    "#     try:\n",
    "#         return int(x)\n",
    "#     except:\n",
    "#         return np.nan\n",
    "\n",
    "# sacar_edades(df_copia['age'])"
   ]
  },
  {
   "cell_type": "markdown",
   "metadata": {},
   "source": [
    "Para que no aparezca el Type Error tenemos que ejecutar el siguiente codigo:"
   ]
  },
  {
   "cell_type": "code",
   "execution_count": null,
   "metadata": {},
   "outputs": [],
   "source": [
    "df_copia['age'] = df_copia['age'].astype(str)"
   ]
  },
  {
   "cell_type": "markdown",
   "metadata": {},
   "source": [
    "# Prueba"
   ]
  },
  {
   "cell_type": "code",
   "execution_count": 69,
   "metadata": {},
   "outputs": [
    {
     "data": {
      "text/plain": [
       "0       nan\n",
       "1       nan\n",
       "2       nan\n",
       "3       nan\n",
       "4       nan\n",
       "       ... \n",
       "6279    nan\n",
       "6280    nan\n",
       "6281    nan\n",
       "6282    nan\n",
       "6283    nan\n",
       "Name: age, Length: 6284, dtype: object"
      ]
     },
     "execution_count": 69,
     "metadata": {},
     "output_type": "execute_result"
    }
   ],
   "source": [
    "col_age = df_copia.copy()\n",
    "col_age[\"age\"]"
   ]
  },
  {
   "cell_type": "code",
   "execution_count": 87,
   "metadata": {},
   "outputs": [
    {
     "name": "stderr",
     "output_type": "stream",
     "text": [
      "/tmp/ipykernel_276/306085208.py:7: SettingWithCopyWarning: \n",
      "A value is trying to be set on a copy of a slice from a DataFrame\n",
      "\n",
      "See the caveats in the documentation: https://pandas.pydata.org/pandas-docs/stable/user_guide/indexing.html#returning-a-view-versus-a-copy\n",
      "  col[index] = valor_nuevo\n"
     ]
    }
   ],
   "source": [
    "# me he puesto un ejemplo para ayudarme a sacar la función\n",
    "# df_copia[df_copia['age'] == '\"middle-age\"'].index\n",
    "# df_copia['age'][4222] = 50\n",
    "def limpiar_valores_str_unicos(col):\n",
    "    lista_valores = ['young', 'Teen', '18 months', '30s', '50s', 'teen', 'Teens', \"60's\", 'adult', '(adult)', '\"middle-age\"', '2 to 3 months', '\"young\"','2½','40s','20s', '60s','18 or 20', '12 or 13','8 or 10',  '30 or 36','6½','33 or 37', 'mid-30s', '20?', '16 to 18','Elderly','mid-20s','Ca. 33','21 or 26','>50','18 to 22','25 to 35','25 or 28','13 or 18','7 or 8','9 or 10','10 or 12','31 or 33', '13 or 14']\n",
    "    lista_valores_nuevo = [21, 21, 1.5, 42.5, 54, 21, 21, 65, 42.5, 42.5, 42.5, 0.3, 21, 2.5, 45, 25, 60, 19, 12.5, 9,33, 6.5, 35, 35,20, 17, 65, 25,33,23.5,55,20,0.75, 30,26.5, 15.5,7.5,9.5, 11, 32, 13.5  ]\n",
    "    for valor in lista_valores:\n",
    "        index = col_age[col == valor].index\n",
    "        for valor_nuevo in lista_valores_nuevo:\n",
    "           col[index] = valor_nuevo \n",
    "limpiar_valores_str_unicos(col_age['age'])"
   ]
  },
  {
   "cell_type": "markdown",
   "metadata": {},
   "source": [
    "En nuestra columna `age` existen dos tipos de datos: los strings que son una estimación de un número como por ejemplo `18 or 20` y los que se refieren a varios registros de un mismo dato `'21, 34,24 & 35'` "
   ]
  },
  {
   "cell_type": "markdown",
   "metadata": {},
   "source": [
    "Aquí hemos limpiado los strings que  se refieren a un **único** dato. En este caso lo hemos hecho manualmente ya que no existe un patrón fácil y hay que tomar la decisión de con qué  número reemplazar uno a uno. \n",
    "\n",
    "Para ello hemos supuesto estos rangos de edad: de 0 12 años: child, 13 a 29 young adult, 30 a 55 adult, +55 senior. Si el string hacia referencia a una etapa, como `teen` o `ederly`, hemos supuesto la media de esa etapa para el rango establecido. Ejemplo: `teen` para nosotras es `young adult` así que lo hemos reemplazado por la media de edad de este rango `(13+29)/2 = 21`\n",
    "\n",
    "Si hubiese dos valores `18 or 20` hemos reemplazado el string por la media de los valores. "
   ]
  },
  {
   "cell_type": "code",
   "execution_count": 89,
   "metadata": {},
   "outputs": [
    {
     "data": {
      "text/plain": [
       "array(['nan', 32, '14', '19', '20', '15', '21', '27', '36', '25', '6',\n",
       "       '16', '50', 13.5, '57', '11', '48', '18', '52', '12', '32', '10',\n",
       "       '34', '30', '60', '33', '29', '54', '41', '37', '56', '69', '38',\n",
       "       '55', '35', '46', '45', '28', '24', '26', '49', '22', '7', '31',\n",
       "       '17', '40', '13', '42', '3', '8', '82', '73', '68', '51', '39',\n",
       "       '58', '47', '61', '65', '66', '43', '9', '72', '59', '64', '23',\n",
       "       '71', '44', '62', '63', '70', '53', '77', '74', '28 & 26', '5',\n",
       "       '86', '46 & 34', '28, 23 & 30', '36 & 26', '84', '\\xa0 ', ' ',\n",
       "       '21 & ?', '75', '23 & 20', ' 30', '7      &    31', ' 28',\n",
       "       '32 & 30', '87', '67', '74 ', '45 ', '20 ', '9 & 12', '? & 19',\n",
       "       '9 months', '23 & 26', '1', '33 & 37', '37, 67, 35, 27,  ? & 27',\n",
       "       '21, 34,24 & 35', '30 & 32', '50 & 30', '17 & 35', 'X', 50,\n",
       "       '34 & 19', '33 & 26', 'MAKE LINE GREEN', ' 43', '81', '78',\n",
       "       '17 & 16', 'F', 'Both 11', '36 & 23', '  ', 'A.M.', '?    &   14'],\n",
       "      dtype=object)"
      ]
     },
     "execution_count": 89,
     "metadata": {},
     "output_type": "execute_result"
    }
   ],
   "source": [
    "col_age['age'].unique()"
   ]
  },
  {
   "cell_type": "markdown",
   "metadata": {},
   "source": [
    "# Final prueba"
   ]
  },
  {
   "cell_type": "code",
   "execution_count": 55,
   "metadata": {},
   "outputs": [
    {
     "ename": "TypeError",
     "evalue": "expected string or bytes-like object",
     "output_type": "error",
     "traceback": [
      "\u001b[0;31m---------------------------------------------------------------------------\u001b[0m",
      "\u001b[0;31mTypeError\u001b[0m                                 Traceback (most recent call last)",
      "\u001b[0;32m/tmp/ipykernel_276/3496968840.py\u001b[0m in \u001b[0;36m<module>\u001b[0;34m\u001b[0m\n\u001b[1;32m      1\u001b[0m \u001b[0mpatron_años\u001b[0m \u001b[0;34m=\u001b[0m \u001b[0;34mr'\\d+'\u001b[0m\u001b[0;34m\u001b[0m\u001b[0;34m\u001b[0m\u001b[0m\n\u001b[0;32m----> 2\u001b[0;31m \u001b[0mx\u001b[0m \u001b[0;34m=\u001b[0m \u001b[0mre\u001b[0m\u001b[0;34m.\u001b[0m\u001b[0mfindall\u001b[0m\u001b[0;34m(\u001b[0m\u001b[0mpatron_años\u001b[0m\u001b[0;34m,\u001b[0m \u001b[0mdf_copia\u001b[0m\u001b[0;34m[\u001b[0m\u001b[0;34m'age'\u001b[0m\u001b[0;34m]\u001b[0m\u001b[0;34m)\u001b[0m\u001b[0;34m\u001b[0m\u001b[0;34m\u001b[0m\u001b[0m\n\u001b[0m",
      "\u001b[0;32m~/anaconda3/lib/python3.9/re.py\u001b[0m in \u001b[0;36mfindall\u001b[0;34m(pattern, string, flags)\u001b[0m\n\u001b[1;32m    239\u001b[0m \u001b[0;34m\u001b[0m\u001b[0m\n\u001b[1;32m    240\u001b[0m     Empty matches are included in the result.\"\"\"\n\u001b[0;32m--> 241\u001b[0;31m     \u001b[0;32mreturn\u001b[0m \u001b[0m_compile\u001b[0m\u001b[0;34m(\u001b[0m\u001b[0mpattern\u001b[0m\u001b[0;34m,\u001b[0m \u001b[0mflags\u001b[0m\u001b[0;34m)\u001b[0m\u001b[0;34m.\u001b[0m\u001b[0mfindall\u001b[0m\u001b[0;34m(\u001b[0m\u001b[0mstring\u001b[0m\u001b[0;34m)\u001b[0m\u001b[0;34m\u001b[0m\u001b[0;34m\u001b[0m\u001b[0m\n\u001b[0m\u001b[1;32m    242\u001b[0m \u001b[0;34m\u001b[0m\u001b[0m\n\u001b[1;32m    243\u001b[0m \u001b[0;32mdef\u001b[0m \u001b[0mfinditer\u001b[0m\u001b[0;34m(\u001b[0m\u001b[0mpattern\u001b[0m\u001b[0;34m,\u001b[0m \u001b[0mstring\u001b[0m\u001b[0;34m,\u001b[0m \u001b[0mflags\u001b[0m\u001b[0;34m=\u001b[0m\u001b[0;36m0\u001b[0m\u001b[0;34m)\u001b[0m\u001b[0;34m:\u001b[0m\u001b[0;34m\u001b[0m\u001b[0;34m\u001b[0m\u001b[0m\n",
      "\u001b[0;31mTypeError\u001b[0m: expected string or bytes-like object"
     ]
    }
   ],
   "source": [
    "patron_años = r'\\d+'\n",
    "x = re.findall(patron_años, df_copia['age'])"
   ]
  },
  {
   "cell_type": "code",
   "execution_count": 53,
   "metadata": {},
   "outputs": [
    {
     "ename": "TypeError",
     "evalue": "expected string or bytes-like object",
     "output_type": "error",
     "traceback": [
      "\u001b[0;31m---------------------------------------------------------------------------\u001b[0m",
      "\u001b[0;31mTypeError\u001b[0m                                 Traceback (most recent call last)",
      "\u001b[0;32m/tmp/ipykernel_276/4286336546.py\u001b[0m in \u001b[0;36m<module>\u001b[0;34m\u001b[0m\n\u001b[1;32m      7\u001b[0m         \u001b[0;32mreturn\u001b[0m \u001b[0mnp\u001b[0m\u001b[0;34m.\u001b[0m\u001b[0mnan\u001b[0m\u001b[0;34m\u001b[0m\u001b[0;34m\u001b[0m\u001b[0m\n\u001b[1;32m      8\u001b[0m \u001b[0;34m\u001b[0m\u001b[0m\n\u001b[0;32m----> 9\u001b[0;31m \u001b[0msacar_edades\u001b[0m\u001b[0;34m(\u001b[0m\u001b[0mdf_copia\u001b[0m\u001b[0;34m[\u001b[0m\u001b[0;34m'age'\u001b[0m\u001b[0;34m]\u001b[0m\u001b[0;34m)\u001b[0m\u001b[0;34m\u001b[0m\u001b[0;34m\u001b[0m\u001b[0m\n\u001b[0m",
      "\u001b[0;32m/tmp/ipykernel_276/4286336546.py\u001b[0m in \u001b[0;36msacar_edades\u001b[0;34m(col)\u001b[0m\n\u001b[1;32m      1\u001b[0m \u001b[0;32mdef\u001b[0m \u001b[0msacar_edades\u001b[0m\u001b[0;34m(\u001b[0m\u001b[0mcol\u001b[0m\u001b[0;34m)\u001b[0m\u001b[0;34m:\u001b[0m\u001b[0;34m\u001b[0m\u001b[0;34m\u001b[0m\u001b[0m\n\u001b[1;32m      2\u001b[0m     \u001b[0mpatron_años\u001b[0m \u001b[0;34m=\u001b[0m \u001b[0;34mr'\\d+'\u001b[0m\u001b[0;34m\u001b[0m\u001b[0;34m\u001b[0m\u001b[0m\n\u001b[0;32m----> 3\u001b[0;31m     \u001b[0mx\u001b[0m \u001b[0;34m=\u001b[0m \u001b[0mre\u001b[0m\u001b[0;34m.\u001b[0m\u001b[0mmatch\u001b[0m\u001b[0;34m(\u001b[0m\u001b[0mpatron_años\u001b[0m\u001b[0;34m,\u001b[0m \u001b[0mcol\u001b[0m\u001b[0;34m)\u001b[0m\u001b[0;34m\u001b[0m\u001b[0;34m\u001b[0m\u001b[0m\n\u001b[0m\u001b[1;32m      4\u001b[0m     \u001b[0;32mtry\u001b[0m\u001b[0;34m:\u001b[0m\u001b[0;34m\u001b[0m\u001b[0;34m\u001b[0m\u001b[0m\n\u001b[1;32m      5\u001b[0m         \u001b[0;32mreturn\u001b[0m \u001b[0mx\u001b[0m\u001b[0;34m\u001b[0m\u001b[0;34m\u001b[0m\u001b[0m\n",
      "\u001b[0;32m~/anaconda3/lib/python3.9/re.py\u001b[0m in \u001b[0;36mmatch\u001b[0;34m(pattern, string, flags)\u001b[0m\n\u001b[1;32m    189\u001b[0m     \"\"\"Try to apply the pattern at the start of the string, returning\n\u001b[1;32m    190\u001b[0m     a Match object, or None if no match was found.\"\"\"\n\u001b[0;32m--> 191\u001b[0;31m     \u001b[0;32mreturn\u001b[0m \u001b[0m_compile\u001b[0m\u001b[0;34m(\u001b[0m\u001b[0mpattern\u001b[0m\u001b[0;34m,\u001b[0m \u001b[0mflags\u001b[0m\u001b[0;34m)\u001b[0m\u001b[0;34m.\u001b[0m\u001b[0mmatch\u001b[0m\u001b[0;34m(\u001b[0m\u001b[0mstring\u001b[0m\u001b[0;34m)\u001b[0m\u001b[0;34m\u001b[0m\u001b[0;34m\u001b[0m\u001b[0m\n\u001b[0m\u001b[1;32m    192\u001b[0m \u001b[0;34m\u001b[0m\u001b[0m\n\u001b[1;32m    193\u001b[0m \u001b[0;32mdef\u001b[0m \u001b[0mfullmatch\u001b[0m\u001b[0;34m(\u001b[0m\u001b[0mpattern\u001b[0m\u001b[0;34m,\u001b[0m \u001b[0mstring\u001b[0m\u001b[0;34m,\u001b[0m \u001b[0mflags\u001b[0m\u001b[0;34m=\u001b[0m\u001b[0;36m0\u001b[0m\u001b[0;34m)\u001b[0m\u001b[0;34m:\u001b[0m\u001b[0;34m\u001b[0m\u001b[0;34m\u001b[0m\u001b[0m\n",
      "\u001b[0;31mTypeError\u001b[0m: expected string or bytes-like object"
     ]
    }
   ],
   "source": [
    "def sacar_edades(col):\n",
    "    patron_años = r'\\d+'\n",
    "    x = re.match(patron_años, col)\n",
    "    try:\n",
    "        return x\n",
    "    except:\n",
    "        return np.nan\n",
    "\n",
    "sacar_edades(df_copia['age'])"
   ]
  },
  {
   "cell_type": "code",
   "execution_count": 90,
   "metadata": {},
   "outputs": [],
   "source": [
    "col_age['age'] = col_age['age'].astype(str)"
   ]
  },
  {
   "cell_type": "code",
   "execution_count": 52,
   "metadata": {},
   "outputs": [],
   "source": [
    "df_copia['age'] = df_copia['age'].astype(str)"
   ]
  },
  {
   "cell_type": "code",
   "execution_count": 91,
   "metadata": {},
   "outputs": [
    {
     "ename": "TypeError",
     "evalue": "expected string or bytes-like object",
     "output_type": "error",
     "traceback": [
      "\u001b[0;31m---------------------------------------------------------------------------\u001b[0m",
      "\u001b[0;31mTypeError\u001b[0m                                 Traceback (most recent call last)",
      "\u001b[0;32m/tmp/ipykernel_276/1672304958.py\u001b[0m in \u001b[0;36m<module>\u001b[0;34m\u001b[0m\n\u001b[1;32m      7\u001b[0m         \u001b[0;32mreturn\u001b[0m \u001b[0mnp\u001b[0m\u001b[0;34m.\u001b[0m\u001b[0mnan\u001b[0m\u001b[0;34m\u001b[0m\u001b[0;34m\u001b[0m\u001b[0m\n\u001b[1;32m      8\u001b[0m \u001b[0;34m\u001b[0m\u001b[0m\n\u001b[0;32m----> 9\u001b[0;31m \u001b[0msacar_edades\u001b[0m\u001b[0;34m(\u001b[0m\u001b[0mcol_age\u001b[0m\u001b[0;34m[\u001b[0m\u001b[0;34m'age'\u001b[0m\u001b[0;34m]\u001b[0m\u001b[0;34m)\u001b[0m\u001b[0;34m\u001b[0m\u001b[0;34m\u001b[0m\u001b[0m\n\u001b[0m",
      "\u001b[0;32m/tmp/ipykernel_276/1672304958.py\u001b[0m in \u001b[0;36msacar_edades\u001b[0;34m(col)\u001b[0m\n\u001b[1;32m      1\u001b[0m \u001b[0;32mdef\u001b[0m \u001b[0msacar_edades\u001b[0m\u001b[0;34m(\u001b[0m\u001b[0mcol\u001b[0m\u001b[0;34m)\u001b[0m\u001b[0;34m:\u001b[0m\u001b[0;34m\u001b[0m\u001b[0;34m\u001b[0m\u001b[0m\n\u001b[1;32m      2\u001b[0m     \u001b[0mpatron_años\u001b[0m \u001b[0;34m=\u001b[0m \u001b[0;34mr'\\d+'\u001b[0m\u001b[0;34m\u001b[0m\u001b[0;34m\u001b[0m\u001b[0m\n\u001b[0;32m----> 3\u001b[0;31m     \u001b[0mx\u001b[0m \u001b[0;34m=\u001b[0m \u001b[0mre\u001b[0m\u001b[0;34m.\u001b[0m\u001b[0mfindall\u001b[0m\u001b[0;34m(\u001b[0m\u001b[0mpatron_años\u001b[0m\u001b[0;34m,\u001b[0m \u001b[0mcol\u001b[0m\u001b[0;34m)\u001b[0m\u001b[0;34m\u001b[0m\u001b[0;34m\u001b[0m\u001b[0m\n\u001b[0m\u001b[1;32m      4\u001b[0m     \u001b[0;32mtry\u001b[0m\u001b[0;34m:\u001b[0m\u001b[0;34m\u001b[0m\u001b[0;34m\u001b[0m\u001b[0m\n\u001b[1;32m      5\u001b[0m         \u001b[0;32mreturn\u001b[0m \u001b[0mx\u001b[0m\u001b[0;34m\u001b[0m\u001b[0;34m\u001b[0m\u001b[0m\n",
      "\u001b[0;32m~/anaconda3/lib/python3.9/re.py\u001b[0m in \u001b[0;36mfindall\u001b[0;34m(pattern, string, flags)\u001b[0m\n\u001b[1;32m    239\u001b[0m \u001b[0;34m\u001b[0m\u001b[0m\n\u001b[1;32m    240\u001b[0m     Empty matches are included in the result.\"\"\"\n\u001b[0;32m--> 241\u001b[0;31m     \u001b[0;32mreturn\u001b[0m \u001b[0m_compile\u001b[0m\u001b[0;34m(\u001b[0m\u001b[0mpattern\u001b[0m\u001b[0;34m,\u001b[0m \u001b[0mflags\u001b[0m\u001b[0;34m)\u001b[0m\u001b[0;34m.\u001b[0m\u001b[0mfindall\u001b[0m\u001b[0;34m(\u001b[0m\u001b[0mstring\u001b[0m\u001b[0;34m)\u001b[0m\u001b[0;34m\u001b[0m\u001b[0;34m\u001b[0m\u001b[0m\n\u001b[0m\u001b[1;32m    242\u001b[0m \u001b[0;34m\u001b[0m\u001b[0m\n\u001b[1;32m    243\u001b[0m \u001b[0;32mdef\u001b[0m \u001b[0mfinditer\u001b[0m\u001b[0;34m(\u001b[0m\u001b[0mpattern\u001b[0m\u001b[0;34m,\u001b[0m \u001b[0mstring\u001b[0m\u001b[0;34m,\u001b[0m \u001b[0mflags\u001b[0m\u001b[0;34m=\u001b[0m\u001b[0;36m0\u001b[0m\u001b[0;34m)\u001b[0m\u001b[0;34m:\u001b[0m\u001b[0;34m\u001b[0m\u001b[0;34m\u001b[0m\u001b[0m\n",
      "\u001b[0;31mTypeError\u001b[0m: expected string or bytes-like object"
     ]
    }
   ],
   "source": [
    "def sacar_edades(col):\n",
    "    patron_años = r'\\d+'\n",
    "    x = re.findall(patron_años, col)\n",
    "    try:\n",
    "        return x\n",
    "    except:\n",
    "        return np.nan\n",
    "\n",
    "sacar_edades(col_age['age'])"
   ]
  },
  {
   "cell_type": "markdown",
   "metadata": {},
   "source": [
    "Aplicamos la función"
   ]
  },
  {
   "cell_type": "code",
   "execution_count": 53,
   "metadata": {},
   "outputs": [],
   "source": [
    "df_copia['age_new'] = df_copia['age'].apply(sacar_edades)"
   ]
  },
  {
   "cell_type": "code",
   "execution_count": null,
   "metadata": {},
   "outputs": [],
   "source": [
    "df_copia['age'].unique()"
   ]
  },
  {
   "cell_type": "code",
   "execution_count": null,
   "metadata": {},
   "outputs": [],
   "source": [
    "df_copia['age_new'].unique()"
   ]
  },
  {
   "cell_type": "code",
   "execution_count": null,
   "metadata": {},
   "outputs": [],
   "source": [
    "df_copia.head(30)"
   ]
  },
  {
   "cell_type": "code",
   "execution_count": null,
   "metadata": {},
   "outputs": [],
   "source": [
    "df[\"age_new\"].unique()"
   ]
  },
  {
   "cell_type": "code",
   "execution_count": null,
   "metadata": {},
   "outputs": [],
   "source": [
    "df = df.explode('age_new')\n",
    "df[\"age_new\"].sample(10)"
   ]
  },
  {
   "cell_type": "markdown",
   "metadata": {},
   "source": [
    "Falta comprobar que ha funcionado"
   ]
  },
  {
   "cell_type": "code",
   "execution_count": null,
   "metadata": {},
   "outputs": [],
   "source": [
    "df"
   ]
  },
  {
   "cell_type": "code",
   "execution_count": 95,
   "metadata": {},
   "outputs": [
    {
     "data": {
      "text/plain": [
       "array(['nan', '32', '14', '19', '20', '15', '21', '27', '36', '25', '6',\n",
       "       '16', '50', '13.5', '57', '11', '48', '18', '52', '12', '10', '34',\n",
       "       '30', '60', '33', '29', '54', '41', '37', '56', '69', '38', '55',\n",
       "       '35', '46', '45', '28', '24', '26', '49', '22', '7', '31', '17',\n",
       "       '40', '13', '42', '3', '8', '82', '73', '68', '51', '39', '58',\n",
       "       '47', '61', '65', '66', '43', '9', '72', '59', '64', '23', '71',\n",
       "       '44', '62', '63', '70', '53', '77', '74', '28 & 26', '5', '86',\n",
       "       '46 & 34', '28, 23 & 30', '36 & 26', '84', '\\xa0 ', ' ', '21 & ?',\n",
       "       '75', '23 & 20', ' 30', '7      &    31', ' 28', '32 & 30', '87',\n",
       "       '67', '74 ', '45 ', '20 ', '9 & 12', '? & 19', '9 months',\n",
       "       '23 & 26', '1', '33 & 37', '37, 67, 35, 27,  ? & 27',\n",
       "       '21, 34,24 & 35', '30 & 32', '50 & 30', '17 & 35', 'X', '34 & 19',\n",
       "       '33 & 26', 'MAKE LINE GREEN', ' 43', '81', '78', '17 & 16', 'F',\n",
       "       'Both 11', '36 & 23', '  ', 'A.M.', '?    &   14'], dtype=object)"
      ]
     },
     "execution_count": 95,
     "metadata": {},
     "output_type": "execute_result"
    }
   ],
   "source": [
    "col_age[\"age\"].unique()"
   ]
  },
  {
   "cell_type": "code",
   "execution_count": 96,
   "metadata": {},
   "outputs": [],
   "source": [
    "col_age.to_csv(\"pairs_limpieza.csv\")"
   ]
  }
 ],
 "metadata": {
  "interpreter": {
   "hash": "a2a25da4702e7ca1aacc8a7d4e81059851e19fd1060402175b35fae4c2a518e8"
  },
  "kernelspec": {
   "display_name": "Python 3.9.7 ('base')",
   "language": "python",
   "name": "python3"
  },
  "language_info": {
   "codemirror_mode": {
    "name": "ipython",
    "version": 3
   },
   "file_extension": ".py",
   "mimetype": "text/x-python",
   "name": "python",
   "nbconvert_exporter": "python",
   "pygments_lexer": "ipython3",
   "version": "3.9.7"
  },
  "orig_nbformat": 4
 },
 "nbformat": 4,
 "nbformat_minor": 2
}
