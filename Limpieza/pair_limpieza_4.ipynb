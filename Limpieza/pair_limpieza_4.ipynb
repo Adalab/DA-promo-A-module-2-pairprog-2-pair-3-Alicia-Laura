{
 "cells": [
  {
   "cell_type": "code",
   "execution_count": 24,
   "metadata": {},
   "outputs": [],
   "source": [
    "import pandas as pd\n",
    "import seaborn as sns\n",
    "import matplotlib.pyplot as plt\n",
    "import numpy as np\n",
    "import sidetable"
   ]
  },
  {
   "cell_type": "code",
   "execution_count": 25,
   "metadata": {},
   "outputs": [
    {
     "data": {
      "text/html": [
       "<div>\n",
       "<style scoped>\n",
       "    .dataframe tbody tr th:only-of-type {\n",
       "        vertical-align: middle;\n",
       "    }\n",
       "\n",
       "    .dataframe tbody tr th {\n",
       "        vertical-align: top;\n",
       "    }\n",
       "\n",
       "    .dataframe thead th {\n",
       "        text-align: right;\n",
       "    }\n",
       "</style>\n",
       "<table border=\"1\" class=\"dataframe\">\n",
       "  <thead>\n",
       "    <tr style=\"text-align: right;\">\n",
       "      <th></th>\n",
       "      <th>case_number</th>\n",
       "      <th>year</th>\n",
       "      <th>type</th>\n",
       "      <th>country</th>\n",
       "      <th>area</th>\n",
       "      <th>location</th>\n",
       "      <th>activity</th>\n",
       "      <th>name</th>\n",
       "      <th>age</th>\n",
       "      <th>time</th>\n",
       "      <th>species_</th>\n",
       "      <th>injury</th>\n",
       "      <th>fecha_limpia</th>\n",
       "      <th>fatal_clean</th>\n",
       "      <th>sexo</th>\n",
       "    </tr>\n",
       "  </thead>\n",
       "  <tbody>\n",
       "    <tr>\n",
       "      <th>0</th>\n",
       "      <td>1800.00.00</td>\n",
       "      <td>1800</td>\n",
       "      <td>Unprovoked</td>\n",
       "      <td>seychelles</td>\n",
       "      <td>St. Anne</td>\n",
       "      <td>NaN</td>\n",
       "      <td>a corsair's boat was overturned</td>\n",
       "      <td>NaN</td>\n",
       "      <td>NaN</td>\n",
       "      <td>NaN</td>\n",
       "      <td>NaN</td>\n",
       "      <td>FATAL, all onboard were killed by sharks</td>\n",
       "      <td>NaN</td>\n",
       "      <td>Y</td>\n",
       "      <td>F</td>\n",
       "    </tr>\n",
       "    <tr>\n",
       "      <th>1</th>\n",
       "      <td>1797.05.28.R</td>\n",
       "      <td>1797</td>\n",
       "      <td>Unprovoked</td>\n",
       "      <td>NaN</td>\n",
       "      <td>NaN</td>\n",
       "      <td>NaN</td>\n",
       "      <td>Dropped overboard</td>\n",
       "      <td>child</td>\n",
       "      <td>NaN</td>\n",
       "      <td>NaN</td>\n",
       "      <td>NaN</td>\n",
       "      <td>FATAL</td>\n",
       "      <td>May</td>\n",
       "      <td>Y</td>\n",
       "      <td>NaN</td>\n",
       "    </tr>\n",
       "    <tr>\n",
       "      <th>2</th>\n",
       "      <td>1792.09.12</td>\n",
       "      <td>1792</td>\n",
       "      <td>Provoked</td>\n",
       "      <td>england</td>\n",
       "      <td>NaN</td>\n",
       "      <td>On the Thames River</td>\n",
       "      <td>Fishing</td>\n",
       "      <td>male</td>\n",
       "      <td>NaN</td>\n",
       "      <td>NaN</td>\n",
       "      <td>NaN</td>\n",
       "      <td>FATAL, PROVOKED INCIDENT</td>\n",
       "      <td>Sep</td>\n",
       "      <td>Y</td>\n",
       "      <td>M</td>\n",
       "    </tr>\n",
       "    <tr>\n",
       "      <th>3</th>\n",
       "      <td>1791.00.00</td>\n",
       "      <td>1791</td>\n",
       "      <td>Unprovoked</td>\n",
       "      <td>australia</td>\n",
       "      <td>New South Wales</td>\n",
       "      <td>Port Jackson</td>\n",
       "      <td>NaN</td>\n",
       "      <td>female, an Australian aboriginal</td>\n",
       "      <td>NaN</td>\n",
       "      <td>NaN</td>\n",
       "      <td>NaN</td>\n",
       "      <td>FATAL, \"bitten in two\"</td>\n",
       "      <td>NaN</td>\n",
       "      <td>Y</td>\n",
       "      <td>F</td>\n",
       "    </tr>\n",
       "    <tr>\n",
       "      <th>4</th>\n",
       "      <td>1788.05.10</td>\n",
       "      <td>1788</td>\n",
       "      <td>Boat</td>\n",
       "      <td>australia</td>\n",
       "      <td>New South Wales</td>\n",
       "      <td>Sydney Harbor</td>\n",
       "      <td>Fishing</td>\n",
       "      <td>boat</td>\n",
       "      <td>NaN</td>\n",
       "      <td>NaN</td>\n",
       "      <td>NaN</td>\n",
       "      <td>No injury to occupants, shark bit oar and rudder</td>\n",
       "      <td>May</td>\n",
       "      <td>N</td>\n",
       "      <td>NaN</td>\n",
       "    </tr>\n",
       "  </tbody>\n",
       "</table>\n",
       "</div>"
      ],
      "text/plain": [
       "    case_number  year        type     country             area  \\\n",
       "0    1800.00.00  1800  Unprovoked  seychelles         St. Anne   \n",
       "1  1797.05.28.R  1797  Unprovoked         NaN              NaN   \n",
       "2    1792.09.12  1792    Provoked     england              NaN   \n",
       "3    1791.00.00  1791  Unprovoked   australia  New South Wales   \n",
       "4    1788.05.10  1788        Boat   australia  New South Wales   \n",
       "\n",
       "              location                         activity  \\\n",
       "0                  NaN  a corsair's boat was overturned   \n",
       "1                  NaN                Dropped overboard   \n",
       "2  On the Thames River                          Fishing   \n",
       "3         Port Jackson                              NaN   \n",
       "4        Sydney Harbor                          Fishing   \n",
       "\n",
       "                               name  age time species_  \\\n",
       "0                               NaN  NaN  NaN      NaN   \n",
       "1                             child  NaN  NaN      NaN   \n",
       "2                              male  NaN  NaN      NaN   \n",
       "3  female, an Australian aboriginal  NaN  NaN      NaN   \n",
       "4                              boat  NaN  NaN      NaN   \n",
       "\n",
       "                                             injury fecha_limpia fatal_clean  \\\n",
       "0          FATAL, all onboard were killed by sharks          NaN           Y   \n",
       "1                                             FATAL          May           Y   \n",
       "2                          FATAL, PROVOKED INCIDENT          Sep           Y   \n",
       "3                            FATAL, \"bitten in two\"          NaN           Y   \n",
       "4  No injury to occupants, shark bit oar and rudder          May           N   \n",
       "\n",
       "  sexo  \n",
       "0    F  \n",
       "1  NaN  \n",
       "2    M  \n",
       "3    F  \n",
       "4  NaN  "
      ]
     },
     "execution_count": 25,
     "metadata": {},
     "output_type": "execute_result"
    }
   ],
   "source": [
    "df = pd.read_csv('utilizar_copia.csv', index_col=0)\n",
    "df.head()"
   ]
  },
  {
   "cell_type": "markdown",
   "metadata": {},
   "source": [
    "1. Lo primero que tenemos que evaluar es en que columnas tenemos nulos y que cantidad tenemos en cada una. ¿Hay alguna . columna con una gran cantidad de nulos? En caso de que sea así deberemos eliminarla."
   ]
  },
  {
   "cell_type": "code",
   "execution_count": 26,
   "metadata": {},
   "outputs": [
    {
     "data": {
      "text/html": [
       "<div>\n",
       "<style scoped>\n",
       "    .dataframe tbody tr th:only-of-type {\n",
       "        vertical-align: middle;\n",
       "    }\n",
       "\n",
       "    .dataframe tbody tr th {\n",
       "        vertical-align: top;\n",
       "    }\n",
       "\n",
       "    .dataframe thead th {\n",
       "        text-align: right;\n",
       "    }\n",
       "</style>\n",
       "<table border=\"1\" class=\"dataframe\">\n",
       "  <thead>\n",
       "    <tr style=\"text-align: right;\">\n",
       "      <th></th>\n",
       "      <th>missing</th>\n",
       "      <th>total</th>\n",
       "      <th>percent</th>\n",
       "    </tr>\n",
       "  </thead>\n",
       "  <tbody>\n",
       "    <tr>\n",
       "      <th>time</th>\n",
       "      <td>3340</td>\n",
       "      <td>6284</td>\n",
       "      <td>53.150859</td>\n",
       "    </tr>\n",
       "    <tr>\n",
       "      <th>species_</th>\n",
       "      <td>2831</td>\n",
       "      <td>6284</td>\n",
       "      <td>45.050923</td>\n",
       "    </tr>\n",
       "    <tr>\n",
       "      <th>age</th>\n",
       "      <td>2820</td>\n",
       "      <td>6284</td>\n",
       "      <td>44.875875</td>\n",
       "    </tr>\n",
       "    <tr>\n",
       "      <th>fatal_clean</th>\n",
       "      <td>607</td>\n",
       "      <td>6284</td>\n",
       "      <td>9.659453</td>\n",
       "    </tr>\n",
       "    <tr>\n",
       "      <th>sexo</th>\n",
       "      <td>564</td>\n",
       "      <td>6284</td>\n",
       "      <td>8.975175</td>\n",
       "    </tr>\n",
       "    <tr>\n",
       "      <th>activity</th>\n",
       "      <td>542</td>\n",
       "      <td>6284</td>\n",
       "      <td>8.625080</td>\n",
       "    </tr>\n",
       "    <tr>\n",
       "      <th>location</th>\n",
       "      <td>539</td>\n",
       "      <td>6284</td>\n",
       "      <td>8.577339</td>\n",
       "    </tr>\n",
       "    <tr>\n",
       "      <th>fecha_limpia</th>\n",
       "      <td>526</td>\n",
       "      <td>6284</td>\n",
       "      <td>8.370465</td>\n",
       "    </tr>\n",
       "    <tr>\n",
       "      <th>area</th>\n",
       "      <td>454</td>\n",
       "      <td>6284</td>\n",
       "      <td>7.224698</td>\n",
       "    </tr>\n",
       "    <tr>\n",
       "      <th>name</th>\n",
       "      <td>209</td>\n",
       "      <td>6284</td>\n",
       "      <td>3.325907</td>\n",
       "    </tr>\n",
       "    <tr>\n",
       "      <th>country</th>\n",
       "      <td>50</td>\n",
       "      <td>6284</td>\n",
       "      <td>0.795672</td>\n",
       "    </tr>\n",
       "    <tr>\n",
       "      <th>injury</th>\n",
       "      <td>28</td>\n",
       "      <td>6284</td>\n",
       "      <td>0.445576</td>\n",
       "    </tr>\n",
       "    <tr>\n",
       "      <th>type</th>\n",
       "      <td>4</td>\n",
       "      <td>6284</td>\n",
       "      <td>0.063654</td>\n",
       "    </tr>\n",
       "    <tr>\n",
       "      <th>case_number</th>\n",
       "      <td>1</td>\n",
       "      <td>6284</td>\n",
       "      <td>0.015913</td>\n",
       "    </tr>\n",
       "    <tr>\n",
       "      <th>year</th>\n",
       "      <td>0</td>\n",
       "      <td>6284</td>\n",
       "      <td>0.000000</td>\n",
       "    </tr>\n",
       "  </tbody>\n",
       "</table>\n",
       "</div>"
      ],
      "text/plain": [
       "              missing  total    percent\n",
       "time             3340   6284  53.150859\n",
       "species_         2831   6284  45.050923\n",
       "age              2820   6284  44.875875\n",
       "fatal_clean       607   6284   9.659453\n",
       "sexo              564   6284   8.975175\n",
       "activity          542   6284   8.625080\n",
       "location          539   6284   8.577339\n",
       "fecha_limpia      526   6284   8.370465\n",
       "area              454   6284   7.224698\n",
       "name              209   6284   3.325907\n",
       "country            50   6284   0.795672\n",
       "injury             28   6284   0.445576\n",
       "type                4   6284   0.063654\n",
       "case_number         1   6284   0.015913\n",
       "year                0   6284   0.000000"
      ]
     },
     "execution_count": 26,
     "metadata": {},
     "output_type": "execute_result"
    }
   ],
   "source": [
    "df.stb.missing()"
   ]
  },
  {
   "cell_type": "code",
   "execution_count": 27,
   "metadata": {},
   "outputs": [
    {
     "data": {
      "text/plain": [
       "array([nan, '22h00', '06h00', 'Night', '18h00', 'Morning', 'Afternoon',\n",
       "       'Late afternoon', '14h00  -15h00', '07h45', '17h00', '14h00',\n",
       "       '15h00', '08h15', '11h00', '10h30', '10h40', '16h50', '07h00',\n",
       "       '09h30', '21h50', '09h40', '08h00', '17h35', '15h30', '07h30',\n",
       "       '19h00, Dusk', '16h00', '15h01', '12h00', '13h45', '23h30',\n",
       "       '09h00', '14h30', '18h30', '12h30', '16h30', '18h45', '10h00',\n",
       "       '10h44', '13h19', 'Midday', '13h30', '10h45', '11h20', '11h45',\n",
       "       '19h30', '08h30', '15h45', 'Shortly before 12h00', '17h34',\n",
       "       '17h10', '11h15', '08h50', '17h45', '13h00', '10h20', '13h20',\n",
       "       '02h00', '09h50', '11h30', '17h30', '9h00', '10h43', 'After noon',\n",
       "       '15h15', '15h40', '19h05', '1300', '14h30 / 15h30', '16h20',\n",
       "       '14h34', '15h25', '14h55', '17h46', 'Morning ', '15h49', '19h00',\n",
       "       'Midnight', '09h30 / 10h00', '10h15', '18h15', '04h00', '14h50',\n",
       "       '13h50', '19h20', '10h25', '10h45-11h15', '16h45', '15h52',\n",
       "       '06h15', '14h40', '19h45', '10h10', '08h45', 'Evening', '12h10',\n",
       "       '18h05', '11h41', '12h25', '17h51', '16h12', '12h45', '10h50',\n",
       "       '14h15', '09h45', '06h45', '05h00', '03h30',\n",
       "       'Sometime between 06h00 & 08hoo', '06h30', '17h20', '20h00',\n",
       "       '16h40', '16h18', '11h10', 'Early afternoon', '17h50',\n",
       "       '07h00 - 08h00', '18h15-18h30', '17h01', '09h57', '08h20', '17h58',\n",
       "       '20h30', '15h19', '10h55', '15h55', '23h00', '12h40', '13h55',\n",
       "       '16h05', '14h10', '15h20', '12h50', '14h45', '13h40', '13h24',\n",
       "       '09h00 - 09h30', '0830', '11h40', '08h10', '15h56', '14h20',\n",
       "       'Just before noon', '07h56', '1600', '17h17', '16h35', '09h05',\n",
       "       '07h15', '07h20', '19h28', '12h38', '05h50', '15h50', '11h05',\n",
       "       'Early morning', 'Dawn', '05h45', '13h25', '12h20', '13h26',\n",
       "       '09h11', '12h15', '13h15', '18h20', '15h35', 'AM', '13h51', 'A.M.',\n",
       "       '08h05', '19h15', '10h35', '15h44', 'Dusk', '21h00', 'Lunchtime',\n",
       "       '15j45', '09h35', '10h27', '10h16', '0500', 'Before 07h00',\n",
       "       '09h20', '10h00 -- 11h00', '12h05', '14h21', '18h50', '15h53',\n",
       "       '\"Just before 11h00\"', '11h115', '13h42', '20h15', '12h39',\n",
       "       '07h05', 'Sunset', '  ', '13h05', '11h50', '\"Evening\"',\n",
       "       'Just before sundown', '17h55', '22h30', '17h15', '16h10',\n",
       "       '11h30 ', '06h10', '16h15', 'Between 05h00 and 08h00', '07h08',\n",
       "       '17h00 or 17h40', '03h00', '>08h00', '--', '12h02', '12h55',\n",
       "       '16h14', '17h11', '00h30', '14h37', '10h07', '13h53', '11h55',\n",
       "       '13h23', 'Just after 12h00', '02h30', '08h40', '11h56', '14h35',\n",
       "       ' ', 'Early Morning', '07h50', 'Shortly after midnight', '14h25',\n",
       "       '13h345', '\\xa0 ', '06h47', '09h00 -10h00', '20h45 (Sunset)',\n",
       "       'Late morning', 'P.M.', '18h40', '13h14', '13h06',\n",
       "       'Shortly before 13h00', '12h34', '11h53', '8:04 pm', '12h46',\n",
       "       '12h48', '17h42', '12h35', 'Possibly same incident as 2000.08.21',\n",
       "       'After Dusk', '11h57', 'Noon', '17h40', '11h25', '18h25', '10h28',\n",
       "       '09h15', '14h16', '09h55', '2 hours after Opperman', '15h05',\n",
       "       '09h30 ', 'Mid afternoon', 'Mid morning', '11h48', '11h00 / 11h30',\n",
       "       '07h19', '13h37', '11h06', '\"Night\"', '18h30?', '11h58', '11h51',\n",
       "       '18h12', '07h10', '07h40', '12h33',\n",
       "       '30 minutes after 1992.07.08.a', '>06h45', '15h06', '12h54',\n",
       "       'Between 06h00 & 07h20', '16h55', '05h40', '<07h30', '21h30',\n",
       "       '17h00 Sunset', 'Nightfall', 'X', '08h57', '18h30 (Sunset)',\n",
       "       '06j00', '08h35', '10h22', '02h45', 'Prior to 10h37', 'Daybreak',\n",
       "       '18h10', '>12h00', 'Mid-morning', '08h55', '16h30 or 18h00',\n",
       "       'Just before dawn', ' 14h00', 'Daytime', '06h50', '01h00', 'Dark',\n",
       "       '10h00 / 11h00', '\"After lunch\"', '07h32', '15h00 or 15h45',\n",
       "       '>17h00', '19h00 / 20h00', '12h45 / 13h45', '14h00 - 15h00',\n",
       "       'night', '03h45 - 04h00', '13h10', '09h30 / 15h30',\n",
       "       '08h00 / 09h30', '19h35', '12h00 to 14h00', '13h35', 'Late night',\n",
       "       '01h32', '10h30 or 13h30', '16h23', '15h00j', 'Midday.',\n",
       "       '\"After dark\"', '10h00 or 14h00', '19h10', '16h25',\n",
       "       '2 hrs before sunset', '18h15 to 21h30', '1500',\n",
       "       '\"shortly before dusk\"', '>17h30', '>14h30',\n",
       "       'Between 11h00 & 12h00', 'After 04h00',\n",
       "       '11h01 -time of ship sinking', 'Ship aban-doned at 03h10', '19h55',\n",
       "       'After dusk',\n",
       "       'FATAL  (Wire netting installed at local beaches after this incident.)',\n",
       "       '01h30', 'After midnight', 'Late afternon', '05h30', '08h58',\n",
       "       '\"Early evening\"', 'Late Afternoon', '   ', 'Before daybreak',\n",
       "       'dusk', 'Before 10h30', '06h00 -- 07h00', '01h50', '17h00-18h00',\n",
       "       '19h00-20h00'], dtype=object)"
      ]
     },
     "execution_count": 27,
     "metadata": {},
     "output_type": "execute_result"
    }
   ],
   "source": [
    "df['time'].unique()"
   ]
  },
  {
   "cell_type": "markdown",
   "metadata": {},
   "source": [
    "Viendo que el porcentaje de nulos de la columna *'time'* supera el 50%, decidimos investigar un poco más sobre sus datos. Observamos que hay mucha diferencia en como se han resgistrado los datos, por lo que sería muy dificil sacar conclusiones de los mismos. Así que, decidimos eliminarla."
   ]
  },
  {
   "cell_type": "code",
   "execution_count": 28,
   "metadata": {},
   "outputs": [],
   "source": [
    "del df['time']"
   ]
  },
  {
   "cell_type": "code",
   "execution_count": 29,
   "metadata": {},
   "outputs": [
    {
     "data": {
      "text/plain": [
       "Index(['case_number', 'year', 'type', 'country', 'area', 'location',\n",
       "       'activity', 'name', 'age', 'species_', 'injury', 'fecha_limpia',\n",
       "       'fatal_clean', 'sexo'],\n",
       "      dtype='object')"
      ]
     },
     "execution_count": 29,
     "metadata": {},
     "output_type": "execute_result"
    }
   ],
   "source": [
    "#Comprobamos que la columna se ha eliminado.\n",
    "df.columns"
   ]
  },
  {
   "cell_type": "markdown",
   "metadata": {},
   "source": [
    "2. Es el momento de eliminar los nulos:"
   ]
  },
  {
   "cell_type": "markdown",
   "metadata": {},
   "source": [
    "- Reemplazad los valores nulos de la columna age por la media de la edad, redondeada a dos decimales.\n"
   ]
  },
  {
   "cell_type": "code",
   "execution_count": null,
   "metadata": {},
   "outputs": [],
   "source": [
    "media_age = df['age'].mean().round(2)  #Tenemos que limpiar la columna en el pair 2"
   ]
  },
  {
   "cell_type": "code",
   "execution_count": null,
   "metadata": {},
   "outputs": [],
   "source": [
    "df['age'].fillna(df['age'].mean.round(2), inplace = True)"
   ]
  },
  {
   "cell_type": "markdown",
   "metadata": {},
   "source": [
    "- En relación a la columna de country al tratarse de una columna de tipo categórica, reemplazad los valores nulos por una nueva categória que se llame Unknown."
   ]
  },
  {
   "cell_type": "code",
   "execution_count": 30,
   "metadata": {},
   "outputs": [],
   "source": [
    "df['country'].replace(np.nan, 'unknown', inplace=True)"
   ]
  },
  {
   "cell_type": "code",
   "execution_count": 31,
   "metadata": {},
   "outputs": [
    {
     "data": {
      "text/html": [
       "<div>\n",
       "<style scoped>\n",
       "    .dataframe tbody tr th:only-of-type {\n",
       "        vertical-align: middle;\n",
       "    }\n",
       "\n",
       "    .dataframe tbody tr th {\n",
       "        vertical-align: top;\n",
       "    }\n",
       "\n",
       "    .dataframe thead th {\n",
       "        text-align: right;\n",
       "    }\n",
       "</style>\n",
       "<table border=\"1\" class=\"dataframe\">\n",
       "  <thead>\n",
       "    <tr style=\"text-align: right;\">\n",
       "      <th></th>\n",
       "      <th>case_number</th>\n",
       "      <th>year</th>\n",
       "      <th>type</th>\n",
       "      <th>country</th>\n",
       "      <th>area</th>\n",
       "      <th>location</th>\n",
       "      <th>activity</th>\n",
       "      <th>name</th>\n",
       "      <th>age</th>\n",
       "      <th>species_</th>\n",
       "      <th>injury</th>\n",
       "      <th>fecha_limpia</th>\n",
       "      <th>fatal_clean</th>\n",
       "      <th>sexo</th>\n",
       "    </tr>\n",
       "  </thead>\n",
       "  <tbody>\n",
       "    <tr>\n",
       "      <th>0</th>\n",
       "      <td>1800.00.00</td>\n",
       "      <td>1800</td>\n",
       "      <td>Unprovoked</td>\n",
       "      <td>seychelles</td>\n",
       "      <td>St. Anne</td>\n",
       "      <td>NaN</td>\n",
       "      <td>a corsair's boat was overturned</td>\n",
       "      <td>NaN</td>\n",
       "      <td>NaN</td>\n",
       "      <td>NaN</td>\n",
       "      <td>FATAL, all onboard were killed by sharks</td>\n",
       "      <td>NaN</td>\n",
       "      <td>Y</td>\n",
       "      <td>F</td>\n",
       "    </tr>\n",
       "    <tr>\n",
       "      <th>1</th>\n",
       "      <td>1797.05.28.R</td>\n",
       "      <td>1797</td>\n",
       "      <td>Unprovoked</td>\n",
       "      <td>unknown</td>\n",
       "      <td>NaN</td>\n",
       "      <td>NaN</td>\n",
       "      <td>Dropped overboard</td>\n",
       "      <td>child</td>\n",
       "      <td>NaN</td>\n",
       "      <td>NaN</td>\n",
       "      <td>FATAL</td>\n",
       "      <td>May</td>\n",
       "      <td>Y</td>\n",
       "      <td>NaN</td>\n",
       "    </tr>\n",
       "    <tr>\n",
       "      <th>2</th>\n",
       "      <td>1792.09.12</td>\n",
       "      <td>1792</td>\n",
       "      <td>Provoked</td>\n",
       "      <td>england</td>\n",
       "      <td>NaN</td>\n",
       "      <td>On the Thames River</td>\n",
       "      <td>Fishing</td>\n",
       "      <td>male</td>\n",
       "      <td>NaN</td>\n",
       "      <td>NaN</td>\n",
       "      <td>FATAL, PROVOKED INCIDENT</td>\n",
       "      <td>Sep</td>\n",
       "      <td>Y</td>\n",
       "      <td>M</td>\n",
       "    </tr>\n",
       "    <tr>\n",
       "      <th>3</th>\n",
       "      <td>1791.00.00</td>\n",
       "      <td>1791</td>\n",
       "      <td>Unprovoked</td>\n",
       "      <td>australia</td>\n",
       "      <td>New South Wales</td>\n",
       "      <td>Port Jackson</td>\n",
       "      <td>NaN</td>\n",
       "      <td>female, an Australian aboriginal</td>\n",
       "      <td>NaN</td>\n",
       "      <td>NaN</td>\n",
       "      <td>FATAL, \"bitten in two\"</td>\n",
       "      <td>NaN</td>\n",
       "      <td>Y</td>\n",
       "      <td>F</td>\n",
       "    </tr>\n",
       "    <tr>\n",
       "      <th>4</th>\n",
       "      <td>1788.05.10</td>\n",
       "      <td>1788</td>\n",
       "      <td>Boat</td>\n",
       "      <td>australia</td>\n",
       "      <td>New South Wales</td>\n",
       "      <td>Sydney Harbor</td>\n",
       "      <td>Fishing</td>\n",
       "      <td>boat</td>\n",
       "      <td>NaN</td>\n",
       "      <td>NaN</td>\n",
       "      <td>No injury to occupants, shark bit oar and rudder</td>\n",
       "      <td>May</td>\n",
       "      <td>N</td>\n",
       "      <td>NaN</td>\n",
       "    </tr>\n",
       "  </tbody>\n",
       "</table>\n",
       "</div>"
      ],
      "text/plain": [
       "    case_number  year        type     country             area  \\\n",
       "0    1800.00.00  1800  Unprovoked  seychelles         St. Anne   \n",
       "1  1797.05.28.R  1797  Unprovoked     unknown              NaN   \n",
       "2    1792.09.12  1792    Provoked     england              NaN   \n",
       "3    1791.00.00  1791  Unprovoked   australia  New South Wales   \n",
       "4    1788.05.10  1788        Boat   australia  New South Wales   \n",
       "\n",
       "              location                         activity  \\\n",
       "0                  NaN  a corsair's boat was overturned   \n",
       "1                  NaN                Dropped overboard   \n",
       "2  On the Thames River                          Fishing   \n",
       "3         Port Jackson                              NaN   \n",
       "4        Sydney Harbor                          Fishing   \n",
       "\n",
       "                               name  age species_  \\\n",
       "0                               NaN  NaN      NaN   \n",
       "1                             child  NaN      NaN   \n",
       "2                              male  NaN      NaN   \n",
       "3  female, an Australian aboriginal  NaN      NaN   \n",
       "4                              boat  NaN      NaN   \n",
       "\n",
       "                                             injury fecha_limpia fatal_clean  \\\n",
       "0          FATAL, all onboard were killed by sharks          NaN           Y   \n",
       "1                                             FATAL          May           Y   \n",
       "2                          FATAL, PROVOKED INCIDENT          Sep           Y   \n",
       "3                            FATAL, \"bitten in two\"          NaN           Y   \n",
       "4  No injury to occupants, shark bit oar and rudder          May           N   \n",
       "\n",
       "  sexo  \n",
       "0    F  \n",
       "1  NaN  \n",
       "2    M  \n",
       "3    F  \n",
       "4  NaN  "
      ]
     },
     "execution_count": 31,
     "metadata": {},
     "output_type": "execute_result"
    }
   ],
   "source": [
    "#Comprobamos que se han producido los cambios\n",
    "df.head()"
   ]
  },
  {
   "cell_type": "markdown",
   "metadata": {},
   "source": [
    "- Reemplazad los valores nulos de la columna fatal por Unknown"
   ]
  },
  {
   "cell_type": "code",
   "execution_count": 32,
   "metadata": {},
   "outputs": [],
   "source": [
    "df['fatal_clean'].replace(np.nan, 'Unknown', inplace=True)"
   ]
  },
  {
   "cell_type": "code",
   "execution_count": 33,
   "metadata": {},
   "outputs": [
    {
     "data": {
      "text/plain": [
       "array(['Y', 'N', 'Unknown'], dtype=object)"
      ]
     },
     "execution_count": 33,
     "metadata": {},
     "output_type": "execute_result"
    }
   ],
   "source": [
    "df['fatal_clean'].unique()"
   ]
  },
  {
   "cell_type": "markdown",
   "metadata": {},
   "source": [
    "- Reemplazad los valores nulos de la columna type por el valor más frecuente (la moda)"
   ]
  },
  {
   "cell_type": "code",
   "execution_count": 34,
   "metadata": {},
   "outputs": [],
   "source": [
    "df_copia = df.copy()"
   ]
  },
  {
   "cell_type": "code",
   "execution_count": 35,
   "metadata": {},
   "outputs": [
    {
     "data": {
      "text/plain": [
       "Unprovoked      4584\n",
       "Provoked         572\n",
       "Invalid          542\n",
       "Sea Disaster     239\n",
       "Boating          203\n",
       "Boat             137\n",
       "Questionable       2\n",
       "Boatomg            1\n",
       "Name: type, dtype: int64"
      ]
     },
     "execution_count": 35,
     "metadata": {},
     "output_type": "execute_result"
    }
   ],
   "source": [
    "# value_count_antes = df_copia['type'].value_counts()\n",
    "# value_count_antes\n",
    "#Queremos la diferencia con la moda"
   ]
  },
  {
   "cell_type": "code",
   "execution_count": 36,
   "metadata": {},
   "outputs": [],
   "source": [
    "df['type'].fillna(df['type'].mode(), inplace = True)"
   ]
  },
  {
   "cell_type": "code",
   "execution_count": 37,
   "metadata": {},
   "outputs": [
    {
     "data": {
      "text/plain": [
       "Unprovoked      4584\n",
       "Provoked         572\n",
       "Invalid          542\n",
       "Sea Disaster     239\n",
       "Boating          203\n",
       "Boat             137\n",
       "Questionable       2\n",
       "Boatomg            1\n",
       "Name: type, dtype: int64"
      ]
     },
     "execution_count": 37,
     "metadata": {},
     "output_type": "execute_result"
    }
   ],
   "source": [
    "value_count_despues = df['type'].value_counts()\n",
    "value_count_despues"
   ]
  },
  {
   "cell_type": "markdown",
   "metadata": {},
   "source": [
    "- Reemplazad los valores nulos de la columna fecha por Unknown"
   ]
  },
  {
   "cell_type": "code",
   "execution_count": 17,
   "metadata": {},
   "outputs": [],
   "source": [
    "df['fecha_limpia'].replace(np.nan, 'Unknown', inplace=True)"
   ]
  },
  {
   "cell_type": "markdown",
   "metadata": {},
   "source": [
    "3. Guardad el csv para seguir trabajando con el en los siguientes ejercicios de pair"
   ]
  },
  {
   "cell_type": "code",
   "execution_count": 18,
   "metadata": {},
   "outputs": [],
   "source": [
    "df.to_csv('utilizar_limpio.csv')"
   ]
  }
 ],
 "metadata": {
  "interpreter": {
   "hash": "0620710c65b0f5ccc651a2aa8870ae0eb4c70492424a8d7866846658189426a3"
  },
  "kernelspec": {
   "display_name": "Python 3.9.7 ('base')",
   "language": "python",
   "name": "python3"
  },
  "language_info": {
   "codemirror_mode": {
    "name": "ipython",
    "version": 3
   },
   "file_extension": ".py",
   "mimetype": "text/x-python",
   "name": "python",
   "nbconvert_exporter": "python",
   "pygments_lexer": "ipython3",
   "version": "3.9.7"
  },
  "orig_nbformat": 4
 },
 "nbformat": 4,
 "nbformat_minor": 2
}
