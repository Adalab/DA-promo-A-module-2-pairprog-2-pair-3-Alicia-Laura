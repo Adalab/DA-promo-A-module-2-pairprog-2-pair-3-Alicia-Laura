{
 "cells": [
  {
   "cell_type": "code",
   "execution_count": 1,
   "metadata": {},
   "outputs": [],
   "source": [
    "import requests\n",
    "import pandas as pd\n",
    "import numpy as np"
   ]
  },
  {
   "cell_type": "markdown",
   "metadata": {},
   "source": [
    "Vamos a nutrir los datos de los ataques de los tiburones con información climática de los paises que tenemos. Para eso vamos a usar la API del clima que hemos aprendido en la clase invertida:"
   ]
  },
  {
   "cell_type": "markdown",
   "metadata": {},
   "source": [
    "En este caso os recomendamos que uséis el producto meteo para obtener la información climática. Para hacer la llamada a la API necesitamos también las coordenadas de los paises que tenemos en el dataset."
   ]
  },
  {
   "cell_type": "markdown",
   "metadata": {},
   "source": [
    "Por lo tanto, el objetivo es que saquéis la información del clima de la API para los paises que tenemos. Pero antes de poneros manos a la obra, tenemos muchísimos paises y esto puede hacerse eterno. Sacad la información climática solo para los siguientes paises, con las siguientes coordenadas:"
   ]
  },
  {
   "cell_type": "markdown",
   "metadata": {},
   "source": [
    "1. Deberéis meter toda la información climática en un único dataframe."
   ]
  },
  {
   "cell_type": "code",
   "execution_count": 40,
   "metadata": {},
   "outputs": [],
   "source": [
    "dict_prueba = {'USA': [39.7837304, -100.445882], \"Australia\" : [-24.7761086, 134.755],\n",
    "        'South Africa' : [-28.8166236, 24.991639], 'New Zealand': [-41.5000831, 172.8344077], 'Papua New Guinea': [-5.6816069, 144.2489081]}\n",
    "\n",
    "def llamar_API(diccionario):\n",
    "\n",
    "    for key, value in diccionario.items():\n",
    "        producto = 'meteo'\n",
    "        lat = value[0]\n",
    "        lon = value[1]\n",
    "        url = f'http://www.7timer.info/bin/api.pl?lon=-{lon}&lat={lat}&product={producto}&output=json'\n",
    "        response = requests.get(url=url)\n",
    "        response.status_code\n",
    "        response.reason\n",
    "        df = pd.DataFrame.from_dict(pd.json_normalize(response.json()['dataseries']))\n",
    "\n",
    "        # df[\"pais\"] = dict_prueba.keys()\n",
    "        # for i in key:\n",
    "        #     print(i)\n",
    "        #    #df['pais'] = key[i]\n",
    "        df_vacio = pd.DataFrame()\n",
    "        for i in df:\n",
    "            print(i)\n",
    "            pd.concat(df_vacio,df[i])\n",
    "\n",
    "\n",
    "        \n",
    "    return df\n"
   ]
  },
  {
   "cell_type": "markdown",
   "metadata": {},
   "source": [
    "crear col nueva con el nombre del pais\n",
    "añadir los datos\n",
    "latitud y longitud están al reves"
   ]
  },
  {
   "cell_type": "code",
   "execution_count": 41,
   "metadata": {},
   "outputs": [
    {
     "name": "stdout",
     "output_type": "stream",
     "text": [
      "timepoint\n",
      "cloudcover\n",
      "highcloud\n",
      "midcloud\n",
      "lowcloud\n",
      "rh_profile\n",
      "wind_profile\n",
      "temp2m\n",
      "lifted_index\n",
      "rh2m\n",
      "msl_pressure\n",
      "prec_type\n",
      "prec_amount\n",
      "snow_depth\n",
      "wind10m.direction\n",
      "wind10m.speed\n",
      "timepoint\n",
      "cloudcover\n",
      "highcloud\n",
      "midcloud\n",
      "lowcloud\n",
      "rh_profile\n",
      "wind_profile\n",
      "temp2m\n",
      "lifted_index\n",
      "rh2m\n",
      "msl_pressure\n",
      "prec_type\n",
      "prec_amount\n",
      "snow_depth\n",
      "wind10m.direction\n",
      "wind10m.speed\n",
      "timepoint\n",
      "cloudcover\n",
      "highcloud\n",
      "midcloud\n",
      "lowcloud\n",
      "rh_profile\n",
      "wind_profile\n",
      "temp2m\n",
      "lifted_index\n",
      "rh2m\n",
      "msl_pressure\n",
      "prec_type\n",
      "prec_amount\n",
      "snow_depth\n",
      "wind10m.direction\n",
      "wind10m.speed\n",
      "timepoint\n",
      "cloudcover\n",
      "highcloud\n",
      "midcloud\n",
      "lowcloud\n",
      "rh_profile\n",
      "wind_profile\n",
      "temp2m\n",
      "lifted_index\n",
      "rh2m\n",
      "msl_pressure\n",
      "prec_type\n",
      "prec_amount\n",
      "snow_depth\n",
      "wind10m.direction\n",
      "wind10m.speed\n",
      "timepoint\n",
      "cloudcover\n",
      "highcloud\n",
      "midcloud\n",
      "lowcloud\n",
      "rh_profile\n",
      "wind_profile\n",
      "temp2m\n",
      "lifted_index\n",
      "rh2m\n",
      "msl_pressure\n",
      "prec_type\n",
      "prec_amount\n",
      "snow_depth\n",
      "wind10m.direction\n",
      "wind10m.speed\n"
     ]
    }
   ],
   "source": [
    "df = llamar_API(dict_prueba)"
   ]
  },
  {
   "cell_type": "code",
   "execution_count": 25,
   "metadata": {},
   "outputs": [
    {
     "data": {
      "text/html": [
       "<div>\n",
       "<style scoped>\n",
       "    .dataframe tbody tr th:only-of-type {\n",
       "        vertical-align: middle;\n",
       "    }\n",
       "\n",
       "    .dataframe tbody tr th {\n",
       "        vertical-align: top;\n",
       "    }\n",
       "\n",
       "    .dataframe thead th {\n",
       "        text-align: right;\n",
       "    }\n",
       "</style>\n",
       "<table border=\"1\" class=\"dataframe\">\n",
       "  <thead>\n",
       "    <tr style=\"text-align: right;\">\n",
       "      <th></th>\n",
       "      <th>timepoint</th>\n",
       "      <th>cloudcover</th>\n",
       "      <th>highcloud</th>\n",
       "      <th>midcloud</th>\n",
       "      <th>lowcloud</th>\n",
       "      <th>rh_profile</th>\n",
       "      <th>wind_profile</th>\n",
       "      <th>temp2m</th>\n",
       "      <th>lifted_index</th>\n",
       "      <th>rh2m</th>\n",
       "      <th>msl_pressure</th>\n",
       "      <th>prec_type</th>\n",
       "      <th>prec_amount</th>\n",
       "      <th>snow_depth</th>\n",
       "      <th>wind10m.direction</th>\n",
       "      <th>wind10m.speed</th>\n",
       "      <th>pais</th>\n",
       "    </tr>\n",
       "  </thead>\n",
       "  <tbody>\n",
       "    <tr>\n",
       "      <th>0</th>\n",
       "      <td>3</td>\n",
       "      <td>3</td>\n",
       "      <td>-9999</td>\n",
       "      <td>-9999</td>\n",
       "      <td>-9999</td>\n",
       "      <td>[{'layer': '950mb', 'rh': 13}, {'layer': '900m...</td>\n",
       "      <td>[{'layer': '950mb', 'direction': 100, 'speed':...</td>\n",
       "      <td>27</td>\n",
       "      <td>-1</td>\n",
       "      <td>11</td>\n",
       "      <td>1012</td>\n",
       "      <td>none</td>\n",
       "      <td>1</td>\n",
       "      <td>0</td>\n",
       "      <td>100</td>\n",
       "      <td>3</td>\n",
       "      <td>Papua New Guinea</td>\n",
       "    </tr>\n",
       "    <tr>\n",
       "      <th>1</th>\n",
       "      <td>6</td>\n",
       "      <td>4</td>\n",
       "      <td>-9999</td>\n",
       "      <td>-9999</td>\n",
       "      <td>-9999</td>\n",
       "      <td>[{'layer': '950mb', 'rh': 14}, {'layer': '900m...</td>\n",
       "      <td>[{'layer': '950mb', 'direction': 100, 'speed':...</td>\n",
       "      <td>27</td>\n",
       "      <td>2</td>\n",
       "      <td>11</td>\n",
       "      <td>1013</td>\n",
       "      <td>none</td>\n",
       "      <td>1</td>\n",
       "      <td>0</td>\n",
       "      <td>100</td>\n",
       "      <td>4</td>\n",
       "      <td>Papua New Guinea</td>\n",
       "    </tr>\n",
       "    <tr>\n",
       "      <th>2</th>\n",
       "      <td>9</td>\n",
       "      <td>2</td>\n",
       "      <td>-9999</td>\n",
       "      <td>-9999</td>\n",
       "      <td>-9999</td>\n",
       "      <td>[{'layer': '950mb', 'rh': 14}, {'layer': '900m...</td>\n",
       "      <td>[{'layer': '950mb', 'direction': 95, 'speed': ...</td>\n",
       "      <td>27</td>\n",
       "      <td>-1</td>\n",
       "      <td>11</td>\n",
       "      <td>1013</td>\n",
       "      <td>none</td>\n",
       "      <td>1</td>\n",
       "      <td>0</td>\n",
       "      <td>95</td>\n",
       "      <td>3</td>\n",
       "      <td>Papua New Guinea</td>\n",
       "    </tr>\n",
       "    <tr>\n",
       "      <th>3</th>\n",
       "      <td>12</td>\n",
       "      <td>6</td>\n",
       "      <td>-9999</td>\n",
       "      <td>-9999</td>\n",
       "      <td>-9999</td>\n",
       "      <td>[{'layer': '950mb', 'rh': 13}, {'layer': '900m...</td>\n",
       "      <td>[{'layer': '950mb', 'direction': 95, 'speed': ...</td>\n",
       "      <td>26</td>\n",
       "      <td>-1</td>\n",
       "      <td>11</td>\n",
       "      <td>1012</td>\n",
       "      <td>none</td>\n",
       "      <td>1</td>\n",
       "      <td>0</td>\n",
       "      <td>100</td>\n",
       "      <td>3</td>\n",
       "      <td>Papua New Guinea</td>\n",
       "    </tr>\n",
       "    <tr>\n",
       "      <th>4</th>\n",
       "      <td>15</td>\n",
       "      <td>8</td>\n",
       "      <td>-9999</td>\n",
       "      <td>-9999</td>\n",
       "      <td>-9999</td>\n",
       "      <td>[{'layer': '950mb', 'rh': 11}, {'layer': '900m...</td>\n",
       "      <td>[{'layer': '950mb', 'direction': 90, 'speed': ...</td>\n",
       "      <td>27</td>\n",
       "      <td>-1</td>\n",
       "      <td>11</td>\n",
       "      <td>1013</td>\n",
       "      <td>none</td>\n",
       "      <td>1</td>\n",
       "      <td>0</td>\n",
       "      <td>100</td>\n",
       "      <td>3</td>\n",
       "      <td>Papua New Guinea</td>\n",
       "    </tr>\n",
       "  </tbody>\n",
       "</table>\n",
       "</div>"
      ],
      "text/plain": [
       "   timepoint  cloudcover  highcloud  midcloud  lowcloud  \\\n",
       "0          3           3      -9999     -9999     -9999   \n",
       "1          6           4      -9999     -9999     -9999   \n",
       "2          9           2      -9999     -9999     -9999   \n",
       "3         12           6      -9999     -9999     -9999   \n",
       "4         15           8      -9999     -9999     -9999   \n",
       "\n",
       "                                          rh_profile  \\\n",
       "0  [{'layer': '950mb', 'rh': 13}, {'layer': '900m...   \n",
       "1  [{'layer': '950mb', 'rh': 14}, {'layer': '900m...   \n",
       "2  [{'layer': '950mb', 'rh': 14}, {'layer': '900m...   \n",
       "3  [{'layer': '950mb', 'rh': 13}, {'layer': '900m...   \n",
       "4  [{'layer': '950mb', 'rh': 11}, {'layer': '900m...   \n",
       "\n",
       "                                        wind_profile  temp2m  lifted_index  \\\n",
       "0  [{'layer': '950mb', 'direction': 100, 'speed':...      27            -1   \n",
       "1  [{'layer': '950mb', 'direction': 100, 'speed':...      27             2   \n",
       "2  [{'layer': '950mb', 'direction': 95, 'speed': ...      27            -1   \n",
       "3  [{'layer': '950mb', 'direction': 95, 'speed': ...      26            -1   \n",
       "4  [{'layer': '950mb', 'direction': 90, 'speed': ...      27            -1   \n",
       "\n",
       "   rh2m  msl_pressure prec_type  prec_amount  snow_depth wind10m.direction  \\\n",
       "0    11          1012      none            1           0               100   \n",
       "1    11          1013      none            1           0               100   \n",
       "2    11          1013      none            1           0                95   \n",
       "3    11          1012      none            1           0               100   \n",
       "4    11          1013      none            1           0               100   \n",
       "\n",
       "   wind10m.speed              pais  \n",
       "0              3  Papua New Guinea  \n",
       "1              4  Papua New Guinea  \n",
       "2              3  Papua New Guinea  \n",
       "3              3  Papua New Guinea  \n",
       "4              3  Papua New Guinea  "
      ]
     },
     "execution_count": 25,
     "metadata": {},
     "output_type": "execute_result"
    }
   ],
   "source": [
    "df.head()"
   ]
  },
  {
   "cell_type": "code",
   "execution_count": 11,
   "metadata": {},
   "outputs": [
    {
     "data": {
      "text/plain": [
       "array(['Papua New Guinea'], dtype=object)"
      ]
     },
     "execution_count": 11,
     "metadata": {},
     "output_type": "execute_result"
    }
   ],
   "source": [
    "df['pais'].unique()"
   ]
  },
  {
   "cell_type": "markdown",
   "metadata": {},
   "source": [
    "2. Deberéis hacer la llamada a la API de una sola vez. Es decir, tendréis que interar la lista de paises y sacar la información del clima para cada uno de ellos.\n"
   ]
  },
  {
   "cell_type": "markdown",
   "metadata": {},
   "source": [
    "3. Al meter toda la información en un único dataframe tendremos que crear una columna que corresponda con el nombre del pais."
   ]
  },
  {
   "cell_type": "markdown",
   "metadata": {},
   "source": [
    "4. Guardar el dataframe obtenido para usarlo en la siguiente sesión de pair programming."
   ]
  },
  {
   "cell_type": "code",
   "execution_count": null,
   "metadata": {},
   "outputs": [],
   "source": [
    "# apuntes\n",
    "def juntar_dfs(df_completo, df_civil, df_visibilidad): \n",
    "    \n",
    "    # lo primero que hacemos es concatenar los dataframes con la información general. df_completo y df_civil\n",
    "    df_completo = pd.concat([df_completo, df_civil], axis = 0)\n",
    "    \n",
    "    # ahora es el turno de unir el dataframe con la información de la visibilidad con el completo\n",
    "    # en este caso el how lo ponemos como left ya que queremos que se quede con toda la info que en la primera tabla que le pasamos que es la que tiene toda la información\n",
    "    df = pd.merge(df_completo , df_astro , on=['fecha', \"timepoint\", \"ciudad\"], how = \"left\")\n",
    "\n",
    "    \n",
    "    return df"
   ]
  }
 ],
 "metadata": {
  "interpreter": {
   "hash": "0620710c65b0f5ccc651a2aa8870ae0eb4c70492424a8d7866846658189426a3"
  },
  "kernelspec": {
   "display_name": "Python 3.9.7 ('base')",
   "language": "python",
   "name": "python3"
  },
  "language_info": {
   "codemirror_mode": {
    "name": "ipython",
    "version": 3
   },
   "file_extension": ".py",
   "mimetype": "text/x-python",
   "name": "python",
   "nbconvert_exporter": "python",
   "pygments_lexer": "ipython3",
   "version": "3.9.7"
  },
  "orig_nbformat": 4
 },
 "nbformat": 4,
 "nbformat_minor": 2
}
