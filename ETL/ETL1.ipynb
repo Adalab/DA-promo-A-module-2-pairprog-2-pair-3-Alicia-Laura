{
 "cells": [
  {
   "cell_type": "code",
   "execution_count": 1,
   "metadata": {},
   "outputs": [],
   "source": [
    "import requests\n",
    "import pandas as pd\n",
    "import numpy as np"
   ]
  },
  {
   "cell_type": "markdown",
   "metadata": {},
   "source": [
    "Vamos a nutrir los datos de los ataques de los tiburones con información climática de los paises que tenemos. Para eso vamos a usar la API del clima que hemos aprendido en la clase invertida:"
   ]
  },
  {
   "cell_type": "markdown",
   "metadata": {},
   "source": [
    "En este caso os recomendamos que uséis el producto meteo para obtener la información climática. Para hacer la llamada a la API necesitamos también las coordenadas de los paises que tenemos en el dataset."
   ]
  },
  {
   "cell_type": "markdown",
   "metadata": {},
   "source": [
    "1. Deberéis meter toda la información climática en un único dataframe."
   ]
  },
  {
   "cell_type": "code",
   "execution_count": 2,
   "metadata": {},
   "outputs": [],
   "source": [
    "#Creamos un diccionario con el nombre de los paises y\n",
    "dict_prueba = {'usa': [39.7837304, -100.445882], \"australia\" : [-24.7761086, 134.755],\n",
    "        'south africa' : [-28.8166236, 24.991639], 'new zealand': [-41.5000831, 172.8344077], 'papua new guinea': [-5.6816069, 144.2489081]}\n",
    "\n",
    "def llamar_API(diccionario):\n",
    "    #Creamos un df vacio para ir rellenandolo con la info que queremos\n",
    "    df_vacio = pd.DataFrame()\n",
    "\n",
    "    #Hacemos un for para ir iterando por los paises y sus valores e ir extrayendo la info de la API\n",
    "    for key, value in diccionario.items():\n",
    "        producto = 'meteo'\n",
    "        lat = value[0]\n",
    "        lon = value[1]\n",
    "        url = f'http://www.7timer.info/bin/api.pl?lon=-{lon}&lat={lat}&product={producto}&output=json'\n",
    "        response = requests.get(url=url)\n",
    "        response.status_code\n",
    "        response.reason\n",
    "        df = pd.DataFrame.from_dict(pd.json_normalize(response.json()['dataseries']))\n",
    "\n",
    "        #Creamos una columna con el nombre del pais\n",
    "        df['country'] = key\n",
    "        \n",
    "        #Concatenamos los archivos\n",
    "        df_vacio = pd.concat([df_vacio,df],axis=0)\n",
    "        \n",
    "\n",
    "\n",
    "        \n",
    "    return df_vacio\n"
   ]
  },
  {
   "cell_type": "markdown",
   "metadata": {},
   "source": [
    "crear col nueva con el nombre del pais\n",
    "añadir los datos\n",
    "latitud y longitud están al reves"
   ]
  },
  {
   "cell_type": "code",
   "execution_count": 3,
   "metadata": {},
   "outputs": [],
   "source": [
    "df = llamar_API(dict_prueba)"
   ]
  },
  {
   "cell_type": "code",
   "execution_count": 4,
   "metadata": {},
   "outputs": [
    {
     "data": {
      "text/html": [
       "<div>\n",
       "<style scoped>\n",
       "    .dataframe tbody tr th:only-of-type {\n",
       "        vertical-align: middle;\n",
       "    }\n",
       "\n",
       "    .dataframe tbody tr th {\n",
       "        vertical-align: top;\n",
       "    }\n",
       "\n",
       "    .dataframe thead th {\n",
       "        text-align: right;\n",
       "    }\n",
       "</style>\n",
       "<table border=\"1\" class=\"dataframe\">\n",
       "  <thead>\n",
       "    <tr style=\"text-align: right;\">\n",
       "      <th></th>\n",
       "      <th>timepoint</th>\n",
       "      <th>cloudcover</th>\n",
       "      <th>highcloud</th>\n",
       "      <th>midcloud</th>\n",
       "      <th>lowcloud</th>\n",
       "      <th>rh_profile</th>\n",
       "      <th>wind_profile</th>\n",
       "      <th>temp2m</th>\n",
       "      <th>lifted_index</th>\n",
       "      <th>rh2m</th>\n",
       "      <th>msl_pressure</th>\n",
       "      <th>prec_type</th>\n",
       "      <th>prec_amount</th>\n",
       "      <th>snow_depth</th>\n",
       "      <th>wind10m.direction</th>\n",
       "      <th>wind10m.speed</th>\n",
       "      <th>country</th>\n",
       "    </tr>\n",
       "  </thead>\n",
       "  <tbody>\n",
       "    <tr>\n",
       "      <th>0</th>\n",
       "      <td>3</td>\n",
       "      <td>9</td>\n",
       "      <td>-9999</td>\n",
       "      <td>-9999</td>\n",
       "      <td>-9999</td>\n",
       "      <td>[{'layer': '950mb', 'rh': 7}, {'layer': '900mb...</td>\n",
       "      <td>[{'layer': '950mb', 'direction': 75, 'speed': ...</td>\n",
       "      <td>22</td>\n",
       "      <td>2</td>\n",
       "      <td>6</td>\n",
       "      <td>1020</td>\n",
       "      <td>none</td>\n",
       "      <td>0</td>\n",
       "      <td>0</td>\n",
       "      <td>85</td>\n",
       "      <td>3</td>\n",
       "      <td>usa</td>\n",
       "    </tr>\n",
       "    <tr>\n",
       "      <th>1</th>\n",
       "      <td>6</td>\n",
       "      <td>9</td>\n",
       "      <td>-9999</td>\n",
       "      <td>-9999</td>\n",
       "      <td>-9999</td>\n",
       "      <td>[{'layer': '950mb', 'rh': 6}, {'layer': '900mb...</td>\n",
       "      <td>[{'layer': '950mb', 'direction': 110, 'speed':...</td>\n",
       "      <td>22</td>\n",
       "      <td>2</td>\n",
       "      <td>5</td>\n",
       "      <td>1018</td>\n",
       "      <td>none</td>\n",
       "      <td>0</td>\n",
       "      <td>0</td>\n",
       "      <td>100</td>\n",
       "      <td>3</td>\n",
       "      <td>usa</td>\n",
       "    </tr>\n",
       "    <tr>\n",
       "      <th>2</th>\n",
       "      <td>9</td>\n",
       "      <td>3</td>\n",
       "      <td>-9999</td>\n",
       "      <td>-9999</td>\n",
       "      <td>-9999</td>\n",
       "      <td>[{'layer': '950mb', 'rh': 4}, {'layer': '900mb...</td>\n",
       "      <td>[{'layer': '950mb', 'direction': 180, 'speed':...</td>\n",
       "      <td>21</td>\n",
       "      <td>2</td>\n",
       "      <td>5</td>\n",
       "      <td>1017</td>\n",
       "      <td>none</td>\n",
       "      <td>0</td>\n",
       "      <td>0</td>\n",
       "      <td>160</td>\n",
       "      <td>2</td>\n",
       "      <td>usa</td>\n",
       "    </tr>\n",
       "    <tr>\n",
       "      <th>3</th>\n",
       "      <td>12</td>\n",
       "      <td>6</td>\n",
       "      <td>-9999</td>\n",
       "      <td>-9999</td>\n",
       "      <td>-9999</td>\n",
       "      <td>[{'layer': '950mb', 'rh': 3}, {'layer': '900mb...</td>\n",
       "      <td>[{'layer': '950mb', 'direction': 195, 'speed':...</td>\n",
       "      <td>23</td>\n",
       "      <td>2</td>\n",
       "      <td>5</td>\n",
       "      <td>1016</td>\n",
       "      <td>none</td>\n",
       "      <td>0</td>\n",
       "      <td>0</td>\n",
       "      <td>220</td>\n",
       "      <td>2</td>\n",
       "      <td>usa</td>\n",
       "    </tr>\n",
       "    <tr>\n",
       "      <th>4</th>\n",
       "      <td>15</td>\n",
       "      <td>5</td>\n",
       "      <td>-9999</td>\n",
       "      <td>-9999</td>\n",
       "      <td>-9999</td>\n",
       "      <td>[{'layer': '950mb', 'rh': 3}, {'layer': '900mb...</td>\n",
       "      <td>[{'layer': '950mb', 'direction': 215, 'speed':...</td>\n",
       "      <td>23</td>\n",
       "      <td>2</td>\n",
       "      <td>6</td>\n",
       "      <td>1018</td>\n",
       "      <td>none</td>\n",
       "      <td>0</td>\n",
       "      <td>0</td>\n",
       "      <td>205</td>\n",
       "      <td>2</td>\n",
       "      <td>usa</td>\n",
       "    </tr>\n",
       "  </tbody>\n",
       "</table>\n",
       "</div>"
      ],
      "text/plain": [
       "   timepoint  cloudcover  highcloud  midcloud  lowcloud  \\\n",
       "0          3           9      -9999     -9999     -9999   \n",
       "1          6           9      -9999     -9999     -9999   \n",
       "2          9           3      -9999     -9999     -9999   \n",
       "3         12           6      -9999     -9999     -9999   \n",
       "4         15           5      -9999     -9999     -9999   \n",
       "\n",
       "                                          rh_profile  \\\n",
       "0  [{'layer': '950mb', 'rh': 7}, {'layer': '900mb...   \n",
       "1  [{'layer': '950mb', 'rh': 6}, {'layer': '900mb...   \n",
       "2  [{'layer': '950mb', 'rh': 4}, {'layer': '900mb...   \n",
       "3  [{'layer': '950mb', 'rh': 3}, {'layer': '900mb...   \n",
       "4  [{'layer': '950mb', 'rh': 3}, {'layer': '900mb...   \n",
       "\n",
       "                                        wind_profile  temp2m  lifted_index  \\\n",
       "0  [{'layer': '950mb', 'direction': 75, 'speed': ...      22             2   \n",
       "1  [{'layer': '950mb', 'direction': 110, 'speed':...      22             2   \n",
       "2  [{'layer': '950mb', 'direction': 180, 'speed':...      21             2   \n",
       "3  [{'layer': '950mb', 'direction': 195, 'speed':...      23             2   \n",
       "4  [{'layer': '950mb', 'direction': 215, 'speed':...      23             2   \n",
       "\n",
       "   rh2m  msl_pressure prec_type  prec_amount  snow_depth wind10m.direction  \\\n",
       "0     6          1020      none            0           0                85   \n",
       "1     5          1018      none            0           0               100   \n",
       "2     5          1017      none            0           0               160   \n",
       "3     5          1016      none            0           0               220   \n",
       "4     6          1018      none            0           0               205   \n",
       "\n",
       "   wind10m.speed country  \n",
       "0              3     usa  \n",
       "1              3     usa  \n",
       "2              2     usa  \n",
       "3              2     usa  \n",
       "4              2     usa  "
      ]
     },
     "execution_count": 4,
     "metadata": {},
     "output_type": "execute_result"
    }
   ],
   "source": [
    "df.head()"
   ]
  },
  {
   "cell_type": "markdown",
   "metadata": {},
   "source": [
    "Comprobamos que ya tenemos todos nuestros paises en la columna."
   ]
  },
  {
   "cell_type": "code",
   "execution_count": 5,
   "metadata": {},
   "outputs": [
    {
     "data": {
      "text/plain": [
       "array(['usa', 'australia', 'south africa', 'new zealand',\n",
       "       'papua new guinea'], dtype=object)"
      ]
     },
     "execution_count": 5,
     "metadata": {},
     "output_type": "execute_result"
    }
   ],
   "source": [
    "df['country'].unique()"
   ]
  },
  {
   "cell_type": "markdown",
   "metadata": {},
   "source": [
    "- Guardamos el dataframe obtenido para usarlo en la siguiente sesión de pair programming."
   ]
  },
  {
   "cell_type": "code",
   "execution_count": 6,
   "metadata": {},
   "outputs": [],
   "source": [
    "df.to_csv('datos_clima.csv')"
   ]
  }
 ],
 "metadata": {
  "interpreter": {
   "hash": "0620710c65b0f5ccc651a2aa8870ae0eb4c70492424a8d7866846658189426a3"
  },
  "kernelspec": {
   "display_name": "Python 3.9.7 ('base')",
   "language": "python",
   "name": "python3"
  },
  "language_info": {
   "codemirror_mode": {
    "name": "ipython",
    "version": 3
   },
   "file_extension": ".py",
   "mimetype": "text/x-python",
   "name": "python",
   "nbconvert_exporter": "python",
   "pygments_lexer": "ipython3",
   "version": "3.9.7"
  },
  "orig_nbformat": 4
 },
 "nbformat": 4,
 "nbformat_minor": 2
}
