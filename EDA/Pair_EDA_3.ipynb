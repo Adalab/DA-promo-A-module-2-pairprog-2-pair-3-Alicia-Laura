{
 "cells": [
  {
   "cell_type": "code",
   "execution_count": 2,
   "metadata": {},
   "outputs": [],
   "source": [
    "import pandas as pd\n",
    "import numpy as np\n",
    "import seaborn as sns\n",
    "import matplotlib.pyplot as plt\n",
    "import sidetable"
   ]
  },
  {
   "cell_type": "code",
   "execution_count": 5,
   "metadata": {},
   "outputs": [
    {
     "data": {
      "text/html": [
       "<div>\n",
       "<style scoped>\n",
       "    .dataframe tbody tr th:only-of-type {\n",
       "        vertical-align: middle;\n",
       "    }\n",
       "\n",
       "    .dataframe tbody tr th {\n",
       "        vertical-align: top;\n",
       "    }\n",
       "\n",
       "    .dataframe thead th {\n",
       "        text-align: right;\n",
       "    }\n",
       "</style>\n",
       "<table border=\"1\" class=\"dataframe\">\n",
       "  <thead>\n",
       "    <tr style=\"text-align: right;\">\n",
       "      <th></th>\n",
       "      <th>case_number</th>\n",
       "      <th>year</th>\n",
       "      <th>type</th>\n",
       "      <th>country</th>\n",
       "      <th>area</th>\n",
       "      <th>location</th>\n",
       "      <th>activity</th>\n",
       "      <th>name</th>\n",
       "      <th>age</th>\n",
       "      <th>time</th>\n",
       "      <th>species</th>\n",
       "      <th>injury</th>\n",
       "      <th>fecha_limpia</th>\n",
       "      <th>fatal_limpio</th>\n",
       "      <th>sexo</th>\n",
       "    </tr>\n",
       "  </thead>\n",
       "  <tbody>\n",
       "    <tr>\n",
       "      <th>0</th>\n",
       "      <td>1800.00.00</td>\n",
       "      <td>1800</td>\n",
       "      <td>Unprovoked</td>\n",
       "      <td>seychelles</td>\n",
       "      <td>St. Anne</td>\n",
       "      <td>NaN</td>\n",
       "      <td>a corsair's boat was overturned</td>\n",
       "      <td>NaN</td>\n",
       "      <td>NaN</td>\n",
       "      <td>NaN</td>\n",
       "      <td>NaN</td>\n",
       "      <td>FATAL, all onboard were killed by sharks</td>\n",
       "      <td>unspecified</td>\n",
       "      <td>Y</td>\n",
       "      <td>F</td>\n",
       "    </tr>\n",
       "    <tr>\n",
       "      <th>1</th>\n",
       "      <td>1797.05.28.R</td>\n",
       "      <td>1797</td>\n",
       "      <td>Unprovoked</td>\n",
       "      <td>NaN</td>\n",
       "      <td>NaN</td>\n",
       "      <td>NaN</td>\n",
       "      <td>Dropped overboard</td>\n",
       "      <td>child</td>\n",
       "      <td>NaN</td>\n",
       "      <td>NaN</td>\n",
       "      <td>NaN</td>\n",
       "      <td>FATAL</td>\n",
       "      <td>May</td>\n",
       "      <td>Y</td>\n",
       "      <td>NaN</td>\n",
       "    </tr>\n",
       "    <tr>\n",
       "      <th>2</th>\n",
       "      <td>1792.09.12</td>\n",
       "      <td>1792</td>\n",
       "      <td>Provoked</td>\n",
       "      <td>england</td>\n",
       "      <td>NaN</td>\n",
       "      <td>On the Thames River</td>\n",
       "      <td>Fishing</td>\n",
       "      <td>male</td>\n",
       "      <td>NaN</td>\n",
       "      <td>NaN</td>\n",
       "      <td>NaN</td>\n",
       "      <td>FATAL, PROVOKED INCIDENT</td>\n",
       "      <td>Sep</td>\n",
       "      <td>Y</td>\n",
       "      <td>M</td>\n",
       "    </tr>\n",
       "  </tbody>\n",
       "</table>\n",
       "</div>"
      ],
      "text/plain": [
       "    case_number  year        type     country      area             location  \\\n",
       "0    1800.00.00  1800  Unprovoked  seychelles  St. Anne                  NaN   \n",
       "1  1797.05.28.R  1797  Unprovoked         NaN       NaN                  NaN   \n",
       "2    1792.09.12  1792    Provoked     england       NaN  On the Thames River   \n",
       "\n",
       "                          activity   name  age time species  \\\n",
       "0  a corsair's boat was overturned    NaN  NaN  NaN     NaN   \n",
       "1                Dropped overboard  child  NaN  NaN     NaN   \n",
       "2                          Fishing   male  NaN  NaN     NaN   \n",
       "\n",
       "                                     injury fecha_limpia fatal_limpio sexo  \n",
       "0  FATAL, all onboard were killed by sharks  unspecified            Y    F  \n",
       "1                                     FATAL          May            Y  NaN  \n",
       "2                  FATAL, PROVOKED INCIDENT          Sep            Y    M  "
      ]
     },
     "execution_count": 5,
     "metadata": {},
     "output_type": "execute_result"
    }
   ],
   "source": [
    "df = pd.read_csv('pairs_limpieza.csv', index_col=0)\n",
    "df.head(3)"
   ]
  },
  {
   "cell_type": "markdown",
   "metadata": {},
   "source": [
    "# Ejercicio 1. Establecer el tamaño de las figuras"
   ]
  },
  {
   "cell_type": "code",
   "execution_count": 89,
   "metadata": {},
   "outputs": [],
   "source": [
    "plt.rcParams[\"figure.figsize\"] = (12,10)"
   ]
  },
  {
   "cell_type": "markdown",
   "metadata": {},
   "source": [
    "# Ejercicio 2. Contestad las preguntas"
   ]
  },
  {
   "cell_type": "markdown",
   "metadata": {},
   "source": [
    "- ¿Cuántos ataques hubo por pais? ¿Se puede ver algo claro si ploteamos todos los paises? En caso de que no, seleccionad solo los 10 paises con más ataques y volved a hacer el plot."
   ]
  },
  {
   "cell_type": "code",
   "execution_count": 7,
   "metadata": {},
   "outputs": [
    {
     "data": {
      "text/plain": [
       "array(['seychelles', nan, 'england', 'australia', 'barbados', 'jamaica',\n",
       "       'martinique', 'usa', 'guinea', 'greenland', 'france', 'spain',\n",
       "       'mediterranean sea', 'cuba', 'sweden', 'panama', 'italy',\n",
       "       'iceland', 'roatan', 'india', 'between portugal & india',\n",
       "       'venezuela', 'mexico', 'greece', 'canada', 'kenya', 'uruguay',\n",
       "       'papua new guinea', 'bermuda', 'lebanon', 'sudan', 'djibouti',\n",
       "       'libya', 'new zealand', 'vietnam', 'sri lanka', 'mozambique',\n",
       "       'south africa', 'bahrein', 'bahamas', 'reunion', 'solomon islands',\n",
       "       'korea', 'french polynesia', 'vanuatu', 'iran', 'red sea?',\n",
       "       'singapore', 'fiji', 'iraq', 'madagascar', 'indonesia',\n",
       "       'nicaragua', 'marshall islands', 'kiribati', 'north pacific ocean',\n",
       "       'saudi arabia', 'pacific ocean', 'burma', 'belize', 'asia?',\n",
       "       'ceylon (sri lanka)', 'brazil', 'thailand', 'costa rica',\n",
       "       'maldives', 'new caledonia', 'ecuador', 'malaysia', 'mauritius',\n",
       "       'samoa', 'japan', 'egypt', 'st helena, british overseas territory',\n",
       "       'comoros', 'united kingdom', 'united arab emirates', 'philippines',\n",
       "       'china', 'columbia', 'cape verde', 'dominican republic',\n",
       "       'cayman islands', 'aruba', 'puerto rico', 'atlantic ocean',\n",
       "       'st. martin', 'trinidad & tobago', 'israel', 'diego garcia',\n",
       "       'taiwan', 'palestinian territories', 'guam', 'nigeria', 'tonga',\n",
       "       'scotland', 'croatia', 'chile', 'antigua', 'russia',\n",
       "       'turks & caicos', 'united arab emirates (uae)', 'azores',\n",
       "       'south korea', 'malta', 'somalia', 'nevis',\n",
       "       'british virgin islands', 'norway', 'senegal', 'yemen',\n",
       "       'gulf of aden', 'sierra leone', 'st. maartin', 'grand cayman',\n",
       "       'liberia', 'mexico ', ' tonga', 'micronesia', 'caribbean sea',\n",
       "       'okinawa', 'tanzania', 'egypt / israel', 'northern arabian sea',\n",
       "       'hong kong', 'el salvador', 'angola', 'montenegro', 'tunisia',\n",
       "       'namibia', 'north atlantic ocean', 'portugal', 'south china sea',\n",
       "       'bangladesh', 'palau', 'western samoa', 'pacific ocean ',\n",
       "       'british isles', 'grenada', 'turkey', 'new britain',\n",
       "       'johnston island', 'south pacific ocean', 'new guinea', 'red sea',\n",
       "       'federated states of micronesia', 'mid atlantic ocean',\n",
       "       'admiralty islands', 'british west indies', 'south atlantic ocean',\n",
       "       'persian gulf', 'red sea / indian ocean', 'north sea',\n",
       "       'nicaragua ', 'maldive islands', 'american samoa',\n",
       "       'andaman / nicobar islandas', 'gabon', 'mayotte',\n",
       "       'north atlantic ocean ', 'the balkans', 'sudan?', 'argentina',\n",
       "       'indian ocean', 'guatemala', 'netherlands antilles',\n",
       "       'northern mariana islands', 'iran / iraq', 'java', ' philippines',\n",
       "       'central pacific', 'solomon islands / vanuatu',\n",
       "       'southwest pacific ocean', 'bay of bengal', 'mid-pacifc ocean',\n",
       "       'slovenia', 'curacao', 'italy / croatia', 'honduras', 'monaco',\n",
       "       'guyana', 'haiti', 'san domingo', 'ireland', 'kuwait', 'yemen ',\n",
       "       'reunion island', 'falkland islands', 'crete', 'cyprus', 'egypt ',\n",
       "       'west indies', 'paraguay', 'british new guinea', 'ceylon', 'ocean',\n",
       "       'georgia', 'syria', 'tuvalu', 'indian ocean?', 'andaman islands',\n",
       "       'equatorial guinea / cameroon', 'cook islands', 'tobago', 'peru',\n",
       "       'africa', 'algeria', 'coast of africa', 'tasman sea', 'ghana'],\n",
       "      dtype=object)"
      ]
     },
     "execution_count": 7,
     "metadata": {},
     "output_type": "execute_result"
    }
   ],
   "source": [
    "df['country'].unique()"
   ]
  },
  {
   "cell_type": "code",
   "execution_count": 91,
   "metadata": {},
   "outputs": [
    {
     "name": "stderr",
     "output_type": "stream",
     "text": [
      "/home/lcp87/anaconda3/lib/python3.9/site-packages/seaborn/_decorators.py:36: FutureWarning: Pass the following variable as a keyword arg: x. From version 0.12, the only valid positional argument will be `data`, and passing other arguments without an explicit keyword will result in an error or misinterpretation.\n",
      "  warnings.warn(\n"
     ]
    },
    {
     "data": {
      "image/png": "[encoded data removed]",
      "text/plain": [
       "<Figure size 864x720 with 1 Axes>"
      ]
     },
     "metadata": {
      "needs_background": "light"
     },
     "output_type": "display_data"
    }
   ],
   "source": [
    "sns.countplot(df['country']);"
   ]
  },
  {
   "cell_type": "markdown",
   "metadata": {},
   "source": [
    "Como vemos en la gráfica eligiendo todos los paises de la columna, no se ve nada claro, por lo que pasaremos a elegir los 10 paises con más ataques para representarlo."
   ]
  },
  {
   "cell_type": "code",
   "execution_count": 99,
   "metadata": {},
   "outputs": [
    {
     "data": {
      "text/html": [
       "<div>\n",
       "<style scoped>\n",
       "    .dataframe tbody tr th:only-of-type {\n",
       "        vertical-align: middle;\n",
       "    }\n",
       "\n",
       "    .dataframe tbody tr th {\n",
       "        vertical-align: top;\n",
       "    }\n",
       "\n",
       "    .dataframe thead th {\n",
       "        text-align: right;\n",
       "    }\n",
       "</style>\n",
       "<table border=\"1\" class=\"dataframe\">\n",
       "  <thead>\n",
       "    <tr style=\"text-align: right;\">\n",
       "      <th></th>\n",
       "      <th>usa</th>\n",
       "      <th>australia</th>\n",
       "      <th>south africa</th>\n",
       "      <th>papua new guinea</th>\n",
       "      <th>new zealand</th>\n",
       "      <th>brazil</th>\n",
       "      <th>bahamas</th>\n",
       "      <th>mexico</th>\n",
       "      <th>italy</th>\n",
       "      <th>fiji</th>\n",
       "      <th>...</th>\n",
       "      <th>mayotte</th>\n",
       "      <th>bahrein</th>\n",
       "      <th>gabon</th>\n",
       "      <th>andaman / nicobar islandas</th>\n",
       "      <th>korea</th>\n",
       "      <th>maldive islands</th>\n",
       "      <th>nicaragua</th>\n",
       "      <th>north sea</th>\n",
       "      <th>red sea / indian ocean</th>\n",
       "      <th>ghana</th>\n",
       "    </tr>\n",
       "  </thead>\n",
       "  <tbody>\n",
       "    <tr>\n",
       "      <th>country</th>\n",
       "      <td>2222</td>\n",
       "      <td>1335</td>\n",
       "      <td>577</td>\n",
       "      <td>134</td>\n",
       "      <td>127</td>\n",
       "      <td>112</td>\n",
       "      <td>109</td>\n",
       "      <td>88</td>\n",
       "      <td>70</td>\n",
       "      <td>65</td>\n",
       "      <td>...</td>\n",
       "      <td>1</td>\n",
       "      <td>1</td>\n",
       "      <td>1</td>\n",
       "      <td>1</td>\n",
       "      <td>1</td>\n",
       "      <td>1</td>\n",
       "      <td>1</td>\n",
       "      <td>1</td>\n",
       "      <td>1</td>\n",
       "      <td>1</td>\n",
       "    </tr>\n",
       "  </tbody>\n",
       "</table>\n",
       "<p>1 rows × 209 columns</p>\n",
       "</div>"
      ],
      "text/plain": [
       "          usa  australia  south africa  papua new guinea  new zealand  brazil  \\\n",
       "country  2222       1335           577               134          127     112   \n",
       "\n",
       "         bahamas  mexico  italy  fiji  ...  mayotte  bahrein  gabon  \\\n",
       "country      109      88     70    65  ...        1        1      1   \n",
       "\n",
       "         andaman / nicobar islandas  korea  maldive islands  nicaragua   \\\n",
       "country                           1      1                1           1   \n",
       "\n",
       "         north sea  red sea / indian ocean  ghana  \n",
       "country          1                       1      1  \n",
       "\n",
       "[1 rows x 209 columns]"
      ]
     },
     "execution_count": 99,
     "metadata": {},
     "output_type": "execute_result"
    }
   ],
   "source": [
    "df_cuenta = pd.DataFrame(df['country'].value_counts()).T\n",
    "df_cuenta"
   ]
  },
  {
   "cell_type": "markdown",
   "metadata": {},
   "source": [
    "Aquí vemos cuántos ataques hubo por país."
   ]
  },
  {
   "cell_type": "code",
   "execution_count": 103,
   "metadata": {},
   "outputs": [
    {
     "data": {
      "text/html": [
       "<div>\n",
       "<style scoped>\n",
       "    .dataframe tbody tr th:only-of-type {\n",
       "        vertical-align: middle;\n",
       "    }\n",
       "\n",
       "    .dataframe tbody tr th {\n",
       "        vertical-align: top;\n",
       "    }\n",
       "\n",
       "    .dataframe thead th {\n",
       "        text-align: right;\n",
       "    }\n",
       "</style>\n",
       "<table border=\"1\" class=\"dataframe\">\n",
       "  <thead>\n",
       "    <tr style=\"text-align: right;\">\n",
       "      <th></th>\n",
       "      <th>country</th>\n",
       "      <th>count</th>\n",
       "      <th>percent</th>\n",
       "      <th>cumulative_count</th>\n",
       "      <th>cumulative_percent</th>\n",
       "    </tr>\n",
       "  </thead>\n",
       "  <tbody>\n",
       "    <tr>\n",
       "      <th>0</th>\n",
       "      <td>usa</td>\n",
       "      <td>2222</td>\n",
       "      <td>35.643247</td>\n",
       "      <td>2222</td>\n",
       "      <td>35.643247</td>\n",
       "    </tr>\n",
       "    <tr>\n",
       "      <th>1</th>\n",
       "      <td>australia</td>\n",
       "      <td>1335</td>\n",
       "      <td>21.414822</td>\n",
       "      <td>3557</td>\n",
       "      <td>57.058069</td>\n",
       "    </tr>\n",
       "    <tr>\n",
       "      <th>2</th>\n",
       "      <td>south africa</td>\n",
       "      <td>577</td>\n",
       "      <td>9.255695</td>\n",
       "      <td>4134</td>\n",
       "      <td>66.313763</td>\n",
       "    </tr>\n",
       "    <tr>\n",
       "      <th>3</th>\n",
       "      <td>papua new guinea</td>\n",
       "      <td>134</td>\n",
       "      <td>2.149503</td>\n",
       "      <td>4268</td>\n",
       "      <td>68.463266</td>\n",
       "    </tr>\n",
       "    <tr>\n",
       "      <th>4</th>\n",
       "      <td>new zealand</td>\n",
       "      <td>127</td>\n",
       "      <td>2.037215</td>\n",
       "      <td>4395</td>\n",
       "      <td>70.500481</td>\n",
       "    </tr>\n",
       "  </tbody>\n",
       "</table>\n",
       "</div>"
      ],
      "text/plain": [
       "            country  count    percent  cumulative_count  cumulative_percent\n",
       "0               usa   2222  35.643247              2222           35.643247\n",
       "1         australia   1335  21.414822              3557           57.058069\n",
       "2      south africa    577   9.255695              4134           66.313763\n",
       "3  papua new guinea    134   2.149503              4268           68.463266\n",
       "4       new zealand    127   2.037215              4395           70.500481"
      ]
     },
     "execution_count": 103,
     "metadata": {},
     "output_type": "execute_result"
    }
   ],
   "source": [
    "df_country = df.stb.freq(['country'])\n",
    "df_country.head()"
   ]
  },
  {
   "cell_type": "markdown",
   "metadata": {},
   "source": [
    "Y aquí observamos qué tanto por ciento de ataques ha tenido cada uno de los países."
   ]
  },
  {
   "cell_type": "markdown",
   "metadata": {},
   "source": [
    "Seleccionamos los 10 países con más ataques"
   ]
  },
  {
   "cell_type": "code",
   "execution_count": 104,
   "metadata": {},
   "outputs": [
    {
     "data": {
      "text/html": [
       "<div>\n",
       "<style scoped>\n",
       "    .dataframe tbody tr th:only-of-type {\n",
       "        vertical-align: middle;\n",
       "    }\n",
       "\n",
       "    .dataframe tbody tr th {\n",
       "        vertical-align: top;\n",
       "    }\n",
       "\n",
       "    .dataframe thead th {\n",
       "        text-align: right;\n",
       "    }\n",
       "</style>\n",
       "<table border=\"1\" class=\"dataframe\">\n",
       "  <thead>\n",
       "    <tr style=\"text-align: right;\">\n",
       "      <th></th>\n",
       "      <th>country</th>\n",
       "      <th>count</th>\n",
       "      <th>percent</th>\n",
       "      <th>cumulative_count</th>\n",
       "      <th>cumulative_percent</th>\n",
       "    </tr>\n",
       "  </thead>\n",
       "  <tbody>\n",
       "    <tr>\n",
       "      <th>0</th>\n",
       "      <td>usa</td>\n",
       "      <td>2222</td>\n",
       "      <td>35.643247</td>\n",
       "      <td>2222</td>\n",
       "      <td>35.643247</td>\n",
       "    </tr>\n",
       "    <tr>\n",
       "      <th>1</th>\n",
       "      <td>australia</td>\n",
       "      <td>1335</td>\n",
       "      <td>21.414822</td>\n",
       "      <td>3557</td>\n",
       "      <td>57.058069</td>\n",
       "    </tr>\n",
       "    <tr>\n",
       "      <th>2</th>\n",
       "      <td>south africa</td>\n",
       "      <td>577</td>\n",
       "      <td>9.255695</td>\n",
       "      <td>4134</td>\n",
       "      <td>66.313763</td>\n",
       "    </tr>\n",
       "    <tr>\n",
       "      <th>3</th>\n",
       "      <td>papua new guinea</td>\n",
       "      <td>134</td>\n",
       "      <td>2.149503</td>\n",
       "      <td>4268</td>\n",
       "      <td>68.463266</td>\n",
       "    </tr>\n",
       "    <tr>\n",
       "      <th>4</th>\n",
       "      <td>new zealand</td>\n",
       "      <td>127</td>\n",
       "      <td>2.037215</td>\n",
       "      <td>4395</td>\n",
       "      <td>70.500481</td>\n",
       "    </tr>\n",
       "    <tr>\n",
       "      <th>5</th>\n",
       "      <td>brazil</td>\n",
       "      <td>112</td>\n",
       "      <td>1.796599</td>\n",
       "      <td>4507</td>\n",
       "      <td>72.297081</td>\n",
       "    </tr>\n",
       "    <tr>\n",
       "      <th>6</th>\n",
       "      <td>bahamas</td>\n",
       "      <td>109</td>\n",
       "      <td>1.748476</td>\n",
       "      <td>4616</td>\n",
       "      <td>74.045557</td>\n",
       "    </tr>\n",
       "    <tr>\n",
       "      <th>7</th>\n",
       "      <td>mexico</td>\n",
       "      <td>88</td>\n",
       "      <td>1.411614</td>\n",
       "      <td>4704</td>\n",
       "      <td>75.457170</td>\n",
       "    </tr>\n",
       "    <tr>\n",
       "      <th>8</th>\n",
       "      <td>italy</td>\n",
       "      <td>70</td>\n",
       "      <td>1.122875</td>\n",
       "      <td>4774</td>\n",
       "      <td>76.580045</td>\n",
       "    </tr>\n",
       "    <tr>\n",
       "      <th>9</th>\n",
       "      <td>fiji</td>\n",
       "      <td>65</td>\n",
       "      <td>1.042669</td>\n",
       "      <td>4839</td>\n",
       "      <td>77.622714</td>\n",
       "    </tr>\n",
       "  </tbody>\n",
       "</table>\n",
       "</div>"
      ],
      "text/plain": [
       "            country  count    percent  cumulative_count  cumulative_percent\n",
       "0               usa   2222  35.643247              2222           35.643247\n",
       "1         australia   1335  21.414822              3557           57.058069\n",
       "2      south africa    577   9.255695              4134           66.313763\n",
       "3  papua new guinea    134   2.149503              4268           68.463266\n",
       "4       new zealand    127   2.037215              4395           70.500481\n",
       "5            brazil    112   1.796599              4507           72.297081\n",
       "6           bahamas    109   1.748476              4616           74.045557\n",
       "7            mexico     88   1.411614              4704           75.457170\n",
       "8             italy     70   1.122875              4774           76.580045\n",
       "9              fiji     65   1.042669              4839           77.622714"
      ]
     },
     "execution_count": 104,
     "metadata": {},
     "output_type": "execute_result"
    }
   ],
   "source": [
    "df_country_10 = df_country[:10]\n",
    "df_country_10"
   ]
  },
  {
   "cell_type": "code",
   "execution_count": 105,
   "metadata": {},
   "outputs": [
    {
     "data": {
      "text/plain": [
       "['usa',\n",
       " 'australia',\n",
       " 'south africa',\n",
       " 'papua new guinea',\n",
       " 'new zealand',\n",
       " 'brazil',\n",
       " 'bahamas',\n",
       " 'mexico',\n",
       " 'italy',\n",
       " 'fiji']"
      ]
     },
     "execution_count": 105,
     "metadata": {},
     "output_type": "execute_result"
    }
   ],
   "source": [
    "lista_paises_10 = list(df_country_10['country'])\n",
    "lista_paises_10"
   ]
  },
  {
   "cell_type": "code",
   "execution_count": 106,
   "metadata": {},
   "outputs": [],
   "source": [
    "df_country_10_2 = df[df['country'].isin(lista_paises_10)]\n"
   ]
  },
  {
   "cell_type": "code",
   "execution_count": 109,
   "metadata": {},
   "outputs": [
    {
     "data": {
      "text/html": [
       "<div>\n",
       "<style scoped>\n",
       "    .dataframe tbody tr th:only-of-type {\n",
       "        vertical-align: middle;\n",
       "    }\n",
       "\n",
       "    .dataframe tbody tr th {\n",
       "        vertical-align: top;\n",
       "    }\n",
       "\n",
       "    .dataframe thead th {\n",
       "        text-align: right;\n",
       "    }\n",
       "</style>\n",
       "<table border=\"1\" class=\"dataframe\">\n",
       "  <thead>\n",
       "    <tr style=\"text-align: right;\">\n",
       "      <th></th>\n",
       "      <th>case_number</th>\n",
       "      <th>year</th>\n",
       "      <th>type</th>\n",
       "      <th>country</th>\n",
       "      <th>area</th>\n",
       "      <th>location</th>\n",
       "      <th>activity</th>\n",
       "      <th>name</th>\n",
       "      <th>age</th>\n",
       "      <th>time</th>\n",
       "      <th>species</th>\n",
       "      <th>injury</th>\n",
       "      <th>fecha_limpia</th>\n",
       "      <th>fatal_limpio</th>\n",
       "      <th>sexo</th>\n",
       "    </tr>\n",
       "  </thead>\n",
       "  <tbody>\n",
       "    <tr>\n",
       "      <th>3</th>\n",
       "      <td>1791.00.00</td>\n",
       "      <td>1791</td>\n",
       "      <td>Unprovoked</td>\n",
       "      <td>australia</td>\n",
       "      <td>New South Wales</td>\n",
       "      <td>Port Jackson</td>\n",
       "      <td>NaN</td>\n",
       "      <td>female, an Australian aboriginal</td>\n",
       "      <td>NaN</td>\n",
       "      <td>NaN</td>\n",
       "      <td>NaN</td>\n",
       "      <td>FATAL, \"bitten in two\"</td>\n",
       "      <td>unspecified</td>\n",
       "      <td>Y</td>\n",
       "      <td>F</td>\n",
       "    </tr>\n",
       "    <tr>\n",
       "      <th>4</th>\n",
       "      <td>1788.05.10</td>\n",
       "      <td>1788</td>\n",
       "      <td>Boat</td>\n",
       "      <td>australia</td>\n",
       "      <td>New South Wales</td>\n",
       "      <td>Sydney Harbor</td>\n",
       "      <td>Fishing</td>\n",
       "      <td>boat</td>\n",
       "      <td>NaN</td>\n",
       "      <td>NaN</td>\n",
       "      <td>NaN</td>\n",
       "      <td>No injury to occupants, shark bit oar and rudder</td>\n",
       "      <td>May</td>\n",
       "      <td>N</td>\n",
       "      <td>NaN</td>\n",
       "    </tr>\n",
       "  </tbody>\n",
       "</table>\n",
       "</div>"
      ],
      "text/plain": [
       "  case_number  year        type    country             area       location  \\\n",
       "3  1791.00.00  1791  Unprovoked  australia  New South Wales   Port Jackson   \n",
       "4  1788.05.10  1788        Boat  australia  New South Wales  Sydney Harbor   \n",
       "\n",
       "  activity                              name  age time species  \\\n",
       "3      NaN  female, an Australian aboriginal  NaN  NaN     NaN   \n",
       "4  Fishing                              boat  NaN  NaN     NaN   \n",
       "\n",
       "                                             injury fecha_limpia fatal_limpio  \\\n",
       "3                            FATAL, \"bitten in two\"  unspecified            Y   \n",
       "4  No injury to occupants, shark bit oar and rudder          May            N   \n",
       "\n",
       "  sexo  \n",
       "3    F  \n",
       "4  NaN  "
      ]
     },
     "execution_count": 109,
     "metadata": {},
     "output_type": "execute_result"
    }
   ],
   "source": [
    "df_country_10_2.head(2)"
   ]
  },
  {
   "cell_type": "code",
   "execution_count": 111,
   "metadata": {},
   "outputs": [
    {
     "data": {
      "text/plain": [
       "10"
      ]
     },
     "execution_count": 111,
     "metadata": {},
     "output_type": "execute_result"
    }
   ],
   "source": [
    "#Comprobamos que estan solo los 10 paises\n",
    "df_country_10_2['country'].unique().size"
   ]
  },
  {
   "cell_type": "code",
   "execution_count": 116,
   "metadata": {},
   "outputs": [
    {
     "name": "stderr",
     "output_type": "stream",
     "text": [
      "/home/lcp87/anaconda3/lib/python3.9/site-packages/seaborn/_decorators.py:36: FutureWarning: Pass the following variables as keyword args: x, y. From version 0.12, the only valid positional argument will be `data`, and passing other arguments without an explicit keyword will result in an error or misinterpretation.\n",
      "  warnings.warn(\n"
     ]
    },
    {
     "data": {
      "text/plain": [
       "Text(0.5, 1.0, ' Nº de ataques por país')"
      ]
     },
     "execution_count": 116,
     "metadata": {},
     "output_type": "execute_result"
    },
    {
     "data": {
      "image/png": "[encoded data removed]",
      "text/plain": [
       "<Figure size 864x720 with 1 Axes>"
      ]
     },
     "metadata": {
      "needs_background": "light"
     },
     "output_type": "display_data"
    }
   ],
   "source": [
    "ax = sns.barplot(df_country_10['country'], df_country_10['count'])\n",
    "ax.set(xlabel = \" Países\", ylabel= \"Nº ataques\")\n",
    "plt.title(\" Nº de ataques por país\")"
   ]
  },
  {
   "cell_type": "markdown",
   "metadata": {},
   "source": [
    "Hemos decidido usar un gráfico barplot ya que calculamos la frecuencia previamente, si no hubieramos utilizado un histograma o un countplot."
   ]
  },
  {
   "cell_type": "code",
   "execution_count": 117,
   "metadata": {},
   "outputs": [
    {
     "name": "stderr",
     "output_type": "stream",
     "text": [
      "/home/lcp87/anaconda3/lib/python3.9/site-packages/seaborn/_decorators.py:36: FutureWarning: Pass the following variables as keyword args: x, y. From version 0.12, the only valid positional argument will be `data`, and passing other arguments without an explicit keyword will result in an error or misinterpretation.\n",
      "  warnings.warn(\n"
     ]
    },
    {
     "data": {
      "image/png": "[encoded data removed]",
      "text/plain": [
       "<Figure size 864x720 with 1 Axes>"
      ]
     },
     "metadata": {
      "needs_background": "light"
     },
     "output_type": "display_data"
    }
   ],
   "source": [
    "sns.pointplot(df_country_10['country'], df_country_10['count']);"
   ]
  },
  {
   "cell_type": "markdown",
   "metadata": {},
   "source": [
    "Añadimos también este gráfico porque creemos que es interesante observar como disminuye el número de ataques por pais entre el top 10."
   ]
  },
  {
   "cell_type": "markdown",
   "metadata": {},
   "source": [
    "- Usando el DataFrame de los 10 paises con más ataques, ¿hay diferencias entre sexos en esos paises?"
   ]
  },
  {
   "cell_type": "code",
   "execution_count": 176,
   "metadata": {},
   "outputs": [
    {
     "data": {
      "text/html": [
       "<div>\n",
       "<style scoped>\n",
       "    .dataframe tbody tr th:only-of-type {\n",
       "        vertical-align: middle;\n",
       "    }\n",
       "\n",
       "    .dataframe tbody tr th {\n",
       "        vertical-align: top;\n",
       "    }\n",
       "\n",
       "    .dataframe thead th {\n",
       "        text-align: right;\n",
       "    }\n",
       "</style>\n",
       "<table border=\"1\" class=\"dataframe\">\n",
       "  <thead>\n",
       "    <tr style=\"text-align: right;\">\n",
       "      <th></th>\n",
       "      <th>case_number</th>\n",
       "      <th>year</th>\n",
       "      <th>type</th>\n",
       "      <th>country</th>\n",
       "      <th>area</th>\n",
       "      <th>location</th>\n",
       "      <th>activity</th>\n",
       "      <th>name</th>\n",
       "      <th>age</th>\n",
       "      <th>time</th>\n",
       "      <th>species</th>\n",
       "      <th>injury</th>\n",
       "      <th>fecha_limpia</th>\n",
       "      <th>fatal_limpio</th>\n",
       "      <th>sexo</th>\n",
       "    </tr>\n",
       "  </thead>\n",
       "  <tbody>\n",
       "    <tr>\n",
       "      <th>3</th>\n",
       "      <td>1791.00.00</td>\n",
       "      <td>1791</td>\n",
       "      <td>Unprovoked</td>\n",
       "      <td>australia</td>\n",
       "      <td>New South Wales</td>\n",
       "      <td>Port Jackson</td>\n",
       "      <td>NaN</td>\n",
       "      <td>female, an Australian aboriginal</td>\n",
       "      <td>NaN</td>\n",
       "      <td>NaN</td>\n",
       "      <td>NaN</td>\n",
       "      <td>FATAL, \"bitten in two\"</td>\n",
       "      <td>unspecified</td>\n",
       "      <td>Y</td>\n",
       "      <td>F</td>\n",
       "    </tr>\n",
       "    <tr>\n",
       "      <th>4</th>\n",
       "      <td>1788.05.10</td>\n",
       "      <td>1788</td>\n",
       "      <td>Boat</td>\n",
       "      <td>australia</td>\n",
       "      <td>New South Wales</td>\n",
       "      <td>Sydney Harbor</td>\n",
       "      <td>Fishing</td>\n",
       "      <td>boat</td>\n",
       "      <td>NaN</td>\n",
       "      <td>NaN</td>\n",
       "      <td>NaN</td>\n",
       "      <td>No injury to occupants, shark bit oar and rudder</td>\n",
       "      <td>May</td>\n",
       "      <td>N</td>\n",
       "      <td>NaN</td>\n",
       "    </tr>\n",
       "  </tbody>\n",
       "</table>\n",
       "</div>"
      ],
      "text/plain": [
       "  case_number  year        type    country             area       location  \\\n",
       "3  1791.00.00  1791  Unprovoked  australia  New South Wales   Port Jackson   \n",
       "4  1788.05.10  1788        Boat  australia  New South Wales  Sydney Harbor   \n",
       "\n",
       "  activity                              name  age time species  \\\n",
       "3      NaN  female, an Australian aboriginal  NaN  NaN     NaN   \n",
       "4  Fishing                              boat  NaN  NaN     NaN   \n",
       "\n",
       "                                             injury fecha_limpia fatal_limpio  \\\n",
       "3                            FATAL, \"bitten in two\"  unspecified            Y   \n",
       "4  No injury to occupants, shark bit oar and rudder          May            N   \n",
       "\n",
       "  sexo  \n",
       "3    F  \n",
       "4  NaN  "
      ]
     },
     "execution_count": 176,
     "metadata": {},
     "output_type": "execute_result"
    }
   ],
   "source": [
    "df_country_10_2.head(2)"
   ]
  },
  {
   "cell_type": "code",
   "execution_count": 180,
   "metadata": {},
   "outputs": [
    {
     "data": {
      "image/png": "[encoded data removed]",
      "text/plain": [
       "<Figure size 1224x576 with 1 Axes>"
      ]
     },
     "metadata": {
      "needs_background": "light"
     },
     "output_type": "display_data"
    }
   ],
   "source": [
    "plt.figure(figsize =(17,8))\n",
    "fig = sns.histplot(x='country', data = df_country_10_2,hue = 'sexo',  palette = 'colorblind')\n",
    "fig.set(xlabel='Paises', ylabel = 'Nº ataques')\n",
    "fig.set_title('Ataques por razón de sexo en los 10 países con más frecuencia de ataques')\n",
    "plt.show()"
   ]
  },
  {
   "cell_type": "markdown",
   "metadata": {},
   "source": [
    "Observamos una diferencia contundente entre los ataques entre hombres y mujeres en los 10 países donde ha habido más ataques. En la gráfica vemos que la mayoría de los ataques los han sufrido hombres (M)"
   ]
  },
  {
   "cell_type": "markdown",
   "metadata": {},
   "source": [
    "- ¿Qué edad recibe mayor número de ataques? Pista: usa cut"
   ]
  },
  {
   "cell_type": "markdown",
   "metadata": {},
   "source": [
    "Vamos a dividir las edades en estos rangos: 0 - 12 años: child, 13 a 29 años: young adult, de 30 a 55 adult y +55 senior"
   ]
  },
  {
   "cell_type": "code",
   "execution_count": null,
   "metadata": {},
   "outputs": [],
   "source": [
    "df['age'].unique()"
   ]
  },
  {
   "cell_type": "markdown",
   "metadata": {},
   "source": [
    "Descomenta estas céldas cuando corras con Age bien"
   ]
  },
  {
   "cell_type": "code",
   "execution_count": 84,
   "metadata": {},
   "outputs": [],
   "source": [
    "# edad_min = df['age'].describe()[4]\n",
    "edad_min = 0"
   ]
  },
  {
   "cell_type": "code",
   "execution_count": 85,
   "metadata": {},
   "outputs": [],
   "source": [
    "# edad_max = df['age'].describe()[7]\n",
    "# bins = np.arange(edad_min, edad_max + 5, 15)\n",
    "edad_max = 70"
   ]
  },
  {
   "cell_type": "code",
   "execution_count": null,
   "metadata": {},
   "outputs": [],
   "source": [
    "bins = [edad_min,13,30,55,edad_max]\n",
    "pd.cut(df['age'], bins = bins)"
   ]
  },
  {
   "cell_type": "code",
   "execution_count": null,
   "metadata": {},
   "outputs": [],
   "source": [
    "df[\"age\"].plot(kind = \"pie\", subplots = True, figsize = (8,8), dpi = 80)\n",
    "plt.title(\"Ataques por rango de edad\")\n",
    "plt.show()"
   ]
  },
  {
   "cell_type": "markdown",
   "metadata": {},
   "source": [
    "- Ataques entre sexos, ¿hay diferencia?"
   ]
  },
  {
   "cell_type": "code",
   "execution_count": 38,
   "metadata": {},
   "outputs": [
    {
     "data": {
      "text/html": [
       "<div>\n",
       "<style scoped>\n",
       "    .dataframe tbody tr th:only-of-type {\n",
       "        vertical-align: middle;\n",
       "    }\n",
       "\n",
       "    .dataframe tbody tr th {\n",
       "        vertical-align: top;\n",
       "    }\n",
       "\n",
       "    .dataframe thead th {\n",
       "        text-align: right;\n",
       "    }\n",
       "</style>\n",
       "<table border=\"1\" class=\"dataframe\">\n",
       "  <thead>\n",
       "    <tr style=\"text-align: right;\">\n",
       "      <th></th>\n",
       "      <th>case_number</th>\n",
       "      <th>year</th>\n",
       "      <th>type</th>\n",
       "      <th>country</th>\n",
       "      <th>area</th>\n",
       "      <th>location</th>\n",
       "      <th>activity</th>\n",
       "      <th>name</th>\n",
       "      <th>age</th>\n",
       "      <th>time</th>\n",
       "      <th>species</th>\n",
       "      <th>injury</th>\n",
       "      <th>fecha_limpia</th>\n",
       "      <th>fatal_limpio</th>\n",
       "      <th>sexo</th>\n",
       "    </tr>\n",
       "  </thead>\n",
       "  <tbody>\n",
       "    <tr>\n",
       "      <th>0</th>\n",
       "      <td>1800.00.00</td>\n",
       "      <td>1800</td>\n",
       "      <td>Unprovoked</td>\n",
       "      <td>seychelles</td>\n",
       "      <td>St. Anne</td>\n",
       "      <td>NaN</td>\n",
       "      <td>a corsair's boat was overturned</td>\n",
       "      <td>NaN</td>\n",
       "      <td>NaN</td>\n",
       "      <td>NaN</td>\n",
       "      <td>NaN</td>\n",
       "      <td>FATAL, all onboard were killed by sharks</td>\n",
       "      <td>unspecified</td>\n",
       "      <td>Y</td>\n",
       "      <td>F</td>\n",
       "    </tr>\n",
       "    <tr>\n",
       "      <th>1</th>\n",
       "      <td>1797.05.28.R</td>\n",
       "      <td>1797</td>\n",
       "      <td>Unprovoked</td>\n",
       "      <td>NaN</td>\n",
       "      <td>NaN</td>\n",
       "      <td>NaN</td>\n",
       "      <td>Dropped overboard</td>\n",
       "      <td>child</td>\n",
       "      <td>NaN</td>\n",
       "      <td>NaN</td>\n",
       "      <td>NaN</td>\n",
       "      <td>FATAL</td>\n",
       "      <td>May</td>\n",
       "      <td>Y</td>\n",
       "      <td>NaN</td>\n",
       "    </tr>\n",
       "  </tbody>\n",
       "</table>\n",
       "</div>"
      ],
      "text/plain": [
       "    case_number  year        type     country      area location  \\\n",
       "0    1800.00.00  1800  Unprovoked  seychelles  St. Anne      NaN   \n",
       "1  1797.05.28.R  1797  Unprovoked         NaN       NaN      NaN   \n",
       "\n",
       "                          activity   name  age time species  \\\n",
       "0  a corsair's boat was overturned    NaN  NaN  NaN     NaN   \n",
       "1                Dropped overboard  child  NaN  NaN     NaN   \n",
       "\n",
       "                                     injury fecha_limpia fatal_limpio sexo  \n",
       "0  FATAL, all onboard were killed by sharks  unspecified            Y    F  \n",
       "1                                     FATAL          May            Y  NaN  "
      ]
     },
     "execution_count": 38,
     "metadata": {},
     "output_type": "execute_result"
    }
   ],
   "source": [
    "df.head(2)"
   ]
  },
  {
   "cell_type": "code",
   "execution_count": 45,
   "metadata": {},
   "outputs": [
    {
     "data": {
      "text/html": [
       "<div>\n",
       "<style scoped>\n",
       "    .dataframe tbody tr th:only-of-type {\n",
       "        vertical-align: middle;\n",
       "    }\n",
       "\n",
       "    .dataframe tbody tr th {\n",
       "        vertical-align: top;\n",
       "    }\n",
       "\n",
       "    .dataframe thead th {\n",
       "        text-align: right;\n",
       "    }\n",
       "</style>\n",
       "<table border=\"1\" class=\"dataframe\">\n",
       "  <thead>\n",
       "    <tr style=\"text-align: right;\">\n",
       "      <th></th>\n",
       "      <th>case_number</th>\n",
       "      <th>year</th>\n",
       "      <th>type</th>\n",
       "      <th>country</th>\n",
       "      <th>area</th>\n",
       "      <th>location</th>\n",
       "      <th>activity</th>\n",
       "      <th>name</th>\n",
       "      <th>age</th>\n",
       "      <th>time</th>\n",
       "      <th>species</th>\n",
       "      <th>injury</th>\n",
       "      <th>fecha_limpia</th>\n",
       "      <th>fatal_limpio</th>\n",
       "    </tr>\n",
       "    <tr>\n",
       "      <th>sexo</th>\n",
       "      <th></th>\n",
       "      <th></th>\n",
       "      <th></th>\n",
       "      <th></th>\n",
       "      <th></th>\n",
       "      <th></th>\n",
       "      <th></th>\n",
       "      <th></th>\n",
       "      <th></th>\n",
       "      <th></th>\n",
       "      <th></th>\n",
       "      <th></th>\n",
       "      <th></th>\n",
       "      <th></th>\n",
       "    </tr>\n",
       "  </thead>\n",
       "  <tbody>\n",
       "    <tr>\n",
       "      <th>F</th>\n",
       "      <td>635</td>\n",
       "      <td>635</td>\n",
       "      <td>635</td>\n",
       "      <td>632</td>\n",
       "      <td>614</td>\n",
       "      <td>606</td>\n",
       "      <td>584</td>\n",
       "      <td>630</td>\n",
       "      <td>464</td>\n",
       "      <td>386</td>\n",
       "      <td>369</td>\n",
       "      <td>635</td>\n",
       "      <td>635</td>\n",
       "      <td>575</td>\n",
       "    </tr>\n",
       "    <tr>\n",
       "      <th>M</th>\n",
       "      <td>5084</td>\n",
       "      <td>5085</td>\n",
       "      <td>5081</td>\n",
       "      <td>5042</td>\n",
       "      <td>4714</td>\n",
       "      <td>4642</td>\n",
       "      <td>4745</td>\n",
       "      <td>5026</td>\n",
       "      <td>2962</td>\n",
       "      <td>2454</td>\n",
       "      <td>2766</td>\n",
       "      <td>5071</td>\n",
       "      <td>5085</td>\n",
       "      <td>4647</td>\n",
       "    </tr>\n",
       "  </tbody>\n",
       "</table>\n",
       "</div>"
      ],
      "text/plain": [
       "      case_number  year  type  country  area  location  activity  name   age  \\\n",
       "sexo                                                                           \n",
       "F             635   635   635      632   614       606       584   630   464   \n",
       "M            5084  5085  5081     5042  4714      4642      4745  5026  2962   \n",
       "\n",
       "      time  species  injury  fecha_limpia  fatal_limpio  \n",
       "sexo                                                     \n",
       "F      386      369     635           635           575  \n",
       "M     2454     2766    5071          5085          4647  "
      ]
     },
     "execution_count": 45,
     "metadata": {},
     "output_type": "execute_result"
    }
   ],
   "source": [
    "df_sexo = df.groupby(by = df['sexo']).count()\n",
    "df_sexo.head(2)"
   ]
  },
  {
   "cell_type": "markdown",
   "metadata": {},
   "source": [
    "Observamos que existen diferencias entre sexos. Ha habido muchos más ataques a hombres (M), exactamente 5084, que los 635 que les han ocurrido a mujeres (F). Lo podemos observar en la columna de case_number gracias al conteo que nos hizo el group by por sexo."
   ]
  },
  {
   "cell_type": "markdown",
   "metadata": {},
   "source": [
    "- ¿Cuándo ocurren más ataques? ¿Os sale algo raro en la gráfica?"
   ]
  },
  {
   "cell_type": "code",
   "execution_count": 66,
   "metadata": {},
   "outputs": [
    {
     "name": "stderr",
     "output_type": "stream",
     "text": [
      "/home/lcp87/anaconda3/lib/python3.9/site-packages/seaborn/_decorators.py:36: FutureWarning: Pass the following variable as a keyword arg: x. From version 0.12, the only valid positional argument will be `data`, and passing other arguments without an explicit keyword will result in an error or misinterpretation.\n",
      "  warnings.warn(\n"
     ]
    },
    {
     "data": {
      "image/png": "[encoded data removed]",
      "text/plain": [
       "<Figure size 720x432 with 1 Axes>"
      ]
     },
     "metadata": {
      "needs_background": "light"
     },
     "output_type": "display_data"
    }
   ],
   "source": [
    "df_fecha = df.groupby(['fecha_limpia']).count()\n",
    "\n",
    "fig = plt.figure(1,(10,6))\n",
    "sns.countplot(df['fecha_limpia'], palette = 'pastel')\n",
    "plt.title('Conteo de ataques por mes', fontsize=15)\n",
    "plt.xlabel('Mes del ataque')\n",
    "plt.ylabel('Conteo ataques')\n",
    "plt.show()"
   ]
  },
  {
   "cell_type": "markdown",
   "metadata": {},
   "source": [
    "Observamos que Julio y Agosto es el mes en el que más ataques se han registrado. También observamos que existe un gran número de ataques en el que no se ha registrado el mes en el que ocurrieron."
   ]
  }
 ],
 "metadata": {
  "interpreter": {
   "hash": "a2a25da4702e7ca1aacc8a7d4e81059851e19fd1060402175b35fae4c2a518e8"
  },
  "kernelspec": {
   "display_name": "Python 3.9.7 ('base')",
   "language": "python",
   "name": "python3"
  },
  "language_info": {
   "codemirror_mode": {
    "name": "ipython",
    "version": 3
   },
   "file_extension": ".py",
   "mimetype": "text/x-python",
   "name": "python",
   "nbconvert_exporter": "python",
   "pygments_lexer": "ipython3",
   "version": "3.9.7"
  },
  "orig_nbformat": 4
 },
 "nbformat": 4,
 "nbformat_minor": 2
}
