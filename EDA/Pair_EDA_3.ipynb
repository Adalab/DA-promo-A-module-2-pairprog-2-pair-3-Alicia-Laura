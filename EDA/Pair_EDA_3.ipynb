{
 "cells": [
  {
   "cell_type": "code",
   "execution_count": 1,
   "metadata": {},
   "outputs": [],
   "source": [
    "import pandas as pd\n",
    "import numpy as np\n",
    "import seaborn as sns\n",
    "import matplotlib.pyplot as plt\n",
    "import sidetable"
   ]
  },
  {
   "cell_type": "code",
   "execution_count": 2,
   "metadata": {},
   "outputs": [
    {
     "data": {
      "text/html": [
       "<div>\n",
       "<style scoped>\n",
       "    .dataframe tbody tr th:only-of-type {\n",
       "        vertical-align: middle;\n",
       "    }\n",
       "\n",
       "    .dataframe tbody tr th {\n",
       "        vertical-align: top;\n",
       "    }\n",
       "\n",
       "    .dataframe thead th {\n",
       "        text-align: right;\n",
       "    }\n",
       "</style>\n",
       "<table border=\"1\" class=\"dataframe\">\n",
       "  <thead>\n",
       "    <tr style=\"text-align: right;\">\n",
       "      <th></th>\n",
       "      <th>case_number</th>\n",
       "      <th>year</th>\n",
       "      <th>type</th>\n",
       "      <th>country</th>\n",
       "      <th>area</th>\n",
       "      <th>location</th>\n",
       "      <th>activity</th>\n",
       "      <th>name</th>\n",
       "      <th>age</th>\n",
       "      <th>time</th>\n",
       "      <th>species_</th>\n",
       "      <th>injury</th>\n",
       "      <th>fecha_limpia</th>\n",
       "      <th>fatal_clean</th>\n",
       "      <th>sexo</th>\n",
       "    </tr>\n",
       "  </thead>\n",
       "  <tbody>\n",
       "    <tr>\n",
       "      <th>0</th>\n",
       "      <td>1800.00.00</td>\n",
       "      <td>1800</td>\n",
       "      <td>Unprovoked</td>\n",
       "      <td>seychelles</td>\n",
       "      <td>St. Anne</td>\n",
       "      <td>NaN</td>\n",
       "      <td>a corsair's boat was overturned</td>\n",
       "      <td>NaN</td>\n",
       "      <td>NaN</td>\n",
       "      <td>NaN</td>\n",
       "      <td>NaN</td>\n",
       "      <td>FATAL, all onboard were killed by sharks</td>\n",
       "      <td>NaN</td>\n",
       "      <td>Y</td>\n",
       "      <td>F</td>\n",
       "    </tr>\n",
       "    <tr>\n",
       "      <th>1</th>\n",
       "      <td>1797.05.28.R</td>\n",
       "      <td>1797</td>\n",
       "      <td>Unprovoked</td>\n",
       "      <td>NaN</td>\n",
       "      <td>NaN</td>\n",
       "      <td>NaN</td>\n",
       "      <td>Dropped overboard</td>\n",
       "      <td>child</td>\n",
       "      <td>NaN</td>\n",
       "      <td>NaN</td>\n",
       "      <td>NaN</td>\n",
       "      <td>FATAL</td>\n",
       "      <td>May</td>\n",
       "      <td>Y</td>\n",
       "      <td>NaN</td>\n",
       "    </tr>\n",
       "    <tr>\n",
       "      <th>2</th>\n",
       "      <td>1792.09.12</td>\n",
       "      <td>1792</td>\n",
       "      <td>Provoked</td>\n",
       "      <td>england</td>\n",
       "      <td>NaN</td>\n",
       "      <td>On the Thames River</td>\n",
       "      <td>Fishing</td>\n",
       "      <td>male</td>\n",
       "      <td>NaN</td>\n",
       "      <td>NaN</td>\n",
       "      <td>NaN</td>\n",
       "      <td>FATAL, PROVOKED INCIDENT</td>\n",
       "      <td>Sep</td>\n",
       "      <td>Y</td>\n",
       "      <td>M</td>\n",
       "    </tr>\n",
       "  </tbody>\n",
       "</table>\n",
       "</div>"
      ],
      "text/plain": [
       "    case_number  year        type     country      area             location  \\\n",
       "0    1800.00.00  1800  Unprovoked  seychelles  St. Anne                  NaN   \n",
       "1  1797.05.28.R  1797  Unprovoked         NaN       NaN                  NaN   \n",
       "2    1792.09.12  1792    Provoked     england       NaN  On the Thames River   \n",
       "\n",
       "                          activity   name  age time species_  \\\n",
       "0  a corsair's boat was overturned    NaN  NaN  NaN      NaN   \n",
       "1                Dropped overboard  child  NaN  NaN      NaN   \n",
       "2                          Fishing   male  NaN  NaN      NaN   \n",
       "\n",
       "                                     injury fecha_limpia fatal_clean sexo  \n",
       "0  FATAL, all onboard were killed by sharks          NaN           Y    F  \n",
       "1                                     FATAL          May           Y  NaN  \n",
       "2                  FATAL, PROVOKED INCIDENT          Sep           Y    M  "
      ]
     },
     "execution_count": 2,
     "metadata": {},
     "output_type": "execute_result"
    }
   ],
   "source": [
    "df = pd.read_csv('utilizar_copia.csv', index_col=0)\n",
    "df.head(3)"
   ]
  },
  {
   "cell_type": "markdown",
   "metadata": {},
   "source": [
    "1. Establecer el tamaño de las figuras"
   ]
  },
  {
   "cell_type": "code",
   "execution_count": 3,
   "metadata": {},
   "outputs": [],
   "source": [
    "plt.rcParams[\"figure.figsize\"] = (15,10)"
   ]
  },
  {
   "cell_type": "markdown",
   "metadata": {},
   "source": [
    "2. Contestad las preguntas"
   ]
  },
  {
   "cell_type": "markdown",
   "metadata": {},
   "source": [
    "- ¿Cuántos ataques hubo por pais? ¿Se puede ver algo claro si ploteamos todos los paises? En caso de que no, seleccionad solo los 10 paises con más ataques y volved a hacer el plot."
   ]
  },
  {
   "cell_type": "code",
   "execution_count": 4,
   "metadata": {},
   "outputs": [
    {
     "data": {
      "text/plain": [
       "array(['seychelles', nan, 'england', 'australia', 'barbados', 'jamaica',\n",
       "       'martinique', 'usa', 'guinea', 'greenland', 'france', 'spain',\n",
       "       'mediterranean sea', 'cuba', 'sweden', 'panama', 'italy',\n",
       "       'iceland', 'roatan', 'india', 'between portugal & india',\n",
       "       'venezuela', 'mexico', 'greece', 'canada', 'kenya', 'uruguay',\n",
       "       'papua new guinea', 'bermuda', 'lebanon', 'sudan', 'djibouti',\n",
       "       'libya', 'new zealand', 'vietnam', 'sri lanka', 'mozambique',\n",
       "       'south africa', 'bahrein', 'bahamas', 'reunion', 'solomon islands',\n",
       "       'korea', 'french polynesia', 'vanuatu', 'iran', 'red sea?',\n",
       "       'singapore', 'fiji', 'iraq', 'madagascar', 'indonesia',\n",
       "       'nicaragua', 'marshall islands', 'kiribati', 'north pacific ocean',\n",
       "       'saudi arabia', 'pacific ocean', 'burma', 'belize', 'asia?',\n",
       "       'ceylon (sri lanka)', 'brazil', 'thailand', 'costa rica',\n",
       "       'maldives', 'new caledonia', 'ecuador', 'malaysia', 'mauritius',\n",
       "       'samoa', 'japan', 'egypt', 'st helena, british overseas territory',\n",
       "       'comoros', 'united kingdom', 'united arab emirates', 'philippines',\n",
       "       'china', 'columbia', 'cape verde', 'dominican republic',\n",
       "       'cayman islands', 'aruba', 'puerto rico', 'atlantic ocean',\n",
       "       'st. martin', 'trinidad & tobago', 'israel', 'diego garcia',\n",
       "       'taiwan', 'palestinian territories', 'guam', 'nigeria', 'tonga',\n",
       "       'scotland', 'croatia', 'chile', 'antigua', 'russia',\n",
       "       'turks & caicos', 'united arab emirates (uae)', 'azores',\n",
       "       'south korea', 'malta', 'somalia', 'nevis',\n",
       "       'british virgin islands', 'norway', 'senegal', 'yemen',\n",
       "       'gulf of aden', 'sierra leone', 'st. maartin', 'grand cayman',\n",
       "       'liberia', 'mexico ', ' tonga', 'micronesia', 'caribbean sea',\n",
       "       'okinawa', 'tanzania', 'egypt / israel', 'northern arabian sea',\n",
       "       'hong kong', 'el salvador', 'angola', 'montenegro', 'tunisia',\n",
       "       'namibia', 'north atlantic ocean', 'portugal', 'south china sea',\n",
       "       'bangladesh', 'palau', 'western samoa', 'pacific ocean ',\n",
       "       'british isles', 'grenada', 'turkey', 'new britain',\n",
       "       'johnston island', 'south pacific ocean', 'new guinea', 'red sea',\n",
       "       'federated states of micronesia', 'mid atlantic ocean',\n",
       "       'admiralty islands', 'british west indies', 'south atlantic ocean',\n",
       "       'persian gulf', 'red sea / indian ocean', 'north sea',\n",
       "       'nicaragua ', 'maldive islands', 'american samoa',\n",
       "       'andaman / nicobar islandas', 'gabon', 'mayotte',\n",
       "       'north atlantic ocean ', 'the balkans', 'sudan?', 'argentina',\n",
       "       'indian ocean', 'guatemala', 'netherlands antilles',\n",
       "       'northern mariana islands', 'iran / iraq', 'java', ' philippines',\n",
       "       'central pacific', 'solomon islands / vanuatu',\n",
       "       'southwest pacific ocean', 'bay of bengal', 'mid-pacifc ocean',\n",
       "       'slovenia', 'curacao', 'italy / croatia', 'honduras', 'monaco',\n",
       "       'guyana', 'haiti', 'san domingo', 'ireland', 'kuwait', 'yemen ',\n",
       "       'reunion island', 'falkland islands', 'crete', 'cyprus', 'egypt ',\n",
       "       'west indies', 'paraguay', 'british new guinea', 'ceylon', 'ocean',\n",
       "       'georgia', 'syria', 'tuvalu', 'indian ocean?', 'andaman islands',\n",
       "       'equatorial guinea / cameroon', 'cook islands', 'tobago', 'peru',\n",
       "       'africa', 'algeria', 'coast of africa', 'tasman sea', 'ghana'],\n",
       "      dtype=object)"
      ]
     },
     "execution_count": 4,
     "metadata": {},
     "output_type": "execute_result"
    }
   ],
   "source": [
    "df['country'].unique()"
   ]
  },
  {
   "cell_type": "code",
   "execution_count": 5,
   "metadata": {},
   "outputs": [
    {
     "name": "stderr",
     "output_type": "stream",
     "text": [
      "/home/adalaber/anaconda3/lib/python3.9/site-packages/seaborn/_decorators.py:36: FutureWarning: Pass the following variable as a keyword arg: x. From version 0.12, the only valid positional argument will be `data`, and passing other arguments without an explicit keyword will result in an error or misinterpretation.\n",
      "  warnings.warn(\n"
     ]
    },
    {
     "data": {
      "text/plain": [
       "<AxesSubplot:xlabel='country', ylabel='count'>"
      ]
     },
     "execution_count": 5,
     "metadata": {},
     "output_type": "execute_result"
    },
    {
     "data": {
      "image/png": "[encoded data removed]",
      "text/plain": [
       "<Figure size 1080x720 with 1 Axes>"
      ]
     },
     "metadata": {
      "needs_background": "light"
     },
     "output_type": "display_data"
    }
   ],
   "source": [
    "sns.countplot(df['country'])"
   ]
  },
  {
   "cell_type": "markdown",
   "metadata": {},
   "source": [
    "Como vemos en la gráfica eligiendo todos los paises de la columna, no se ve nada claro, por lo que pasaremos a elegir los 10 paises con más ataques para representarlo."
   ]
  },
  {
   "cell_type": "code",
   "execution_count": 6,
   "metadata": {},
   "outputs": [
    {
     "data": {
      "text/plain": [
       "usa                       2222\n",
       "australia                 1335\n",
       "south africa               577\n",
       "papua new guinea           134\n",
       "new zealand                127\n",
       "                          ... \n",
       "maldive islands              1\n",
       "nicaragua                    1\n",
       "north sea                    1\n",
       "red sea / indian ocean       1\n",
       "ghana                        1\n",
       "Name: country, Length: 209, dtype: int64"
      ]
     },
     "execution_count": 6,
     "metadata": {},
     "output_type": "execute_result"
    }
   ],
   "source": [
    "df['country'].value_counts()"
   ]
  },
  {
   "cell_type": "code",
   "execution_count": 7,
   "metadata": {},
   "outputs": [
    {
     "data": {
      "text/html": [
       "<div>\n",
       "<style scoped>\n",
       "    .dataframe tbody tr th:only-of-type {\n",
       "        vertical-align: middle;\n",
       "    }\n",
       "\n",
       "    .dataframe tbody tr th {\n",
       "        vertical-align: top;\n",
       "    }\n",
       "\n",
       "    .dataframe thead th {\n",
       "        text-align: right;\n",
       "    }\n",
       "</style>\n",
       "<table border=\"1\" class=\"dataframe\">\n",
       "  <thead>\n",
       "    <tr style=\"text-align: right;\">\n",
       "      <th></th>\n",
       "      <th>country</th>\n",
       "      <th>count</th>\n",
       "      <th>percent</th>\n",
       "      <th>cumulative_count</th>\n",
       "      <th>cumulative_percent</th>\n",
       "    </tr>\n",
       "  </thead>\n",
       "  <tbody>\n",
       "    <tr>\n",
       "      <th>0</th>\n",
       "      <td>usa</td>\n",
       "      <td>2222</td>\n",
       "      <td>35.643247</td>\n",
       "      <td>2222</td>\n",
       "      <td>35.643247</td>\n",
       "    </tr>\n",
       "    <tr>\n",
       "      <th>1</th>\n",
       "      <td>australia</td>\n",
       "      <td>1335</td>\n",
       "      <td>21.414822</td>\n",
       "      <td>3557</td>\n",
       "      <td>57.058069</td>\n",
       "    </tr>\n",
       "    <tr>\n",
       "      <th>2</th>\n",
       "      <td>south africa</td>\n",
       "      <td>577</td>\n",
       "      <td>9.255695</td>\n",
       "      <td>4134</td>\n",
       "      <td>66.313763</td>\n",
       "    </tr>\n",
       "    <tr>\n",
       "      <th>3</th>\n",
       "      <td>papua new guinea</td>\n",
       "      <td>134</td>\n",
       "      <td>2.149503</td>\n",
       "      <td>4268</td>\n",
       "      <td>68.463266</td>\n",
       "    </tr>\n",
       "    <tr>\n",
       "      <th>4</th>\n",
       "      <td>new zealand</td>\n",
       "      <td>127</td>\n",
       "      <td>2.037215</td>\n",
       "      <td>4395</td>\n",
       "      <td>70.500481</td>\n",
       "    </tr>\n",
       "    <tr>\n",
       "      <th>...</th>\n",
       "      <td>...</td>\n",
       "      <td>...</td>\n",
       "      <td>...</td>\n",
       "      <td>...</td>\n",
       "      <td>...</td>\n",
       "    </tr>\n",
       "    <tr>\n",
       "      <th>204</th>\n",
       "      <td>andaman / nicobar islandas</td>\n",
       "      <td>1</td>\n",
       "      <td>0.016041</td>\n",
       "      <td>6230</td>\n",
       "      <td>99.935836</td>\n",
       "    </tr>\n",
       "    <tr>\n",
       "      <th>205</th>\n",
       "      <td>algeria</td>\n",
       "      <td>1</td>\n",
       "      <td>0.016041</td>\n",
       "      <td>6231</td>\n",
       "      <td>99.951877</td>\n",
       "    </tr>\n",
       "    <tr>\n",
       "      <th>206</th>\n",
       "      <td>africa</td>\n",
       "      <td>1</td>\n",
       "      <td>0.016041</td>\n",
       "      <td>6232</td>\n",
       "      <td>99.967918</td>\n",
       "    </tr>\n",
       "    <tr>\n",
       "      <th>207</th>\n",
       "      <td>admiralty islands</td>\n",
       "      <td>1</td>\n",
       "      <td>0.016041</td>\n",
       "      <td>6233</td>\n",
       "      <td>99.983959</td>\n",
       "    </tr>\n",
       "    <tr>\n",
       "      <th>208</th>\n",
       "      <td>philippines</td>\n",
       "      <td>1</td>\n",
       "      <td>0.016041</td>\n",
       "      <td>6234</td>\n",
       "      <td>100.000000</td>\n",
       "    </tr>\n",
       "  </tbody>\n",
       "</table>\n",
       "<p>209 rows × 5 columns</p>\n",
       "</div>"
      ],
      "text/plain": [
       "                        country  count    percent  cumulative_count  \\\n",
       "0                           usa   2222  35.643247              2222   \n",
       "1                     australia   1335  21.414822              3557   \n",
       "2                  south africa    577   9.255695              4134   \n",
       "3              papua new guinea    134   2.149503              4268   \n",
       "4                   new zealand    127   2.037215              4395   \n",
       "..                          ...    ...        ...               ...   \n",
       "204  andaman / nicobar islandas      1   0.016041              6230   \n",
       "205                     algeria      1   0.016041              6231   \n",
       "206                      africa      1   0.016041              6232   \n",
       "207           admiralty islands      1   0.016041              6233   \n",
       "208                 philippines      1   0.016041              6234   \n",
       "\n",
       "     cumulative_percent  \n",
       "0             35.643247  \n",
       "1             57.058069  \n",
       "2             66.313763  \n",
       "3             68.463266  \n",
       "4             70.500481  \n",
       "..                  ...  \n",
       "204           99.935836  \n",
       "205           99.951877  \n",
       "206           99.967918  \n",
       "207           99.983959  \n",
       "208          100.000000  \n",
       "\n",
       "[209 rows x 5 columns]"
      ]
     },
     "execution_count": 7,
     "metadata": {},
     "output_type": "execute_result"
    }
   ],
   "source": [
    "df_country = df.stb.freq(['country'])\n",
    "df_country"
   ]
  },
  {
   "cell_type": "markdown",
   "metadata": {},
   "source": [
    "Vemos cuantas veces aparece cada pais."
   ]
  },
  {
   "cell_type": "code",
   "execution_count": 19,
   "metadata": {},
   "outputs": [
    {
     "data": {
      "text/html": [
       "<div>\n",
       "<style scoped>\n",
       "    .dataframe tbody tr th:only-of-type {\n",
       "        vertical-align: middle;\n",
       "    }\n",
       "\n",
       "    .dataframe tbody tr th {\n",
       "        vertical-align: top;\n",
       "    }\n",
       "\n",
       "    .dataframe thead th {\n",
       "        text-align: right;\n",
       "    }\n",
       "</style>\n",
       "<table border=\"1\" class=\"dataframe\">\n",
       "  <thead>\n",
       "    <tr style=\"text-align: right;\">\n",
       "      <th></th>\n",
       "      <th>country</th>\n",
       "      <th>count</th>\n",
       "      <th>percent</th>\n",
       "      <th>cumulative_count</th>\n",
       "      <th>cumulative_percent</th>\n",
       "    </tr>\n",
       "  </thead>\n",
       "  <tbody>\n",
       "    <tr>\n",
       "      <th>0</th>\n",
       "      <td>usa</td>\n",
       "      <td>2222</td>\n",
       "      <td>35.643247</td>\n",
       "      <td>2222</td>\n",
       "      <td>35.643247</td>\n",
       "    </tr>\n",
       "    <tr>\n",
       "      <th>1</th>\n",
       "      <td>australia</td>\n",
       "      <td>1335</td>\n",
       "      <td>21.414822</td>\n",
       "      <td>3557</td>\n",
       "      <td>57.058069</td>\n",
       "    </tr>\n",
       "    <tr>\n",
       "      <th>2</th>\n",
       "      <td>south africa</td>\n",
       "      <td>577</td>\n",
       "      <td>9.255695</td>\n",
       "      <td>4134</td>\n",
       "      <td>66.313763</td>\n",
       "    </tr>\n",
       "    <tr>\n",
       "      <th>3</th>\n",
       "      <td>papua new guinea</td>\n",
       "      <td>134</td>\n",
       "      <td>2.149503</td>\n",
       "      <td>4268</td>\n",
       "      <td>68.463266</td>\n",
       "    </tr>\n",
       "    <tr>\n",
       "      <th>4</th>\n",
       "      <td>new zealand</td>\n",
       "      <td>127</td>\n",
       "      <td>2.037215</td>\n",
       "      <td>4395</td>\n",
       "      <td>70.500481</td>\n",
       "    </tr>\n",
       "    <tr>\n",
       "      <th>5</th>\n",
       "      <td>brazil</td>\n",
       "      <td>112</td>\n",
       "      <td>1.796599</td>\n",
       "      <td>4507</td>\n",
       "      <td>72.297081</td>\n",
       "    </tr>\n",
       "    <tr>\n",
       "      <th>6</th>\n",
       "      <td>bahamas</td>\n",
       "      <td>109</td>\n",
       "      <td>1.748476</td>\n",
       "      <td>4616</td>\n",
       "      <td>74.045557</td>\n",
       "    </tr>\n",
       "    <tr>\n",
       "      <th>7</th>\n",
       "      <td>mexico</td>\n",
       "      <td>88</td>\n",
       "      <td>1.411614</td>\n",
       "      <td>4704</td>\n",
       "      <td>75.457170</td>\n",
       "    </tr>\n",
       "    <tr>\n",
       "      <th>8</th>\n",
       "      <td>italy</td>\n",
       "      <td>70</td>\n",
       "      <td>1.122875</td>\n",
       "      <td>4774</td>\n",
       "      <td>76.580045</td>\n",
       "    </tr>\n",
       "    <tr>\n",
       "      <th>9</th>\n",
       "      <td>fiji</td>\n",
       "      <td>65</td>\n",
       "      <td>1.042669</td>\n",
       "      <td>4839</td>\n",
       "      <td>77.622714</td>\n",
       "    </tr>\n",
       "  </tbody>\n",
       "</table>\n",
       "</div>"
      ],
      "text/plain": [
       "            country  count    percent  cumulative_count  cumulative_percent\n",
       "0               usa   2222  35.643247              2222           35.643247\n",
       "1         australia   1335  21.414822              3557           57.058069\n",
       "2      south africa    577   9.255695              4134           66.313763\n",
       "3  papua new guinea    134   2.149503              4268           68.463266\n",
       "4       new zealand    127   2.037215              4395           70.500481\n",
       "5            brazil    112   1.796599              4507           72.297081\n",
       "6           bahamas    109   1.748476              4616           74.045557\n",
       "7            mexico     88   1.411614              4704           75.457170\n",
       "8             italy     70   1.122875              4774           76.580045\n",
       "9              fiji     65   1.042669              4839           77.622714"
      ]
     },
     "execution_count": 19,
     "metadata": {},
     "output_type": "execute_result"
    }
   ],
   "source": [
    "df_country_10 = df_country[:10]\n",
    "df_country_10"
   ]
  },
  {
   "cell_type": "code",
   "execution_count": 17,
   "metadata": {},
   "outputs": [
    {
     "data": {
      "text/plain": [
       "['usa',\n",
       " 'australia',\n",
       " 'south africa',\n",
       " 'papua new guinea',\n",
       " 'new zealand',\n",
       " 'brazil',\n",
       " 'bahamas',\n",
       " 'mexico',\n",
       " 'italy',\n",
       " 'fiji']"
      ]
     },
     "execution_count": 17,
     "metadata": {},
     "output_type": "execute_result"
    }
   ],
   "source": [
    "lista_paises_10 = list(df_country_10['country'])\n",
    "lista_paises_10"
   ]
  },
  {
   "cell_type": "code",
   "execution_count": 25,
   "metadata": {},
   "outputs": [],
   "source": [
    "df_country_10_2 = df[df['country'].isin(lista_paises_10)]\n"
   ]
  },
  {
   "cell_type": "code",
   "execution_count": 26,
   "metadata": {},
   "outputs": [
    {
     "data": {
      "text/html": [
       "<div>\n",
       "<style scoped>\n",
       "    .dataframe tbody tr th:only-of-type {\n",
       "        vertical-align: middle;\n",
       "    }\n",
       "\n",
       "    .dataframe tbody tr th {\n",
       "        vertical-align: top;\n",
       "    }\n",
       "\n",
       "    .dataframe thead th {\n",
       "        text-align: right;\n",
       "    }\n",
       "</style>\n",
       "<table border=\"1\" class=\"dataframe\">\n",
       "  <thead>\n",
       "    <tr style=\"text-align: right;\">\n",
       "      <th></th>\n",
       "      <th>case_number</th>\n",
       "      <th>year</th>\n",
       "      <th>type</th>\n",
       "      <th>country</th>\n",
       "      <th>area</th>\n",
       "      <th>location</th>\n",
       "      <th>activity</th>\n",
       "      <th>name</th>\n",
       "      <th>age</th>\n",
       "      <th>time</th>\n",
       "      <th>species_</th>\n",
       "      <th>injury</th>\n",
       "      <th>fecha_limpia</th>\n",
       "      <th>fatal_clean</th>\n",
       "      <th>sexo</th>\n",
       "    </tr>\n",
       "  </thead>\n",
       "  <tbody>\n",
       "    <tr>\n",
       "      <th>3</th>\n",
       "      <td>1791.00.00</td>\n",
       "      <td>1791</td>\n",
       "      <td>Unprovoked</td>\n",
       "      <td>australia</td>\n",
       "      <td>New South Wales</td>\n",
       "      <td>Port Jackson</td>\n",
       "      <td>NaN</td>\n",
       "      <td>female, an Australian aboriginal</td>\n",
       "      <td>NaN</td>\n",
       "      <td>NaN</td>\n",
       "      <td>NaN</td>\n",
       "      <td>FATAL, \"bitten in two\"</td>\n",
       "      <td>NaN</td>\n",
       "      <td>Y</td>\n",
       "      <td>F</td>\n",
       "    </tr>\n",
       "    <tr>\n",
       "      <th>4</th>\n",
       "      <td>1788.05.10</td>\n",
       "      <td>1788</td>\n",
       "      <td>Boat</td>\n",
       "      <td>australia</td>\n",
       "      <td>New South Wales</td>\n",
       "      <td>Sydney Harbor</td>\n",
       "      <td>Fishing</td>\n",
       "      <td>boat</td>\n",
       "      <td>NaN</td>\n",
       "      <td>NaN</td>\n",
       "      <td>NaN</td>\n",
       "      <td>No injury to occupants, shark bit oar and rudder</td>\n",
       "      <td>May</td>\n",
       "      <td>N</td>\n",
       "      <td>NaN</td>\n",
       "    </tr>\n",
       "    <tr>\n",
       "      <th>10</th>\n",
       "      <td>1780.08.08</td>\n",
       "      <td>1780</td>\n",
       "      <td>Unprovoked</td>\n",
       "      <td>usa</td>\n",
       "      <td>Florida</td>\n",
       "      <td>Pensacola Harbor, Escambia County</td>\n",
       "      <td>Swimming</td>\n",
       "      <td>Joseph Feron</td>\n",
       "      <td>NaN</td>\n",
       "      <td>NaN</td>\n",
       "      <td>NaN</td>\n",
       "      <td>FATAL</td>\n",
       "      <td>Aug</td>\n",
       "      <td>Y</td>\n",
       "      <td>M</td>\n",
       "    </tr>\n",
       "    <tr>\n",
       "      <th>11</th>\n",
       "      <td>1779.00.00</td>\n",
       "      <td>1779</td>\n",
       "      <td>Unprovoked</td>\n",
       "      <td>usa</td>\n",
       "      <td>Hawaii</td>\n",
       "      <td>Maliu, Hawai'i</td>\n",
       "      <td>Surfing</td>\n",
       "      <td>Nu'u-anu-pa'a hu</td>\n",
       "      <td>young</td>\n",
       "      <td>NaN</td>\n",
       "      <td>NaN</td>\n",
       "      <td>FATAL, buttock lacerated</td>\n",
       "      <td>NaN</td>\n",
       "      <td>Y</td>\n",
       "      <td>M</td>\n",
       "    </tr>\n",
       "    <tr>\n",
       "      <th>14</th>\n",
       "      <td>1771.07.12.R</td>\n",
       "      <td>1771</td>\n",
       "      <td>Unprovoked</td>\n",
       "      <td>usa</td>\n",
       "      <td>NaN</td>\n",
       "      <td>Damiscotte</td>\n",
       "      <td>Fishing</td>\n",
       "      <td>male</td>\n",
       "      <td>NaN</td>\n",
       "      <td>NaN</td>\n",
       "      <td>NaN</td>\n",
       "      <td>FATAL</td>\n",
       "      <td>Jul</td>\n",
       "      <td>Y</td>\n",
       "      <td>M</td>\n",
       "    </tr>\n",
       "  </tbody>\n",
       "</table>\n",
       "</div>"
      ],
      "text/plain": [
       "     case_number  year        type    country             area  \\\n",
       "3     1791.00.00  1791  Unprovoked  australia  New South Wales   \n",
       "4     1788.05.10  1788        Boat  australia  New South Wales   \n",
       "10    1780.08.08  1780  Unprovoked        usa          Florida   \n",
       "11    1779.00.00  1779  Unprovoked        usa           Hawaii   \n",
       "14  1771.07.12.R  1771  Unprovoked        usa              NaN   \n",
       "\n",
       "                             location  activity  \\\n",
       "3                        Port Jackson       NaN   \n",
       "4                       Sydney Harbor   Fishing   \n",
       "10  Pensacola Harbor, Escambia County  Swimming   \n",
       "11                     Maliu, Hawai'i   Surfing   \n",
       "14                         Damiscotte   Fishing   \n",
       "\n",
       "                                name    age time species_  \\\n",
       "3   female, an Australian aboriginal    NaN  NaN      NaN   \n",
       "4                               boat    NaN  NaN      NaN   \n",
       "10                      Joseph Feron    NaN  NaN      NaN   \n",
       "11                  Nu'u-anu-pa'a hu  young  NaN      NaN   \n",
       "14                              male    NaN  NaN      NaN   \n",
       "\n",
       "                                              injury fecha_limpia fatal_clean  \\\n",
       "3                             FATAL, \"bitten in two\"          NaN           Y   \n",
       "4   No injury to occupants, shark bit oar and rudder          May           N   \n",
       "10                                             FATAL          Aug           Y   \n",
       "11                        FATAL, buttock lacerated            NaN           Y   \n",
       "14                                             FATAL          Jul           Y   \n",
       "\n",
       "   sexo  \n",
       "3     F  \n",
       "4   NaN  \n",
       "10    M  \n",
       "11    M  \n",
       "14    M  "
      ]
     },
     "execution_count": 26,
     "metadata": {},
     "output_type": "execute_result"
    }
   ],
   "source": [
    "df_country_10_2.head()"
   ]
  },
  {
   "cell_type": "code",
   "execution_count": 27,
   "metadata": {},
   "outputs": [
    {
     "data": {
      "text/plain": [
       "array(['australia', 'usa', 'italy', 'mexico', 'papua new guinea',\n",
       "       'new zealand', 'south africa', 'bahamas', 'fiji', 'brazil'],\n",
       "      dtype=object)"
      ]
     },
     "execution_count": 27,
     "metadata": {},
     "output_type": "execute_result"
    }
   ],
   "source": [
    "#Comprobamos que estan solo los 10 paises\n",
    "df_country_10_2['country'].unique()"
   ]
  },
  {
   "cell_type": "code",
   "execution_count": 28,
   "metadata": {},
   "outputs": [
    {
     "data": {
      "text/plain": [
       "case_number     object\n",
       "year             int64\n",
       "type            object\n",
       "country         object\n",
       "area            object\n",
       "location        object\n",
       "activity        object\n",
       "name            object\n",
       "age             object\n",
       "time            object\n",
       "species_        object\n",
       "injury          object\n",
       "fecha_limpia    object\n",
       "fatal_clean     object\n",
       "sexo            object\n",
       "dtype: object"
      ]
     },
     "execution_count": 28,
     "metadata": {},
     "output_type": "execute_result"
    }
   ],
   "source": [
    "df_country_10_2.dtypes"
   ]
  },
  {
   "cell_type": "markdown",
   "metadata": {},
   "source": [
    "Para quedarnos con los 10 mayores, como en esta tabla ya aparecen ordenados de mayor a menor, podemos filtrar directamente por índice."
   ]
  },
  {
   "cell_type": "code",
   "execution_count": 36,
   "metadata": {},
   "outputs": [
    {
     "name": "stderr",
     "output_type": "stream",
     "text": [
      "/home/adalaber/anaconda3/lib/python3.9/site-packages/seaborn/_decorators.py:36: FutureWarning: Pass the following variables as keyword args: x, y. From version 0.12, the only valid positional argument will be `data`, and passing other arguments without an explicit keyword will result in an error or misinterpretation.\n",
      "  warnings.warn(\n"
     ]
    },
    {
     "data": {
      "text/plain": [
       "<AxesSubplot:xlabel='country', ylabel='count'>"
      ]
     },
     "execution_count": 36,
     "metadata": {},
     "output_type": "execute_result"
    },
    {
     "data": {
      "image/png": "[encoded data removed]",
      "text/plain": [
       "<Figure size 1080x720 with 1 Axes>"
      ]
     },
     "metadata": {
      "needs_background": "light"
     },
     "output_type": "display_data"
    }
   ],
   "source": [
    "sns.barplot(df_country_10['country'], df_country_10['count'])"
   ]
  },
  {
   "cell_type": "markdown",
   "metadata": {},
   "source": [
    "Hemos decidido usar un gráfico barplot ya que calculamos la frecuencia previamente, si no hubieramos utilizado un histograma."
   ]
  },
  {
   "cell_type": "code",
   "execution_count": 40,
   "metadata": {},
   "outputs": [
    {
     "name": "stderr",
     "output_type": "stream",
     "text": [
      "/home/adalaber/anaconda3/lib/python3.9/site-packages/seaborn/_decorators.py:36: FutureWarning: Pass the following variables as keyword args: x, y. From version 0.12, the only valid positional argument will be `data`, and passing other arguments without an explicit keyword will result in an error or misinterpretation.\n",
      "  warnings.warn(\n"
     ]
    },
    {
     "data": {
      "image/png": "[encoded data removed]",
      "text/plain": [
       "<Figure size 1080x720 with 1 Axes>"
      ]
     },
     "metadata": {
      "needs_background": "light"
     },
     "output_type": "display_data"
    }
   ],
   "source": [
    "sns.pointplot(df_country_10['country'], df_country_10['count'])"
   ]
  },
  {
   "cell_type": "markdown",
   "metadata": {},
   "source": [
    "Añadimos también este gráfico porque creemos que es interesante observar como disminuye la frecuencia por pais."
   ]
  },
  {
   "cell_type": "markdown",
   "metadata": {},
   "source": [
    "- Usando el DataFrame de los 10 paises con más ataques, ¿hay diferencias entre sexos en esos paises?"
   ]
  },
  {
   "cell_type": "code",
   "execution_count": 29,
   "metadata": {},
   "outputs": [
    {
     "data": {
      "text/html": [
       "<div>\n",
       "<style scoped>\n",
       "    .dataframe tbody tr th:only-of-type {\n",
       "        vertical-align: middle;\n",
       "    }\n",
       "\n",
       "    .dataframe tbody tr th {\n",
       "        vertical-align: top;\n",
       "    }\n",
       "\n",
       "    .dataframe thead th {\n",
       "        text-align: right;\n",
       "    }\n",
       "</style>\n",
       "<table border=\"1\" class=\"dataframe\">\n",
       "  <thead>\n",
       "    <tr style=\"text-align: right;\">\n",
       "      <th></th>\n",
       "      <th>0</th>\n",
       "      <th>1</th>\n",
       "    </tr>\n",
       "  </thead>\n",
       "  <tbody>\n",
       "    <tr>\n",
       "      <th>0</th>\n",
       "      <td>F</td>\n",
       "      <td>case_number  year        type    countr...</td>\n",
       "    </tr>\n",
       "    <tr>\n",
       "      <th>1</th>\n",
       "      <td>M</td>\n",
       "      <td>case_number  year          type    coun...</td>\n",
       "    </tr>\n",
       "  </tbody>\n",
       "</table>\n",
       "</div>"
      ],
      "text/plain": [
       "   0                                                  1\n",
       "0  F         case_number  year        type    countr...\n",
       "1  M         case_number  year          type    coun..."
      ]
     },
     "execution_count": 29,
     "metadata": {},
     "output_type": "execute_result"
    }
   ],
   "source": [
    "df_sex_10 = pd.DataFrame(df_country_10_2.groupby('sexo'))\n",
    "df_sex_10"
   ]
  },
  {
   "cell_type": "code",
   "execution_count": null,
   "metadata": {},
   "outputs": [],
   "source": [
    "sns.countplot(df_country_10['country'], hue= 'sexo')"
   ]
  },
  {
   "cell_type": "markdown",
   "metadata": {},
   "source": [
    "- ¿Qué edad recibe mayor número de ataques? Pista: usa cut"
   ]
  },
  {
   "cell_type": "markdown",
   "metadata": {},
   "source": [
    "Tambien quitar las letritas del principio de cada grafica con ;"
   ]
  },
  {
   "cell_type": "code",
   "execution_count": 63,
   "metadata": {},
   "outputs": [
    {
     "ename": "SyntaxError",
     "evalue": "invalid syntax (3774315420.py, line 5)",
     "output_type": "error",
     "traceback": [
      "\u001b[0;36m  File \u001b[0;32m\"/tmp/ipykernel_17253/3774315420.py\"\u001b[0;36m, line \u001b[0;32m5\u001b[0m\n\u001b[0;31m    df['age']np.nan\u001b[0m\n\u001b[0m             ^\u001b[0m\n\u001b[0;31mSyntaxError\u001b[0m\u001b[0;31m:\u001b[0m invalid syntax\n"
     ]
    }
   ],
   "source": [
    "#Es lo que necesitamos para el pair de limpieza\n",
    "\n",
    "\n",
    "for i in df['age']:\n",
    "    try:\n",
    "        i.astype('int64', copy=True, errors='raise')  \n",
    "    except:\n",
    "        i np.nan"
   ]
  },
  {
   "cell_type": "code",
   "execution_count": 60,
   "metadata": {},
   "outputs": [
    {
     "data": {
      "text/plain": [
       "count     3464\n",
       "unique     157\n",
       "top         17\n",
       "freq       154\n",
       "Name: age, dtype: object"
      ]
     },
     "execution_count": 60,
     "metadata": {},
     "output_type": "execute_result"
    }
   ],
   "source": [
    "df['age'].describe()"
   ]
  },
  {
   "cell_type": "code",
   "execution_count": null,
   "metadata": {},
   "outputs": [],
   "source": [
    "np.arange()"
   ]
  }
 ],
 "metadata": {
  "interpreter": {
   "hash": "0620710c65b0f5ccc651a2aa8870ae0eb4c70492424a8d7866846658189426a3"
  },
  "kernelspec": {
   "display_name": "Python 3.9.7 ('base')",
   "language": "python",
   "name": "python3"
  },
  "language_info": {
   "codemirror_mode": {
    "name": "ipython",
    "version": 3
   },
   "file_extension": ".py",
   "mimetype": "text/x-python",
   "name": "python",
   "nbconvert_exporter": "python",
   "pygments_lexer": "ipython3",
   "version": "3.9.7"
  },
  "orig_nbformat": 4
 },
 "nbformat": 4,
 "nbformat_minor": 2
}
