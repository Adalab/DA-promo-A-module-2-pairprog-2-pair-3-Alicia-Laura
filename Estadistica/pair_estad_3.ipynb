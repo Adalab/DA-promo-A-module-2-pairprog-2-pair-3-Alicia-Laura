{
 "cells": [
  {
   "cell_type": "code",
   "execution_count": 85,
   "metadata": {},
   "outputs": [],
   "source": [
    "import pandas as pd\n",
    "import numpy as np\n",
    "import seaborn as sns\n",
    "from scipy.stats import skew\n",
    "import matplotlib.pyplot as plt\n",
    "import scipy.stats as st"
   ]
  },
  {
   "cell_type": "code",
   "execution_count": null,
   "metadata": {},
   "outputs": [],
   "source": [
    "Coeficiente de correlacón de las variables numéricas del dataset.\n",
    "Sesgos de alguna de las variables numéricas del dataset.\n",
    "Intervalo de confianza de algunas de las variables numéricas del dataset\n",
    "Interpretación de los resultados.\n",
    "Ahora interpreta los resultados obtenidos de los diferentes estadísticos estudiados haciendo incapié en aspectos interesantes de tus datos y explica lo mejor \n",
    "posible la naturaleza de los mismos."
   ]
  },
  {
   "cell_type": "code",
   "execution_count": 2,
   "metadata": {},
   "outputs": [
    {
     "data": {
      "text/html": [
       "<div>\n",
       "<style scoped>\n",
       "    .dataframe tbody tr th:only-of-type {\n",
       "        vertical-align: middle;\n",
       "    }\n",
       "\n",
       "    .dataframe tbody tr th {\n",
       "        vertical-align: top;\n",
       "    }\n",
       "\n",
       "    .dataframe thead th {\n",
       "        text-align: right;\n",
       "    }\n",
       "</style>\n",
       "<table border=\"1\" class=\"dataframe\">\n",
       "  <thead>\n",
       "    <tr style=\"text-align: right;\">\n",
       "      <th></th>\n",
       "      <th>Name</th>\n",
       "      <th>Author</th>\n",
       "      <th>User Rating</th>\n",
       "      <th>Reviews</th>\n",
       "      <th>Price</th>\n",
       "      <th>Year</th>\n",
       "      <th>Genre</th>\n",
       "    </tr>\n",
       "  </thead>\n",
       "  <tbody>\n",
       "    <tr>\n",
       "      <th>0</th>\n",
       "      <td>10-Day Green Smoothie Cleanse</td>\n",
       "      <td>JJ Smith</td>\n",
       "      <td>4.7</td>\n",
       "      <td>17350</td>\n",
       "      <td>8</td>\n",
       "      <td>2016</td>\n",
       "      <td>Non Fiction</td>\n",
       "    </tr>\n",
       "    <tr>\n",
       "      <th>1</th>\n",
       "      <td>11/22/63: A Novel</td>\n",
       "      <td>Stephen King</td>\n",
       "      <td>4.6</td>\n",
       "      <td>2052</td>\n",
       "      <td>22</td>\n",
       "      <td>2011</td>\n",
       "      <td>Fiction</td>\n",
       "    </tr>\n",
       "  </tbody>\n",
       "</table>\n",
       "</div>"
      ],
      "text/plain": [
       "                            Name        Author  User Rating  Reviews  Price  \\\n",
       "0  10-Day Green Smoothie Cleanse      JJ Smith          4.7    17350      8   \n",
       "1              11/22/63: A Novel  Stephen King          4.6     2052     22   \n",
       "\n",
       "   Year        Genre  \n",
       "0  2016  Non Fiction  \n",
       "1  2011      Fiction  "
      ]
     },
     "execution_count": 2,
     "metadata": {},
     "output_type": "execute_result"
    }
   ],
   "source": [
    "df = pd.read_csv(\"books.csv\")\n",
    "df.head(2)"
   ]
  },
  {
   "cell_type": "markdown",
   "metadata": {},
   "source": [
    "Hacemos una copia de nuestro df para utilizarlo en algunos ejercicios."
   ]
  },
  {
   "cell_type": "code",
   "execution_count": 3,
   "metadata": {},
   "outputs": [],
   "source": [
    "df_copia = df.copy()"
   ]
  },
  {
   "cell_type": "markdown",
   "metadata": {},
   "source": [
    "# Ejercicio 1"
   ]
  },
  {
   "cell_type": "markdown",
   "metadata": {},
   "source": [
    "- Tablas de contigencia"
   ]
  },
  {
   "cell_type": "code",
   "execution_count": 4,
   "metadata": {},
   "outputs": [
    {
     "data": {
      "text/plain": [
       "3.3"
      ]
     },
     "execution_count": 4,
     "metadata": {},
     "output_type": "execute_result"
    }
   ],
   "source": [
    "min = df[\"User Rating\"].describe()[3]\n",
    "min"
   ]
  },
  {
   "cell_type": "code",
   "execution_count": 5,
   "metadata": {},
   "outputs": [
    {
     "data": {
      "text/plain": [
       "4.8"
      ]
     },
     "execution_count": 5,
     "metadata": {},
     "output_type": "execute_result"
    }
   ],
   "source": [
    "max = df[\"User Rating\"].describe()[6]\n",
    "max"
   ]
  },
  {
   "cell_type": "markdown",
   "metadata": {},
   "source": [
    "Obtengo el valor mín y max de mi columna saber el rango en el que varía sus datos y así calcular los diferentes intervalos de datos (bins)"
   ]
  },
  {
   "cell_type": "code",
   "execution_count": 6,
   "metadata": {},
   "outputs": [
    {
     "data": {
      "text/plain": [
       "array([2.8, 3.3, 3.8, 4.3, 4.8, 5.3])"
      ]
     },
     "execution_count": 6,
     "metadata": {},
     "output_type": "execute_result"
    }
   ],
   "source": [
    "bins = np.arange(min-0.5,max+1, 0.50)\n",
    "bins"
   ]
  },
  {
   "cell_type": "code",
   "execution_count": 7,
   "metadata": {},
   "outputs": [
    {
     "data": {
      "text/html": [
       "<div>\n",
       "<style scoped>\n",
       "    .dataframe tbody tr th:only-of-type {\n",
       "        vertical-align: middle;\n",
       "    }\n",
       "\n",
       "    .dataframe tbody tr th {\n",
       "        vertical-align: top;\n",
       "    }\n",
       "\n",
       "    .dataframe thead th {\n",
       "        text-align: right;\n",
       "    }\n",
       "</style>\n",
       "<table border=\"1\" class=\"dataframe\">\n",
       "  <thead>\n",
       "    <tr style=\"text-align: right;\">\n",
       "      <th></th>\n",
       "      <th>Name</th>\n",
       "      <th>Author</th>\n",
       "      <th>User Rating</th>\n",
       "      <th>Reviews</th>\n",
       "      <th>Price</th>\n",
       "      <th>Year</th>\n",
       "      <th>Genre</th>\n",
       "      <th>User_rating_group</th>\n",
       "    </tr>\n",
       "  </thead>\n",
       "  <tbody>\n",
       "    <tr>\n",
       "      <th>337</th>\n",
       "      <td>The 7 Habits of Highly Effective People: Power...</td>\n",
       "      <td>Stephen R. Covey</td>\n",
       "      <td>4.7</td>\n",
       "      <td>4725</td>\n",
       "      <td>16</td>\n",
       "      <td>2017</td>\n",
       "      <td>Non Fiction</td>\n",
       "      <td>(4.3, 4.8]</td>\n",
       "    </tr>\n",
       "    <tr>\n",
       "      <th>420</th>\n",
       "      <td>The Legend of Zelda: Hyrule Historia</td>\n",
       "      <td>Patrick Thorpe</td>\n",
       "      <td>4.9</td>\n",
       "      <td>5396</td>\n",
       "      <td>20</td>\n",
       "      <td>2013</td>\n",
       "      <td>Fiction</td>\n",
       "      <td>(4.8, 5.3]</td>\n",
       "    </tr>\n",
       "    <tr>\n",
       "      <th>200</th>\n",
       "      <td>Killing Patton: The Strange Death of World War...</td>\n",
       "      <td>Bill O'Reilly</td>\n",
       "      <td>4.6</td>\n",
       "      <td>10927</td>\n",
       "      <td>6</td>\n",
       "      <td>2014</td>\n",
       "      <td>Non Fiction</td>\n",
       "      <td>(4.3, 4.8]</td>\n",
       "    </tr>\n",
       "    <tr>\n",
       "      <th>471</th>\n",
       "      <td>The Tipping Point: How Little Things Can Make ...</td>\n",
       "      <td>Malcolm Gladwell</td>\n",
       "      <td>4.4</td>\n",
       "      <td>3503</td>\n",
       "      <td>9</td>\n",
       "      <td>2009</td>\n",
       "      <td>Non Fiction</td>\n",
       "      <td>(4.3, 4.8]</td>\n",
       "    </tr>\n",
       "    <tr>\n",
       "      <th>466</th>\n",
       "      <td>The Subtle Art of Not Giving a F*ck: A Counter...</td>\n",
       "      <td>Mark Manson</td>\n",
       "      <td>4.6</td>\n",
       "      <td>26490</td>\n",
       "      <td>15</td>\n",
       "      <td>2019</td>\n",
       "      <td>Non Fiction</td>\n",
       "      <td>(4.3, 4.8]</td>\n",
       "    </tr>\n",
       "    <tr>\n",
       "      <th>268</th>\n",
       "      <td>Pokémon Deluxe Essential Handbook: The Need-to...</td>\n",
       "      <td>Scholastic</td>\n",
       "      <td>4.7</td>\n",
       "      <td>3503</td>\n",
       "      <td>9</td>\n",
       "      <td>2016</td>\n",
       "      <td>Fiction</td>\n",
       "      <td>(4.3, 4.8]</td>\n",
       "    </tr>\n",
       "    <tr>\n",
       "      <th>19</th>\n",
       "      <td>Alexander Hamilton</td>\n",
       "      <td>Ron Chernow</td>\n",
       "      <td>4.8</td>\n",
       "      <td>9198</td>\n",
       "      <td>13</td>\n",
       "      <td>2016</td>\n",
       "      <td>Non Fiction</td>\n",
       "      <td>(4.3, 4.8]</td>\n",
       "    </tr>\n",
       "    <tr>\n",
       "      <th>13</th>\n",
       "      <td>A Wrinkle in Time (Time Quintet)</td>\n",
       "      <td>Madeleine L'Engle</td>\n",
       "      <td>4.5</td>\n",
       "      <td>5153</td>\n",
       "      <td>5</td>\n",
       "      <td>2018</td>\n",
       "      <td>Fiction</td>\n",
       "      <td>(4.3, 4.8]</td>\n",
       "    </tr>\n",
       "    <tr>\n",
       "      <th>424</th>\n",
       "      <td>The Life-Changing Magic of Tidying Up: The Jap...</td>\n",
       "      <td>Marie Kondō</td>\n",
       "      <td>4.5</td>\n",
       "      <td>22641</td>\n",
       "      <td>11</td>\n",
       "      <td>2016</td>\n",
       "      <td>Non Fiction</td>\n",
       "      <td>(4.3, 4.8]</td>\n",
       "    </tr>\n",
       "    <tr>\n",
       "      <th>533</th>\n",
       "      <td>When Breath Becomes Air</td>\n",
       "      <td>Paul Kalanithi</td>\n",
       "      <td>4.8</td>\n",
       "      <td>13779</td>\n",
       "      <td>14</td>\n",
       "      <td>2016</td>\n",
       "      <td>Non Fiction</td>\n",
       "      <td>(4.3, 4.8]</td>\n",
       "    </tr>\n",
       "    <tr>\n",
       "      <th>514</th>\n",
       "      <td>Ultimate Sticker Book: Frozen: More Than 60 Re...</td>\n",
       "      <td>DK</td>\n",
       "      <td>4.5</td>\n",
       "      <td>2586</td>\n",
       "      <td>5</td>\n",
       "      <td>2014</td>\n",
       "      <td>Fiction</td>\n",
       "      <td>(4.3, 4.8]</td>\n",
       "    </tr>\n",
       "    <tr>\n",
       "      <th>178</th>\n",
       "      <td>If Animals Kissed Good Night</td>\n",
       "      <td>Ann Whitford Paul</td>\n",
       "      <td>4.8</td>\n",
       "      <td>16643</td>\n",
       "      <td>4</td>\n",
       "      <td>2017</td>\n",
       "      <td>Fiction</td>\n",
       "      <td>(4.3, 4.8]</td>\n",
       "    </tr>\n",
       "    <tr>\n",
       "      <th>49</th>\n",
       "      <td>Cravings: Recipes for All the Food You Want to...</td>\n",
       "      <td>Chrissy Teigen</td>\n",
       "      <td>4.7</td>\n",
       "      <td>4761</td>\n",
       "      <td>16</td>\n",
       "      <td>2016</td>\n",
       "      <td>Non Fiction</td>\n",
       "      <td>(4.3, 4.8]</td>\n",
       "    </tr>\n",
       "    <tr>\n",
       "      <th>440</th>\n",
       "      <td>The Official SAT Study Guide</td>\n",
       "      <td>The College Board</td>\n",
       "      <td>4.4</td>\n",
       "      <td>1201</td>\n",
       "      <td>40</td>\n",
       "      <td>2011</td>\n",
       "      <td>Non Fiction</td>\n",
       "      <td>(4.3, 4.8]</td>\n",
       "    </tr>\n",
       "    <tr>\n",
       "      <th>385</th>\n",
       "      <td>The Girl Who Kicked the Hornet's Nest (Millenn...</td>\n",
       "      <td>Stieg Larsson</td>\n",
       "      <td>4.7</td>\n",
       "      <td>7747</td>\n",
       "      <td>14</td>\n",
       "      <td>2011</td>\n",
       "      <td>Fiction</td>\n",
       "      <td>(4.3, 4.8]</td>\n",
       "    </tr>\n",
       "    <tr>\n",
       "      <th>506</th>\n",
       "      <td>To Kill a Mockingbird</td>\n",
       "      <td>Harper Lee</td>\n",
       "      <td>4.8</td>\n",
       "      <td>26234</td>\n",
       "      <td>0</td>\n",
       "      <td>2014</td>\n",
       "      <td>Fiction</td>\n",
       "      <td>(4.3, 4.8]</td>\n",
       "    </tr>\n",
       "    <tr>\n",
       "      <th>93</th>\n",
       "      <td>Eat to Live: The Amazing Nutrient-Rich Program...</td>\n",
       "      <td>Joel Fuhrman MD</td>\n",
       "      <td>4.5</td>\n",
       "      <td>6346</td>\n",
       "      <td>9</td>\n",
       "      <td>2011</td>\n",
       "      <td>Non Fiction</td>\n",
       "      <td>(4.3, 4.8]</td>\n",
       "    </tr>\n",
       "    <tr>\n",
       "      <th>246</th>\n",
       "      <td>Oh, the Places You'll Go!</td>\n",
       "      <td>Dr. Seuss</td>\n",
       "      <td>4.9</td>\n",
       "      <td>21834</td>\n",
       "      <td>8</td>\n",
       "      <td>2013</td>\n",
       "      <td>Fiction</td>\n",
       "      <td>(4.8, 5.3]</td>\n",
       "    </tr>\n",
       "    <tr>\n",
       "      <th>376</th>\n",
       "      <td>The Four Agreements: A Practical Guide to Pers...</td>\n",
       "      <td>Don Miguel Ruiz</td>\n",
       "      <td>4.7</td>\n",
       "      <td>23308</td>\n",
       "      <td>6</td>\n",
       "      <td>2015</td>\n",
       "      <td>Non Fiction</td>\n",
       "      <td>(4.3, 4.8]</td>\n",
       "    </tr>\n",
       "    <tr>\n",
       "      <th>230</th>\n",
       "      <td>Milk and Honey</td>\n",
       "      <td>Rupi Kaur</td>\n",
       "      <td>4.7</td>\n",
       "      <td>17739</td>\n",
       "      <td>8</td>\n",
       "      <td>2017</td>\n",
       "      <td>Non Fiction</td>\n",
       "      <td>(4.3, 4.8]</td>\n",
       "    </tr>\n",
       "    <tr>\n",
       "      <th>432</th>\n",
       "      <td>The Mark of Athena (Heroes of Olympus, Book 3)</td>\n",
       "      <td>Rick Riordan</td>\n",
       "      <td>4.8</td>\n",
       "      <td>6247</td>\n",
       "      <td>10</td>\n",
       "      <td>2012</td>\n",
       "      <td>Fiction</td>\n",
       "      <td>(4.3, 4.8]</td>\n",
       "    </tr>\n",
       "    <tr>\n",
       "      <th>180</th>\n",
       "      <td>If I Stay</td>\n",
       "      <td>Gayle Forman</td>\n",
       "      <td>4.3</td>\n",
       "      <td>7153</td>\n",
       "      <td>9</td>\n",
       "      <td>2014</td>\n",
       "      <td>Fiction</td>\n",
       "      <td>(3.8, 4.3]</td>\n",
       "    </tr>\n",
       "    <tr>\n",
       "      <th>138</th>\n",
       "      <td>Good Days Start With Gratitude: A 52 Week Guid...</td>\n",
       "      <td>Pretty Simple Press</td>\n",
       "      <td>4.6</td>\n",
       "      <td>10141</td>\n",
       "      <td>6</td>\n",
       "      <td>2019</td>\n",
       "      <td>Non Fiction</td>\n",
       "      <td>(4.3, 4.8]</td>\n",
       "    </tr>\n",
       "    <tr>\n",
       "      <th>496</th>\n",
       "      <td>Thirteen Reasons Why</td>\n",
       "      <td>Jay Asher</td>\n",
       "      <td>4.5</td>\n",
       "      <td>7932</td>\n",
       "      <td>9</td>\n",
       "      <td>2017</td>\n",
       "      <td>Fiction</td>\n",
       "      <td>(4.3, 4.8]</td>\n",
       "    </tr>\n",
       "    <tr>\n",
       "      <th>43</th>\n",
       "      <td>Calm the F*ck Down: An Irreverent Adult Colori...</td>\n",
       "      <td>Sasha O'Hara</td>\n",
       "      <td>4.6</td>\n",
       "      <td>10369</td>\n",
       "      <td>4</td>\n",
       "      <td>2016</td>\n",
       "      <td>Non Fiction</td>\n",
       "      <td>(4.3, 4.8]</td>\n",
       "    </tr>\n",
       "  </tbody>\n",
       "</table>\n",
       "</div>"
      ],
      "text/plain": [
       "                                                  Name               Author  \\\n",
       "337  The 7 Habits of Highly Effective People: Power...     Stephen R. Covey   \n",
       "420               The Legend of Zelda: Hyrule Historia       Patrick Thorpe   \n",
       "200  Killing Patton: The Strange Death of World War...        Bill O'Reilly   \n",
       "471  The Tipping Point: How Little Things Can Make ...     Malcolm Gladwell   \n",
       "466  The Subtle Art of Not Giving a F*ck: A Counter...          Mark Manson   \n",
       "268  Pokémon Deluxe Essential Handbook: The Need-to...           Scholastic   \n",
       "19                                  Alexander Hamilton          Ron Chernow   \n",
       "13                    A Wrinkle in Time (Time Quintet)    Madeleine L'Engle   \n",
       "424  The Life-Changing Magic of Tidying Up: The Jap...          Marie Kondō   \n",
       "533                            When Breath Becomes Air       Paul Kalanithi   \n",
       "514  Ultimate Sticker Book: Frozen: More Than 60 Re...                   DK   \n",
       "178                       If Animals Kissed Good Night    Ann Whitford Paul   \n",
       "49   Cravings: Recipes for All the Food You Want to...       Chrissy Teigen   \n",
       "440                       The Official SAT Study Guide    The College Board   \n",
       "385  The Girl Who Kicked the Hornet's Nest (Millenn...        Stieg Larsson   \n",
       "506                              To Kill a Mockingbird           Harper Lee   \n",
       "93   Eat to Live: The Amazing Nutrient-Rich Program...      Joel Fuhrman MD   \n",
       "246                          Oh, the Places You'll Go!            Dr. Seuss   \n",
       "376  The Four Agreements: A Practical Guide to Pers...      Don Miguel Ruiz   \n",
       "230                                     Milk and Honey            Rupi Kaur   \n",
       "432     The Mark of Athena (Heroes of Olympus, Book 3)         Rick Riordan   \n",
       "180                                          If I Stay         Gayle Forman   \n",
       "138  Good Days Start With Gratitude: A 52 Week Guid...  Pretty Simple Press   \n",
       "496                               Thirteen Reasons Why            Jay Asher   \n",
       "43   Calm the F*ck Down: An Irreverent Adult Colori...         Sasha O'Hara   \n",
       "\n",
       "     User Rating  Reviews  Price  Year        Genre User_rating_group  \n",
       "337          4.7     4725     16  2017  Non Fiction        (4.3, 4.8]  \n",
       "420          4.9     5396     20  2013      Fiction        (4.8, 5.3]  \n",
       "200          4.6    10927      6  2014  Non Fiction        (4.3, 4.8]  \n",
       "471          4.4     3503      9  2009  Non Fiction        (4.3, 4.8]  \n",
       "466          4.6    26490     15  2019  Non Fiction        (4.3, 4.8]  \n",
       "268          4.7     3503      9  2016      Fiction        (4.3, 4.8]  \n",
       "19           4.8     9198     13  2016  Non Fiction        (4.3, 4.8]  \n",
       "13           4.5     5153      5  2018      Fiction        (4.3, 4.8]  \n",
       "424          4.5    22641     11  2016  Non Fiction        (4.3, 4.8]  \n",
       "533          4.8    13779     14  2016  Non Fiction        (4.3, 4.8]  \n",
       "514          4.5     2586      5  2014      Fiction        (4.3, 4.8]  \n",
       "178          4.8    16643      4  2017      Fiction        (4.3, 4.8]  \n",
       "49           4.7     4761     16  2016  Non Fiction        (4.3, 4.8]  \n",
       "440          4.4     1201     40  2011  Non Fiction        (4.3, 4.8]  \n",
       "385          4.7     7747     14  2011      Fiction        (4.3, 4.8]  \n",
       "506          4.8    26234      0  2014      Fiction        (4.3, 4.8]  \n",
       "93           4.5     6346      9  2011  Non Fiction        (4.3, 4.8]  \n",
       "246          4.9    21834      8  2013      Fiction        (4.8, 5.3]  \n",
       "376          4.7    23308      6  2015  Non Fiction        (4.3, 4.8]  \n",
       "230          4.7    17739      8  2017  Non Fiction        (4.3, 4.8]  \n",
       "432          4.8     6247     10  2012      Fiction        (4.3, 4.8]  \n",
       "180          4.3     7153      9  2014      Fiction        (3.8, 4.3]  \n",
       "138          4.6    10141      6  2019  Non Fiction        (4.3, 4.8]  \n",
       "496          4.5     7932      9  2017      Fiction        (4.3, 4.8]  \n",
       "43           4.6    10369      4  2016  Non Fiction        (4.3, 4.8]  "
      ]
     },
     "execution_count": 7,
     "metadata": {},
     "output_type": "execute_result"
    }
   ],
   "source": [
    "df_copia[\"User_rating_group\"] = pd.cut(df[\"User Rating\"], bins = bins)\n",
    "df_copia.sample(25)"
   ]
  },
  {
   "cell_type": "markdown",
   "metadata": {},
   "source": [
    "Hemos creado una columna nueva *'User_rating_group'* asignando a nuestra columna *'User rating'* un intervalo (bins) u otro dependiendo de su valor. Observamos cuántos registros se han clasificado en cada uno de los intervalos. Por simple curiosidad."
   ]
  },
  {
   "cell_type": "code",
   "execution_count": 8,
   "metadata": {},
   "outputs": [
    {
     "data": {
      "text/plain": [
       "(4.3, 4.8]    438\n",
       "(3.8, 4.3]     56\n",
       "(4.8, 5.3]     52\n",
       "(3.3, 3.8]      3\n",
       "(2.8, 3.3]      1\n",
       "Name: User_rating_group, dtype: int64"
      ]
     },
     "execution_count": 8,
     "metadata": {},
     "output_type": "execute_result"
    }
   ],
   "source": [
    "df_copia[\"User_rating_group\"].value_counts()"
   ]
  },
  {
   "cell_type": "markdown",
   "metadata": {},
   "source": [
    "Creamos la tabla de contingencia"
   ]
  },
  {
   "cell_type": "code",
   "execution_count": 9,
   "metadata": {},
   "outputs": [
    {
     "data": {
      "text/html": [
       "<div>\n",
       "<style scoped>\n",
       "    .dataframe tbody tr th:only-of-type {\n",
       "        vertical-align: middle;\n",
       "    }\n",
       "\n",
       "    .dataframe tbody tr th {\n",
       "        vertical-align: top;\n",
       "    }\n",
       "\n",
       "    .dataframe thead th {\n",
       "        text-align: right;\n",
       "    }\n",
       "</style>\n",
       "<table border=\"1\" class=\"dataframe\">\n",
       "  <thead>\n",
       "    <tr style=\"text-align: right;\">\n",
       "      <th>Genre</th>\n",
       "      <th>Fiction</th>\n",
       "      <th>Non Fiction</th>\n",
       "      <th>All</th>\n",
       "    </tr>\n",
       "    <tr>\n",
       "      <th>User_rating_group</th>\n",
       "      <th></th>\n",
       "      <th></th>\n",
       "      <th></th>\n",
       "    </tr>\n",
       "  </thead>\n",
       "  <tbody>\n",
       "    <tr>\n",
       "      <th>(2.8, 3.3]</th>\n",
       "      <td>1</td>\n",
       "      <td>0</td>\n",
       "      <td>1</td>\n",
       "    </tr>\n",
       "    <tr>\n",
       "      <th>(3.3, 3.8]</th>\n",
       "      <td>3</td>\n",
       "      <td>0</td>\n",
       "      <td>3</td>\n",
       "    </tr>\n",
       "    <tr>\n",
       "      <th>(3.8, 4.3]</th>\n",
       "      <td>26</td>\n",
       "      <td>30</td>\n",
       "      <td>56</td>\n",
       "    </tr>\n",
       "    <tr>\n",
       "      <th>(4.3, 4.8]</th>\n",
       "      <td>169</td>\n",
       "      <td>269</td>\n",
       "      <td>438</td>\n",
       "    </tr>\n",
       "    <tr>\n",
       "      <th>(4.8, 5.3]</th>\n",
       "      <td>41</td>\n",
       "      <td>11</td>\n",
       "      <td>52</td>\n",
       "    </tr>\n",
       "    <tr>\n",
       "      <th>All</th>\n",
       "      <td>240</td>\n",
       "      <td>310</td>\n",
       "      <td>550</td>\n",
       "    </tr>\n",
       "  </tbody>\n",
       "</table>\n",
       "</div>"
      ],
      "text/plain": [
       "Genre              Fiction  Non Fiction  All\n",
       "User_rating_group                           \n",
       "(2.8, 3.3]               1            0    1\n",
       "(3.3, 3.8]               3            0    3\n",
       "(3.8, 4.3]              26           30   56\n",
       "(4.3, 4.8]             169          269  438\n",
       "(4.8, 5.3]              41           11   52\n",
       "All                    240          310  550"
      ]
     },
     "execution_count": 9,
     "metadata": {},
     "output_type": "execute_result"
    }
   ],
   "source": [
    "contig_num= pd.crosstab(df_copia[\"User_rating_group\"], df_copia[\"Genre\"], margins =True )\n",
    "contig_num"
   ]
  },
  {
   "cell_type": "markdown",
   "metadata": {},
   "source": [
    "Hemos hecho nuestra tabla de contigencia con una variable numérica y una categórica. \n",
    "Observamos que los libros del género **Non Fiction** tiene una frecuencia mayor en altas valoraciones (ratings) de l@s usuria@s. En todos los rangos\n",
    "\n",
    "También vemos que la frecuencia de valoraciones media-altas (de 4.3 a 4.8) es muy superior tanto para el género **Fiction** como **Non Fiction** respecto a las de valores bajas o medias-bajas (2.8, 3.3 hasta 3.8, 4.3 ). Esto tiene sentido porque nuestros datos son los libros más vendidos (mejor valorados -> más se venden)"
   ]
  },
  {
   "cell_type": "markdown",
   "metadata": {},
   "source": [
    "# Bonus"
   ]
  },
  {
   "cell_type": "code",
   "execution_count": 69,
   "metadata": {},
   "outputs": [],
   "source": [
    "############# Estoy probando a hacer cosas extra (o bonus) para que quede todo más profesional :) No sé si saldrá, lo dejo indicado.\n",
    "########### añade tantos por cientos a la tabla de contigencia. Cçomo? Apply"
   ]
  },
  {
   "cell_type": "code",
   "execution_count": 60,
   "metadata": {},
   "outputs": [
    {
     "data": {
      "text/plain": [
       "User_rating_group\n",
       "(2.8, 3.3]      1\n",
       "(3.3, 3.8]      3\n",
       "(3.8, 4.3]     56\n",
       "(4.3, 4.8]    438\n",
       "(4.8, 5.3]     52\n",
       "All           550\n",
       "Name: All, dtype: int64"
      ]
     },
     "execution_count": 60,
     "metadata": {},
     "output_type": "execute_result"
    }
   ],
   "source": [
    "contig_num[\"All\"]"
   ]
  },
  {
   "cell_type": "code",
   "execution_count": null,
   "metadata": {},
   "outputs": [],
   "source": [
    "# total  550     100\n",
    "#        1         x \n",
    "\n",
    "# 1*100 / 550"
   ]
  },
  {
   "cell_type": "code",
   "execution_count": 55,
   "metadata": {},
   "outputs": [],
   "source": [
    "contig_num[\"All_prueba\"] = contig_num[\"All\"].copy()"
   ]
  },
  {
   "cell_type": "code",
   "execution_count": 59,
   "metadata": {},
   "outputs": [
    {
     "name": "stdout",
     "output_type": "stream",
     "text": [
      "0\n"
     ]
    },
    {
     "data": {
      "text/plain": [
       "0.18181818181818182"
      ]
     },
     "execution_count": 59,
     "metadata": {},
     "output_type": "execute_result"
    }
   ],
   "source": [
    "def percentage(col):\n",
    "    for i in range(len(col)):\n",
    "        print(i)\n",
    "\n",
    "        perc = (col[i] * 100) / col[len(col)-1]\n",
    "        \n",
    "        return perc\n",
    "percentage(contig_num[\"All_prueba\"])"
   ]
  },
  {
   "cell_type": "code",
   "execution_count": null,
   "metadata": {},
   "outputs": [],
   "source": [
    "contig_num[\"All_prueba\"] = contig_num[\"All\"].apply(lambda x: x/x.sum())"
   ]
  },
  {
   "cell_type": "markdown",
   "metadata": {},
   "source": [
    "# Se acaba Bonus"
   ]
  },
  {
   "cell_type": "code",
   "execution_count": 10,
   "metadata": {},
   "outputs": [
    {
     "data": {
      "text/html": [
       "<div>\n",
       "<style scoped>\n",
       "    .dataframe tbody tr th:only-of-type {\n",
       "        vertical-align: middle;\n",
       "    }\n",
       "\n",
       "    .dataframe tbody tr th {\n",
       "        vertical-align: top;\n",
       "    }\n",
       "\n",
       "    .dataframe thead th {\n",
       "        text-align: right;\n",
       "    }\n",
       "</style>\n",
       "<table border=\"1\" class=\"dataframe\">\n",
       "  <thead>\n",
       "    <tr style=\"text-align: right;\">\n",
       "      <th>Author</th>\n",
       "      <th>Abraham Verghese</th>\n",
       "      <th>Adam Gasiewski</th>\n",
       "      <th>Adam Mansbach</th>\n",
       "      <th>Adir Levy</th>\n",
       "      <th>Admiral William H. McRaven</th>\n",
       "      <th>Adult Coloring Book Designs</th>\n",
       "      <th>Alan Moore</th>\n",
       "      <th>Alex Michaelides</th>\n",
       "      <th>Alice Schertle</th>\n",
       "      <th>Allie Brosh</th>\n",
       "      <th>...</th>\n",
       "      <th>Todd Burpo</th>\n",
       "      <th>Tony Hsieh</th>\n",
       "      <th>Tucker Carlson</th>\n",
       "      <th>Veronica Roth</th>\n",
       "      <th>W. Cleon Skousen</th>\n",
       "      <th>Walter Isaacson</th>\n",
       "      <th>William Davis</th>\n",
       "      <th>William P. Young</th>\n",
       "      <th>Wizards RPG Team</th>\n",
       "      <th>Zhi Gang Sha</th>\n",
       "    </tr>\n",
       "    <tr>\n",
       "      <th>Genre</th>\n",
       "      <th></th>\n",
       "      <th></th>\n",
       "      <th></th>\n",
       "      <th></th>\n",
       "      <th></th>\n",
       "      <th></th>\n",
       "      <th></th>\n",
       "      <th></th>\n",
       "      <th></th>\n",
       "      <th></th>\n",
       "      <th></th>\n",
       "      <th></th>\n",
       "      <th></th>\n",
       "      <th></th>\n",
       "      <th></th>\n",
       "      <th></th>\n",
       "      <th></th>\n",
       "      <th></th>\n",
       "      <th></th>\n",
       "      <th></th>\n",
       "      <th></th>\n",
       "    </tr>\n",
       "  </thead>\n",
       "  <tbody>\n",
       "    <tr>\n",
       "      <th>Fiction</th>\n",
       "      <td>2</td>\n",
       "      <td>0</td>\n",
       "      <td>1</td>\n",
       "      <td>1</td>\n",
       "      <td>0</td>\n",
       "      <td>0</td>\n",
       "      <td>1</td>\n",
       "      <td>1</td>\n",
       "      <td>1</td>\n",
       "      <td>0</td>\n",
       "      <td>...</td>\n",
       "      <td>0</td>\n",
       "      <td>0</td>\n",
       "      <td>0</td>\n",
       "      <td>4</td>\n",
       "      <td>0</td>\n",
       "      <td>0</td>\n",
       "      <td>0</td>\n",
       "      <td>2</td>\n",
       "      <td>3</td>\n",
       "      <td>0</td>\n",
       "    </tr>\n",
       "    <tr>\n",
       "      <th>Non Fiction</th>\n",
       "      <td>0</td>\n",
       "      <td>1</td>\n",
       "      <td>0</td>\n",
       "      <td>0</td>\n",
       "      <td>1</td>\n",
       "      <td>1</td>\n",
       "      <td>0</td>\n",
       "      <td>0</td>\n",
       "      <td>0</td>\n",
       "      <td>1</td>\n",
       "      <td>...</td>\n",
       "      <td>2</td>\n",
       "      <td>1</td>\n",
       "      <td>1</td>\n",
       "      <td>0</td>\n",
       "      <td>1</td>\n",
       "      <td>3</td>\n",
       "      <td>2</td>\n",
       "      <td>0</td>\n",
       "      <td>0</td>\n",
       "      <td>2</td>\n",
       "    </tr>\n",
       "  </tbody>\n",
       "</table>\n",
       "<p>2 rows × 248 columns</p>\n",
       "</div>"
      ],
      "text/plain": [
       "Author       Abraham Verghese  Adam Gasiewski  Adam Mansbach  Adir Levy  \\\n",
       "Genre                                                                     \n",
       "Fiction                     2               0              1          1   \n",
       "Non Fiction                 0               1              0          0   \n",
       "\n",
       "Author       Admiral William H. McRaven  Adult Coloring Book Designs  \\\n",
       "Genre                                                                  \n",
       "Fiction                               0                            0   \n",
       "Non Fiction                           1                            1   \n",
       "\n",
       "Author       Alan Moore  Alex Michaelides  Alice Schertle  Allie Brosh  ...  \\\n",
       "Genre                                                                   ...   \n",
       "Fiction               1                 1               1            0  ...   \n",
       "Non Fiction           0                 0               0            1  ...   \n",
       "\n",
       "Author       Todd Burpo  Tony Hsieh  Tucker Carlson  Veronica Roth  \\\n",
       "Genre                                                                \n",
       "Fiction               0           0               0              4   \n",
       "Non Fiction           2           1               1              0   \n",
       "\n",
       "Author       W. Cleon Skousen  Walter Isaacson  William Davis  \\\n",
       "Genre                                                           \n",
       "Fiction                     0                0              0   \n",
       "Non Fiction                 1                3              2   \n",
       "\n",
       "Author       William P. Young  Wizards RPG Team  Zhi Gang Sha  \n",
       "Genre                                                          \n",
       "Fiction                     2                 3             0  \n",
       "Non Fiction                 0                 0             2  \n",
       "\n",
       "[2 rows x 248 columns]"
      ]
     },
     "execution_count": 10,
     "metadata": {},
     "output_type": "execute_result"
    }
   ],
   "source": [
    "contig = pd.crosstab(df[\"Genre\"], df[\"Author\"])\n",
    "contig"
   ]
  },
  {
   "cell_type": "markdown",
   "metadata": {},
   "source": [
    "Hemos intentando tilizar dos variables categóricas de nuestro df pero observamos que en principio no podemos sacar conclusiones debido a la naturaleza de nuestros datos."
   ]
  },
  {
   "cell_type": "markdown",
   "metadata": {},
   "source": [
    "# Coeficiente de correlación"
   ]
  },
  {
   "cell_type": "markdown",
   "metadata": {},
   "source": [
    "- Coeficiente de correlación de Pearson de nuestras variables numéricas"
   ]
  },
  {
   "cell_type": "code",
   "execution_count": 11,
   "metadata": {},
   "outputs": [
    {
     "data": {
      "text/html": [
       "<div>\n",
       "<style scoped>\n",
       "    .dataframe tbody tr th:only-of-type {\n",
       "        vertical-align: middle;\n",
       "    }\n",
       "\n",
       "    .dataframe tbody tr th {\n",
       "        vertical-align: top;\n",
       "    }\n",
       "\n",
       "    .dataframe thead th {\n",
       "        text-align: right;\n",
       "    }\n",
       "</style>\n",
       "<table border=\"1\" class=\"dataframe\">\n",
       "  <thead>\n",
       "    <tr style=\"text-align: right;\">\n",
       "      <th></th>\n",
       "      <th>Name</th>\n",
       "      <th>Author</th>\n",
       "      <th>User Rating</th>\n",
       "      <th>Reviews</th>\n",
       "      <th>Price</th>\n",
       "      <th>Year</th>\n",
       "      <th>Genre</th>\n",
       "    </tr>\n",
       "  </thead>\n",
       "  <tbody>\n",
       "    <tr>\n",
       "      <th>0</th>\n",
       "      <td>10-Day Green Smoothie Cleanse</td>\n",
       "      <td>JJ Smith</td>\n",
       "      <td>4.7</td>\n",
       "      <td>17350</td>\n",
       "      <td>8</td>\n",
       "      <td>2016</td>\n",
       "      <td>Non Fiction</td>\n",
       "    </tr>\n",
       "    <tr>\n",
       "      <th>1</th>\n",
       "      <td>11/22/63: A Novel</td>\n",
       "      <td>Stephen King</td>\n",
       "      <td>4.6</td>\n",
       "      <td>2052</td>\n",
       "      <td>22</td>\n",
       "      <td>2011</td>\n",
       "      <td>Fiction</td>\n",
       "    </tr>\n",
       "  </tbody>\n",
       "</table>\n",
       "</div>"
      ],
      "text/plain": [
       "                            Name        Author  User Rating  Reviews  Price  \\\n",
       "0  10-Day Green Smoothie Cleanse      JJ Smith          4.7    17350      8   \n",
       "1              11/22/63: A Novel  Stephen King          4.6     2052     22   \n",
       "\n",
       "   Year        Genre  \n",
       "0  2016  Non Fiction  \n",
       "1  2011      Fiction  "
      ]
     },
     "execution_count": 11,
     "metadata": {},
     "output_type": "execute_result"
    }
   ],
   "source": [
    "df.head(2)"
   ]
  },
  {
   "cell_type": "code",
   "execution_count": 12,
   "metadata": {},
   "outputs": [
    {
     "data": {
      "text/html": [
       "<div>\n",
       "<style scoped>\n",
       "    .dataframe tbody tr th:only-of-type {\n",
       "        vertical-align: middle;\n",
       "    }\n",
       "\n",
       "    .dataframe tbody tr th {\n",
       "        vertical-align: top;\n",
       "    }\n",
       "\n",
       "    .dataframe thead th {\n",
       "        text-align: right;\n",
       "    }\n",
       "</style>\n",
       "<table border=\"1\" class=\"dataframe\">\n",
       "  <thead>\n",
       "    <tr style=\"text-align: right;\">\n",
       "      <th></th>\n",
       "      <th>Name</th>\n",
       "      <th>Author</th>\n",
       "      <th>User Rating</th>\n",
       "      <th>Reviews</th>\n",
       "      <th>Price</th>\n",
       "      <th>Year</th>\n",
       "      <th>Genre</th>\n",
       "      <th>User_rating_group</th>\n",
       "    </tr>\n",
       "  </thead>\n",
       "  <tbody>\n",
       "    <tr>\n",
       "      <th>0</th>\n",
       "      <td>10-Day Green Smoothie Cleanse</td>\n",
       "      <td>JJ Smith</td>\n",
       "      <td>4.7</td>\n",
       "      <td>17350</td>\n",
       "      <td>8</td>\n",
       "      <td>2016</td>\n",
       "      <td>Non Fiction</td>\n",
       "      <td>(4.3, 4.8]</td>\n",
       "    </tr>\n",
       "    <tr>\n",
       "      <th>1</th>\n",
       "      <td>11/22/63: A Novel</td>\n",
       "      <td>Stephen King</td>\n",
       "      <td>4.6</td>\n",
       "      <td>2052</td>\n",
       "      <td>22</td>\n",
       "      <td>2011</td>\n",
       "      <td>Fiction</td>\n",
       "      <td>(4.3, 4.8]</td>\n",
       "    </tr>\n",
       "    <tr>\n",
       "      <th>2</th>\n",
       "      <td>12 Rules for Life: An Antidote to Chaos</td>\n",
       "      <td>Jordan B. Peterson</td>\n",
       "      <td>4.7</td>\n",
       "      <td>18979</td>\n",
       "      <td>15</td>\n",
       "      <td>2018</td>\n",
       "      <td>Non Fiction</td>\n",
       "      <td>(4.3, 4.8]</td>\n",
       "    </tr>\n",
       "    <tr>\n",
       "      <th>3</th>\n",
       "      <td>1984 (Signet Classics)</td>\n",
       "      <td>George Orwell</td>\n",
       "      <td>4.7</td>\n",
       "      <td>21424</td>\n",
       "      <td>6</td>\n",
       "      <td>2017</td>\n",
       "      <td>Fiction</td>\n",
       "      <td>(4.3, 4.8]</td>\n",
       "    </tr>\n",
       "    <tr>\n",
       "      <th>4</th>\n",
       "      <td>5,000 Awesome Facts (About Everything!) (Natio...</td>\n",
       "      <td>National Geographic Kids</td>\n",
       "      <td>4.8</td>\n",
       "      <td>7665</td>\n",
       "      <td>12</td>\n",
       "      <td>2019</td>\n",
       "      <td>Non Fiction</td>\n",
       "      <td>(4.3, 4.8]</td>\n",
       "    </tr>\n",
       "  </tbody>\n",
       "</table>\n",
       "</div>"
      ],
      "text/plain": [
       "                                                Name  \\\n",
       "0                      10-Day Green Smoothie Cleanse   \n",
       "1                                  11/22/63: A Novel   \n",
       "2            12 Rules for Life: An Antidote to Chaos   \n",
       "3                             1984 (Signet Classics)   \n",
       "4  5,000 Awesome Facts (About Everything!) (Natio...   \n",
       "\n",
       "                     Author  User Rating  Reviews  Price  Year        Genre  \\\n",
       "0                  JJ Smith          4.7    17350      8  2016  Non Fiction   \n",
       "1              Stephen King          4.6     2052     22  2011      Fiction   \n",
       "2        Jordan B. Peterson          4.7    18979     15  2018  Non Fiction   \n",
       "3             George Orwell          4.7    21424      6  2017      Fiction   \n",
       "4  National Geographic Kids          4.8     7665     12  2019  Non Fiction   \n",
       "\n",
       "  User_rating_group  \n",
       "0        (4.3, 4.8]  \n",
       "1        (4.3, 4.8]  \n",
       "2        (4.3, 4.8]  \n",
       "3        (4.3, 4.8]  \n",
       "4        (4.3, 4.8]  "
      ]
     },
     "execution_count": 12,
     "metadata": {},
     "output_type": "execute_result"
    }
   ],
   "source": [
    "df_copia.head()"
   ]
  },
  {
   "cell_type": "code",
   "execution_count": 13,
   "metadata": {},
   "outputs": [],
   "source": [
    "df_copia[\"Year\"] = df_copia[\"Year\"].astype(\"object\")"
   ]
  },
  {
   "cell_type": "code",
   "execution_count": 24,
   "metadata": {},
   "outputs": [
    {
     "data": {
      "text/html": [
       "<div>\n",
       "<style scoped>\n",
       "    .dataframe tbody tr th:only-of-type {\n",
       "        vertical-align: middle;\n",
       "    }\n",
       "\n",
       "    .dataframe tbody tr th {\n",
       "        vertical-align: top;\n",
       "    }\n",
       "\n",
       "    .dataframe thead th {\n",
       "        text-align: right;\n",
       "    }\n",
       "</style>\n",
       "<table border=\"1\" class=\"dataframe\">\n",
       "  <thead>\n",
       "    <tr style=\"text-align: right;\">\n",
       "      <th></th>\n",
       "      <th>User Rating</th>\n",
       "      <th>Reviews</th>\n",
       "      <th>Price</th>\n",
       "      <th>Year</th>\n",
       "    </tr>\n",
       "  </thead>\n",
       "  <tbody>\n",
       "    <tr>\n",
       "      <th>0</th>\n",
       "      <td>4.7</td>\n",
       "      <td>17350</td>\n",
       "      <td>8</td>\n",
       "      <td>2016</td>\n",
       "    </tr>\n",
       "    <tr>\n",
       "      <th>1</th>\n",
       "      <td>4.6</td>\n",
       "      <td>2052</td>\n",
       "      <td>22</td>\n",
       "      <td>2011</td>\n",
       "    </tr>\n",
       "    <tr>\n",
       "      <th>2</th>\n",
       "      <td>4.7</td>\n",
       "      <td>18979</td>\n",
       "      <td>15</td>\n",
       "      <td>2018</td>\n",
       "    </tr>\n",
       "    <tr>\n",
       "      <th>3</th>\n",
       "      <td>4.7</td>\n",
       "      <td>21424</td>\n",
       "      <td>6</td>\n",
       "      <td>2017</td>\n",
       "    </tr>\n",
       "    <tr>\n",
       "      <th>4</th>\n",
       "      <td>4.8</td>\n",
       "      <td>7665</td>\n",
       "      <td>12</td>\n",
       "      <td>2019</td>\n",
       "    </tr>\n",
       "    <tr>\n",
       "      <th>...</th>\n",
       "      <td>...</td>\n",
       "      <td>...</td>\n",
       "      <td>...</td>\n",
       "      <td>...</td>\n",
       "    </tr>\n",
       "    <tr>\n",
       "      <th>545</th>\n",
       "      <td>4.9</td>\n",
       "      <td>9413</td>\n",
       "      <td>8</td>\n",
       "      <td>2019</td>\n",
       "    </tr>\n",
       "    <tr>\n",
       "      <th>546</th>\n",
       "      <td>4.7</td>\n",
       "      <td>14331</td>\n",
       "      <td>8</td>\n",
       "      <td>2016</td>\n",
       "    </tr>\n",
       "    <tr>\n",
       "      <th>547</th>\n",
       "      <td>4.7</td>\n",
       "      <td>14331</td>\n",
       "      <td>8</td>\n",
       "      <td>2017</td>\n",
       "    </tr>\n",
       "    <tr>\n",
       "      <th>548</th>\n",
       "      <td>4.7</td>\n",
       "      <td>14331</td>\n",
       "      <td>8</td>\n",
       "      <td>2018</td>\n",
       "    </tr>\n",
       "    <tr>\n",
       "      <th>549</th>\n",
       "      <td>4.7</td>\n",
       "      <td>14331</td>\n",
       "      <td>8</td>\n",
       "      <td>2019</td>\n",
       "    </tr>\n",
       "  </tbody>\n",
       "</table>\n",
       "<p>550 rows × 4 columns</p>\n",
       "</div>"
      ],
      "text/plain": [
       "     User Rating  Reviews  Price  Year\n",
       "0            4.7    17350      8  2016\n",
       "1            4.6     2052     22  2011\n",
       "2            4.7    18979     15  2018\n",
       "3            4.7    21424      6  2017\n",
       "4            4.8     7665     12  2019\n",
       "..           ...      ...    ...   ...\n",
       "545          4.9     9413      8  2019\n",
       "546          4.7    14331      8  2016\n",
       "547          4.7    14331      8  2017\n",
       "548          4.7    14331      8  2018\n",
       "549          4.7    14331      8  2019\n",
       "\n",
       "[550 rows x 4 columns]"
      ]
     },
     "execution_count": 24,
     "metadata": {},
     "output_type": "execute_result"
    }
   ],
   "source": [
    "df_numericas = df.select_dtypes(exclude = \"object\")\n",
    "df_numericas"
   ]
  },
  {
   "cell_type": "code",
   "execution_count": 25,
   "metadata": {},
   "outputs": [],
   "source": [
    "del df_numericas[\"Year\"]"
   ]
  },
  {
   "cell_type": "code",
   "execution_count": 26,
   "metadata": {},
   "outputs": [
    {
     "data": {
      "text/html": [
       "<div>\n",
       "<style scoped>\n",
       "    .dataframe tbody tr th:only-of-type {\n",
       "        vertical-align: middle;\n",
       "    }\n",
       "\n",
       "    .dataframe tbody tr th {\n",
       "        vertical-align: top;\n",
       "    }\n",
       "\n",
       "    .dataframe thead th {\n",
       "        text-align: right;\n",
       "    }\n",
       "</style>\n",
       "<table border=\"1\" class=\"dataframe\">\n",
       "  <thead>\n",
       "    <tr style=\"text-align: right;\">\n",
       "      <th></th>\n",
       "      <th>User Rating</th>\n",
       "      <th>Reviews</th>\n",
       "      <th>Price</th>\n",
       "    </tr>\n",
       "  </thead>\n",
       "  <tbody>\n",
       "    <tr>\n",
       "      <th>0</th>\n",
       "      <td>4.7</td>\n",
       "      <td>17350</td>\n",
       "      <td>8</td>\n",
       "    </tr>\n",
       "    <tr>\n",
       "      <th>1</th>\n",
       "      <td>4.6</td>\n",
       "      <td>2052</td>\n",
       "      <td>22</td>\n",
       "    </tr>\n",
       "    <tr>\n",
       "      <th>2</th>\n",
       "      <td>4.7</td>\n",
       "      <td>18979</td>\n",
       "      <td>15</td>\n",
       "    </tr>\n",
       "    <tr>\n",
       "      <th>3</th>\n",
       "      <td>4.7</td>\n",
       "      <td>21424</td>\n",
       "      <td>6</td>\n",
       "    </tr>\n",
       "    <tr>\n",
       "      <th>4</th>\n",
       "      <td>4.8</td>\n",
       "      <td>7665</td>\n",
       "      <td>12</td>\n",
       "    </tr>\n",
       "    <tr>\n",
       "      <th>...</th>\n",
       "      <td>...</td>\n",
       "      <td>...</td>\n",
       "      <td>...</td>\n",
       "    </tr>\n",
       "    <tr>\n",
       "      <th>545</th>\n",
       "      <td>4.9</td>\n",
       "      <td>9413</td>\n",
       "      <td>8</td>\n",
       "    </tr>\n",
       "    <tr>\n",
       "      <th>546</th>\n",
       "      <td>4.7</td>\n",
       "      <td>14331</td>\n",
       "      <td>8</td>\n",
       "    </tr>\n",
       "    <tr>\n",
       "      <th>547</th>\n",
       "      <td>4.7</td>\n",
       "      <td>14331</td>\n",
       "      <td>8</td>\n",
       "    </tr>\n",
       "    <tr>\n",
       "      <th>548</th>\n",
       "      <td>4.7</td>\n",
       "      <td>14331</td>\n",
       "      <td>8</td>\n",
       "    </tr>\n",
       "    <tr>\n",
       "      <th>549</th>\n",
       "      <td>4.7</td>\n",
       "      <td>14331</td>\n",
       "      <td>8</td>\n",
       "    </tr>\n",
       "  </tbody>\n",
       "</table>\n",
       "<p>550 rows × 3 columns</p>\n",
       "</div>"
      ],
      "text/plain": [
       "     User Rating  Reviews  Price\n",
       "0            4.7    17350      8\n",
       "1            4.6     2052     22\n",
       "2            4.7    18979     15\n",
       "3            4.7    21424      6\n",
       "4            4.8     7665     12\n",
       "..           ...      ...    ...\n",
       "545          4.9     9413      8\n",
       "546          4.7    14331      8\n",
       "547          4.7    14331      8\n",
       "548          4.7    14331      8\n",
       "549          4.7    14331      8\n",
       "\n",
       "[550 rows x 3 columns]"
      ]
     },
     "execution_count": 26,
     "metadata": {},
     "output_type": "execute_result"
    }
   ],
   "source": [
    "df_numericas"
   ]
  },
  {
   "cell_type": "code",
   "execution_count": 77,
   "metadata": {},
   "outputs": [],
   "source": [
    "###################### DUDA EXISTENCIAL: year debería ser categórica?\n",
    "############ He cambiado la columna a categórica porque no tiene sentido en dejarla numérica en este caso."
   ]
  },
  {
   "cell_type": "code",
   "execution_count": 27,
   "metadata": {},
   "outputs": [
    {
     "data": {
      "text/plain": [
       "User Rating    float64\n",
       "Reviews          int64\n",
       "Price            int64\n",
       "dtype: object"
      ]
     },
     "execution_count": 27,
     "metadata": {},
     "output_type": "execute_result"
    }
   ],
   "source": [
    "df_numericas.dtypes"
   ]
  },
  {
   "cell_type": "code",
   "execution_count": 28,
   "metadata": {},
   "outputs": [
    {
     "data": {
      "text/plain": [
       "array([[1.        , 0.99997389, 0.99999995, ..., 1.        , 1.        ,\n",
       "        1.        ],\n",
       "       [0.99997389, 1.        , 0.99997605, ..., 0.99997414, 0.99997414,\n",
       "        0.99997414],\n",
       "       [0.99999995, 0.99997605, 1.        , ..., 0.99999996, 0.99999996,\n",
       "        0.99999996],\n",
       "       ...,\n",
       "       [1.        , 0.99997414, 0.99999996, ..., 1.        , 1.        ,\n",
       "        1.        ],\n",
       "       [1.        , 0.99997414, 0.99999996, ..., 1.        , 1.        ,\n",
       "        1.        ],\n",
       "       [1.        , 0.99997414, 0.99999996, ..., 1.        , 1.        ,\n",
       "        1.        ]])"
      ]
     },
     "execution_count": 28,
     "metadata": {},
     "output_type": "execute_result"
    }
   ],
   "source": [
    "cor2 = np.corrcoef(df_numericas)\n",
    "cor2"
   ]
  },
  {
   "cell_type": "code",
   "execution_count": 80,
   "metadata": {},
   "outputs": [
    {
     "data": {
      "text/plain": [
       "array([[ 1.        , -0.13308629],\n",
       "       [-0.13308629,  1.        ]])"
      ]
     },
     "execution_count": 80,
     "metadata": {},
     "output_type": "execute_result"
    }
   ],
   "source": [
    "cor = np.corrcoef(df[\"User Rating\"],df[\"Price\"])\n",
    "cor"
   ]
  },
  {
   "cell_type": "code",
   "execution_count": 84,
   "metadata": {},
   "outputs": [
    {
     "data": {
      "image/png": "[encoded data removed]",
      "text/plain": [
       "<Figure size 432x288 with 2 Axes>"
      ]
     },
     "metadata": {
      "needs_background": "light"
     },
     "output_type": "display_data"
    }
   ],
   "source": [
    "fig = sns.heatmap(data = (df[\"User Rating\"],df[\"Price\"]))"
   ]
  },
  {
   "cell_type": "markdown",
   "metadata": {},
   "source": [
    "# Sesgo"
   ]
  },
  {
   "cell_type": "markdown",
   "metadata": {},
   "source": [
    "- Sesgos de alguna variable numérica"
   ]
  },
  {
   "cell_type": "code",
   "execution_count": 30,
   "metadata": {},
   "outputs": [
    {
     "data": {
      "text/html": [
       "<div>\n",
       "<style scoped>\n",
       "    .dataframe tbody tr th:only-of-type {\n",
       "        vertical-align: middle;\n",
       "    }\n",
       "\n",
       "    .dataframe tbody tr th {\n",
       "        vertical-align: top;\n",
       "    }\n",
       "\n",
       "    .dataframe thead th {\n",
       "        text-align: right;\n",
       "    }\n",
       "</style>\n",
       "<table border=\"1\" class=\"dataframe\">\n",
       "  <thead>\n",
       "    <tr style=\"text-align: right;\">\n",
       "      <th></th>\n",
       "      <th>Name</th>\n",
       "      <th>Author</th>\n",
       "      <th>User Rating</th>\n",
       "      <th>Reviews</th>\n",
       "      <th>Price</th>\n",
       "      <th>Year</th>\n",
       "      <th>Genre</th>\n",
       "    </tr>\n",
       "  </thead>\n",
       "  <tbody>\n",
       "    <tr>\n",
       "      <th>0</th>\n",
       "      <td>10-Day Green Smoothie Cleanse</td>\n",
       "      <td>JJ Smith</td>\n",
       "      <td>4.7</td>\n",
       "      <td>17350</td>\n",
       "      <td>8</td>\n",
       "      <td>2016</td>\n",
       "      <td>Non Fiction</td>\n",
       "    </tr>\n",
       "    <tr>\n",
       "      <th>1</th>\n",
       "      <td>11/22/63: A Novel</td>\n",
       "      <td>Stephen King</td>\n",
       "      <td>4.6</td>\n",
       "      <td>2052</td>\n",
       "      <td>22</td>\n",
       "      <td>2011</td>\n",
       "      <td>Fiction</td>\n",
       "    </tr>\n",
       "  </tbody>\n",
       "</table>\n",
       "</div>"
      ],
      "text/plain": [
       "                            Name        Author  User Rating  Reviews  Price  \\\n",
       "0  10-Day Green Smoothie Cleanse      JJ Smith          4.7    17350      8   \n",
       "1              11/22/63: A Novel  Stephen King          4.6     2052     22   \n",
       "\n",
       "   Year        Genre  \n",
       "0  2016  Non Fiction  \n",
       "1  2011      Fiction  "
      ]
     },
     "execution_count": 30,
     "metadata": {},
     "output_type": "execute_result"
    }
   ],
   "source": [
    "df.head(2)"
   ]
  },
  {
   "cell_type": "code",
   "execution_count": 32,
   "metadata": {},
   "outputs": [
    {
     "data": {
      "text/plain": [
       "13.1"
      ]
     },
     "execution_count": 32,
     "metadata": {},
     "output_type": "execute_result"
    }
   ],
   "source": [
    "media = np.mean(df[\"Price\"])\n",
    "media"
   ]
  },
  {
   "cell_type": "code",
   "execution_count": 33,
   "metadata": {},
   "outputs": [
    {
     "data": {
      "text/plain": [
       "10.83240089227266"
      ]
     },
     "execution_count": 33,
     "metadata": {},
     "output_type": "execute_result"
    }
   ],
   "source": [
    "std = np.std(df[\"Price\"])\n",
    "std"
   ]
  },
  {
   "cell_type": "code",
   "execution_count": 34,
   "metadata": {},
   "outputs": [
    {
     "data": {
      "text/plain": [
       "3.674998760184651"
      ]
     },
     "execution_count": 34,
     "metadata": {},
     "output_type": "execute_result"
    }
   ],
   "source": [
    "sesgo = skew(df[\"Price\"])\n",
    "sesgo\n",
    "# intentamos dibujar la media y la desviación típica como una línea en nuestro gráfico de barrras ¿varianza, no sé cuál sería más adecuado) en el histograma "
   ]
  },
  {
   "cell_type": "markdown",
   "metadata": {},
   "source": [
    "Como nuestro valor del sesgo es positivo, deducimos que nuestros valores de Price están sesgado de forma positiva, a la izquierda. "
   ]
  },
  {
   "cell_type": "code",
   "execution_count": 38,
   "metadata": {},
   "outputs": [
    {
     "data": {
      "text/html": [
       "<div>\n",
       "<style scoped>\n",
       "    .dataframe tbody tr th:only-of-type {\n",
       "        vertical-align: middle;\n",
       "    }\n",
       "\n",
       "    .dataframe tbody tr th {\n",
       "        vertical-align: top;\n",
       "    }\n",
       "\n",
       "    .dataframe thead th {\n",
       "        text-align: right;\n",
       "    }\n",
       "</style>\n",
       "<table border=\"1\" class=\"dataframe\">\n",
       "  <thead>\n",
       "    <tr style=\"text-align: right;\">\n",
       "      <th></th>\n",
       "      <th>Name</th>\n",
       "      <th>Author</th>\n",
       "      <th>User Rating</th>\n",
       "      <th>Reviews</th>\n",
       "      <th>Price</th>\n",
       "      <th>Year</th>\n",
       "      <th>Genre</th>\n",
       "    </tr>\n",
       "  </thead>\n",
       "  <tbody>\n",
       "    <tr>\n",
       "      <th>0</th>\n",
       "      <td>10-Day Green Smoothie Cleanse</td>\n",
       "      <td>JJ Smith</td>\n",
       "      <td>4.7</td>\n",
       "      <td>17350</td>\n",
       "      <td>8</td>\n",
       "      <td>2016</td>\n",
       "      <td>Non Fiction</td>\n",
       "    </tr>\n",
       "    <tr>\n",
       "      <th>1</th>\n",
       "      <td>11/22/63: A Novel</td>\n",
       "      <td>Stephen King</td>\n",
       "      <td>4.6</td>\n",
       "      <td>2052</td>\n",
       "      <td>22</td>\n",
       "      <td>2011</td>\n",
       "      <td>Fiction</td>\n",
       "    </tr>\n",
       "    <tr>\n",
       "      <th>2</th>\n",
       "      <td>12 Rules for Life: An Antidote to Chaos</td>\n",
       "      <td>Jordan B. Peterson</td>\n",
       "      <td>4.7</td>\n",
       "      <td>18979</td>\n",
       "      <td>15</td>\n",
       "      <td>2018</td>\n",
       "      <td>Non Fiction</td>\n",
       "    </tr>\n",
       "    <tr>\n",
       "      <th>3</th>\n",
       "      <td>1984 (Signet Classics)</td>\n",
       "      <td>George Orwell</td>\n",
       "      <td>4.7</td>\n",
       "      <td>21424</td>\n",
       "      <td>6</td>\n",
       "      <td>2017</td>\n",
       "      <td>Fiction</td>\n",
       "    </tr>\n",
       "    <tr>\n",
       "      <th>4</th>\n",
       "      <td>5,000 Awesome Facts (About Everything!) (Natio...</td>\n",
       "      <td>National Geographic Kids</td>\n",
       "      <td>4.8</td>\n",
       "      <td>7665</td>\n",
       "      <td>12</td>\n",
       "      <td>2019</td>\n",
       "      <td>Non Fiction</td>\n",
       "    </tr>\n",
       "  </tbody>\n",
       "</table>\n",
       "</div>"
      ],
      "text/plain": [
       "                                                Name  \\\n",
       "0                      10-Day Green Smoothie Cleanse   \n",
       "1                                  11/22/63: A Novel   \n",
       "2            12 Rules for Life: An Antidote to Chaos   \n",
       "3                             1984 (Signet Classics)   \n",
       "4  5,000 Awesome Facts (About Everything!) (Natio...   \n",
       "\n",
       "                     Author  User Rating  Reviews  Price  Year        Genre  \n",
       "0                  JJ Smith          4.7    17350      8  2016  Non Fiction  \n",
       "1              Stephen King          4.6     2052     22  2011      Fiction  \n",
       "2        Jordan B. Peterson          4.7    18979     15  2018  Non Fiction  \n",
       "3             George Orwell          4.7    21424      6  2017      Fiction  \n",
       "4  National Geographic Kids          4.8     7665     12  2019  Non Fiction  "
      ]
     },
     "execution_count": 38,
     "metadata": {},
     "output_type": "execute_result"
    }
   ],
   "source": [
    "df.head()"
   ]
  },
  {
   "cell_type": "code",
   "execution_count": null,
   "metadata": {},
   "outputs": [],
   "source": [
    "x1 = media\n",
    "x2 = std"
   ]
  },
  {
   "cell_type": "code",
   "execution_count": 44,
   "metadata": {},
   "outputs": [
    {
     "data": {
      "image/png": "[encoded data removed]",
      "text/plain": [
       "<Figure size 576x288 with 1 Axes>"
      ]
     },
     "metadata": {
      "needs_background": "light"
     },
     "output_type": "display_data"
    }
   ],
   "source": [
    "plt.figure(figsize =(8,4))\n",
    "fig = sns.histplot(x=df[\"Price\"], kde = True)\n",
    "fig.set(xlabel='Precio de los libros', ylabel = 'Cantidad')\n",
    "fig.set_title('Histograma del precio de los libros')\n",
    "plt.show()"
   ]
  },
  {
   "cell_type": "code",
   "execution_count": 51,
   "metadata": {},
   "outputs": [
    {
     "data": {
      "image/png": "[encoded data removed]",
      "text/plain": [
       "<Figure size 576x288 with 1 Axes>"
      ]
     },
     "metadata": {
      "needs_background": "light"
     },
     "output_type": "display_data"
    }
   ],
   "source": [
    "plt.figure(figsize =(8,4))\n",
    "fig = sns.histplot(x=df[\"Price\"],  data = df, hue =\"Genre\",multiple = \"stack\")\n",
    "fig.set(xlabel='Precio de los libros', ylabel = 'Cantidad')\n",
    "fig.set_title('Histograma de los precios libros')\n",
    "plt.show()"
   ]
  },
  {
   "cell_type": "markdown",
   "metadata": {},
   "source": [
    "Como observamos en el histograma, confirmamos que los valores de nuestros precios están sesgados a la izquierda. Así, se soportan nuestras conclusiones del sesgo y de la media.\n",
    "\n",
    "También se confirma que"
   ]
  },
  {
   "cell_type": "markdown",
   "metadata": {},
   "source": [
    "Nos preguntamos si existe relación entre el precio del libro y su valoración por los usuarios."
   ]
  },
  {
   "cell_type": "code",
   "execution_count": 55,
   "metadata": {},
   "outputs": [
    {
     "data": {
      "text/plain": [
       "array([[ 1.        , -0.13308629],\n",
       "       [-0.13308629,  1.        ]])"
      ]
     },
     "execution_count": 55,
     "metadata": {},
     "output_type": "execute_result"
    }
   ],
   "source": [
    "r2_price_ratings = np.corrcoef(df[\"Price\"], df[\"User Rating\"])\n",
    "r2_price_ratings"
   ]
  },
  {
   "cell_type": "code",
   "execution_count": 54,
   "metadata": {},
   "outputs": [
    {
     "data": {
      "image/png": "[encoded data removed]",
      "text/plain": [
       "<Figure size 576x288 with 1 Axes>"
      ]
     },
     "metadata": {
      "needs_background": "light"
     },
     "output_type": "display_data"
    }
   ],
   "source": [
    "plt.figure(figsize =(8,4))\n",
    "fig = sns.scatterplot(x=df[\"Price\"], y=df[\"User Rating\"], data = df)\n",
    "fig.set(xlabel='Precio', ylabel = 'User ratings')\n",
    "fig.set_title('Gráfica de disperisión precio - valoraciones')\n",
    "plt.show()"
   ]
  },
  {
   "cell_type": "code",
   "execution_count": 60,
   "metadata": {},
   "outputs": [
    {
     "data": {
      "text/html": [
       "<div>\n",
       "<style scoped>\n",
       "    .dataframe tbody tr th:only-of-type {\n",
       "        vertical-align: middle;\n",
       "    }\n",
       "\n",
       "    .dataframe tbody tr th {\n",
       "        vertical-align: top;\n",
       "    }\n",
       "\n",
       "    .dataframe thead th {\n",
       "        text-align: right;\n",
       "    }\n",
       "</style>\n",
       "<table border=\"1\" class=\"dataframe\">\n",
       "  <thead>\n",
       "    <tr style=\"text-align: right;\">\n",
       "      <th></th>\n",
       "      <th>Name</th>\n",
       "      <th>Author</th>\n",
       "      <th>User Rating</th>\n",
       "      <th>Reviews</th>\n",
       "      <th>Price</th>\n",
       "      <th>Year</th>\n",
       "      <th>Genre</th>\n",
       "      <th>User_rating_group</th>\n",
       "    </tr>\n",
       "  </thead>\n",
       "  <tbody>\n",
       "    <tr>\n",
       "      <th>0</th>\n",
       "      <td>10-Day Green Smoothie Cleanse</td>\n",
       "      <td>JJ Smith</td>\n",
       "      <td>4.7</td>\n",
       "      <td>17350</td>\n",
       "      <td>8</td>\n",
       "      <td>2016</td>\n",
       "      <td>Non Fiction</td>\n",
       "      <td>(4.3, 4.8]</td>\n",
       "    </tr>\n",
       "    <tr>\n",
       "      <th>1</th>\n",
       "      <td>11/22/63: A Novel</td>\n",
       "      <td>Stephen King</td>\n",
       "      <td>4.6</td>\n",
       "      <td>2052</td>\n",
       "      <td>22</td>\n",
       "      <td>2011</td>\n",
       "      <td>Fiction</td>\n",
       "      <td>(4.3, 4.8]</td>\n",
       "    </tr>\n",
       "    <tr>\n",
       "      <th>2</th>\n",
       "      <td>12 Rules for Life: An Antidote to Chaos</td>\n",
       "      <td>Jordan B. Peterson</td>\n",
       "      <td>4.7</td>\n",
       "      <td>18979</td>\n",
       "      <td>15</td>\n",
       "      <td>2018</td>\n",
       "      <td>Non Fiction</td>\n",
       "      <td>(4.3, 4.8]</td>\n",
       "    </tr>\n",
       "    <tr>\n",
       "      <th>3</th>\n",
       "      <td>1984 (Signet Classics)</td>\n",
       "      <td>George Orwell</td>\n",
       "      <td>4.7</td>\n",
       "      <td>21424</td>\n",
       "      <td>6</td>\n",
       "      <td>2017</td>\n",
       "      <td>Fiction</td>\n",
       "      <td>(4.3, 4.8]</td>\n",
       "    </tr>\n",
       "    <tr>\n",
       "      <th>4</th>\n",
       "      <td>5,000 Awesome Facts (About Everything!) (Natio...</td>\n",
       "      <td>National Geographic Kids</td>\n",
       "      <td>4.8</td>\n",
       "      <td>7665</td>\n",
       "      <td>12</td>\n",
       "      <td>2019</td>\n",
       "      <td>Non Fiction</td>\n",
       "      <td>(4.3, 4.8]</td>\n",
       "    </tr>\n",
       "    <tr>\n",
       "      <th>...</th>\n",
       "      <td>...</td>\n",
       "      <td>...</td>\n",
       "      <td>...</td>\n",
       "      <td>...</td>\n",
       "      <td>...</td>\n",
       "      <td>...</td>\n",
       "      <td>...</td>\n",
       "      <td>...</td>\n",
       "    </tr>\n",
       "    <tr>\n",
       "      <th>545</th>\n",
       "      <td>Wrecking Ball (Diary of a Wimpy Kid Book 14)</td>\n",
       "      <td>Jeff Kinney</td>\n",
       "      <td>4.9</td>\n",
       "      <td>9413</td>\n",
       "      <td>8</td>\n",
       "      <td>2019</td>\n",
       "      <td>Fiction</td>\n",
       "      <td>(4.8, 5.3]</td>\n",
       "    </tr>\n",
       "    <tr>\n",
       "      <th>546</th>\n",
       "      <td>You Are a Badass: How to Stop Doubting Your Gr...</td>\n",
       "      <td>Jen Sincero</td>\n",
       "      <td>4.7</td>\n",
       "      <td>14331</td>\n",
       "      <td>8</td>\n",
       "      <td>2016</td>\n",
       "      <td>Non Fiction</td>\n",
       "      <td>(4.3, 4.8]</td>\n",
       "    </tr>\n",
       "    <tr>\n",
       "      <th>547</th>\n",
       "      <td>You Are a Badass: How to Stop Doubting Your Gr...</td>\n",
       "      <td>Jen Sincero</td>\n",
       "      <td>4.7</td>\n",
       "      <td>14331</td>\n",
       "      <td>8</td>\n",
       "      <td>2017</td>\n",
       "      <td>Non Fiction</td>\n",
       "      <td>(4.3, 4.8]</td>\n",
       "    </tr>\n",
       "    <tr>\n",
       "      <th>548</th>\n",
       "      <td>You Are a Badass: How to Stop Doubting Your Gr...</td>\n",
       "      <td>Jen Sincero</td>\n",
       "      <td>4.7</td>\n",
       "      <td>14331</td>\n",
       "      <td>8</td>\n",
       "      <td>2018</td>\n",
       "      <td>Non Fiction</td>\n",
       "      <td>(4.3, 4.8]</td>\n",
       "    </tr>\n",
       "    <tr>\n",
       "      <th>549</th>\n",
       "      <td>You Are a Badass: How to Stop Doubting Your Gr...</td>\n",
       "      <td>Jen Sincero</td>\n",
       "      <td>4.7</td>\n",
       "      <td>14331</td>\n",
       "      <td>8</td>\n",
       "      <td>2019</td>\n",
       "      <td>Non Fiction</td>\n",
       "      <td>(4.3, 4.8]</td>\n",
       "    </tr>\n",
       "  </tbody>\n",
       "</table>\n",
       "<p>550 rows × 8 columns</p>\n",
       "</div>"
      ],
      "text/plain": [
       "                                                  Name  \\\n",
       "0                        10-Day Green Smoothie Cleanse   \n",
       "1                                    11/22/63: A Novel   \n",
       "2              12 Rules for Life: An Antidote to Chaos   \n",
       "3                               1984 (Signet Classics)   \n",
       "4    5,000 Awesome Facts (About Everything!) (Natio...   \n",
       "..                                                 ...   \n",
       "545       Wrecking Ball (Diary of a Wimpy Kid Book 14)   \n",
       "546  You Are a Badass: How to Stop Doubting Your Gr...   \n",
       "547  You Are a Badass: How to Stop Doubting Your Gr...   \n",
       "548  You Are a Badass: How to Stop Doubting Your Gr...   \n",
       "549  You Are a Badass: How to Stop Doubting Your Gr...   \n",
       "\n",
       "                       Author  User Rating  Reviews  Price  Year        Genre  \\\n",
       "0                    JJ Smith          4.7    17350      8  2016  Non Fiction   \n",
       "1                Stephen King          4.6     2052     22  2011      Fiction   \n",
       "2          Jordan B. Peterson          4.7    18979     15  2018  Non Fiction   \n",
       "3               George Orwell          4.7    21424      6  2017      Fiction   \n",
       "4    National Geographic Kids          4.8     7665     12  2019  Non Fiction   \n",
       "..                        ...          ...      ...    ...   ...          ...   \n",
       "545               Jeff Kinney          4.9     9413      8  2019      Fiction   \n",
       "546               Jen Sincero          4.7    14331      8  2016  Non Fiction   \n",
       "547               Jen Sincero          4.7    14331      8  2017  Non Fiction   \n",
       "548               Jen Sincero          4.7    14331      8  2018  Non Fiction   \n",
       "549               Jen Sincero          4.7    14331      8  2019  Non Fiction   \n",
       "\n",
       "    User_rating_group  \n",
       "0          (4.3, 4.8]  \n",
       "1          (4.3, 4.8]  \n",
       "2          (4.3, 4.8]  \n",
       "3          (4.3, 4.8]  \n",
       "4          (4.3, 4.8]  \n",
       "..                ...  \n",
       "545        (4.8, 5.3]  \n",
       "546        (4.3, 4.8]  \n",
       "547        (4.3, 4.8]  \n",
       "548        (4.3, 4.8]  \n",
       "549        (4.3, 4.8]  \n",
       "\n",
       "[550 rows x 8 columns]"
      ]
     },
     "execution_count": 60,
     "metadata": {},
     "output_type": "execute_result"
    }
   ],
   "source": [
    "df_copia"
   ]
  },
  {
   "cell_type": "code",
   "execution_count": 79,
   "metadata": {},
   "outputs": [
    {
     "data": {
      "image/png": "[encoded data removed]",
      "text/plain": [
       "<Figure size 576x288 with 1 Axes>"
      ]
     },
     "metadata": {
      "needs_background": "light"
     },
     "output_type": "display_data"
    }
   ],
   "source": [
    "# Boxplot por vertical, por isla\n",
    "plt.figure(figsize =(8,4))\n",
    "fig = sns.boxplot(x= df_copia[\"Price\"], y = df_copia[\"User_rating_group\"], data = df_copia)\n",
    "fig.set(xlabel='Precio', ylabel= 'User ratings' )\n",
    "fig.set_title('Boxplot de la longitud de la aleta')\n",
    "plt.show()\n"
   ]
  },
  {
   "cell_type": "code",
   "execution_count": 77,
   "metadata": {},
   "outputs": [
    {
     "data": {
      "text/plain": [
       "Name                   object\n",
       "Author                 object\n",
       "User Rating           float64\n",
       "Reviews                 int64\n",
       "Price                   int64\n",
       "Year                   object\n",
       "Genre                  object\n",
       "User_rating_group    category\n",
       "dtype: object"
      ]
     },
     "execution_count": 77,
     "metadata": {},
     "output_type": "execute_result"
    }
   ],
   "source": [
    "df_copia.dtypes"
   ]
  },
  {
   "cell_type": "markdown",
   "metadata": {},
   "source": [
    "Nos preguntamos cuántos libros se han publicado cada año respecto a su sexo."
   ]
  },
  {
   "cell_type": "code",
   "execution_count": 76,
   "metadata": {},
   "outputs": [
    {
     "data": {
      "image/png": "[encoded data removed]",
      "text/plain": [
       "<Figure size 576x288 with 1 Axes>"
      ]
     },
     "metadata": {
      "needs_background": "light"
     },
     "output_type": "display_data"
    }
   ],
   "source": [
    "plt.figure(figsize =(8,4))\n",
    "fig = sns.countplot(x= df_copia[\"Genre\"],data = df_copia, hue = \"Year\", palette =\"colorblind\")\n",
    "fig.set(xlabel='Year', ylabel= 'Genre')\n",
    "fig.set_title('Nº de libros publicados por año respecto a su género literario')\n",
    "plt.show()"
   ]
  },
  {
   "cell_type": "markdown",
   "metadata": {},
   "source": [
    "# Intervalo de confianza"
   ]
  },
  {
   "cell_type": "code",
   "execution_count": 87,
   "metadata": {},
   "outputs": [
    {
     "data": {
      "text/html": [
       "<div>\n",
       "<style scoped>\n",
       "    .dataframe tbody tr th:only-of-type {\n",
       "        vertical-align: middle;\n",
       "    }\n",
       "\n",
       "    .dataframe tbody tr th {\n",
       "        vertical-align: top;\n",
       "    }\n",
       "\n",
       "    .dataframe thead th {\n",
       "        text-align: right;\n",
       "    }\n",
       "</style>\n",
       "<table border=\"1\" class=\"dataframe\">\n",
       "  <thead>\n",
       "    <tr style=\"text-align: right;\">\n",
       "      <th></th>\n",
       "      <th>User Rating</th>\n",
       "      <th>Reviews</th>\n",
       "      <th>Price</th>\n",
       "    </tr>\n",
       "  </thead>\n",
       "  <tbody>\n",
       "    <tr>\n",
       "      <th>0</th>\n",
       "      <td>4.7</td>\n",
       "      <td>17350</td>\n",
       "      <td>8</td>\n",
       "    </tr>\n",
       "    <tr>\n",
       "      <th>1</th>\n",
       "      <td>4.6</td>\n",
       "      <td>2052</td>\n",
       "      <td>22</td>\n",
       "    </tr>\n",
       "    <tr>\n",
       "      <th>2</th>\n",
       "      <td>4.7</td>\n",
       "      <td>18979</td>\n",
       "      <td>15</td>\n",
       "    </tr>\n",
       "    <tr>\n",
       "      <th>3</th>\n",
       "      <td>4.7</td>\n",
       "      <td>21424</td>\n",
       "      <td>6</td>\n",
       "    </tr>\n",
       "    <tr>\n",
       "      <th>4</th>\n",
       "      <td>4.8</td>\n",
       "      <td>7665</td>\n",
       "      <td>12</td>\n",
       "    </tr>\n",
       "    <tr>\n",
       "      <th>...</th>\n",
       "      <td>...</td>\n",
       "      <td>...</td>\n",
       "      <td>...</td>\n",
       "    </tr>\n",
       "    <tr>\n",
       "      <th>545</th>\n",
       "      <td>4.9</td>\n",
       "      <td>9413</td>\n",
       "      <td>8</td>\n",
       "    </tr>\n",
       "    <tr>\n",
       "      <th>546</th>\n",
       "      <td>4.7</td>\n",
       "      <td>14331</td>\n",
       "      <td>8</td>\n",
       "    </tr>\n",
       "    <tr>\n",
       "      <th>547</th>\n",
       "      <td>4.7</td>\n",
       "      <td>14331</td>\n",
       "      <td>8</td>\n",
       "    </tr>\n",
       "    <tr>\n",
       "      <th>548</th>\n",
       "      <td>4.7</td>\n",
       "      <td>14331</td>\n",
       "      <td>8</td>\n",
       "    </tr>\n",
       "    <tr>\n",
       "      <th>549</th>\n",
       "      <td>4.7</td>\n",
       "      <td>14331</td>\n",
       "      <td>8</td>\n",
       "    </tr>\n",
       "  </tbody>\n",
       "</table>\n",
       "<p>550 rows × 3 columns</p>\n",
       "</div>"
      ],
      "text/plain": [
       "     User Rating  Reviews  Price\n",
       "0            4.7    17350      8\n",
       "1            4.6     2052     22\n",
       "2            4.7    18979     15\n",
       "3            4.7    21424      6\n",
       "4            4.8     7665     12\n",
       "..           ...      ...    ...\n",
       "545          4.9     9413      8\n",
       "546          4.7    14331      8\n",
       "547          4.7    14331      8\n",
       "548          4.7    14331      8\n",
       "549          4.7    14331      8\n",
       "\n",
       "[550 rows x 3 columns]"
      ]
     },
     "execution_count": 87,
     "metadata": {},
     "output_type": "execute_result"
    }
   ],
   "source": [
    "df_numericas"
   ]
  },
  {
   "cell_type": "code",
   "execution_count": 106,
   "metadata": {},
   "outputs": [
    {
     "data": {
      "text/plain": [
       "0     4.70\n",
       "1     4.60\n",
       "2     4.70\n",
       "3     4.70\n",
       "4     4.80\n",
       "      ... \n",
       "545   4.90\n",
       "546   4.70\n",
       "547   4.70\n",
       "548   4.70\n",
       "549   4.70\n",
       "Name: User Rating, Length: 550, dtype: float64"
      ]
     },
     "execution_count": 106,
     "metadata": {},
     "output_type": "execute_result"
    }
   ],
   "source": [
    "df_numericas[\"User Rating\"]"
   ]
  },
  {
   "cell_type": "code",
   "execution_count": 103,
   "metadata": {},
   "outputs": [],
   "source": [
    "data = df_numericas[\"User Rating\"]"
   ]
  },
  {
   "cell_type": "code",
   "execution_count": 105,
   "metadata": {},
   "outputs": [
    {
     "name": "stdout",
     "output_type": "stream",
     "text": [
      "(array([4.592999  , 4.59281932, 4.592999  , 4.592999  , 4.59316927,\n",
      "       4.59242842, 4.592999  , 4.592999  , 4.592999  , 4.59281932,\n",
      "       4.59281932, 4.59281932, 4.59281932, 4.59262942, 4.59281932,\n",
      "       4.59262942, 4.59281932, 4.59242842, 4.59262942, 4.59316927,\n",
      "       4.59281932, 4.59281932, 4.59121795, 4.59281932, 4.59221535,\n",
      "       4.59281932, 4.592999  , 4.59198909, 4.59281932, 4.59281932,\n",
      "       4.59316927, 4.592999  , 4.59316927, 4.59316927, 4.59316927,\n",
      "       4.592999  , 4.592999  , 4.592999  , 4.59281932, 4.59262942,\n",
      "       4.59333083, 4.59333083, 4.59316927, 4.59281932, 4.59316927,\n",
      "       4.59262942, 4.592999  , 4.592999  , 4.592999  , 4.592999  ,\n",
      "       4.592999  , 4.592999  , 4.592999  , 4.59221535, 4.59316927,\n",
      "       4.59316927, 4.59281932, 4.59281932, 4.59316927, 4.59242842,\n",
      "       4.59281932, 4.59221535, 4.59198909, 4.59316927, 4.59316927,\n",
      "       4.59316927, 4.59316927, 4.59281932, 4.59281932, 4.59262942,\n",
      "       4.59262942, 4.59316927, 4.59316927, 4.59316927, 4.59281932,\n",
      "       4.59281932, 4.59281932, 4.59262942, 4.59281932, 4.592999  ,\n",
      "       4.59316927, 4.59333083, 4.59333083, 4.59333083, 4.59333083,\n",
      "       4.59333083, 4.59333083, 4.59333083, 4.59316927, 4.59281932,\n",
      "       4.59262942, 4.59262942, 4.59221535, 4.59262942, 4.59262942,\n",
      "       4.592999  , 4.592999  , 4.592999  , 4.592999  , 4.592999  ,\n",
      "       4.59281932, 4.59281932, 4.592999  , 4.59242842, 4.59242842,\n",
      "       4.59262942, 4.59092481, 4.59092481, 4.59262942, 4.59198909,\n",
      "       4.592999  , 4.592999  , 4.592999  , 4.592999  , 4.592999  ,\n",
      "       4.59242842, 4.592999  , 4.59242842, 4.59281932, 4.59281932,\n",
      "       4.59281932, 4.59262942, 4.59281932, 4.59316927, 4.59316927,\n",
      "       4.59316927, 4.59316927, 4.59316927, 4.59281932, 4.59281932,\n",
      "       4.59281932, 4.59281932, 4.59027239, 4.59316927, 4.59281932,\n",
      "       4.59149188, 4.59149188, 4.59149188, 4.59281932, 4.59262942,\n",
      "       4.59262942, 4.59262942, 4.59262942, 4.59316927, 4.59316927,\n",
      "       4.59316927, 4.59333083, 4.59333083, 4.59281932, 4.59242842,\n",
      "       4.59316927, 4.59333083, 4.59316927, 4.59333083, 4.59149188,\n",
      "       4.59333083, 4.59333083, 4.59333083, 4.592999  , 4.59316927,\n",
      "       4.59316927, 4.592999  , 4.592999  , 4.59242842, 4.59242842,\n",
      "       4.59316927, 4.592999  , 4.592999  , 4.592999  , 4.592999  ,\n",
      "       4.592999  , 4.59221535, 4.59316927, 4.59316927, 4.59333083,\n",
      "       4.592999  , 4.59316927, 4.59281932, 4.59316927, 4.59316927,\n",
      "       4.59221535, 4.59242842, 4.5917484 , 4.59281932, 4.59242842,\n",
      "       4.59242842, 4.59316927, 4.59333083, 4.59333083, 4.59333083,\n",
      "       4.59333083, 4.59333083, 4.59333083, 4.59281932, 4.59262942,\n",
      "       4.59281932, 4.59262942, 4.59281932, 4.592999  , 4.592999  ,\n",
      "       4.59281932, 4.59281932, 4.59316927, 4.59316927, 4.59262942,\n",
      "       4.59262942, 4.59262942, 4.59333083, 4.59281932, 4.59281932,\n",
      "       4.59281932, 4.59281932, 4.59281932, 4.59262942, 4.59262942,\n",
      "       4.59242842, 4.59316927, 4.59262942, 4.5917484 , 4.59333083,\n",
      "       4.59262942, 4.59262942, 4.59198909, 4.59316927, 4.59316927,\n",
      "       4.59316927, 4.59262942, 4.592999  , 4.59316927, 4.592999  ,\n",
      "       4.592999  , 4.592999  , 4.59242842, 4.59281932, 4.59281932,\n",
      "       4.59281932, 4.59262942, 4.59262942, 4.59262942, 4.59316927,\n",
      "       4.59316927, 4.59281932, 4.592999  , 4.59281932, 4.59333083,\n",
      "       4.59333083, 4.59333083, 4.59333083, 4.59333083, 4.59333083,\n",
      "       4.59333083, 4.59333083, 4.59333083, 4.59316927, 4.59198909,\n",
      "       4.59281932, 4.59281932, 4.59262942, 4.59221535, 4.59281932,\n",
      "       4.59281932, 4.59281932, 4.592999  , 4.592999  , 4.59316927,\n",
      "       4.59316927, 4.59316927, 4.59316927, 4.592999  , 4.59221535,\n",
      "       4.59221535, 4.59262942, 4.59262942, 4.59262942, 4.59262942,\n",
      "       4.59262942, 4.59262942, 4.59262942, 4.59262942, 4.59262942,\n",
      "       4.59262942, 4.59316927, 4.59281932, 4.59281932, 4.592999  ,\n",
      "       4.592999  , 4.59281932, 4.59281932, 4.59333083, 4.59333083,\n",
      "       4.59316927, 4.59316927, 4.59281932, 4.59316927, 4.59316927,\n",
      "       4.592999  , 4.592999  , 4.59316927, 4.5917484 , 4.592999  ,\n",
      "       4.59281932, 4.59281932, 4.59281932, 4.59333083, 4.59149188,\n",
      "       4.59149188, 4.59149188, 4.59149188, 4.59149188, 4.59149188,\n",
      "       4.59149188, 4.59149188, 4.59149188, 4.59262942, 4.59281932,\n",
      "       4.59262942, 4.59242842, 4.59242842, 4.59221535, 4.59221535,\n",
      "       4.592999  , 4.592999  , 4.592999  , 4.592999  , 4.592999  ,\n",
      "       4.59316927, 4.59316927, 4.59316927, 4.59316927, 4.59316927,\n",
      "       4.59316927, 4.59281932, 4.59281932, 4.59281932, 4.59281932,\n",
      "       4.592999  , 4.592999  , 4.592999  , 4.592999  , 4.59281932,\n",
      "       4.592999  , 4.592999  , 4.592999  , 4.59316927, 4.59198909,\n",
      "       4.59316927, 4.592999  , 4.59281932, 4.59281932, 4.59316927,\n",
      "       4.59316927, 4.59316927, 4.59316927, 4.58908746, 4.592999  ,\n",
      "       4.59221535, 4.59221535, 4.59221535, 4.59316927, 4.59242842,\n",
      "       4.59316927, 4.59316927, 4.59316927, 4.5917484 , 4.59149188,\n",
      "       4.592999  , 4.592999  , 4.592999  , 4.592999  , 4.59281932,\n",
      "       4.59281932, 4.59281932, 4.59281932, 4.59281932, 4.59281932,\n",
      "       4.592999  , 4.592999  , 4.592999  , 4.592999  , 4.592999  ,\n",
      "       4.592999  , 4.59316927, 4.5917484 , 4.5917484 , 4.592999  ,\n",
      "       4.592999  , 4.592999  , 4.592999  , 4.59242842, 4.59242842,\n",
      "       4.59316927, 4.59316927, 4.59121795, 4.59121795, 4.59242842,\n",
      "       4.59242842, 4.59242842, 4.59262942, 4.592999  , 4.59221535,\n",
      "       4.59281932, 4.59316927, 4.59316927, 4.59316927, 4.59316927,\n",
      "       4.59316927, 4.59316927, 4.592999  , 4.592999  , 4.592999  ,\n",
      "       4.59316927, 4.59316927, 4.592999  , 4.592999  , 4.592999  ,\n",
      "       4.59221535, 4.59221535, 4.592999  , 4.59316927, 4.59316927,\n",
      "       4.59333083, 4.59242842, 4.59242842, 4.59262942, 4.59262942,\n",
      "       4.59262942, 4.59262942, 4.59242842, 4.59316927, 4.59198909,\n",
      "       4.59316927, 4.59333083, 4.59316927, 4.592999  , 4.59262942,\n",
      "       4.59316927, 4.59281932, 4.59316927, 4.59316927, 4.59242842,\n",
      "       4.59242842, 4.59242842, 4.59242842, 4.59242842, 4.59221535,\n",
      "       4.59221535, 4.59316927, 4.59316927, 4.59316927, 4.59262942,\n",
      "       4.59242842, 4.59316927, 4.59316927, 4.59281932, 4.59221535,\n",
      "       4.59221535, 4.59281932, 4.59281932, 4.59316927, 4.59281932,\n",
      "       4.59281932, 4.59281932, 4.59262942, 4.59316927, 4.59281932,\n",
      "       4.59281932, 4.59281932, 4.592999  , 4.592999  , 4.592999  ,\n",
      "       4.59242842, 4.59242842, 4.592999  , 4.592999  , 4.59316927,\n",
      "       4.592999  , 4.59333083, 4.59333083, 4.59333083, 4.59333083,\n",
      "       4.59333083, 4.59333083, 4.59333083, 4.59281932, 4.59281932,\n",
      "       4.59281932, 4.59333083, 4.59333083, 4.59333083, 4.59333083,\n",
      "       4.59316927, 4.59316927, 4.592999  , 4.592999  , 4.59281932,\n",
      "       4.59281932, 4.59262942, 4.59262942, 4.59221535, 4.59221535,\n",
      "       4.59281932, 4.59281932, 4.59281932, 4.59281932, 4.59221535,\n",
      "       4.59316927, 4.59316927, 4.59316927, 4.59316927, 4.59316927,\n",
      "       4.59281932, 4.59316927, 4.59262942, 4.592999  , 4.59262942,\n",
      "       4.59316927, 4.59316927, 4.59316927, 4.59316927, 4.59316927,\n",
      "       4.59221535, 4.59333083, 4.59316927, 4.592999  , 4.59316927,\n",
      "       4.59262942, 4.59281932, 4.592999  , 4.592999  , 4.59316927,\n",
      "       4.59242842, 4.59242842, 4.59242842, 4.59316927, 4.59316927,\n",
      "       4.59316927, 4.59281932, 4.59242842, 4.59262942, 4.59198909,\n",
      "       4.59316927, 4.59316927, 4.59316927, 4.59316927, 4.59316927,\n",
      "       4.59333083, 4.592999  , 4.592999  , 4.592999  , 4.592999  ]), array([4.64372827, 4.64390795, 4.64372827, 4.64372827, 4.643558  ,\n",
      "       4.64429885, 4.64372827, 4.64372827, 4.64372827, 4.64390795,\n",
      "       4.64390795, 4.64390795, 4.64390795, 4.64409785, 4.64390795,\n",
      "       4.64409785, 4.64390795, 4.64429885, 4.64409785, 4.643558  ,\n",
      "       4.64390795, 4.64390795, 4.64550932, 4.64390795, 4.64451192,\n",
      "       4.64390795, 4.64372827, 4.64473819, 4.64390795, 4.64390795,\n",
      "       4.643558  , 4.64372827, 4.643558  , 4.643558  , 4.643558  ,\n",
      "       4.64372827, 4.64372827, 4.64372827, 4.64390795, 4.64409785,\n",
      "       4.64339644, 4.64339644, 4.643558  , 4.64390795, 4.643558  ,\n",
      "       4.64409785, 4.64372827, 4.64372827, 4.64372827, 4.64372827,\n",
      "       4.64372827, 4.64372827, 4.64372827, 4.64451192, 4.643558  ,\n",
      "       4.643558  , 4.64390795, 4.64390795, 4.643558  , 4.64429885,\n",
      "       4.64390795, 4.64451192, 4.64473819, 4.643558  , 4.643558  ,\n",
      "       4.643558  , 4.643558  , 4.64390795, 4.64390795, 4.64409785,\n",
      "       4.64409785, 4.643558  , 4.643558  , 4.643558  , 4.64390795,\n",
      "       4.64390795, 4.64390795, 4.64409785, 4.64390795, 4.64372827,\n",
      "       4.643558  , 4.64339644, 4.64339644, 4.64339644, 4.64339644,\n",
      "       4.64339644, 4.64339644, 4.64339644, 4.643558  , 4.64390795,\n",
      "       4.64409785, 4.64409785, 4.64451192, 4.64409785, 4.64409785,\n",
      "       4.64372827, 4.64372827, 4.64372827, 4.64372827, 4.64372827,\n",
      "       4.64390795, 4.64390795, 4.64372827, 4.64429885, 4.64429885,\n",
      "       4.64409785, 4.64580246, 4.64580246, 4.64409785, 4.64473819,\n",
      "       4.64372827, 4.64372827, 4.64372827, 4.64372827, 4.64372827,\n",
      "       4.64429885, 4.64372827, 4.64429885, 4.64390795, 4.64390795,\n",
      "       4.64390795, 4.64409785, 4.64390795, 4.643558  , 4.643558  ,\n",
      "       4.643558  , 4.643558  , 4.643558  , 4.64390795, 4.64390795,\n",
      "       4.64390795, 4.64390795, 4.64645488, 4.643558  , 4.64390795,\n",
      "       4.64523539, 4.64523539, 4.64523539, 4.64390795, 4.64409785,\n",
      "       4.64409785, 4.64409785, 4.64409785, 4.643558  , 4.643558  ,\n",
      "       4.643558  , 4.64339644, 4.64339644, 4.64390795, 4.64429885,\n",
      "       4.643558  , 4.64339644, 4.643558  , 4.64339644, 4.64523539,\n",
      "       4.64339644, 4.64339644, 4.64339644, 4.64372827, 4.643558  ,\n",
      "       4.643558  , 4.64372827, 4.64372827, 4.64429885, 4.64429885,\n",
      "       4.643558  , 4.64372827, 4.64372827, 4.64372827, 4.64372827,\n",
      "       4.64372827, 4.64451192, 4.643558  , 4.643558  , 4.64339644,\n",
      "       4.64372827, 4.643558  , 4.64390795, 4.643558  , 4.643558  ,\n",
      "       4.64451192, 4.64429885, 4.64497887, 4.64390795, 4.64429885,\n",
      "       4.64429885, 4.643558  , 4.64339644, 4.64339644, 4.64339644,\n",
      "       4.64339644, 4.64339644, 4.64339644, 4.64390795, 4.64409785,\n",
      "       4.64390795, 4.64409785, 4.64390795, 4.64372827, 4.64372827,\n",
      "       4.64390795, 4.64390795, 4.643558  , 4.643558  , 4.64409785,\n",
      "       4.64409785, 4.64409785, 4.64339644, 4.64390795, 4.64390795,\n",
      "       4.64390795, 4.64390795, 4.64390795, 4.64409785, 4.64409785,\n",
      "       4.64429885, 4.643558  , 4.64409785, 4.64497887, 4.64339644,\n",
      "       4.64409785, 4.64409785, 4.64473819, 4.643558  , 4.643558  ,\n",
      "       4.643558  , 4.64409785, 4.64372827, 4.643558  , 4.64372827,\n",
      "       4.64372827, 4.64372827, 4.64429885, 4.64390795, 4.64390795,\n",
      "       4.64390795, 4.64409785, 4.64409785, 4.64409785, 4.643558  ,\n",
      "       4.643558  , 4.64390795, 4.64372827, 4.64390795, 4.64339644,\n",
      "       4.64339644, 4.64339644, 4.64339644, 4.64339644, 4.64339644,\n",
      "       4.64339644, 4.64339644, 4.64339644, 4.643558  , 4.64473819,\n",
      "       4.64390795, 4.64390795, 4.64409785, 4.64451192, 4.64390795,\n",
      "       4.64390795, 4.64390795, 4.64372827, 4.64372827, 4.643558  ,\n",
      "       4.643558  , 4.643558  , 4.643558  , 4.64372827, 4.64451192,\n",
      "       4.64451192, 4.64409785, 4.64409785, 4.64409785, 4.64409785,\n",
      "       4.64409785, 4.64409785, 4.64409785, 4.64409785, 4.64409785,\n",
      "       4.64409785, 4.643558  , 4.64390795, 4.64390795, 4.64372827,\n",
      "       4.64372827, 4.64390795, 4.64390795, 4.64339644, 4.64339644,\n",
      "       4.643558  , 4.643558  , 4.64390795, 4.643558  , 4.643558  ,\n",
      "       4.64372827, 4.64372827, 4.643558  , 4.64497887, 4.64372827,\n",
      "       4.64390795, 4.64390795, 4.64390795, 4.64339644, 4.64523539,\n",
      "       4.64523539, 4.64523539, 4.64523539, 4.64523539, 4.64523539,\n",
      "       4.64523539, 4.64523539, 4.64523539, 4.64409785, 4.64390795,\n",
      "       4.64409785, 4.64429885, 4.64429885, 4.64451192, 4.64451192,\n",
      "       4.64372827, 4.64372827, 4.64372827, 4.64372827, 4.64372827,\n",
      "       4.643558  , 4.643558  , 4.643558  , 4.643558  , 4.643558  ,\n",
      "       4.643558  , 4.64390795, 4.64390795, 4.64390795, 4.64390795,\n",
      "       4.64372827, 4.64372827, 4.64372827, 4.64372827, 4.64390795,\n",
      "       4.64372827, 4.64372827, 4.64372827, 4.643558  , 4.64473819,\n",
      "       4.643558  , 4.64372827, 4.64390795, 4.64390795, 4.643558  ,\n",
      "       4.643558  , 4.643558  , 4.643558  , 4.64763981, 4.64372827,\n",
      "       4.64451192, 4.64451192, 4.64451192, 4.643558  , 4.64429885,\n",
      "       4.643558  , 4.643558  , 4.643558  , 4.64497887, 4.64523539,\n",
      "       4.64372827, 4.64372827, 4.64372827, 4.64372827, 4.64390795,\n",
      "       4.64390795, 4.64390795, 4.64390795, 4.64390795, 4.64390795,\n",
      "       4.64372827, 4.64372827, 4.64372827, 4.64372827, 4.64372827,\n",
      "       4.64372827, 4.643558  , 4.64497887, 4.64497887, 4.64372827,\n",
      "       4.64372827, 4.64372827, 4.64372827, 4.64429885, 4.64429885,\n",
      "       4.643558  , 4.643558  , 4.64550932, 4.64550932, 4.64429885,\n",
      "       4.64429885, 4.64429885, 4.64409785, 4.64372827, 4.64451192,\n",
      "       4.64390795, 4.643558  , 4.643558  , 4.643558  , 4.643558  ,\n",
      "       4.643558  , 4.643558  , 4.64372827, 4.64372827, 4.64372827,\n",
      "       4.643558  , 4.643558  , 4.64372827, 4.64372827, 4.64372827,\n",
      "       4.64451192, 4.64451192, 4.64372827, 4.643558  , 4.643558  ,\n",
      "       4.64339644, 4.64429885, 4.64429885, 4.64409785, 4.64409785,\n",
      "       4.64409785, 4.64409785, 4.64429885, 4.643558  , 4.64473819,\n",
      "       4.643558  , 4.64339644, 4.643558  , 4.64372827, 4.64409785,\n",
      "       4.643558  , 4.64390795, 4.643558  , 4.643558  , 4.64429885,\n",
      "       4.64429885, 4.64429885, 4.64429885, 4.64429885, 4.64451192,\n",
      "       4.64451192, 4.643558  , 4.643558  , 4.643558  , 4.64409785,\n",
      "       4.64429885, 4.643558  , 4.643558  , 4.64390795, 4.64451192,\n",
      "       4.64451192, 4.64390795, 4.64390795, 4.643558  , 4.64390795,\n",
      "       4.64390795, 4.64390795, 4.64409785, 4.643558  , 4.64390795,\n",
      "       4.64390795, 4.64390795, 4.64372827, 4.64372827, 4.64372827,\n",
      "       4.64429885, 4.64429885, 4.64372827, 4.64372827, 4.643558  ,\n",
      "       4.64372827, 4.64339644, 4.64339644, 4.64339644, 4.64339644,\n",
      "       4.64339644, 4.64339644, 4.64339644, 4.64390795, 4.64390795,\n",
      "       4.64390795, 4.64339644, 4.64339644, 4.64339644, 4.64339644,\n",
      "       4.643558  , 4.643558  , 4.64372827, 4.64372827, 4.64390795,\n",
      "       4.64390795, 4.64409785, 4.64409785, 4.64451192, 4.64451192,\n",
      "       4.64390795, 4.64390795, 4.64390795, 4.64390795, 4.64451192,\n",
      "       4.643558  , 4.643558  , 4.643558  , 4.643558  , 4.643558  ,\n",
      "       4.64390795, 4.643558  , 4.64409785, 4.64372827, 4.64409785,\n",
      "       4.643558  , 4.643558  , 4.643558  , 4.643558  , 4.643558  ,\n",
      "       4.64451192, 4.64339644, 4.643558  , 4.64372827, 4.643558  ,\n",
      "       4.64409785, 4.64390795, 4.64372827, 4.64372827, 4.643558  ,\n",
      "       4.64429885, 4.64429885, 4.64429885, 4.643558  , 4.643558  ,\n",
      "       4.643558  , 4.64390795, 4.64429885, 4.64409785, 4.64473819,\n",
      "       4.643558  , 4.643558  , 4.643558  , 4.643558  , 4.643558  ,\n",
      "       4.64339644, 4.64372827, 4.64372827, 4.64372827, 4.64372827]))\n",
      "4.618363636363641\n"
     ]
    }
   ],
   "source": [
    "pd.options.display.float_format = '{:.2f}'.format\n",
    "intervalos = st.t.interval(alpha = 0.95, df = df_numericas[\"User Rating\"], loc= np.mean(data),scale=st.sem(data))\n",
    "print(intervalos)\n",
    "print(np.mean(data))"
   ]
  },
  {
   "cell_type": "code",
   "execution_count": 107,
   "metadata": {},
   "outputs": [],
   "source": [
    "######################## NO ENTIENDO POR QUÉ SON TANTOS NÚMEROS Y NO APARECE UUNO SOLO"
   ]
  },
  {
   "cell_type": "code",
   "execution_count": null,
   "metadata": {},
   "outputs": [],
   "source": [
    "############################## ESTO SON LOS APUNTES\n",
    "data = iris['sepal_length']\n",
    "\n",
    "# Utilizamos Scipy para calcular el intervalo de confianza del 95% de la media de los datos.\n",
    "# Dicho intervalo nos indica donde está la media de los valores de longitud de los sépalos con un 95 de probabilidad.\n",
    "print(st.t.interval(alpha=0.95, df=len(data)-1, loc=np.mean(data), scale=st.sem(data)))\n",
    "\n",
    "# Lo comparamos con la media obtenido de los datos disponibles hasta el momento\n",
    "print(np.mean(data))"
   ]
  }
 ],
 "metadata": {
  "interpreter": {
   "hash": "a2a25da4702e7ca1aacc8a7d4e81059851e19fd1060402175b35fae4c2a518e8"
  },
  "kernelspec": {
   "display_name": "Python 3.9.7 ('base')",
   "language": "python",
   "name": "python3"
  },
  "language_info": {
   "codemirror_mode": {
    "name": "ipython",
    "version": 3
   },
   "file_extension": ".py",
   "mimetype": "text/x-python",
   "name": "python",
   "nbconvert_exporter": "python",
   "pygments_lexer": "ipython3",
   "version": "3.9.7"
  },
  "orig_nbformat": 4
 },
 "nbformat": 4,
 "nbformat_minor": 2
}
